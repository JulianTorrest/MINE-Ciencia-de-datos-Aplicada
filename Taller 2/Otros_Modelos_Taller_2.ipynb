{
  "cells": [
    {
      "cell_type": "markdown",
      "metadata": {
        "_uuid": "11f614a55e5507f6d0c5abfc8e8d26c640120711",
        "id": "cLkSrhEc_R4O"
      },
      "source": [
        "Bike sharing demand prediction"
      ]
    },
    {
      "cell_type": "markdown",
      "metadata": {
        "_uuid": "6fc471e9019f7c27a08b0b32bdf9768287df0a70",
        "id": "ii9W9dLz_R4R"
      },
      "source": [
        "Import the necessary libraries"
      ]
    },
    {
      "cell_type": "code",
      "execution_count": 1,
      "metadata": {
        "_cell_guid": "79c7e3d0-c299-4dcb-8224-4455121ee9b0",
        "_uuid": "d629ff2d2480ee46fbb7e2d37f6b5fab8052498a",
        "id": "Ko2A22eA_R4R"
      },
      "outputs": [],
      "source": [
        "import numpy as np\n",
        "import pandas as pd\n",
        "import matplotlib.pyplot as plt\n",
        "import seaborn as sns\n",
        "from IPython.display import display,HTML\n",
        "from math import sqrt\n",
        "import warnings\n",
        "warnings.filterwarnings(\"ignore\")\n",
        "\n",
        "import os\n",
        "\n"
      ]
    },
    {
      "cell_type": "code",
      "source": [
        "from google.colab import drive\n",
        "drive.mount(\"/content/gdrive\")"
      ],
      "metadata": {
        "colab": {
          "base_uri": "https://localhost:8080/"
        },
        "id": "MMmKTYWx_Y2t",
        "outputId": "206b719a-f155-4846-9f61-6c051fe8e312"
      },
      "execution_count": 2,
      "outputs": [
        {
          "output_type": "stream",
          "name": "stdout",
          "text": [
            "Mounted at /content/gdrive\n"
          ]
        }
      ]
    },
    {
      "cell_type": "markdown",
      "metadata": {
        "_uuid": "76ce02c2129fb8b4b9098d2393086a500b706bc0",
        "id": "VN7Teypc_R4U"
      },
      "source": [
        "Exploratery data analysis"
      ]
    },
    {
      "cell_type": "code",
      "execution_count": 3,
      "metadata": {
        "_uuid": "d5285a09f2f23f03dc4585878bfe2332deb49e5a",
        "colab": {
          "base_uri": "https://localhost:8080/",
          "height": 206
        },
        "id": "IxJlK8il_R4V",
        "outputId": "b35b1ae4-9eaa-4361-87b6-946577c8f073"
      },
      "outputs": [
        {
          "output_type": "execute_result",
          "data": {
            "text/plain": [
              "   instant       Date    Year  Month  Day    Season Holiday  \\\n",
              "0      1.0 2020-01-01  2020.0    1.0  1.0  Springer      No   \n",
              "1      2.0 2020-01-02  2020.0    1.0  2.0  Springer      No   \n",
              "2      3.0 2020-01-03  2020.0    1.0  3.0  Springer      No   \n",
              "3      4.0 2020-01-04  2020.0    1.0  4.0  Springer      No   \n",
              "4      5.0 2020-01-05  2020.0    1.0  5.0  Springer      No   \n",
              "\n",
              "             Weather       Temp     Feel_Temp       Hum        Wind  Casual  \\\n",
              "0      Mist + Cloudy  8175849.0  9.090375e+06  0.805833  10749882.0   331.0   \n",
              "1      Mist + Cloudy  9083466.0  8.625733e+06  0.696087 -16652113.0   131.0   \n",
              "2         Few clouds  1229108.0  9.020350e-01  0.437273  16636703.0   120.0   \n",
              "3         Few clouds        1.4  1.969734e+06  0.590435  10739832.0   108.0   \n",
              "4   Partly    cloudy  2666979.0  2.775690e+05  0.436957    125223.0    82.0   \n",
              "\n",
              "   Registered     cnt  \n",
              "0       654.0   985.0  \n",
              "1       670.0   801.0  \n",
              "2      1229.0  1349.0  \n",
              "3      1454.0  1562.0  \n",
              "4      1518.0  1600.0  "
            ],
            "text/html": [
              "\n",
              "  <div id=\"df-b7294740-e6d0-4413-a02a-4afd9f54d318\">\n",
              "    <div class=\"colab-df-container\">\n",
              "      <div>\n",
              "<style scoped>\n",
              "    .dataframe tbody tr th:only-of-type {\n",
              "        vertical-align: middle;\n",
              "    }\n",
              "\n",
              "    .dataframe tbody tr th {\n",
              "        vertical-align: top;\n",
              "    }\n",
              "\n",
              "    .dataframe thead th {\n",
              "        text-align: right;\n",
              "    }\n",
              "</style>\n",
              "<table border=\"1\" class=\"dataframe\">\n",
              "  <thead>\n",
              "    <tr style=\"text-align: right;\">\n",
              "      <th></th>\n",
              "      <th>instant</th>\n",
              "      <th>Date</th>\n",
              "      <th>Year</th>\n",
              "      <th>Month</th>\n",
              "      <th>Day</th>\n",
              "      <th>Season</th>\n",
              "      <th>Holiday</th>\n",
              "      <th>Weather</th>\n",
              "      <th>Temp</th>\n",
              "      <th>Feel_Temp</th>\n",
              "      <th>Hum</th>\n",
              "      <th>Wind</th>\n",
              "      <th>Casual</th>\n",
              "      <th>Registered</th>\n",
              "      <th>cnt</th>\n",
              "    </tr>\n",
              "  </thead>\n",
              "  <tbody>\n",
              "    <tr>\n",
              "      <th>0</th>\n",
              "      <td>1.0</td>\n",
              "      <td>2020-01-01</td>\n",
              "      <td>2020.0</td>\n",
              "      <td>1.0</td>\n",
              "      <td>1.0</td>\n",
              "      <td>Springer</td>\n",
              "      <td>No</td>\n",
              "      <td>Mist + Cloudy</td>\n",
              "      <td>8175849.0</td>\n",
              "      <td>9.090375e+06</td>\n",
              "      <td>0.805833</td>\n",
              "      <td>10749882.0</td>\n",
              "      <td>331.0</td>\n",
              "      <td>654.0</td>\n",
              "      <td>985.0</td>\n",
              "    </tr>\n",
              "    <tr>\n",
              "      <th>1</th>\n",
              "      <td>2.0</td>\n",
              "      <td>2020-01-02</td>\n",
              "      <td>2020.0</td>\n",
              "      <td>1.0</td>\n",
              "      <td>2.0</td>\n",
              "      <td>Springer</td>\n",
              "      <td>No</td>\n",
              "      <td>Mist + Cloudy</td>\n",
              "      <td>9083466.0</td>\n",
              "      <td>8.625733e+06</td>\n",
              "      <td>0.696087</td>\n",
              "      <td>-16652113.0</td>\n",
              "      <td>131.0</td>\n",
              "      <td>670.0</td>\n",
              "      <td>801.0</td>\n",
              "    </tr>\n",
              "    <tr>\n",
              "      <th>2</th>\n",
              "      <td>3.0</td>\n",
              "      <td>2020-01-03</td>\n",
              "      <td>2020.0</td>\n",
              "      <td>1.0</td>\n",
              "      <td>3.0</td>\n",
              "      <td>Springer</td>\n",
              "      <td>No</td>\n",
              "      <td>Few clouds</td>\n",
              "      <td>1229108.0</td>\n",
              "      <td>9.020350e-01</td>\n",
              "      <td>0.437273</td>\n",
              "      <td>16636703.0</td>\n",
              "      <td>120.0</td>\n",
              "      <td>1229.0</td>\n",
              "      <td>1349.0</td>\n",
              "    </tr>\n",
              "    <tr>\n",
              "      <th>3</th>\n",
              "      <td>4.0</td>\n",
              "      <td>2020-01-04</td>\n",
              "      <td>2020.0</td>\n",
              "      <td>1.0</td>\n",
              "      <td>4.0</td>\n",
              "      <td>Springer</td>\n",
              "      <td>No</td>\n",
              "      <td>Few clouds</td>\n",
              "      <td>1.4</td>\n",
              "      <td>1.969734e+06</td>\n",
              "      <td>0.590435</td>\n",
              "      <td>10739832.0</td>\n",
              "      <td>108.0</td>\n",
              "      <td>1454.0</td>\n",
              "      <td>1562.0</td>\n",
              "    </tr>\n",
              "    <tr>\n",
              "      <th>4</th>\n",
              "      <td>5.0</td>\n",
              "      <td>2020-01-05</td>\n",
              "      <td>2020.0</td>\n",
              "      <td>1.0</td>\n",
              "      <td>5.0</td>\n",
              "      <td>Springer</td>\n",
              "      <td>No</td>\n",
              "      <td>Partly    cloudy</td>\n",
              "      <td>2666979.0</td>\n",
              "      <td>2.775690e+05</td>\n",
              "      <td>0.436957</td>\n",
              "      <td>125223.0</td>\n",
              "      <td>82.0</td>\n",
              "      <td>1518.0</td>\n",
              "      <td>1600.0</td>\n",
              "    </tr>\n",
              "  </tbody>\n",
              "</table>\n",
              "</div>\n",
              "      <button class=\"colab-df-convert\" onclick=\"convertToInteractive('df-b7294740-e6d0-4413-a02a-4afd9f54d318')\"\n",
              "              title=\"Convert this dataframe to an interactive table.\"\n",
              "              style=\"display:none;\">\n",
              "        \n",
              "  <svg xmlns=\"http://www.w3.org/2000/svg\" height=\"24px\"viewBox=\"0 0 24 24\"\n",
              "       width=\"24px\">\n",
              "    <path d=\"M0 0h24v24H0V0z\" fill=\"none\"/>\n",
              "    <path d=\"M18.56 5.44l.94 2.06.94-2.06 2.06-.94-2.06-.94-.94-2.06-.94 2.06-2.06.94zm-11 1L8.5 8.5l.94-2.06 2.06-.94-2.06-.94L8.5 2.5l-.94 2.06-2.06.94zm10 10l.94 2.06.94-2.06 2.06-.94-2.06-.94-.94-2.06-.94 2.06-2.06.94z\"/><path d=\"M17.41 7.96l-1.37-1.37c-.4-.4-.92-.59-1.43-.59-.52 0-1.04.2-1.43.59L10.3 9.45l-7.72 7.72c-.78.78-.78 2.05 0 2.83L4 21.41c.39.39.9.59 1.41.59.51 0 1.02-.2 1.41-.59l7.78-7.78 2.81-2.81c.8-.78.8-2.07 0-2.86zM5.41 20L4 18.59l7.72-7.72 1.47 1.35L5.41 20z\"/>\n",
              "  </svg>\n",
              "      </button>\n",
              "      \n",
              "  <style>\n",
              "    .colab-df-container {\n",
              "      display:flex;\n",
              "      flex-wrap:wrap;\n",
              "      gap: 12px;\n",
              "    }\n",
              "\n",
              "    .colab-df-convert {\n",
              "      background-color: #E8F0FE;\n",
              "      border: none;\n",
              "      border-radius: 50%;\n",
              "      cursor: pointer;\n",
              "      display: none;\n",
              "      fill: #1967D2;\n",
              "      height: 32px;\n",
              "      padding: 0 0 0 0;\n",
              "      width: 32px;\n",
              "    }\n",
              "\n",
              "    .colab-df-convert:hover {\n",
              "      background-color: #E2EBFA;\n",
              "      box-shadow: 0px 1px 2px rgba(60, 64, 67, 0.3), 0px 1px 3px 1px rgba(60, 64, 67, 0.15);\n",
              "      fill: #174EA6;\n",
              "    }\n",
              "\n",
              "    [theme=dark] .colab-df-convert {\n",
              "      background-color: #3B4455;\n",
              "      fill: #D2E3FC;\n",
              "    }\n",
              "\n",
              "    [theme=dark] .colab-df-convert:hover {\n",
              "      background-color: #434B5C;\n",
              "      box-shadow: 0px 1px 3px 1px rgba(0, 0, 0, 0.15);\n",
              "      filter: drop-shadow(0px 1px 2px rgba(0, 0, 0, 0.3));\n",
              "      fill: #FFFFFF;\n",
              "    }\n",
              "  </style>\n",
              "\n",
              "      <script>\n",
              "        const buttonEl =\n",
              "          document.querySelector('#df-b7294740-e6d0-4413-a02a-4afd9f54d318 button.colab-df-convert');\n",
              "        buttonEl.style.display =\n",
              "          google.colab.kernel.accessAllowed ? 'block' : 'none';\n",
              "\n",
              "        async function convertToInteractive(key) {\n",
              "          const element = document.querySelector('#df-b7294740-e6d0-4413-a02a-4afd9f54d318');\n",
              "          const dataTable =\n",
              "            await google.colab.kernel.invokeFunction('convertToInteractive',\n",
              "                                                     [key], {});\n",
              "          if (!dataTable) return;\n",
              "\n",
              "          const docLinkHtml = 'Like what you see? Visit the ' +\n",
              "            '<a target=\"_blank\" href=https://colab.research.google.com/notebooks/data_table.ipynb>data table notebook</a>'\n",
              "            + ' to learn more about interactive tables.';\n",
              "          element.innerHTML = '';\n",
              "          dataTable['output_type'] = 'display_data';\n",
              "          await google.colab.output.renderOutput(dataTable, element);\n",
              "          const docLink = document.createElement('div');\n",
              "          docLink.innerHTML = docLinkHtml;\n",
              "          element.appendChild(docLink);\n",
              "        }\n",
              "      </script>\n",
              "    </div>\n",
              "  </div>\n",
              "  "
            ]
          },
          "metadata": {},
          "execution_count": 3
        }
      ],
      "source": [
        "df=pd.read_excel('/content/gdrive/MyDrive/Ciencia de Datos/Taller 2/Data_Taller_2.xlsx')\n",
        "df.head()"
      ]
    },
    {
      "cell_type": "code",
      "execution_count": 4,
      "metadata": {
        "_uuid": "3506b2865e1c9cbc5f0203fc0d173c469ce96ed0",
        "colab": {
          "base_uri": "https://localhost:8080/"
        },
        "id": "hhg4QTtS_R4V",
        "outputId": "3cd5d569-8fbb-4478-8a50-b6dad4c01fba"
      },
      "outputs": [
        {
          "output_type": "execute_result",
          "data": {
            "text/plain": [
              "(726, 15)"
            ]
          },
          "metadata": {},
          "execution_count": 4
        }
      ],
      "source": [
        "df.shape"
      ]
    },
    {
      "cell_type": "code",
      "execution_count": 5,
      "metadata": {
        "_uuid": "8172b408469fcdbeac02a5925c6ce6d96d2fbc68",
        "colab": {
          "base_uri": "https://localhost:8080/"
        },
        "id": "aLnnbWrO_R4W",
        "outputId": "48275d0f-c759-4d97-814d-0d97e355401e"
      },
      "outputs": [
        {
          "output_type": "execute_result",
          "data": {
            "text/plain": [
              "instant              float64\n",
              "Date          datetime64[ns]\n",
              "Year                 float64\n",
              "Month                float64\n",
              "Day                  float64\n",
              "Season                object\n",
              "Holiday               object\n",
              "Weather               object\n",
              "Temp                 float64\n",
              "Feel_Temp            float64\n",
              "Hum                  float64\n",
              "Wind                 float64\n",
              "Casual               float64\n",
              "Registered           float64\n",
              "cnt                  float64\n",
              "dtype: object"
            ]
          },
          "metadata": {},
          "execution_count": 5
        }
      ],
      "source": [
        "df.dtypes"
      ]
    },
    {
      "cell_type": "markdown",
      "metadata": {
        "_uuid": "69c3ab95aefc1808ffd23da344e0402458dd3fff",
        "id": "Ow45wrn7_R4X"
      },
      "source": [
        "Describe the dataset"
      ]
    },
    {
      "cell_type": "code",
      "execution_count": 6,
      "metadata": {
        "_uuid": "dfd77cf147bdc3a044add5a09a8e40837760cea1",
        "colab": {
          "base_uri": "https://localhost:8080/",
          "height": 300
        },
        "id": "8o9WJOmh_R4Y",
        "outputId": "de10a9c2-92e6-41c7-8d76-b8199dd8f03f"
      },
      "outputs": [
        {
          "output_type": "execute_result",
          "data": {
            "text/plain": [
              "          instant         Year       Month         Day          Temp  \\\n",
              "count  726.000000   726.000000  726.000000  726.000000  7.260000e+02   \n",
              "mean   365.710744  2020.500000    6.519284   15.716253  3.601389e+05   \n",
              "std    211.050219     0.500345    3.451982    8.820474  3.401804e+06   \n",
              "min      1.000000  2020.000000    1.000000    1.000000 -5.220871e+07   \n",
              "25%    183.250000  2020.000000    4.000000    8.000000  1.013415e+01   \n",
              "50%    365.500000  2020.500000    7.000000   16.000000  1.851585e+01   \n",
              "75%    547.750000  2021.000000   10.000000   23.000000  2.551686e+01   \n",
              "max    731.000000  2021.000000   12.000000   31.000000  1.894665e+07   \n",
              "\n",
              "          Feel_Temp         Hum          Wind       Casual   Registered  \\\n",
              "count  7.260000e+02  726.000000  7.260000e+02   726.000000   726.000000   \n",
              "mean   4.914979e+05    0.668853  1.849241e+06   849.630854  3662.168044   \n",
              "std    3.025228e+06    0.660150  5.905126e+06   687.738418  1558.369158   \n",
              "min   -4.283729e+07    0.000000 -1.665211e+07     2.000000    20.000000   \n",
              "25%    1.036619e+01    0.520521  9.177811e+00   316.250000  2506.250000   \n",
              "50%    1.757759e+01    0.626250  1.266732e+01   717.000000  3669.500000   \n",
              "75%    2.300731e+01    0.731042  1.830216e+01  1096.500000  4783.250000   \n",
              "max    1.751766e+07   10.867083  6.000868e+07  3410.000000  6946.000000   \n",
              "\n",
              "               cnt  \n",
              "count   726.000000  \n",
              "mean   4511.798898  \n",
              "std    1935.613470  \n",
              "min      22.000000  \n",
              "25%    3191.000000  \n",
              "50%    4551.000000  \n",
              "75%    5966.000000  \n",
              "max    8714.000000  "
            ],
            "text/html": [
              "\n",
              "  <div id=\"df-40b56003-41c0-442b-a141-49dbc202e8fc\">\n",
              "    <div class=\"colab-df-container\">\n",
              "      <div>\n",
              "<style scoped>\n",
              "    .dataframe tbody tr th:only-of-type {\n",
              "        vertical-align: middle;\n",
              "    }\n",
              "\n",
              "    .dataframe tbody tr th {\n",
              "        vertical-align: top;\n",
              "    }\n",
              "\n",
              "    .dataframe thead th {\n",
              "        text-align: right;\n",
              "    }\n",
              "</style>\n",
              "<table border=\"1\" class=\"dataframe\">\n",
              "  <thead>\n",
              "    <tr style=\"text-align: right;\">\n",
              "      <th></th>\n",
              "      <th>instant</th>\n",
              "      <th>Year</th>\n",
              "      <th>Month</th>\n",
              "      <th>Day</th>\n",
              "      <th>Temp</th>\n",
              "      <th>Feel_Temp</th>\n",
              "      <th>Hum</th>\n",
              "      <th>Wind</th>\n",
              "      <th>Casual</th>\n",
              "      <th>Registered</th>\n",
              "      <th>cnt</th>\n",
              "    </tr>\n",
              "  </thead>\n",
              "  <tbody>\n",
              "    <tr>\n",
              "      <th>count</th>\n",
              "      <td>726.000000</td>\n",
              "      <td>726.000000</td>\n",
              "      <td>726.000000</td>\n",
              "      <td>726.000000</td>\n",
              "      <td>7.260000e+02</td>\n",
              "      <td>7.260000e+02</td>\n",
              "      <td>726.000000</td>\n",
              "      <td>7.260000e+02</td>\n",
              "      <td>726.000000</td>\n",
              "      <td>726.000000</td>\n",
              "      <td>726.000000</td>\n",
              "    </tr>\n",
              "    <tr>\n",
              "      <th>mean</th>\n",
              "      <td>365.710744</td>\n",
              "      <td>2020.500000</td>\n",
              "      <td>6.519284</td>\n",
              "      <td>15.716253</td>\n",
              "      <td>3.601389e+05</td>\n",
              "      <td>4.914979e+05</td>\n",
              "      <td>0.668853</td>\n",
              "      <td>1.849241e+06</td>\n",
              "      <td>849.630854</td>\n",
              "      <td>3662.168044</td>\n",
              "      <td>4511.798898</td>\n",
              "    </tr>\n",
              "    <tr>\n",
              "      <th>std</th>\n",
              "      <td>211.050219</td>\n",
              "      <td>0.500345</td>\n",
              "      <td>3.451982</td>\n",
              "      <td>8.820474</td>\n",
              "      <td>3.401804e+06</td>\n",
              "      <td>3.025228e+06</td>\n",
              "      <td>0.660150</td>\n",
              "      <td>5.905126e+06</td>\n",
              "      <td>687.738418</td>\n",
              "      <td>1558.369158</td>\n",
              "      <td>1935.613470</td>\n",
              "    </tr>\n",
              "    <tr>\n",
              "      <th>min</th>\n",
              "      <td>1.000000</td>\n",
              "      <td>2020.000000</td>\n",
              "      <td>1.000000</td>\n",
              "      <td>1.000000</td>\n",
              "      <td>-5.220871e+07</td>\n",
              "      <td>-4.283729e+07</td>\n",
              "      <td>0.000000</td>\n",
              "      <td>-1.665211e+07</td>\n",
              "      <td>2.000000</td>\n",
              "      <td>20.000000</td>\n",
              "      <td>22.000000</td>\n",
              "    </tr>\n",
              "    <tr>\n",
              "      <th>25%</th>\n",
              "      <td>183.250000</td>\n",
              "      <td>2020.000000</td>\n",
              "      <td>4.000000</td>\n",
              "      <td>8.000000</td>\n",
              "      <td>1.013415e+01</td>\n",
              "      <td>1.036619e+01</td>\n",
              "      <td>0.520521</td>\n",
              "      <td>9.177811e+00</td>\n",
              "      <td>316.250000</td>\n",
              "      <td>2506.250000</td>\n",
              "      <td>3191.000000</td>\n",
              "    </tr>\n",
              "    <tr>\n",
              "      <th>50%</th>\n",
              "      <td>365.500000</td>\n",
              "      <td>2020.500000</td>\n",
              "      <td>7.000000</td>\n",
              "      <td>16.000000</td>\n",
              "      <td>1.851585e+01</td>\n",
              "      <td>1.757759e+01</td>\n",
              "      <td>0.626250</td>\n",
              "      <td>1.266732e+01</td>\n",
              "      <td>717.000000</td>\n",
              "      <td>3669.500000</td>\n",
              "      <td>4551.000000</td>\n",
              "    </tr>\n",
              "    <tr>\n",
              "      <th>75%</th>\n",
              "      <td>547.750000</td>\n",
              "      <td>2021.000000</td>\n",
              "      <td>10.000000</td>\n",
              "      <td>23.000000</td>\n",
              "      <td>2.551686e+01</td>\n",
              "      <td>2.300731e+01</td>\n",
              "      <td>0.731042</td>\n",
              "      <td>1.830216e+01</td>\n",
              "      <td>1096.500000</td>\n",
              "      <td>4783.250000</td>\n",
              "      <td>5966.000000</td>\n",
              "    </tr>\n",
              "    <tr>\n",
              "      <th>max</th>\n",
              "      <td>731.000000</td>\n",
              "      <td>2021.000000</td>\n",
              "      <td>12.000000</td>\n",
              "      <td>31.000000</td>\n",
              "      <td>1.894665e+07</td>\n",
              "      <td>1.751766e+07</td>\n",
              "      <td>10.867083</td>\n",
              "      <td>6.000868e+07</td>\n",
              "      <td>3410.000000</td>\n",
              "      <td>6946.000000</td>\n",
              "      <td>8714.000000</td>\n",
              "    </tr>\n",
              "  </tbody>\n",
              "</table>\n",
              "</div>\n",
              "      <button class=\"colab-df-convert\" onclick=\"convertToInteractive('df-40b56003-41c0-442b-a141-49dbc202e8fc')\"\n",
              "              title=\"Convert this dataframe to an interactive table.\"\n",
              "              style=\"display:none;\">\n",
              "        \n",
              "  <svg xmlns=\"http://www.w3.org/2000/svg\" height=\"24px\"viewBox=\"0 0 24 24\"\n",
              "       width=\"24px\">\n",
              "    <path d=\"M0 0h24v24H0V0z\" fill=\"none\"/>\n",
              "    <path d=\"M18.56 5.44l.94 2.06.94-2.06 2.06-.94-2.06-.94-.94-2.06-.94 2.06-2.06.94zm-11 1L8.5 8.5l.94-2.06 2.06-.94-2.06-.94L8.5 2.5l-.94 2.06-2.06.94zm10 10l.94 2.06.94-2.06 2.06-.94-2.06-.94-.94-2.06-.94 2.06-2.06.94z\"/><path d=\"M17.41 7.96l-1.37-1.37c-.4-.4-.92-.59-1.43-.59-.52 0-1.04.2-1.43.59L10.3 9.45l-7.72 7.72c-.78.78-.78 2.05 0 2.83L4 21.41c.39.39.9.59 1.41.59.51 0 1.02-.2 1.41-.59l7.78-7.78 2.81-2.81c.8-.78.8-2.07 0-2.86zM5.41 20L4 18.59l7.72-7.72 1.47 1.35L5.41 20z\"/>\n",
              "  </svg>\n",
              "      </button>\n",
              "      \n",
              "  <style>\n",
              "    .colab-df-container {\n",
              "      display:flex;\n",
              "      flex-wrap:wrap;\n",
              "      gap: 12px;\n",
              "    }\n",
              "\n",
              "    .colab-df-convert {\n",
              "      background-color: #E8F0FE;\n",
              "      border: none;\n",
              "      border-radius: 50%;\n",
              "      cursor: pointer;\n",
              "      display: none;\n",
              "      fill: #1967D2;\n",
              "      height: 32px;\n",
              "      padding: 0 0 0 0;\n",
              "      width: 32px;\n",
              "    }\n",
              "\n",
              "    .colab-df-convert:hover {\n",
              "      background-color: #E2EBFA;\n",
              "      box-shadow: 0px 1px 2px rgba(60, 64, 67, 0.3), 0px 1px 3px 1px rgba(60, 64, 67, 0.15);\n",
              "      fill: #174EA6;\n",
              "    }\n",
              "\n",
              "    [theme=dark] .colab-df-convert {\n",
              "      background-color: #3B4455;\n",
              "      fill: #D2E3FC;\n",
              "    }\n",
              "\n",
              "    [theme=dark] .colab-df-convert:hover {\n",
              "      background-color: #434B5C;\n",
              "      box-shadow: 0px 1px 3px 1px rgba(0, 0, 0, 0.15);\n",
              "      filter: drop-shadow(0px 1px 2px rgba(0, 0, 0, 0.3));\n",
              "      fill: #FFFFFF;\n",
              "    }\n",
              "  </style>\n",
              "\n",
              "      <script>\n",
              "        const buttonEl =\n",
              "          document.querySelector('#df-40b56003-41c0-442b-a141-49dbc202e8fc button.colab-df-convert');\n",
              "        buttonEl.style.display =\n",
              "          google.colab.kernel.accessAllowed ? 'block' : 'none';\n",
              "\n",
              "        async function convertToInteractive(key) {\n",
              "          const element = document.querySelector('#df-40b56003-41c0-442b-a141-49dbc202e8fc');\n",
              "          const dataTable =\n",
              "            await google.colab.kernel.invokeFunction('convertToInteractive',\n",
              "                                                     [key], {});\n",
              "          if (!dataTable) return;\n",
              "\n",
              "          const docLinkHtml = 'Like what you see? Visit the ' +\n",
              "            '<a target=\"_blank\" href=https://colab.research.google.com/notebooks/data_table.ipynb>data table notebook</a>'\n",
              "            + ' to learn more about interactive tables.';\n",
              "          element.innerHTML = '';\n",
              "          dataTable['output_type'] = 'display_data';\n",
              "          await google.colab.output.renderOutput(dataTable, element);\n",
              "          const docLink = document.createElement('div');\n",
              "          docLink.innerHTML = docLinkHtml;\n",
              "          element.appendChild(docLink);\n",
              "        }\n",
              "      </script>\n",
              "    </div>\n",
              "  </div>\n",
              "  "
            ]
          },
          "metadata": {},
          "execution_count": 6
        }
      ],
      "source": [
        "df.describe()"
      ]
    },
    {
      "cell_type": "markdown",
      "metadata": {
        "_uuid": "a1c9cad4a1f92eeb2d5b2e2ca21bd76b966723af",
        "id": "sBafjsUc_R4Y"
      },
      "source": [
        "Type casting the datetime and categorical attributes"
      ]
    },
    {
      "cell_type": "code",
      "execution_count": 7,
      "metadata": {
        "_uuid": "cf9bdda2ab1aab0b7f632f4bb8262eecd6d8254e",
        "id": "bcTEW_Yx_R4Y"
      },
      "outputs": [],
      "source": [
        "\n",
        "\n",
        "df['Season']=df.Season.astype('category')\n",
        "df['Year']=df.Year.astype('category')\n",
        "df['Month']=df.Month.astype('category')\n",
        "df['Holiday']=df.Holiday.astype('category')\n",
        "df['Weather']=df.Weather.astype('category')\n"
      ]
    },
    {
      "cell_type": "markdown",
      "metadata": {
        "_uuid": "f99aa3492ec3b0fa0e7a981be177e535a6694b3c",
        "id": "YlTyVNck_R4Z"
      },
      "source": [
        "Attributes distribution and trends"
      ]
    },
    {
      "cell_type": "markdown",
      "metadata": {
        "_uuid": "c15a60a5ce15b66459e132168b64eea2ebf36d20",
        "id": "WC8f50po_R4Z"
      },
      "source": [
        "Season wise hourly distribution of counts"
      ]
    },
    {
      "cell_type": "markdown",
      "metadata": {
        "_uuid": "9c7b00d6e4d723a1806fc5882561500415ce792c",
        "id": "zBBh8SLL_R4g"
      },
      "source": [
        "Regression analysis"
      ]
    },
    {
      "cell_type": "code",
      "execution_count": 8,
      "metadata": {
        "_uuid": "ffe19737de2fa06c5507ca3162f0a26db55ad9ce",
        "id": "-WYxnkih_R4g"
      },
      "outputs": [],
      "source": [
        "from sklearn import preprocessing,metrics,linear_model\n",
        "from sklearn.model_selection import cross_val_score,cross_val_predict,train_test_split"
      ]
    },
    {
      "cell_type": "markdown",
      "metadata": {
        "_uuid": "b3a483dcfc4b531b96ab252264e618bc0e83e8bf",
        "id": "Wnkwe60z_R4g"
      },
      "source": [
        "Split the training dataset"
      ]
    },
    {
      "cell_type": "code",
      "execution_count": 9,
      "metadata": {
        "_uuid": "e829d5f41f82d49d8178d66fd31c57090b103379",
        "colab": {
          "base_uri": "https://localhost:8080/"
        },
        "id": "D7eKA42U_R4h",
        "outputId": "e6f1d223-f27a-41ed-df55-1f4debb34553"
      },
      "outputs": [
        {
          "output_type": "stream",
          "name": "stdout",
          "text": [
            "(508, 13) (218, 13) (508, 2) (218, 2)\n",
            "   index     cnt\n",
            "0    327  3068.0\n",
            "1    449  5698.0\n",
            "2    104   795.0\n",
            "3    114  4400.0\n",
            "4    651  7461.0\n",
            "   index     cnt\n",
            "0    326  2792.0\n",
            "1    519  7055.0\n",
            "2    580  7273.0\n",
            "3     33  1550.0\n",
            "4    570  6685.0\n"
          ]
        }
      ],
      "source": [
        "X_train,X_test,y_train,y_test= train_test_split(df.iloc[:,0:-3],df['cnt'],test_size=0.3,random_state=42)\n",
        "\n",
        "X_train=X_train.reset_index() \n",
        "y_train=y_train.reset_index()\n",
        "\n",
        "X_test=X_test.reset_index() \n",
        "y_test=y_test.reset_index() \n",
        "\n",
        "print(X_train.shape,X_test.shape,y_train.shape,y_test.shape)\n",
        "print(y_train.head())\n",
        "print(y_test.head())"
      ]
    },
    {
      "cell_type": "markdown",
      "metadata": {
        "_uuid": "cc6c42aba54dc1883bbbc533cd34ececcadfa397",
        "id": "XpwLbdBS_R4h"
      },
      "source": [
        "Normality test(probability plot)"
      ]
    },
    {
      "cell_type": "code",
      "execution_count": 11,
      "metadata": {
        "_uuid": "109926b25368d450937802a098f04920964447d4",
        "colab": {
          "base_uri": "https://localhost:8080/",
          "height": 295
        },
        "id": "10HUIDeO_R4h",
        "outputId": "1e3b32c5-ba16-4122-def0-a1bbf9f6d742"
      },
      "outputs": [
        {
          "output_type": "display_data",
          "data": {
            "text/plain": [
              "<Figure size 432x288 with 1 Axes>"
            ],
            "image/png": "[encoded data removed]"
          },
          "metadata": {
            "needs_background": "light"
          }
        }
      ],
      "source": [
        "import scipy\n",
        "from scipy import stats\n",
        "stats.probplot(y_train.cnt.tolist(),dist='norm',plot=plt)\n",
        "plt.show()"
      ]
    },
    {
      "cell_type": "markdown",
      "metadata": {
        "_uuid": "74dc3fd665fb7c3f481aa3827df8e5a8152821cd",
        "id": "ZN5VV9YB_R4i"
      },
      "source": [
        "Split the features into categorical and numerical features"
      ]
    },
    {
      "cell_type": "code",
      "execution_count": 12,
      "metadata": {
        "_uuid": "50cb24f751a41c0f11928372faafdeb4d59ed3b2",
        "id": "ZWVk_OVd_R4i"
      },
      "outputs": [],
      "source": [
        "training_features=X_train[['Season','Holiday','Weather','Month','Year','Temp','Feel_Temp','Hum','Wind']]\n",
        "categorical_features=['Season','Holiday','Weather']\n",
        "numerical_features=[['Temp','Feel_Temp','Hum','Wind','Month','Year']]"
      ]
    },
    {
      "cell_type": "markdown",
      "metadata": {
        "_uuid": "00ae4f423c8db075d53dac0a69a38eb8ab5f055b",
        "id": "l8K65gMK_R4i"
      },
      "source": [
        "Decoding the training features"
      ]
    },
    {
      "cell_type": "code",
      "execution_count": 13,
      "metadata": {
        "_uuid": "5ab1024f2264a46b3348c20c738a739347e8e7e9",
        "colab": {
          "base_uri": "https://localhost:8080/",
          "height": 352
        },
        "id": "ahbt4CAK_R4j",
        "outputId": "f8adf3b9-629f-46e0-c110-b28a51aafd20"
      },
      "outputs": [
        {
          "output_type": "execute_result",
          "data": {
            "text/plain": [
              "  Month    Year       Temp  Feel_Temp       Hum       Wind  Season_Fall  \\\n",
              "0  11.0  2020.0   9.664151  10.099089  0.681667   4.584194            0   \n",
              "1   3.0  2021.0  14.755849  14.134650  0.481250  19.541957            0   \n",
              "2   4.0  2020.0  12.249151  11.998124  0.888333  22.834136            0   \n",
              "3   4.0  2020.0  21.688349  19.921901  0.729167  21.875500            0   \n",
              "4  10.0  2021.0  13.424151  13.155076  0.692917   6.791857            0   \n",
              "\n",
              "   Season_Springer  Season_Summer  Season_Winter  ...  Weather_ Partly cloudy  \\\n",
              "0                0              0              1  ...                       0   \n",
              "1                0              1              0  ...                       1   \n",
              "2                0              1              0  ...                       0   \n",
              "3                0              1              0  ...                       0   \n",
              "4                0              0              1  ...                       0   \n",
              "\n",
              "   Weather_Clear  Weather_Few clouds  Weather_Light Rain + Scattered clouds  \\\n",
              "0              0                   1                                      0   \n",
              "1              0                   0                                      0   \n",
              "2              0                   0                                      1   \n",
              "3              0                   0                                      0   \n",
              "4              0                   1                                      0   \n",
              "\n",
              "   Weather_Mist  Weather_Mist + Broken clouds  Weather_Mist + Cloudy  \\\n",
              "0             0                             0                      0   \n",
              "1             0                             0                      0   \n",
              "2             0                             0                      0   \n",
              "3             0                             0                      0   \n",
              "4             0                             0                      0   \n",
              "\n",
              "   Weather_Mist + Few clouds  Weather_Rain + Thunderstorm  Weather_Snow  \n",
              "0                          0                            0             0  \n",
              "1                          0                            0             0  \n",
              "2                          0                            0             0  \n",
              "3                          0                            0             0  \n",
              "4                          0                            0             0  \n",
              "\n",
              "[5 rows x 23 columns]"
            ],
            "text/html": [
              "\n",
              "  <div id=\"df-9e54f32e-da51-4bad-a47b-6fd5e8f94753\">\n",
              "    <div class=\"colab-df-container\">\n",
              "      <div>\n",
              "<style scoped>\n",
              "    .dataframe tbody tr th:only-of-type {\n",
              "        vertical-align: middle;\n",
              "    }\n",
              "\n",
              "    .dataframe tbody tr th {\n",
              "        vertical-align: top;\n",
              "    }\n",
              "\n",
              "    .dataframe thead th {\n",
              "        text-align: right;\n",
              "    }\n",
              "</style>\n",
              "<table border=\"1\" class=\"dataframe\">\n",
              "  <thead>\n",
              "    <tr style=\"text-align: right;\">\n",
              "      <th></th>\n",
              "      <th>Month</th>\n",
              "      <th>Year</th>\n",
              "      <th>Temp</th>\n",
              "      <th>Feel_Temp</th>\n",
              "      <th>Hum</th>\n",
              "      <th>Wind</th>\n",
              "      <th>Season_Fall</th>\n",
              "      <th>Season_Springer</th>\n",
              "      <th>Season_Summer</th>\n",
              "      <th>Season_Winter</th>\n",
              "      <th>...</th>\n",
              "      <th>Weather_ Partly cloudy</th>\n",
              "      <th>Weather_Clear</th>\n",
              "      <th>Weather_Few clouds</th>\n",
              "      <th>Weather_Light Rain + Scattered clouds</th>\n",
              "      <th>Weather_Mist</th>\n",
              "      <th>Weather_Mist + Broken clouds</th>\n",
              "      <th>Weather_Mist + Cloudy</th>\n",
              "      <th>Weather_Mist + Few clouds</th>\n",
              "      <th>Weather_Rain + Thunderstorm</th>\n",
              "      <th>Weather_Snow</th>\n",
              "    </tr>\n",
              "  </thead>\n",
              "  <tbody>\n",
              "    <tr>\n",
              "      <th>0</th>\n",
              "      <td>11.0</td>\n",
              "      <td>2020.0</td>\n",
              "      <td>9.664151</td>\n",
              "      <td>10.099089</td>\n",
              "      <td>0.681667</td>\n",
              "      <td>4.584194</td>\n",
              "      <td>0</td>\n",
              "      <td>0</td>\n",
              "      <td>0</td>\n",
              "      <td>1</td>\n",
              "      <td>...</td>\n",
              "      <td>0</td>\n",
              "      <td>0</td>\n",
              "      <td>1</td>\n",
              "      <td>0</td>\n",
              "      <td>0</td>\n",
              "      <td>0</td>\n",
              "      <td>0</td>\n",
              "      <td>0</td>\n",
              "      <td>0</td>\n",
              "      <td>0</td>\n",
              "    </tr>\n",
              "    <tr>\n",
              "      <th>1</th>\n",
              "      <td>3.0</td>\n",
              "      <td>2021.0</td>\n",
              "      <td>14.755849</td>\n",
              "      <td>14.134650</td>\n",
              "      <td>0.481250</td>\n",
              "      <td>19.541957</td>\n",
              "      <td>0</td>\n",
              "      <td>0</td>\n",
              "      <td>1</td>\n",
              "      <td>0</td>\n",
              "      <td>...</td>\n",
              "      <td>1</td>\n",
              "      <td>0</td>\n",
              "      <td>0</td>\n",
              "      <td>0</td>\n",
              "      <td>0</td>\n",
              "      <td>0</td>\n",
              "      <td>0</td>\n",
              "      <td>0</td>\n",
              "      <td>0</td>\n",
              "      <td>0</td>\n",
              "    </tr>\n",
              "    <tr>\n",
              "      <th>2</th>\n",
              "      <td>4.0</td>\n",
              "      <td>2020.0</td>\n",
              "      <td>12.249151</td>\n",
              "      <td>11.998124</td>\n",
              "      <td>0.888333</td>\n",
              "      <td>22.834136</td>\n",
              "      <td>0</td>\n",
              "      <td>0</td>\n",
              "      <td>1</td>\n",
              "      <td>0</td>\n",
              "      <td>...</td>\n",
              "      <td>0</td>\n",
              "      <td>0</td>\n",
              "      <td>0</td>\n",
              "      <td>1</td>\n",
              "      <td>0</td>\n",
              "      <td>0</td>\n",
              "      <td>0</td>\n",
              "      <td>0</td>\n",
              "      <td>0</td>\n",
              "      <td>0</td>\n",
              "    </tr>\n",
              "    <tr>\n",
              "      <th>3</th>\n",
              "      <td>4.0</td>\n",
              "      <td>2020.0</td>\n",
              "      <td>21.688349</td>\n",
              "      <td>19.921901</td>\n",
              "      <td>0.729167</td>\n",
              "      <td>21.875500</td>\n",
              "      <td>0</td>\n",
              "      <td>0</td>\n",
              "      <td>1</td>\n",
              "      <td>0</td>\n",
              "      <td>...</td>\n",
              "      <td>0</td>\n",
              "      <td>0</td>\n",
              "      <td>0</td>\n",
              "      <td>0</td>\n",
              "      <td>0</td>\n",
              "      <td>0</td>\n",
              "      <td>0</td>\n",
              "      <td>0</td>\n",
              "      <td>0</td>\n",
              "      <td>0</td>\n",
              "    </tr>\n",
              "    <tr>\n",
              "      <th>4</th>\n",
              "      <td>10.0</td>\n",
              "      <td>2021.0</td>\n",
              "      <td>13.424151</td>\n",
              "      <td>13.155076</td>\n",
              "      <td>0.692917</td>\n",
              "      <td>6.791857</td>\n",
              "      <td>0</td>\n",
              "      <td>0</td>\n",
              "      <td>0</td>\n",
              "      <td>1</td>\n",
              "      <td>...</td>\n",
              "      <td>0</td>\n",
              "      <td>0</td>\n",
              "      <td>1</td>\n",
              "      <td>0</td>\n",
              "      <td>0</td>\n",
              "      <td>0</td>\n",
              "      <td>0</td>\n",
              "      <td>0</td>\n",
              "      <td>0</td>\n",
              "      <td>0</td>\n",
              "    </tr>\n",
              "  </tbody>\n",
              "</table>\n",
              "<p>5 rows × 23 columns</p>\n",
              "</div>\n",
              "      <button class=\"colab-df-convert\" onclick=\"convertToInteractive('df-9e54f32e-da51-4bad-a47b-6fd5e8f94753')\"\n",
              "              title=\"Convert this dataframe to an interactive table.\"\n",
              "              style=\"display:none;\">\n",
              "        \n",
              "  <svg xmlns=\"http://www.w3.org/2000/svg\" height=\"24px\"viewBox=\"0 0 24 24\"\n",
              "       width=\"24px\">\n",
              "    <path d=\"M0 0h24v24H0V0z\" fill=\"none\"/>\n",
              "    <path d=\"M18.56 5.44l.94 2.06.94-2.06 2.06-.94-2.06-.94-.94-2.06-.94 2.06-2.06.94zm-11 1L8.5 8.5l.94-2.06 2.06-.94-2.06-.94L8.5 2.5l-.94 2.06-2.06.94zm10 10l.94 2.06.94-2.06 2.06-.94-2.06-.94-.94-2.06-.94 2.06-2.06.94z\"/><path d=\"M17.41 7.96l-1.37-1.37c-.4-.4-.92-.59-1.43-.59-.52 0-1.04.2-1.43.59L10.3 9.45l-7.72 7.72c-.78.78-.78 2.05 0 2.83L4 21.41c.39.39.9.59 1.41.59.51 0 1.02-.2 1.41-.59l7.78-7.78 2.81-2.81c.8-.78.8-2.07 0-2.86zM5.41 20L4 18.59l7.72-7.72 1.47 1.35L5.41 20z\"/>\n",
              "  </svg>\n",
              "      </button>\n",
              "      \n",
              "  <style>\n",
              "    .colab-df-container {\n",
              "      display:flex;\n",
              "      flex-wrap:wrap;\n",
              "      gap: 12px;\n",
              "    }\n",
              "\n",
              "    .colab-df-convert {\n",
              "      background-color: #E8F0FE;\n",
              "      border: none;\n",
              "      border-radius: 50%;\n",
              "      cursor: pointer;\n",
              "      display: none;\n",
              "      fill: #1967D2;\n",
              "      height: 32px;\n",
              "      padding: 0 0 0 0;\n",
              "      width: 32px;\n",
              "    }\n",
              "\n",
              "    .colab-df-convert:hover {\n",
              "      background-color: #E2EBFA;\n",
              "      box-shadow: 0px 1px 2px rgba(60, 64, 67, 0.3), 0px 1px 3px 1px rgba(60, 64, 67, 0.15);\n",
              "      fill: #174EA6;\n",
              "    }\n",
              "\n",
              "    [theme=dark] .colab-df-convert {\n",
              "      background-color: #3B4455;\n",
              "      fill: #D2E3FC;\n",
              "    }\n",
              "\n",
              "    [theme=dark] .colab-df-convert:hover {\n",
              "      background-color: #434B5C;\n",
              "      box-shadow: 0px 1px 3px 1px rgba(0, 0, 0, 0.15);\n",
              "      filter: drop-shadow(0px 1px 2px rgba(0, 0, 0, 0.3));\n",
              "      fill: #FFFFFF;\n",
              "    }\n",
              "  </style>\n",
              "\n",
              "      <script>\n",
              "        const buttonEl =\n",
              "          document.querySelector('#df-9e54f32e-da51-4bad-a47b-6fd5e8f94753 button.colab-df-convert');\n",
              "        buttonEl.style.display =\n",
              "          google.colab.kernel.accessAllowed ? 'block' : 'none';\n",
              "\n",
              "        async function convertToInteractive(key) {\n",
              "          const element = document.querySelector('#df-9e54f32e-da51-4bad-a47b-6fd5e8f94753');\n",
              "          const dataTable =\n",
              "            await google.colab.kernel.invokeFunction('convertToInteractive',\n",
              "                                                     [key], {});\n",
              "          if (!dataTable) return;\n",
              "\n",
              "          const docLinkHtml = 'Like what you see? Visit the ' +\n",
              "            '<a target=\"_blank\" href=https://colab.research.google.com/notebooks/data_table.ipynb>data table notebook</a>'\n",
              "            + ' to learn more about interactive tables.';\n",
              "          element.innerHTML = '';\n",
              "          dataTable['output_type'] = 'display_data';\n",
              "          await google.colab.output.renderOutput(dataTable, element);\n",
              "          const docLink = document.createElement('div');\n",
              "          docLink.innerHTML = docLinkHtml;\n",
              "          element.appendChild(docLink);\n",
              "        }\n",
              "      </script>\n",
              "    </div>\n",
              "  </div>\n",
              "  "
            ]
          },
          "metadata": {},
          "execution_count": 13
        }
      ],
      "source": [
        "training_attributes=pd.get_dummies(training_features,columns=categorical_features)\n",
        "training_attributes.head()"
      ]
    },
    {
      "cell_type": "markdown",
      "metadata": {
        "_uuid": "56bcba1db64cde64e7dfea8a999ce24b1dcfa6ca",
        "id": "EZ_sf2Ub_R4j"
      },
      "source": [
        "Linear regression"
      ]
    },
    {
      "cell_type": "code",
      "execution_count": 15,
      "metadata": {
        "_uuid": "34cee53c1cd28d1994625c2dd0498b6b05f8e924",
        "id": "hYciiRCq_R4j"
      },
      "outputs": [],
      "source": [
        "X_train=training_attributes\n",
        "y_train=y_train.cnt.values\n",
        "lr=linear_model.LinearRegression()"
      ]
    },
    {
      "cell_type": "markdown",
      "metadata": {
        "_uuid": "7520d581e2f154d781e71ca2772699e71a280b47",
        "id": "nA_pPUTE_R4j"
      },
      "source": [
        "fit the training model"
      ]
    },
    {
      "cell_type": "code",
      "execution_count": 16,
      "metadata": {
        "_uuid": "51233f48bed7760894497f74d80ade1e34afdad6",
        "colab": {
          "base_uri": "https://localhost:8080/"
        },
        "id": "TnDVLQX-_R4k",
        "outputId": "caa7f2f1-e1d1-49e4-c22a-72f632b1ad1d"
      },
      "outputs": [
        {
          "output_type": "execute_result",
          "data": {
            "text/plain": [
              "LinearRegression()"
            ]
          },
          "metadata": {},
          "execution_count": 16
        }
      ],
      "source": [
        "lr.fit(X_train,y_train)"
      ]
    },
    {
      "cell_type": "markdown",
      "metadata": {
        "_uuid": "efdc80c2eee8c99ec069c4ba6a30244d3708bc7b",
        "id": "S2EkcFp9_R4k"
      },
      "source": [
        "Cross validation prediction"
      ]
    },
    {
      "cell_type": "code",
      "execution_count": 17,
      "metadata": {
        "_uuid": "3bb8e43a7eacedd44ea0d83c64fd7b8ccfefe553",
        "colab": {
          "base_uri": "https://localhost:8080/",
          "height": 513
        },
        "id": "ThzdQu8-_R4k",
        "outputId": "ae028376-72b3-44e2-af5b-7b499935684f"
      },
      "outputs": [
        {
          "output_type": "display_data",
          "data": {
            "text/plain": [
              "<Figure size 1440x576 with 1 Axes>"
            ],
            "image/png": "[encoded data removed]"
          },
          "metadata": {
            "needs_background": "light"
          }
        }
      ],
      "source": [
        "predict=cross_val_predict(lr,X_train,y_train,cv=3)\n",
        "\n",
        "fig,ax=plt.subplots(figsize=(20,8))\n",
        "ax.scatter(y_train,y_train-predict)\n",
        "ax.axhline(lw=2,color='black')\n",
        "ax.set_title('Cross validation prediction plot')\n",
        "ax.set_xlabel('Observed')\n",
        "ax.set_ylabel('Residual')\n",
        "plt.show()"
      ]
    },
    {
      "cell_type": "markdown",
      "metadata": {
        "_uuid": "d3679fee1787538283322fbb66a4ad0a3e866765",
        "id": "b5IxL2l0_R4k"
      },
      "source": [
        "From the cross validation prediction plot, we observed that it violates the homoscedasticity assumption\n",
        "and it is nothing but if all the random variables sequence or vector have the same finite variance."
      ]
    },
    {
      "cell_type": "markdown",
      "metadata": {
        "_uuid": "1ca04e1745b89a1cd5e0186c073e424520cbfc96",
        "id": "E22qMqMD_R4l"
      },
      "source": [
        "Model evalution metrics"
      ]
    },
    {
      "cell_type": "markdown",
      "metadata": {
        "_uuid": "cdb09b3ca118fc11d4629781495058ffeb466009",
        "id": "0OGpWRI0_R4l"
      },
      "source": [
        "R-squared and mean squared error scores"
      ]
    },
    {
      "cell_type": "code",
      "execution_count": 18,
      "metadata": {
        "_uuid": "e657e49afec4d1b3a6b86d39ebe13aeed73508fc",
        "colab": {
          "base_uri": "https://localhost:8080/"
        },
        "id": "oU4SAPHa_R4l",
        "outputId": "3b28e653-e75e-4cf2-b9cb-e774af2d6403"
      },
      "outputs": [
        {
          "output_type": "stream",
          "name": "stdout",
          "text": [
            "[0.71008202 0.70008719 0.71804588]\n",
            "[-1057195.97031818 -1104706.5655267  -1139436.58308609]\n"
          ]
        }
      ],
      "source": [
        "r2_scores = cross_val_score(lr, X_train, y_train, cv=3)\n",
        "mse_scores = cross_val_score(lr, X_train, y_train, cv=3,scoring='neg_mean_squared_error')\n",
        "print(r2_scores)\n",
        "print(mse_scores) "
      ]
    },
    {
      "cell_type": "markdown",
      "metadata": {
        "_uuid": "f68b649f616a31a976bf54f986e7795ab7dd0b1a",
        "id": "i5DIk5no_R4l"
      },
      "source": [
        "Cross validation scores"
      ]
    },
    {
      "cell_type": "code",
      "execution_count": 19,
      "metadata": {
        "_uuid": "503bb5d2a195ed7349ff6f54e682627f992d6061",
        "colab": {
          "base_uri": "https://localhost:8080/",
          "height": 350
        },
        "id": "i8x2kCjd_R4l",
        "outputId": "5456493b-fbe4-475a-aeb1-d64067af6856"
      },
      "outputs": [
        {
          "output_type": "display_data",
          "data": {
            "text/plain": [
              "<Figure size 720x360 with 1 Axes>"
            ],
            "image/png": "[encoded data removed]"
          },
          "metadata": {}
        }
      ],
      "source": [
        "sns.set_style('whitegrid')\n",
        "fig,ax=plt.subplots(figsize=(10,5))\n",
        "ax.plot([i for i in range(len(r2_scores))],r2_scores,lw=2 )\n",
        "ax.set_xlabel('R-squared')#coefficeint of determination\n",
        "ax.set_ylabel('Iterated')\n",
        "ax.set_title('Cross validation scores,Avg:{}'.format(np.average(r2_scores)))\n",
        "plt.show()"
      ]
    },
    {
      "cell_type": "markdown",
      "metadata": {
        "_uuid": "12df4b7221503a586438c4b8dd6c6dff524f04da",
        "id": "mCH71Irp_R4m"
      },
      "source": [
        "Test data performance"
      ]
    },
    {
      "cell_type": "markdown",
      "metadata": {
        "_uuid": "788118eb0297fe6d47d9b724b6dfa8786fc106ff",
        "id": "P6xOq8JW_R4m"
      },
      "source": [
        "Split the test dataset to categorical and numerical features"
      ]
    },
    {
      "cell_type": "code",
      "execution_count": 22,
      "metadata": {
        "_uuid": "89bb0d09e0098fcaf41c0dae54656a7eb8fa214e",
        "id": "OWTLM_hW_R4m"
      },
      "outputs": [],
      "source": [
        "test_features= X_test[['Season','Holiday','Weather','Month','Day','Year','Temp','Feel_Temp','Hum','Wind']]\n",
        "numeric_features = ['Temp','Hum','Wind','Month','Year','Day']\n",
        "test_cat_features =  ['Season','Holiday','Weather']"
      ]
    },
    {
      "cell_type": "markdown",
      "metadata": {
        "_uuid": "18f48fd00b089615174ebbdfae4a7b82b30e96e4",
        "id": "nGE6vvaF_R4n"
      },
      "source": [
        "Decoding the test attributes"
      ]
    },
    {
      "cell_type": "code",
      "execution_count": 23,
      "metadata": {
        "_uuid": "2e4403315ea0b8f7e8f2083a0febfad7307dee3a",
        "colab": {
          "base_uri": "https://localhost:8080/",
          "height": 352
        },
        "id": "HTU0Vxq4_R4n",
        "outputId": "d3b3ce43-94d3-404b-9dc6-8868a0c6bde8"
      },
      "outputs": [
        {
          "output_type": "execute_result",
          "data": {
            "text/plain": [
              "  Month   Day    Year       Temp  Feel_Temp       Hum          Wind  \\\n",
              "0  11.0  25.0  2020.0   9.625000   9.891537  0.643750 -6.626019e+00   \n",
              "1   6.0   6.0  2021.0  18.045849  17.487724  0.611250  5.167375e+00   \n",
              "2   8.0   7.0  2021.0  26.584151  24.788187  0.703750  7.832836e+00   \n",
              "3   2.0   3.0  2020.0   0.786979   0.360266  0.437826  1.860938e+07   \n",
              "4   7.0  28.0  2021.0  27.524151  24.787388  0.613333  1.054245e+01   \n",
              "\n",
              "   Season_Fall  Season_Springer  Season_Summer  ...  Weather_ Partly cloudy  \\\n",
              "0            0                0              0  ...                       0   \n",
              "1            0                0              1  ...                       0   \n",
              "2            1                0              0  ...                       0   \n",
              "3            0                1              0  ...                       1   \n",
              "4            1                0              0  ...                       1   \n",
              "\n",
              "   Weather_Clear  Weather_Few clouds  Weather_Light Rain + Scattered clouds  \\\n",
              "0              0                   0                                      0   \n",
              "1              1                   0                                      0   \n",
              "2              0                   0                                      0   \n",
              "3              0                   0                                      0   \n",
              "4              0                   0                                      0   \n",
              "\n",
              "   Weather_Mist  Weather_Mist + Broken clouds  Weather_Mist + Cloudy  \\\n",
              "0             0                             0                      0   \n",
              "1             0                             0                      0   \n",
              "2             0                             0                      1   \n",
              "3             0                             0                      0   \n",
              "4             0                             0                      0   \n",
              "\n",
              "   Weather_Mist + Few clouds  Weather_Rain + Thunderstorm  Weather_Snow  \n",
              "0                          0                            0             0  \n",
              "1                          0                            0             0  \n",
              "2                          0                            0             0  \n",
              "3                          0                            0             0  \n",
              "4                          0                            0             0  \n",
              "\n",
              "[5 rows x 24 columns]"
            ],
            "text/html": [
              "\n",
              "  <div id=\"df-9045ff21-9699-4400-ad14-dc260faa49e1\">\n",
              "    <div class=\"colab-df-container\">\n",
              "      <div>\n",
              "<style scoped>\n",
              "    .dataframe tbody tr th:only-of-type {\n",
              "        vertical-align: middle;\n",
              "    }\n",
              "\n",
              "    .dataframe tbody tr th {\n",
              "        vertical-align: top;\n",
              "    }\n",
              "\n",
              "    .dataframe thead th {\n",
              "        text-align: right;\n",
              "    }\n",
              "</style>\n",
              "<table border=\"1\" class=\"dataframe\">\n",
              "  <thead>\n",
              "    <tr style=\"text-align: right;\">\n",
              "      <th></th>\n",
              "      <th>Month</th>\n",
              "      <th>Day</th>\n",
              "      <th>Year</th>\n",
              "      <th>Temp</th>\n",
              "      <th>Feel_Temp</th>\n",
              "      <th>Hum</th>\n",
              "      <th>Wind</th>\n",
              "      <th>Season_Fall</th>\n",
              "      <th>Season_Springer</th>\n",
              "      <th>Season_Summer</th>\n",
              "      <th>...</th>\n",
              "      <th>Weather_ Partly cloudy</th>\n",
              "      <th>Weather_Clear</th>\n",
              "      <th>Weather_Few clouds</th>\n",
              "      <th>Weather_Light Rain + Scattered clouds</th>\n",
              "      <th>Weather_Mist</th>\n",
              "      <th>Weather_Mist + Broken clouds</th>\n",
              "      <th>Weather_Mist + Cloudy</th>\n",
              "      <th>Weather_Mist + Few clouds</th>\n",
              "      <th>Weather_Rain + Thunderstorm</th>\n",
              "      <th>Weather_Snow</th>\n",
              "    </tr>\n",
              "  </thead>\n",
              "  <tbody>\n",
              "    <tr>\n",
              "      <th>0</th>\n",
              "      <td>11.0</td>\n",
              "      <td>25.0</td>\n",
              "      <td>2020.0</td>\n",
              "      <td>9.625000</td>\n",
              "      <td>9.891537</td>\n",
              "      <td>0.643750</td>\n",
              "      <td>-6.626019e+00</td>\n",
              "      <td>0</td>\n",
              "      <td>0</td>\n",
              "      <td>0</td>\n",
              "      <td>...</td>\n",
              "      <td>0</td>\n",
              "      <td>0</td>\n",
              "      <td>0</td>\n",
              "      <td>0</td>\n",
              "      <td>0</td>\n",
              "      <td>0</td>\n",
              "      <td>0</td>\n",
              "      <td>0</td>\n",
              "      <td>0</td>\n",
              "      <td>0</td>\n",
              "    </tr>\n",
              "    <tr>\n",
              "      <th>1</th>\n",
              "      <td>6.0</td>\n",
              "      <td>6.0</td>\n",
              "      <td>2021.0</td>\n",
              "      <td>18.045849</td>\n",
              "      <td>17.487724</td>\n",
              "      <td>0.611250</td>\n",
              "      <td>5.167375e+00</td>\n",
              "      <td>0</td>\n",
              "      <td>0</td>\n",
              "      <td>1</td>\n",
              "      <td>...</td>\n",
              "      <td>0</td>\n",
              "      <td>1</td>\n",
              "      <td>0</td>\n",
              "      <td>0</td>\n",
              "      <td>0</td>\n",
              "      <td>0</td>\n",
              "      <td>0</td>\n",
              "      <td>0</td>\n",
              "      <td>0</td>\n",
              "      <td>0</td>\n",
              "    </tr>\n",
              "    <tr>\n",
              "      <th>2</th>\n",
              "      <td>8.0</td>\n",
              "      <td>7.0</td>\n",
              "      <td>2021.0</td>\n",
              "      <td>26.584151</td>\n",
              "      <td>24.788187</td>\n",
              "      <td>0.703750</td>\n",
              "      <td>7.832836e+00</td>\n",
              "      <td>1</td>\n",
              "      <td>0</td>\n",
              "      <td>0</td>\n",
              "      <td>...</td>\n",
              "      <td>0</td>\n",
              "      <td>0</td>\n",
              "      <td>0</td>\n",
              "      <td>0</td>\n",
              "      <td>0</td>\n",
              "      <td>0</td>\n",
              "      <td>1</td>\n",
              "      <td>0</td>\n",
              "      <td>0</td>\n",
              "      <td>0</td>\n",
              "    </tr>\n",
              "    <tr>\n",
              "      <th>3</th>\n",
              "      <td>2.0</td>\n",
              "      <td>3.0</td>\n",
              "      <td>2020.0</td>\n",
              "      <td>0.786979</td>\n",
              "      <td>0.360266</td>\n",
              "      <td>0.437826</td>\n",
              "      <td>1.860938e+07</td>\n",
              "      <td>0</td>\n",
              "      <td>1</td>\n",
              "      <td>0</td>\n",
              "      <td>...</td>\n",
              "      <td>1</td>\n",
              "      <td>0</td>\n",
              "      <td>0</td>\n",
              "      <td>0</td>\n",
              "      <td>0</td>\n",
              "      <td>0</td>\n",
              "      <td>0</td>\n",
              "      <td>0</td>\n",
              "      <td>0</td>\n",
              "      <td>0</td>\n",
              "    </tr>\n",
              "    <tr>\n",
              "      <th>4</th>\n",
              "      <td>7.0</td>\n",
              "      <td>28.0</td>\n",
              "      <td>2021.0</td>\n",
              "      <td>27.524151</td>\n",
              "      <td>24.787388</td>\n",
              "      <td>0.613333</td>\n",
              "      <td>1.054245e+01</td>\n",
              "      <td>1</td>\n",
              "      <td>0</td>\n",
              "      <td>0</td>\n",
              "      <td>...</td>\n",
              "      <td>1</td>\n",
              "      <td>0</td>\n",
              "      <td>0</td>\n",
              "      <td>0</td>\n",
              "      <td>0</td>\n",
              "      <td>0</td>\n",
              "      <td>0</td>\n",
              "      <td>0</td>\n",
              "      <td>0</td>\n",
              "      <td>0</td>\n",
              "    </tr>\n",
              "  </tbody>\n",
              "</table>\n",
              "<p>5 rows × 24 columns</p>\n",
              "</div>\n",
              "      <button class=\"colab-df-convert\" onclick=\"convertToInteractive('df-9045ff21-9699-4400-ad14-dc260faa49e1')\"\n",
              "              title=\"Convert this dataframe to an interactive table.\"\n",
              "              style=\"display:none;\">\n",
              "        \n",
              "  <svg xmlns=\"http://www.w3.org/2000/svg\" height=\"24px\"viewBox=\"0 0 24 24\"\n",
              "       width=\"24px\">\n",
              "    <path d=\"M0 0h24v24H0V0z\" fill=\"none\"/>\n",
              "    <path d=\"M18.56 5.44l.94 2.06.94-2.06 2.06-.94-2.06-.94-.94-2.06-.94 2.06-2.06.94zm-11 1L8.5 8.5l.94-2.06 2.06-.94-2.06-.94L8.5 2.5l-.94 2.06-2.06.94zm10 10l.94 2.06.94-2.06 2.06-.94-2.06-.94-.94-2.06-.94 2.06-2.06.94z\"/><path d=\"M17.41 7.96l-1.37-1.37c-.4-.4-.92-.59-1.43-.59-.52 0-1.04.2-1.43.59L10.3 9.45l-7.72 7.72c-.78.78-.78 2.05 0 2.83L4 21.41c.39.39.9.59 1.41.59.51 0 1.02-.2 1.41-.59l7.78-7.78 2.81-2.81c.8-.78.8-2.07 0-2.86zM5.41 20L4 18.59l7.72-7.72 1.47 1.35L5.41 20z\"/>\n",
              "  </svg>\n",
              "      </button>\n",
              "      \n",
              "  <style>\n",
              "    .colab-df-container {\n",
              "      display:flex;\n",
              "      flex-wrap:wrap;\n",
              "      gap: 12px;\n",
              "    }\n",
              "\n",
              "    .colab-df-convert {\n",
              "      background-color: #E8F0FE;\n",
              "      border: none;\n",
              "      border-radius: 50%;\n",
              "      cursor: pointer;\n",
              "      display: none;\n",
              "      fill: #1967D2;\n",
              "      height: 32px;\n",
              "      padding: 0 0 0 0;\n",
              "      width: 32px;\n",
              "    }\n",
              "\n",
              "    .colab-df-convert:hover {\n",
              "      background-color: #E2EBFA;\n",
              "      box-shadow: 0px 1px 2px rgba(60, 64, 67, 0.3), 0px 1px 3px 1px rgba(60, 64, 67, 0.15);\n",
              "      fill: #174EA6;\n",
              "    }\n",
              "\n",
              "    [theme=dark] .colab-df-convert {\n",
              "      background-color: #3B4455;\n",
              "      fill: #D2E3FC;\n",
              "    }\n",
              "\n",
              "    [theme=dark] .colab-df-convert:hover {\n",
              "      background-color: #434B5C;\n",
              "      box-shadow: 0px 1px 3px 1px rgba(0, 0, 0, 0.15);\n",
              "      filter: drop-shadow(0px 1px 2px rgba(0, 0, 0, 0.3));\n",
              "      fill: #FFFFFF;\n",
              "    }\n",
              "  </style>\n",
              "\n",
              "      <script>\n",
              "        const buttonEl =\n",
              "          document.querySelector('#df-9045ff21-9699-4400-ad14-dc260faa49e1 button.colab-df-convert');\n",
              "        buttonEl.style.display =\n",
              "          google.colab.kernel.accessAllowed ? 'block' : 'none';\n",
              "\n",
              "        async function convertToInteractive(key) {\n",
              "          const element = document.querySelector('#df-9045ff21-9699-4400-ad14-dc260faa49e1');\n",
              "          const dataTable =\n",
              "            await google.colab.kernel.invokeFunction('convertToInteractive',\n",
              "                                                     [key], {});\n",
              "          if (!dataTable) return;\n",
              "\n",
              "          const docLinkHtml = 'Like what you see? Visit the ' +\n",
              "            '<a target=\"_blank\" href=https://colab.research.google.com/notebooks/data_table.ipynb>data table notebook</a>'\n",
              "            + ' to learn more about interactive tables.';\n",
              "          element.innerHTML = '';\n",
              "          dataTable['output_type'] = 'display_data';\n",
              "          await google.colab.output.renderOutput(dataTable, element);\n",
              "          const docLink = document.createElement('div');\n",
              "          docLink.innerHTML = docLinkHtml;\n",
              "          element.appendChild(docLink);\n",
              "        }\n",
              "      </script>\n",
              "    </div>\n",
              "  </div>\n",
              "  "
            ]
          },
          "metadata": {},
          "execution_count": 23
        }
      ],
      "source": [
        "test_attributes=pd.get_dummies(test_features,columns=test_cat_features)\n",
        "test_attributes.head()"
      ]
    },
    {
      "cell_type": "markdown",
      "metadata": {
        "_uuid": "7f012a1370edad16bd78c1dd24764f894ed29492",
        "id": "TF1by3Ce_R4n"
      },
      "source": [
        "fit the model"
      ]
    },
    {
      "cell_type": "code",
      "execution_count": 25,
      "metadata": {
        "_uuid": "b474870db93e8cd710398be47439a489660e6ded",
        "colab": {
          "base_uri": "https://localhost:8080/"
        },
        "id": "VnTBKzWc_R4n",
        "outputId": "925b645d-b583-48e5-938f-1906f0b038fc"
      },
      "outputs": [
        {
          "output_type": "execute_result",
          "data": {
            "text/plain": [
              "LinearRegression()"
            ]
          },
          "metadata": {},
          "execution_count": 25
        }
      ],
      "source": [
        "X_test=test_attributes\n",
        "y_test=y_test.cnt.values\n",
        "lr.fit(X_test,y_test)"
      ]
    },
    {
      "cell_type": "markdown",
      "metadata": {
        "_uuid": "18042fb1c083843b7bac734e2dda04608b019b47",
        "id": "0BfkynPy_R4n"
      },
      "source": [
        "predict the model"
      ]
    },
    {
      "cell_type": "code",
      "execution_count": 26,
      "metadata": {
        "_uuid": "ad25eea659d884e897be6929952fd036451c5315",
        "id": "SL5uchr3_R4o"
      },
      "outputs": [],
      "source": [
        "y_pred=lr.predict(X_test)"
      ]
    },
    {
      "cell_type": "markdown",
      "metadata": {
        "_uuid": "e417369c0faa0fcd3c105f3bd4b4f5b3c048cdfc",
        "id": "N4p_orp8_R4o"
      },
      "source": [
        "Model evaluation metrics"
      ]
    },
    {
      "cell_type": "markdown",
      "metadata": {
        "_uuid": "9a59149210382077a526d4546a6d6dc877d97050",
        "id": "2L1XvpAR_R4o"
      },
      "source": [
        "**Root mean squared error and mean absolute error**"
      ]
    },
    {
      "cell_type": "code",
      "execution_count": 27,
      "metadata": {
        "_uuid": "d943bac0364cc068e594d5c8d951500f57ce2013",
        "colab": {
          "base_uri": "https://localhost:8080/"
        },
        "id": "ir6c2eYT_R4o",
        "outputId": "962e59aa-ad67-46a8-9403-0edb1db1960a"
      },
      "outputs": [
        {
          "output_type": "stream",
          "name": "stdout",
          "text": [
            "857.3857267860335\n",
            "654.9547659174983\n"
          ]
        }
      ],
      "source": [
        "\n",
        "rmse=sqrt(metrics.mean_squared_error(y_test,y_pred))\n",
        "print(rmse)\n",
        "mae=metrics.mean_absolute_error(y_test,y_pred)\n",
        "print(mae)"
      ]
    },
    {
      "cell_type": "markdown",
      "metadata": {
        "_uuid": "f15d802780f23cdd3616d48e89f97a397379b1dc",
        "id": "obTISaGN_R4p"
      },
      "source": [
        "Residual plot"
      ]
    },
    {
      "cell_type": "code",
      "execution_count": 28,
      "metadata": {
        "_uuid": "1fb91229d8c3a57a6cc873c238573a9133e831f3",
        "colab": {
          "base_uri": "https://localhost:8080/",
          "height": 295
        },
        "id": "NzuKPr8m_R4p",
        "outputId": "8245fa29-26ab-4410-99a5-f6af11573578"
      },
      "outputs": [
        {
          "output_type": "display_data",
          "data": {
            "text/plain": [
              "<Figure size 432x288 with 1 Axes>"
            ],
            "image/png": "[encoded data removed]"
          },
          "metadata": {}
        }
      ],
      "source": [
        "fig, ax = plt.subplots()\n",
        "ax.scatter(y_test, y_test-y_pred)\n",
        "ax.axhline(lw=2,color='black')\n",
        "ax.set_xlabel('Observed')\n",
        "ax.set_ylabel('Residuals')\n",
        "ax.title.set_text(\"Residual Plot\")\n",
        "plt.show()"
      ]
    },
    {
      "cell_type": "markdown",
      "metadata": {
        "_uuid": "ea037e85b72ed672558471aeef347280b5a42bfa",
        "id": "7lFR52JK_R4p"
      },
      "source": [
        "From the linear regression anaysis, we can conclude that model not suitable for this problem due \n",
        "non linearirty of data."
      ]
    },
    {
      "cell_type": "markdown",
      "metadata": {
        "_uuid": "658ae4a31eaacdf69a481dde1cdd185beb5fc299",
        "id": "IaQLOHms_R4p"
      },
      "source": [
        "Decision tree regressor"
      ]
    },
    {
      "cell_type": "code",
      "execution_count": 29,
      "metadata": {
        "_uuid": "5b47fc68649fbb25c272f2137b018081afb8091a",
        "id": "PTdM-WGC_R4p"
      },
      "outputs": [],
      "source": [
        "X_train=training_attributes\n",
        "from sklearn.tree import DecisionTreeRegressor\n",
        "from sklearn.model_selection import RandomizedSearchCV\n",
        "dtr=DecisionTreeRegressor(min_samples_split=2,max_leaf_nodes=40)"
      ]
    },
    {
      "cell_type": "markdown",
      "metadata": {
        "_uuid": "625486a1f967fd3e927c495d5f2cfc78f855a2d4",
        "id": "8bB9P02C_R4q"
      },
      "source": [
        "fit the model"
      ]
    },
    {
      "cell_type": "code",
      "execution_count": 30,
      "metadata": {
        "_uuid": "140c263285e2fadd442866e80c5842a16f80ad2d",
        "colab": {
          "base_uri": "https://localhost:8080/"
        },
        "id": "MxIaPg01_R4q",
        "outputId": "28e4a3d8-6dab-444f-916d-0b296890c31b"
      },
      "outputs": [
        {
          "output_type": "execute_result",
          "data": {
            "text/plain": [
              "DecisionTreeRegressor(max_leaf_nodes=40)"
            ]
          },
          "metadata": {},
          "execution_count": 30
        }
      ],
      "source": [
        "dtr.fit(X_train,y_train)"
      ]
    },
    {
      "cell_type": "markdown",
      "metadata": {
        "_uuid": "6941d72dc7e6ac11d7e6197a87fcf42f3cdbbd97",
        "id": "REXwQ_KK_R4q"
      },
      "source": [
        "Decision tree regression accuracy score"
      ]
    },
    {
      "cell_type": "code",
      "execution_count": 31,
      "metadata": {
        "_uuid": "982a4874e86ab90a941211201daa00ac4d87ab1a",
        "colab": {
          "base_uri": "https://localhost:8080/"
        },
        "id": "A2mYdGZv_R4q",
        "outputId": "7aef87cf-b3de-4c6a-ef6b-f2499b7bf6ac"
      },
      "outputs": [
        {
          "output_type": "execute_result",
          "data": {
            "text/plain": [
              "0.9290247542667821"
            ]
          },
          "metadata": {},
          "execution_count": 31
        }
      ],
      "source": [
        "dtr.score(X_train,y_train)"
      ]
    },
    {
      "cell_type": "markdown",
      "metadata": {
        "_uuid": "3cf4af7cf73fae02de33c7b32e9168b5ed643c00",
        "id": "yaj1sil2_R4q"
      },
      "source": [
        "Plot the learned model"
      ]
    },
    {
      "cell_type": "code",
      "execution_count": 32,
      "metadata": {
        "_uuid": "e0b6b39f4f96d3b2e515996af2edf5dafab1e12c",
        "colab": {
          "base_uri": "https://localhost:8080/",
          "height": 1000
        },
        "id": "u8FEh_WL_R4q",
        "outputId": "c36f981f-ec14-44d9-8c4e-487be1cb3270"
      },
      "outputs": [
        {
          "output_type": "execute_result",
          "data": {
            "text/plain": [
              "<graphviz.files.Source at 0x7f96833a2110>"
            ],
            "image/svg+xml": "<?xml version=\"1.0\" encoding=\"UTF-8\" standalone=\"no\"?>\n<!DOCTYPE svg PUBLIC \"-//W3C//DTD SVG 1.1//EN\"\n \"http://www.w3.org/Graphics/SVG/1.1/DTD/svg11.dtd\">\n<!-- Generated by graphviz version 2.40.1 (20161225.0304)\n -->\n<!-- Title: Tree Pages: 1 -->\n<svg width=\"4073pt\" height=\"1101pt\"\n viewBox=\"0.00 0.00 4073.00 1101.00\" xmlns=\"http://www.w3.org/2000/svg\" xmlns:xlink=\"http://www.w3.org/1999/xlink\">\n<g id=\"graph0\" class=\"graph\" transform=\"scale(1 1) rotate(0) translate(4 1097)\">\n<title>Tree</title>\n<polygon fill=\"#ffffff\" stroke=\"transparent\" points=\"-4,4 -4,-1097 4069,-1097 4069,4 -4,4\"/>\n<!-- 0 -->\n<g id=\"node1\" class=\"node\">\n<title>0</title>\n<polygon fill=\"none\" stroke=\"#000000\" points=\"2694,-1093 2484,-1093 2484,-1025 2694,-1025 2694,-1093\"/>\n<text text-anchor=\"middle\" x=\"2589\" y=\"-1077.8\" font-family=\"Helvetica,sans-Serif\" font-size=\"14.00\" fill=\"#000000\">X[7] &lt;= 0.5</text>\n<text text-anchor=\"middle\" x=\"2589\" y=\"-1062.8\" font-family=\"Helvetica,sans-Serif\" font-size=\"14.00\" fill=\"#000000\">squared_error = 3846278.529</text>\n<text text-anchor=\"middle\" x=\"2589\" y=\"-1047.8\" font-family=\"Helvetica,sans-Serif\" font-size=\"14.00\" fill=\"#000000\">samples = 508</text>\n<text text-anchor=\"middle\" x=\"2589\" y=\"-1032.8\" font-family=\"Helvetica,sans-Serif\" font-size=\"14.00\" fill=\"#000000\">value = 4607.679</text>\n</g>\n<!-- 1 -->\n<g id=\"node2\" class=\"node\">\n<title>1</title>\n<polygon fill=\"none\" stroke=\"#000000\" points=\"2391,-989 2181,-989 2181,-921 2391,-921 2391,-989\"/>\n<text text-anchor=\"middle\" x=\"2286\" y=\"-973.8\" font-family=\"Helvetica,sans-Serif\" font-size=\"14.00\" fill=\"#000000\">X[1] &lt;= 2020.5</text>\n<text text-anchor=\"middle\" x=\"2286\" y=\"-958.8\" font-family=\"Helvetica,sans-Serif\" font-size=\"14.00\" fill=\"#000000\">squared_error = 2672477.042</text>\n<text text-anchor=\"middle\" x=\"2286\" y=\"-943.8\" font-family=\"Helvetica,sans-Serif\" font-size=\"14.00\" fill=\"#000000\">samples = 391</text>\n<text text-anchor=\"middle\" x=\"2286\" y=\"-928.8\" font-family=\"Helvetica,sans-Serif\" font-size=\"14.00\" fill=\"#000000\">value = 5236.425</text>\n</g>\n<!-- 0&#45;&gt;1 -->\n<g id=\"edge1\" class=\"edge\">\n<title>0&#45;&gt;1</title>\n<path fill=\"none\" stroke=\"#000000\" d=\"M2489.7865,-1024.9465C2459.3643,-1014.5046 2425.7359,-1002.9622 2394.7146,-992.3146\"/>\n<polygon fill=\"#000000\" stroke=\"#000000\" points=\"2395.7721,-988.9772 2385.1775,-989.0411 2393.4996,-995.598 2395.7721,-988.9772\"/>\n<text text-anchor=\"middle\" x=\"2396.1587\" y=\"-1007.8002\" font-family=\"Helvetica,sans-Serif\" font-size=\"14.00\" fill=\"#000000\">True</text>\n</g>\n<!-- 2 -->\n<g id=\"node65\" class=\"node\">\n<title>2</title>\n<polygon fill=\"none\" stroke=\"#000000\" points=\"2913,-989 2703,-989 2703,-921 2913,-921 2913,-989\"/>\n<text text-anchor=\"middle\" x=\"2808\" y=\"-973.8\" font-family=\"Helvetica,sans-Serif\" font-size=\"14.00\" fill=\"#000000\">X[1] &lt;= 2020.5</text>\n<text text-anchor=\"middle\" x=\"2808\" y=\"-958.8\" font-family=\"Helvetica,sans-Serif\" font-size=\"14.00\" fill=\"#000000\">squared_error = 2032860.199</text>\n<text text-anchor=\"middle\" x=\"2808\" y=\"-943.8\" font-family=\"Helvetica,sans-Serif\" font-size=\"14.00\" fill=\"#000000\">samples = 117</text>\n<text text-anchor=\"middle\" x=\"2808\" y=\"-928.8\" font-family=\"Helvetica,sans-Serif\" font-size=\"14.00\" fill=\"#000000\">value = 2506.487</text>\n</g>\n<!-- 0&#45;&gt;2 -->\n<g id=\"edge64\" class=\"edge\">\n<title>0&#45;&gt;2</title>\n<path fill=\"none\" stroke=\"#000000\" d=\"M2660.7088,-1024.9465C2681.8843,-1014.8906 2705.209,-1003.814 2726.9302,-993.4989\"/>\n<polygon fill=\"#000000\" stroke=\"#000000\" points=\"2728.5983,-996.5814 2736.1301,-989.13 2725.5955,-990.2582 2728.5983,-996.5814\"/>\n<text text-anchor=\"middle\" x=\"2727.7448\" y=\"-1008.9818\" font-family=\"Helvetica,sans-Serif\" font-size=\"14.00\" fill=\"#000000\">False</text>\n</g>\n<!-- 3 -->\n<g id=\"node3\" class=\"node\">\n<title>3</title>\n<polygon fill=\"none\" stroke=\"#000000\" points=\"1500,-885 1306,-885 1306,-817 1500,-817 1500,-885\"/>\n<text text-anchor=\"middle\" x=\"1403\" y=\"-869.8\" font-family=\"Helvetica,sans-Serif\" font-size=\"14.00\" fill=\"#000000\">X[5] &lt;= 21.959</text>\n<text text-anchor=\"middle\" x=\"1403\" y=\"-854.8\" font-family=\"Helvetica,sans-Serif\" font-size=\"14.00\" fill=\"#000000\">squared_error = 990970.03</text>\n<text text-anchor=\"middle\" x=\"1403\" y=\"-839.8\" font-family=\"Helvetica,sans-Serif\" font-size=\"14.00\" fill=\"#000000\">samples = 186</text>\n<text text-anchor=\"middle\" x=\"1403\" y=\"-824.8\" font-family=\"Helvetica,sans-Serif\" font-size=\"14.00\" fill=\"#000000\">value = 4073.134</text>\n</g>\n<!-- 1&#45;&gt;3 -->\n<g id=\"edge2\" class=\"edge\">\n<title>1&#45;&gt;3</title>\n<path fill=\"none\" stroke=\"#000000\" d=\"M2180.8041,-942.61C2011.545,-922.6746 1680.5291,-883.6875 1510.079,-863.6118\"/>\n<polygon fill=\"#000000\" stroke=\"#000000\" points=\"1510.4272,-860.1287 1500.0864,-862.4349 1509.6083,-867.0806 1510.4272,-860.1287\"/>\n</g>\n<!-- 4 -->\n<g id=\"node26\" class=\"node\">\n<title>4</title>\n<polygon fill=\"none\" stroke=\"#000000\" points=\"2391,-885 2181,-885 2181,-817 2391,-817 2391,-885\"/>\n<text text-anchor=\"middle\" x=\"2286\" y=\"-869.8\" font-family=\"Helvetica,sans-Serif\" font-size=\"14.00\" fill=\"#000000\">X[2] &lt;= 12.739</text>\n<text text-anchor=\"middle\" x=\"2286\" y=\"-854.8\" font-family=\"Helvetica,sans-Serif\" font-size=\"14.00\" fill=\"#000000\">squared_error = 1856292.443</text>\n<text text-anchor=\"middle\" x=\"2286\" y=\"-839.8\" font-family=\"Helvetica,sans-Serif\" font-size=\"14.00\" fill=\"#000000\">samples = 205</text>\n<text text-anchor=\"middle\" x=\"2286\" y=\"-824.8\" font-family=\"Helvetica,sans-Serif\" font-size=\"14.00\" fill=\"#000000\">value = 6291.898</text>\n</g>\n<!-- 1&#45;&gt;4 -->\n<g id=\"edge25\" class=\"edge\">\n<title>1&#45;&gt;4</title>\n<path fill=\"none\" stroke=\"#000000\" d=\"M2286,-920.9465C2286,-912.776 2286,-903.9318 2286,-895.3697\"/>\n<polygon fill=\"#000000\" stroke=\"#000000\" points=\"2289.5001,-895.13 2286,-885.13 2282.5001,-895.13 2289.5001,-895.13\"/>\n</g>\n<!-- 11 -->\n<g id=\"node4\" class=\"node\">\n<title>11</title>\n<polygon fill=\"none\" stroke=\"#000000\" points=\"960,-781 758,-781 758,-713 960,-713 960,-781\"/>\n<text text-anchor=\"middle\" x=\"859\" y=\"-765.8\" font-family=\"Helvetica,sans-Serif\" font-size=\"14.00\" fill=\"#000000\">X[3] &lt;= 13.482</text>\n<text text-anchor=\"middle\" x=\"859\" y=\"-750.8\" font-family=\"Helvetica,sans-Serif\" font-size=\"14.00\" fill=\"#000000\">squared_error = 704096.821</text>\n<text text-anchor=\"middle\" x=\"859\" y=\"-735.8\" font-family=\"Helvetica,sans-Serif\" font-size=\"14.00\" fill=\"#000000\">samples = 168</text>\n<text text-anchor=\"middle\" x=\"859\" y=\"-720.8\" font-family=\"Helvetica,sans-Serif\" font-size=\"14.00\" fill=\"#000000\">value = 4243.137</text>\n</g>\n<!-- 3&#45;&gt;11 -->\n<g id=\"edge3\" class=\"edge\">\n<title>3&#45;&gt;11</title>\n<path fill=\"none\" stroke=\"#000000\" d=\"M1305.7437,-832.4069C1211.4903,-814.3878 1068.6905,-787.0879 970.0278,-768.2259\"/>\n<polygon fill=\"#000000\" stroke=\"#000000\" points=\"970.5018,-764.7532 960.0225,-766.3131 969.1873,-771.6287 970.5018,-764.7532\"/>\n</g>\n<!-- 12 -->\n<g id=\"node21\" class=\"node\">\n<title>12</title>\n<polygon fill=\"none\" stroke=\"#000000\" points=\"1504,-781 1302,-781 1302,-713 1504,-713 1504,-781\"/>\n<text text-anchor=\"middle\" x=\"1403\" y=\"-765.8\" font-family=\"Helvetica,sans-Serif\" font-size=\"14.00\" fill=\"#000000\">X[4] &lt;= 0.794</text>\n<text text-anchor=\"middle\" x=\"1403\" y=\"-750.8\" font-family=\"Helvetica,sans-Serif\" font-size=\"14.00\" fill=\"#000000\">squared_error = 881127.025</text>\n<text text-anchor=\"middle\" x=\"1403\" y=\"-735.8\" font-family=\"Helvetica,sans-Serif\" font-size=\"14.00\" fill=\"#000000\">samples = 18</text>\n<text text-anchor=\"middle\" x=\"1403\" y=\"-720.8\" font-family=\"Helvetica,sans-Serif\" font-size=\"14.00\" fill=\"#000000\">value = 2486.444</text>\n</g>\n<!-- 3&#45;&gt;12 -->\n<g id=\"edge20\" class=\"edge\">\n<title>3&#45;&gt;12</title>\n<path fill=\"none\" stroke=\"#000000\" d=\"M1403,-816.9465C1403,-808.776 1403,-799.9318 1403,-791.3697\"/>\n<polygon fill=\"#000000\" stroke=\"#000000\" points=\"1406.5001,-791.13 1403,-781.13 1399.5001,-791.13 1406.5001,-791.13\"/>\n</g>\n<!-- 15 -->\n<g id=\"node5\" class=\"node\">\n<title>15</title>\n<polygon fill=\"none\" stroke=\"#000000\" points=\"418,-677 224,-677 224,-609 418,-609 418,-677\"/>\n<text text-anchor=\"middle\" x=\"321\" y=\"-661.8\" font-family=\"Helvetica,sans-Serif\" font-size=\"14.00\" fill=\"#000000\">X[5] &lt;= 9.167</text>\n<text text-anchor=\"middle\" x=\"321\" y=\"-646.8\" font-family=\"Helvetica,sans-Serif\" font-size=\"14.00\" fill=\"#000000\">squared_error = 447247.79</text>\n<text text-anchor=\"middle\" x=\"321\" y=\"-631.8\" font-family=\"Helvetica,sans-Serif\" font-size=\"14.00\" fill=\"#000000\">samples = 40</text>\n<text text-anchor=\"middle\" x=\"321\" y=\"-616.8\" font-family=\"Helvetica,sans-Serif\" font-size=\"14.00\" fill=\"#000000\">value = 3419.1</text>\n</g>\n<!-- 11&#45;&gt;15 -->\n<g id=\"edge4\" class=\"edge\">\n<title>11&#45;&gt;15</title>\n<path fill=\"none\" stroke=\"#000000\" d=\"M757.8063,-727.4384C663.7321,-709.253 524.0686,-682.2549 428.1332,-663.7098\"/>\n<polygon fill=\"#000000\" stroke=\"#000000\" points=\"428.5987,-660.235 418.1162,-661.7734 427.2701,-667.1078 428.5987,-660.235\"/>\n</g>\n<!-- 16 -->\n<g id=\"node10\" class=\"node\">\n<title>16</title>\n<polygon fill=\"none\" stroke=\"#000000\" points=\"960,-677 758,-677 758,-609 960,-609 960,-677\"/>\n<text text-anchor=\"middle\" x=\"859\" y=\"-661.8\" font-family=\"Helvetica,sans-Serif\" font-size=\"14.00\" fill=\"#000000\">X[4] &lt;= 0.774</text>\n<text text-anchor=\"middle\" x=\"859\" y=\"-646.8\" font-family=\"Helvetica,sans-Serif\" font-size=\"14.00\" fill=\"#000000\">squared_error = 505850.947</text>\n<text text-anchor=\"middle\" x=\"859\" y=\"-631.8\" font-family=\"Helvetica,sans-Serif\" font-size=\"14.00\" fill=\"#000000\">samples = 128</text>\n<text text-anchor=\"middle\" x=\"859\" y=\"-616.8\" font-family=\"Helvetica,sans-Serif\" font-size=\"14.00\" fill=\"#000000\">value = 4500.648</text>\n</g>\n<!-- 11&#45;&gt;16 -->\n<g id=\"edge9\" class=\"edge\">\n<title>11&#45;&gt;16</title>\n<path fill=\"none\" stroke=\"#000000\" d=\"M859,-712.9465C859,-704.776 859,-695.9318 859,-687.3697\"/>\n<polygon fill=\"#000000\" stroke=\"#000000\" points=\"862.5001,-687.13 859,-677.13 855.5001,-687.13 862.5001,-687.13\"/>\n</g>\n<!-- 67 -->\n<g id=\"node6\" class=\"node\">\n<title>67</title>\n<polygon fill=\"none\" stroke=\"#000000\" points=\"202,-565.5 0,-565.5 0,-512.5 202,-512.5 202,-565.5\"/>\n<text text-anchor=\"middle\" x=\"101\" y=\"-550.3\" font-family=\"Helvetica,sans-Serif\" font-size=\"14.00\" fill=\"#000000\">squared_error = 192129.675</text>\n<text text-anchor=\"middle\" x=\"101\" y=\"-535.3\" font-family=\"Helvetica,sans-Serif\" font-size=\"14.00\" fill=\"#000000\">samples = 17</text>\n<text text-anchor=\"middle\" x=\"101\" y=\"-520.3\" font-family=\"Helvetica,sans-Serif\" font-size=\"14.00\" fill=\"#000000\">value = 3744.824</text>\n</g>\n<!-- 15&#45;&gt;67 -->\n<g id=\"edge5\" class=\"edge\">\n<title>15&#45;&gt;67</title>\n<path fill=\"none\" stroke=\"#000000\" d=\"M248.9638,-608.9465C222.4009,-596.3895 192.4716,-582.2411 166.5161,-569.9712\"/>\n<polygon fill=\"#000000\" stroke=\"#000000\" points=\"167.6835,-566.6518 157.1469,-565.5422 164.6918,-572.9803 167.6835,-566.6518\"/>\n</g>\n<!-- 68 -->\n<g id=\"node7\" class=\"node\">\n<title>68</title>\n<polygon fill=\"none\" stroke=\"#000000\" points=\"422,-573 220,-573 220,-505 422,-505 422,-573\"/>\n<text text-anchor=\"middle\" x=\"321\" y=\"-557.8\" font-family=\"Helvetica,sans-Serif\" font-size=\"14.00\" fill=\"#000000\">X[5] &lt;= 11.834</text>\n<text text-anchor=\"middle\" x=\"321\" y=\"-542.8\" font-family=\"Helvetica,sans-Serif\" font-size=\"14.00\" fill=\"#000000\">squared_error = 499433.096</text>\n<text text-anchor=\"middle\" x=\"321\" y=\"-527.8\" font-family=\"Helvetica,sans-Serif\" font-size=\"14.00\" fill=\"#000000\">samples = 23</text>\n<text text-anchor=\"middle\" x=\"321\" y=\"-512.8\" font-family=\"Helvetica,sans-Serif\" font-size=\"14.00\" fill=\"#000000\">value = 3178.348</text>\n</g>\n<!-- 15&#45;&gt;68 -->\n<g id=\"edge6\" class=\"edge\">\n<title>15&#45;&gt;68</title>\n<path fill=\"none\" stroke=\"#000000\" d=\"M321,-608.9465C321,-600.776 321,-591.9318 321,-583.3697\"/>\n<polygon fill=\"#000000\" stroke=\"#000000\" points=\"324.5001,-583.13 321,-573.13 317.5001,-583.13 324.5001,-583.13\"/>\n</g>\n<!-- 69 -->\n<g id=\"node8\" class=\"node\">\n<title>69</title>\n<polygon fill=\"none\" stroke=\"#000000\" points=\"202,-461.5 0,-461.5 0,-408.5 202,-408.5 202,-461.5\"/>\n<text text-anchor=\"middle\" x=\"101\" y=\"-446.3\" font-family=\"Helvetica,sans-Serif\" font-size=\"14.00\" fill=\"#000000\">squared_error = 290587.556</text>\n<text text-anchor=\"middle\" x=\"101\" y=\"-431.3\" font-family=\"Helvetica,sans-Serif\" font-size=\"14.00\" fill=\"#000000\">samples = 3</text>\n<text text-anchor=\"middle\" x=\"101\" y=\"-416.3\" font-family=\"Helvetica,sans-Serif\" font-size=\"14.00\" fill=\"#000000\">value = 2025.667</text>\n</g>\n<!-- 68&#45;&gt;69 -->\n<g id=\"edge7\" class=\"edge\">\n<title>68&#45;&gt;69</title>\n<path fill=\"none\" stroke=\"#000000\" d=\"M248.9638,-504.9465C222.4009,-492.3895 192.4716,-478.2411 166.5161,-465.9712\"/>\n<polygon fill=\"#000000\" stroke=\"#000000\" points=\"167.6835,-462.6518 157.1469,-461.5422 164.6918,-468.9803 167.6835,-462.6518\"/>\n</g>\n<!-- 70 -->\n<g id=\"node9\" class=\"node\">\n<title>70</title>\n<polygon fill=\"none\" stroke=\"#000000\" points=\"422,-461.5 220,-461.5 220,-408.5 422,-408.5 422,-461.5\"/>\n<text text-anchor=\"middle\" x=\"321\" y=\"-446.3\" font-family=\"Helvetica,sans-Serif\" font-size=\"14.00\" fill=\"#000000\">squared_error = 301563.688</text>\n<text text-anchor=\"middle\" x=\"321\" y=\"-431.3\" font-family=\"Helvetica,sans-Serif\" font-size=\"14.00\" fill=\"#000000\">samples = 20</text>\n<text text-anchor=\"middle\" x=\"321\" y=\"-416.3\" font-family=\"Helvetica,sans-Serif\" font-size=\"14.00\" fill=\"#000000\">value = 3351.25</text>\n</g>\n<!-- 68&#45;&gt;70 -->\n<g id=\"edge8\" class=\"edge\">\n<title>68&#45;&gt;70</title>\n<path fill=\"none\" stroke=\"#000000\" d=\"M321,-504.9465C321,-494.2621 321,-482.4254 321,-471.5742\"/>\n<polygon fill=\"#000000\" stroke=\"#000000\" points=\"324.5001,-471.5421 321,-461.5422 317.5001,-471.5422 324.5001,-471.5421\"/>\n</g>\n<!-- 27 -->\n<g id=\"node11\" class=\"node\">\n<title>27</title>\n<polygon fill=\"none\" stroke=\"#000000\" points=\"850,-573 648,-573 648,-505 850,-505 850,-573\"/>\n<text text-anchor=\"middle\" x=\"749\" y=\"-557.8\" font-family=\"Helvetica,sans-Serif\" font-size=\"14.00\" fill=\"#000000\">X[0] &lt;= 4.5</text>\n<text text-anchor=\"middle\" x=\"749\" y=\"-542.8\" font-family=\"Helvetica,sans-Serif\" font-size=\"14.00\" fill=\"#000000\">squared_error = 388556.864</text>\n<text text-anchor=\"middle\" x=\"749\" y=\"-527.8\" font-family=\"Helvetica,sans-Serif\" font-size=\"14.00\" fill=\"#000000\">samples = 111</text>\n<text text-anchor=\"middle\" x=\"749\" y=\"-512.8\" font-family=\"Helvetica,sans-Serif\" font-size=\"14.00\" fill=\"#000000\">value = 4620.631</text>\n</g>\n<!-- 16&#45;&gt;27 -->\n<g id=\"edge10\" class=\"edge\">\n<title>16&#45;&gt;27</title>\n<path fill=\"none\" stroke=\"#000000\" d=\"M822.9819,-608.9465C813.2954,-599.7884 802.7136,-589.7838 792.6603,-580.2788\"/>\n<polygon fill=\"#000000\" stroke=\"#000000\" points=\"794.7701,-577.4569 785.099,-573.13 789.961,-582.5434 794.7701,-577.4569\"/>\n</g>\n<!-- 28 -->\n<g id=\"node18\" class=\"node\">\n<title>28</title>\n<polygon fill=\"none\" stroke=\"#000000\" points=\"1070,-573 868,-573 868,-505 1070,-505 1070,-573\"/>\n<text text-anchor=\"middle\" x=\"969\" y=\"-557.8\" font-family=\"Helvetica,sans-Serif\" font-size=\"14.00\" fill=\"#000000\">X[3] &lt;= 17.207</text>\n<text text-anchor=\"middle\" x=\"969\" y=\"-542.8\" font-family=\"Helvetica,sans-Serif\" font-size=\"14.00\" fill=\"#000000\">squared_error = 563980.533</text>\n<text text-anchor=\"middle\" x=\"969\" y=\"-527.8\" font-family=\"Helvetica,sans-Serif\" font-size=\"14.00\" fill=\"#000000\">samples = 17</text>\n<text text-anchor=\"middle\" x=\"969\" y=\"-512.8\" font-family=\"Helvetica,sans-Serif\" font-size=\"14.00\" fill=\"#000000\">value = 3717.235</text>\n</g>\n<!-- 16&#45;&gt;28 -->\n<g id=\"edge17\" class=\"edge\">\n<title>16&#45;&gt;28</title>\n<path fill=\"none\" stroke=\"#000000\" d=\"M895.0181,-608.9465C904.7046,-599.7884 915.2864,-589.7838 925.3397,-580.2788\"/>\n<polygon fill=\"#000000\" stroke=\"#000000\" points=\"928.039,-582.5434 932.901,-573.13 923.2299,-577.4569 928.039,-582.5434\"/>\n</g>\n<!-- 33 -->\n<g id=\"node12\" class=\"node\">\n<title>33</title>\n<polygon fill=\"none\" stroke=\"#000000\" points=\"642,-461.5 440,-461.5 440,-408.5 642,-408.5 642,-461.5\"/>\n<text text-anchor=\"middle\" x=\"541\" y=\"-446.3\" font-family=\"Helvetica,sans-Serif\" font-size=\"14.00\" fill=\"#000000\">squared_error = 578195.859</text>\n<text text-anchor=\"middle\" x=\"541\" y=\"-431.3\" font-family=\"Helvetica,sans-Serif\" font-size=\"14.00\" fill=\"#000000\">samples = 8</text>\n<text text-anchor=\"middle\" x=\"541\" y=\"-416.3\" font-family=\"Helvetica,sans-Serif\" font-size=\"14.00\" fill=\"#000000\">value = 3541.875</text>\n</g>\n<!-- 27&#45;&gt;33 -->\n<g id=\"edge11\" class=\"edge\">\n<title>27&#45;&gt;33</title>\n<path fill=\"none\" stroke=\"#000000\" d=\"M680.893,-504.9465C655.8892,-492.4446 627.7304,-478.3652 603.2656,-466.1328\"/>\n<polygon fill=\"#000000\" stroke=\"#000000\" points=\"604.5939,-462.8839 594.0843,-461.5422 601.4633,-469.1449 604.5939,-462.8839\"/>\n</g>\n<!-- 34 -->\n<g id=\"node13\" class=\"node\">\n<title>34</title>\n<polygon fill=\"none\" stroke=\"#000000\" points=\"862,-469 660,-469 660,-401 862,-401 862,-469\"/>\n<text text-anchor=\"middle\" x=\"761\" y=\"-453.8\" font-family=\"Helvetica,sans-Serif\" font-size=\"14.00\" fill=\"#000000\">X[3] &lt;= 25.352</text>\n<text text-anchor=\"middle\" x=\"761\" y=\"-438.8\" font-family=\"Helvetica,sans-Serif\" font-size=\"14.00\" fill=\"#000000\">squared_error = 276421.855</text>\n<text text-anchor=\"middle\" x=\"761\" y=\"-423.8\" font-family=\"Helvetica,sans-Serif\" font-size=\"14.00\" fill=\"#000000\">samples = 103</text>\n<text text-anchor=\"middle\" x=\"761\" y=\"-408.8\" font-family=\"Helvetica,sans-Serif\" font-size=\"14.00\" fill=\"#000000\">value = 4704.417</text>\n</g>\n<!-- 27&#45;&gt;34 -->\n<g id=\"edge12\" class=\"edge\">\n<title>27&#45;&gt;34</title>\n<path fill=\"none\" stroke=\"#000000\" d=\"M752.9292,-504.9465C753.8824,-496.6863 754.9149,-487.7374 755.913,-479.0875\"/>\n<polygon fill=\"#000000\" stroke=\"#000000\" points=\"759.3925,-479.4653 757.0619,-469.13 752.4387,-478.6629 759.3925,-479.4653\"/>\n</g>\n<!-- 43 -->\n<g id=\"node14\" class=\"node\">\n<title>43</title>\n<polygon fill=\"none\" stroke=\"#000000\" points=\"752,-365 550,-365 550,-297 752,-297 752,-365\"/>\n<text text-anchor=\"middle\" x=\"651\" y=\"-349.8\" font-family=\"Helvetica,sans-Serif\" font-size=\"14.00\" fill=\"#000000\">X[4] &lt;= 0.686</text>\n<text text-anchor=\"middle\" x=\"651\" y=\"-334.8\" font-family=\"Helvetica,sans-Serif\" font-size=\"14.00\" fill=\"#000000\">squared_error = 210006.341</text>\n<text text-anchor=\"middle\" x=\"651\" y=\"-319.8\" font-family=\"Helvetica,sans-Serif\" font-size=\"14.00\" fill=\"#000000\">samples = 91</text>\n<text text-anchor=\"middle\" x=\"651\" y=\"-304.8\" font-family=\"Helvetica,sans-Serif\" font-size=\"14.00\" fill=\"#000000\">value = 4802.363</text>\n</g>\n<!-- 34&#45;&gt;43 -->\n<g id=\"edge13\" class=\"edge\">\n<title>34&#45;&gt;43</title>\n<path fill=\"none\" stroke=\"#000000\" d=\"M724.9819,-400.9465C715.2954,-391.7884 704.7136,-381.7838 694.6603,-372.2788\"/>\n<polygon fill=\"#000000\" stroke=\"#000000\" points=\"696.7701,-369.4569 687.099,-365.13 691.961,-374.5434 696.7701,-369.4569\"/>\n</g>\n<!-- 44 -->\n<g id=\"node17\" class=\"node\">\n<title>44</title>\n<polygon fill=\"none\" stroke=\"#000000\" points=\"972,-357.5 770,-357.5 770,-304.5 972,-304.5 972,-357.5\"/>\n<text text-anchor=\"middle\" x=\"871\" y=\"-342.3\" font-family=\"Helvetica,sans-Serif\" font-size=\"14.00\" fill=\"#000000\">squared_error = 155645.222</text>\n<text text-anchor=\"middle\" x=\"871\" y=\"-327.3\" font-family=\"Helvetica,sans-Serif\" font-size=\"14.00\" fill=\"#000000\">samples = 12</text>\n<text text-anchor=\"middle\" x=\"871\" y=\"-312.3\" font-family=\"Helvetica,sans-Serif\" font-size=\"14.00\" fill=\"#000000\">value = 3961.667</text>\n</g>\n<!-- 34&#45;&gt;44 -->\n<g id=\"edge16\" class=\"edge\">\n<title>34&#45;&gt;44</title>\n<path fill=\"none\" stroke=\"#000000\" d=\"M797.0181,-400.9465C809.3675,-389.2707 823.1722,-376.219 835.4817,-364.5809\"/>\n<polygon fill=\"#000000\" stroke=\"#000000\" points=\"838.0646,-366.9556 842.9266,-357.5422 833.2555,-361.869 838.0646,-366.9556\"/>\n</g>\n<!-- 75 -->\n<g id=\"node15\" class=\"node\">\n<title>75</title>\n<polygon fill=\"none\" stroke=\"#000000\" points=\"642,-253.5 440,-253.5 440,-200.5 642,-200.5 642,-253.5\"/>\n<text text-anchor=\"middle\" x=\"541\" y=\"-238.3\" font-family=\"Helvetica,sans-Serif\" font-size=\"14.00\" fill=\"#000000\">squared_error = 169722.793</text>\n<text text-anchor=\"middle\" x=\"541\" y=\"-223.3\" font-family=\"Helvetica,sans-Serif\" font-size=\"14.00\" fill=\"#000000\">samples = 54</text>\n<text text-anchor=\"middle\" x=\"541\" y=\"-208.3\" font-family=\"Helvetica,sans-Serif\" font-size=\"14.00\" fill=\"#000000\">value = 4951.278</text>\n</g>\n<!-- 43&#45;&gt;75 -->\n<g id=\"edge14\" class=\"edge\">\n<title>43&#45;&gt;75</title>\n<path fill=\"none\" stroke=\"#000000\" d=\"M614.9819,-296.9465C602.6325,-285.2707 588.8278,-272.219 576.5183,-260.5809\"/>\n<polygon fill=\"#000000\" stroke=\"#000000\" points=\"578.7445,-257.869 569.0734,-253.5422 573.9354,-262.9556 578.7445,-257.869\"/>\n</g>\n<!-- 76 -->\n<g id=\"node16\" class=\"node\">\n<title>76</title>\n<polygon fill=\"none\" stroke=\"#000000\" points=\"862,-253.5 660,-253.5 660,-200.5 862,-200.5 862,-253.5\"/>\n<text text-anchor=\"middle\" x=\"761\" y=\"-238.3\" font-family=\"Helvetica,sans-Serif\" font-size=\"14.00\" fill=\"#000000\">squared_error = 189199.215</text>\n<text text-anchor=\"middle\" x=\"761\" y=\"-223.3\" font-family=\"Helvetica,sans-Serif\" font-size=\"14.00\" fill=\"#000000\">samples = 37</text>\n<text text-anchor=\"middle\" x=\"761\" y=\"-208.3\" font-family=\"Helvetica,sans-Serif\" font-size=\"14.00\" fill=\"#000000\">value = 4585.027</text>\n</g>\n<!-- 43&#45;&gt;76 -->\n<g id=\"edge15\" class=\"edge\">\n<title>43&#45;&gt;76</title>\n<path fill=\"none\" stroke=\"#000000\" d=\"M687.0181,-296.9465C699.3675,-285.2707 713.1722,-272.219 725.4817,-260.5809\"/>\n<polygon fill=\"#000000\" stroke=\"#000000\" points=\"728.0646,-262.9556 732.9266,-253.5422 723.2555,-257.869 728.0646,-262.9556\"/>\n</g>\n<!-- 47 -->\n<g id=\"node19\" class=\"node\">\n<title>47</title>\n<polygon fill=\"none\" stroke=\"#000000\" points=\"1057.5,-461.5 880.5,-461.5 880.5,-408.5 1057.5,-408.5 1057.5,-461.5\"/>\n<text text-anchor=\"middle\" x=\"969\" y=\"-446.3\" font-family=\"Helvetica,sans-Serif\" font-size=\"14.00\" fill=\"#000000\">squared_error = 149.556</text>\n<text text-anchor=\"middle\" x=\"969\" y=\"-431.3\" font-family=\"Helvetica,sans-Serif\" font-size=\"14.00\" fill=\"#000000\">samples = 3</text>\n<text text-anchor=\"middle\" x=\"969\" y=\"-416.3\" font-family=\"Helvetica,sans-Serif\" font-size=\"14.00\" fill=\"#000000\">value = 2411.667</text>\n</g>\n<!-- 28&#45;&gt;47 -->\n<g id=\"edge18\" class=\"edge\">\n<title>28&#45;&gt;47</title>\n<path fill=\"none\" stroke=\"#000000\" d=\"M969,-504.9465C969,-494.2621 969,-482.4254 969,-471.5742\"/>\n<polygon fill=\"#000000\" stroke=\"#000000\" points=\"972.5001,-471.5421 969,-461.5422 965.5001,-471.5422 972.5001,-471.5421\"/>\n</g>\n<!-- 48 -->\n<g id=\"node20\" class=\"node\">\n<title>48</title>\n<polygon fill=\"none\" stroke=\"#000000\" points=\"1278,-461.5 1076,-461.5 1076,-408.5 1278,-408.5 1278,-461.5\"/>\n<text text-anchor=\"middle\" x=\"1177\" y=\"-446.3\" font-family=\"Helvetica,sans-Serif\" font-size=\"14.00\" fill=\"#000000\">squared_error = 241281.143</text>\n<text text-anchor=\"middle\" x=\"1177\" y=\"-431.3\" font-family=\"Helvetica,sans-Serif\" font-size=\"14.00\" fill=\"#000000\">samples = 14</text>\n<text text-anchor=\"middle\" x=\"1177\" y=\"-416.3\" font-family=\"Helvetica,sans-Serif\" font-size=\"14.00\" fill=\"#000000\">value = 3997.0</text>\n</g>\n<!-- 28&#45;&gt;48 -->\n<g id=\"edge19\" class=\"edge\">\n<title>28&#45;&gt;48</title>\n<path fill=\"none\" stroke=\"#000000\" d=\"M1037.107,-504.9465C1062.1108,-492.4446 1090.2696,-478.3652 1114.7344,-466.1328\"/>\n<polygon fill=\"#000000\" stroke=\"#000000\" points=\"1116.5367,-469.1449 1123.9157,-461.5422 1113.4061,-462.8839 1116.5367,-469.1449\"/>\n</g>\n<!-- 59 -->\n<g id=\"node22\" class=\"node\">\n<title>59</title>\n<polygon fill=\"none\" stroke=\"#000000\" points=\"1398,-677 1196,-677 1196,-609 1398,-609 1398,-677\"/>\n<text text-anchor=\"middle\" x=\"1297\" y=\"-661.8\" font-family=\"Helvetica,sans-Serif\" font-size=\"14.00\" fill=\"#000000\">X[3] &lt;= 298782.179</text>\n<text text-anchor=\"middle\" x=\"1297\" y=\"-646.8\" font-family=\"Helvetica,sans-Serif\" font-size=\"14.00\" fill=\"#000000\">squared_error = 722141.456</text>\n<text text-anchor=\"middle\" x=\"1297\" y=\"-631.8\" font-family=\"Helvetica,sans-Serif\" font-size=\"14.00\" fill=\"#000000\">samples = 13</text>\n<text text-anchor=\"middle\" x=\"1297\" y=\"-616.8\" font-family=\"Helvetica,sans-Serif\" font-size=\"14.00\" fill=\"#000000\">value = 2768.923</text>\n</g>\n<!-- 12&#45;&gt;59 -->\n<g id=\"edge21\" class=\"edge\">\n<title>12&#45;&gt;59</title>\n<path fill=\"none\" stroke=\"#000000\" d=\"M1368.2916,-712.9465C1358.9574,-703.7884 1348.7604,-693.7838 1339.0727,-684.2788\"/>\n<polygon fill=\"#000000\" stroke=\"#000000\" points=\"1341.3757,-681.6351 1331.7863,-677.13 1336.4733,-686.6318 1341.3757,-681.6351\"/>\n</g>\n<!-- 60 -->\n<g id=\"node25\" class=\"node\">\n<title>60</title>\n<polygon fill=\"none\" stroke=\"#000000\" points=\"1601.5,-669.5 1416.5,-669.5 1416.5,-616.5 1601.5,-616.5 1601.5,-669.5\"/>\n<text text-anchor=\"middle\" x=\"1509\" y=\"-654.3\" font-family=\"Helvetica,sans-Serif\" font-size=\"14.00\" fill=\"#000000\">squared_error = 547616.0</text>\n<text text-anchor=\"middle\" x=\"1509\" y=\"-639.3\" font-family=\"Helvetica,sans-Serif\" font-size=\"14.00\" fill=\"#000000\">samples = 5</text>\n<text text-anchor=\"middle\" x=\"1509\" y=\"-624.3\" font-family=\"Helvetica,sans-Serif\" font-size=\"14.00\" fill=\"#000000\">value = 1752.0</text>\n</g>\n<!-- 12&#45;&gt;60 -->\n<g id=\"edge24\" class=\"edge\">\n<title>12&#45;&gt;60</title>\n<path fill=\"none\" stroke=\"#000000\" d=\"M1437.7084,-712.9465C1449.6087,-701.2707 1462.9114,-688.219 1474.7733,-676.5809\"/>\n<polygon fill=\"#000000\" stroke=\"#000000\" points=\"1477.2605,-679.0439 1481.9474,-669.5422 1472.3581,-674.0473 1477.2605,-679.0439\"/>\n</g>\n<!-- 61 -->\n<g id=\"node23\" class=\"node\">\n<title>61</title>\n<polygon fill=\"none\" stroke=\"#000000\" points=\"1290,-565.5 1088,-565.5 1088,-512.5 1290,-512.5 1290,-565.5\"/>\n<text text-anchor=\"middle\" x=\"1189\" y=\"-550.3\" font-family=\"Helvetica,sans-Serif\" font-size=\"14.00\" fill=\"#000000\">squared_error = 645611.556</text>\n<text text-anchor=\"middle\" x=\"1189\" y=\"-535.3\" font-family=\"Helvetica,sans-Serif\" font-size=\"14.00\" fill=\"#000000\">samples = 3</text>\n<text text-anchor=\"middle\" x=\"1189\" y=\"-520.3\" font-family=\"Helvetica,sans-Serif\" font-size=\"14.00\" fill=\"#000000\">value = 3759.667</text>\n</g>\n<!-- 59&#45;&gt;61 -->\n<g id=\"edge22\" class=\"edge\">\n<title>59&#45;&gt;61</title>\n<path fill=\"none\" stroke=\"#000000\" d=\"M1261.6368,-608.9465C1249.5119,-597.2707 1235.9582,-584.219 1223.8725,-572.5809\"/>\n<polygon fill=\"#000000\" stroke=\"#000000\" points=\"1226.194,-569.9575 1216.563,-565.5422 1221.3385,-574.9997 1226.194,-569.9575\"/>\n</g>\n<!-- 62 -->\n<g id=\"node24\" class=\"node\">\n<title>62</title>\n<polygon fill=\"none\" stroke=\"#000000\" points=\"1502,-565.5 1308,-565.5 1308,-512.5 1502,-512.5 1502,-565.5\"/>\n<text text-anchor=\"middle\" x=\"1405\" y=\"-550.3\" font-family=\"Helvetica,sans-Serif\" font-size=\"14.00\" fill=\"#000000\">squared_error = 362287.01</text>\n<text text-anchor=\"middle\" x=\"1405\" y=\"-535.3\" font-family=\"Helvetica,sans-Serif\" font-size=\"14.00\" fill=\"#000000\">samples = 10</text>\n<text text-anchor=\"middle\" x=\"1405\" y=\"-520.3\" font-family=\"Helvetica,sans-Serif\" font-size=\"14.00\" fill=\"#000000\">value = 2471.7</text>\n</g>\n<!-- 59&#45;&gt;62 -->\n<g id=\"edge23\" class=\"edge\">\n<title>59&#45;&gt;62</title>\n<path fill=\"none\" stroke=\"#000000\" d=\"M1332.3632,-608.9465C1344.4881,-597.2707 1358.0418,-584.219 1370.1275,-572.5809\"/>\n<polygon fill=\"#000000\" stroke=\"#000000\" points=\"1372.6615,-574.9997 1377.437,-565.5422 1367.806,-569.9575 1372.6615,-574.9997\"/>\n</g>\n<!-- 5 -->\n<g id=\"node27\" class=\"node\">\n<title>5</title>\n<polygon fill=\"none\" stroke=\"#000000\" points=\"2295,-781 2085,-781 2085,-713 2295,-713 2295,-781\"/>\n<text text-anchor=\"middle\" x=\"2190\" y=\"-765.8\" font-family=\"Helvetica,sans-Serif\" font-size=\"14.00\" fill=\"#000000\">X[5] &lt;= 22.397</text>\n<text text-anchor=\"middle\" x=\"2190\" y=\"-750.8\" font-family=\"Helvetica,sans-Serif\" font-size=\"14.00\" fill=\"#000000\">squared_error = 2201157.695</text>\n<text text-anchor=\"middle\" x=\"2190\" y=\"-735.8\" font-family=\"Helvetica,sans-Serif\" font-size=\"14.00\" fill=\"#000000\">samples = 53</text>\n<text text-anchor=\"middle\" x=\"2190\" y=\"-720.8\" font-family=\"Helvetica,sans-Serif\" font-size=\"14.00\" fill=\"#000000\">value = 5057.245</text>\n</g>\n<!-- 4&#45;&gt;5 -->\n<g id=\"edge26\" class=\"edge\">\n<title>4&#45;&gt;5</title>\n<path fill=\"none\" stroke=\"#000000\" d=\"M2254.566,-816.9465C2246.1953,-807.8782 2237.0584,-797.9799 2228.3617,-788.5585\"/>\n<polygon fill=\"#000000\" stroke=\"#000000\" points=\"2230.8593,-786.1041 2221.5046,-781.13 2225.7156,-790.852 2230.8593,-786.1041\"/>\n</g>\n<!-- 6 -->\n<g id=\"node42\" class=\"node\">\n<title>6</title>\n<polygon fill=\"none\" stroke=\"#000000\" points=\"2580,-781 2370,-781 2370,-713 2580,-713 2580,-781\"/>\n<text text-anchor=\"middle\" x=\"2475\" y=\"-765.8\" font-family=\"Helvetica,sans-Serif\" font-size=\"14.00\" fill=\"#000000\">X[4] &lt;= 0.742</text>\n<text text-anchor=\"middle\" x=\"2475\" y=\"-750.8\" font-family=\"Helvetica,sans-Serif\" font-size=\"14.00\" fill=\"#000000\">squared_error = 1019187.451</text>\n<text text-anchor=\"middle\" x=\"2475\" y=\"-735.8\" font-family=\"Helvetica,sans-Serif\" font-size=\"14.00\" fill=\"#000000\">samples = 152</text>\n<text text-anchor=\"middle\" x=\"2475\" y=\"-720.8\" font-family=\"Helvetica,sans-Serif\" font-size=\"14.00\" fill=\"#000000\">value = 6722.401</text>\n</g>\n<!-- 4&#45;&gt;6 -->\n<g id=\"edge41\" class=\"edge\">\n<title>4&#45;&gt;6</title>\n<path fill=\"none\" stroke=\"#000000\" d=\"M2347.8857,-816.9465C2365.8341,-807.0701 2385.5716,-796.2093 2404.0301,-786.0522\"/>\n<polygon fill=\"#000000\" stroke=\"#000000\" points=\"2405.9015,-789.0174 2412.9753,-781.13 2402.5267,-782.8846 2405.9015,-789.0174\"/>\n</g>\n<!-- 13 -->\n<g id=\"node28\" class=\"node\">\n<title>13</title>\n<polygon fill=\"none\" stroke=\"#000000\" points=\"2032,-677 1822,-677 1822,-609 2032,-609 2032,-677\"/>\n<text text-anchor=\"middle\" x=\"1927\" y=\"-661.8\" font-family=\"Helvetica,sans-Serif\" font-size=\"14.00\" fill=\"#000000\">X[3] &lt;= 10.351</text>\n<text text-anchor=\"middle\" x=\"1927\" y=\"-646.8\" font-family=\"Helvetica,sans-Serif\" font-size=\"14.00\" fill=\"#000000\">squared_error = 1290571.854</text>\n<text text-anchor=\"middle\" x=\"1927\" y=\"-631.8\" font-family=\"Helvetica,sans-Serif\" font-size=\"14.00\" fill=\"#000000\">samples = 50</text>\n<text text-anchor=\"middle\" x=\"1927\" y=\"-616.8\" font-family=\"Helvetica,sans-Serif\" font-size=\"14.00\" fill=\"#000000\">value = 5294.16</text>\n</g>\n<!-- 5&#45;&gt;13 -->\n<g id=\"edge27\" class=\"edge\">\n<title>5&#45;&gt;13</title>\n<path fill=\"none\" stroke=\"#000000\" d=\"M2103.884,-712.9465C2077.8864,-702.6661 2049.1913,-691.319 2022.614,-680.8093\"/>\n<polygon fill=\"#000000\" stroke=\"#000000\" points=\"2023.8959,-677.5526 2013.3095,-677.13 2021.3218,-684.0621 2023.8959,-677.5526\"/>\n</g>\n<!-- 14 -->\n<g id=\"node41\" class=\"node\">\n<title>14</title>\n<polygon fill=\"none\" stroke=\"#000000\" points=\"2291,-669.5 2089,-669.5 2089,-616.5 2291,-616.5 2291,-669.5\"/>\n<text text-anchor=\"middle\" x=\"2190\" y=\"-654.3\" font-family=\"Helvetica,sans-Serif\" font-size=\"14.00\" fill=\"#000000\">squared_error = 850838.889</text>\n<text text-anchor=\"middle\" x=\"2190\" y=\"-639.3\" font-family=\"Helvetica,sans-Serif\" font-size=\"14.00\" fill=\"#000000\">samples = 3</text>\n<text text-anchor=\"middle\" x=\"2190\" y=\"-624.3\" font-family=\"Helvetica,sans-Serif\" font-size=\"14.00\" fill=\"#000000\">value = 1108.667</text>\n</g>\n<!-- 5&#45;&gt;14 -->\n<g id=\"edge40\" class=\"edge\">\n<title>5&#45;&gt;14</title>\n<path fill=\"none\" stroke=\"#000000\" d=\"M2190,-712.9465C2190,-702.2621 2190,-690.4254 2190,-679.5742\"/>\n<polygon fill=\"#000000\" stroke=\"#000000\" points=\"2193.5001,-679.5421 2190,-669.5422 2186.5001,-679.5422 2193.5001,-679.5421\"/>\n</g>\n<!-- 21 -->\n<g id=\"node29\" class=\"node\">\n<title>21</title>\n<polygon fill=\"none\" stroke=\"#000000\" points=\"1730,-573 1520,-573 1520,-505 1730,-505 1730,-573\"/>\n<text text-anchor=\"middle\" x=\"1625\" y=\"-557.8\" font-family=\"Helvetica,sans-Serif\" font-size=\"14.00\" fill=\"#000000\">X[4] &lt;= 0.765</text>\n<text text-anchor=\"middle\" x=\"1625\" y=\"-542.8\" font-family=\"Helvetica,sans-Serif\" font-size=\"14.00\" fill=\"#000000\">squared_error = 1072866.194</text>\n<text text-anchor=\"middle\" x=\"1625\" y=\"-527.8\" font-family=\"Helvetica,sans-Serif\" font-size=\"14.00\" fill=\"#000000\">samples = 36</text>\n<text text-anchor=\"middle\" x=\"1625\" y=\"-512.8\" font-family=\"Helvetica,sans-Serif\" font-size=\"14.00\" fill=\"#000000\">value = 4924.472</text>\n</g>\n<!-- 13&#45;&gt;21 -->\n<g id=\"edge28\" class=\"edge\">\n<title>13&#45;&gt;21</title>\n<path fill=\"none\" stroke=\"#000000\" d=\"M1828.1139,-608.9465C1797.7921,-598.5046 1764.2747,-586.9622 1733.3558,-576.3146\"/>\n<polygon fill=\"#000000\" stroke=\"#000000\" points=\"1734.4449,-572.988 1723.8502,-573.0411 1732.1656,-579.6065 1734.4449,-572.988\"/>\n</g>\n<!-- 22 -->\n<g id=\"node38\" class=\"node\">\n<title>22</title>\n<polygon fill=\"none\" stroke=\"#000000\" points=\"2028,-573 1826,-573 1826,-505 2028,-505 2028,-573\"/>\n<text text-anchor=\"middle\" x=\"1927\" y=\"-557.8\" font-family=\"Helvetica,sans-Serif\" font-size=\"14.00\" fill=\"#000000\">X[4] &lt;= 0.663</text>\n<text text-anchor=\"middle\" x=\"1927\" y=\"-542.8\" font-family=\"Helvetica,sans-Serif\" font-size=\"14.00\" fill=\"#000000\">squared_error = 595262.454</text>\n<text text-anchor=\"middle\" x=\"1927\" y=\"-527.8\" font-family=\"Helvetica,sans-Serif\" font-size=\"14.00\" fill=\"#000000\">samples = 14</text>\n<text text-anchor=\"middle\" x=\"1927\" y=\"-512.8\" font-family=\"Helvetica,sans-Serif\" font-size=\"14.00\" fill=\"#000000\">value = 6244.786</text>\n</g>\n<!-- 13&#45;&gt;22 -->\n<g id=\"edge37\" class=\"edge\">\n<title>13&#45;&gt;22</title>\n<path fill=\"none\" stroke=\"#000000\" d=\"M1927,-608.9465C1927,-600.776 1927,-591.9318 1927,-583.3697\"/>\n<polygon fill=\"#000000\" stroke=\"#000000\" points=\"1930.5001,-583.13 1927,-573.13 1923.5001,-583.13 1930.5001,-583.13\"/>\n</g>\n<!-- 29 -->\n<g id=\"node30\" class=\"node\">\n<title>29</title>\n<polygon fill=\"none\" stroke=\"#000000\" points=\"1500,-469 1298,-469 1298,-401 1500,-401 1500,-469\"/>\n<text text-anchor=\"middle\" x=\"1399\" y=\"-453.8\" font-family=\"Helvetica,sans-Serif\" font-size=\"14.00\" fill=\"#000000\">X[4] &lt;= 0.469</text>\n<text text-anchor=\"middle\" x=\"1399\" y=\"-438.8\" font-family=\"Helvetica,sans-Serif\" font-size=\"14.00\" fill=\"#000000\">squared_error = 490652.533</text>\n<text text-anchor=\"middle\" x=\"1399\" y=\"-423.8\" font-family=\"Helvetica,sans-Serif\" font-size=\"14.00\" fill=\"#000000\">samples = 29</text>\n<text text-anchor=\"middle\" x=\"1399\" y=\"-408.8\" font-family=\"Helvetica,sans-Serif\" font-size=\"14.00\" fill=\"#000000\">value = 5190.862</text>\n</g>\n<!-- 21&#45;&gt;29 -->\n<g id=\"edge29\" class=\"edge\">\n<title>21&#45;&gt;29</title>\n<path fill=\"none\" stroke=\"#000000\" d=\"M1550.9991,-504.9465C1529.0492,-494.8457 1504.8616,-483.7151 1482.361,-473.3608\"/>\n<polygon fill=\"#000000\" stroke=\"#000000\" points=\"1483.7146,-470.1309 1473.1671,-469.13 1480.7883,-476.4899 1483.7146,-470.1309\"/>\n</g>\n<!-- 30 -->\n<g id=\"node33\" class=\"node\">\n<title>30</title>\n<polygon fill=\"none\" stroke=\"#000000\" points=\"1728,-469 1518,-469 1518,-401 1728,-401 1728,-469\"/>\n<text text-anchor=\"middle\" x=\"1623\" y=\"-453.8\" font-family=\"Helvetica,sans-Serif\" font-size=\"14.00\" fill=\"#000000\">X[5] &lt;= 9.459</text>\n<text text-anchor=\"middle\" x=\"1623\" y=\"-438.8\" font-family=\"Helvetica,sans-Serif\" font-size=\"14.00\" fill=\"#000000\">squared_error = 1972936.122</text>\n<text text-anchor=\"middle\" x=\"1623\" y=\"-423.8\" font-family=\"Helvetica,sans-Serif\" font-size=\"14.00\" fill=\"#000000\">samples = 7</text>\n<text text-anchor=\"middle\" x=\"1623\" y=\"-408.8\" font-family=\"Helvetica,sans-Serif\" font-size=\"14.00\" fill=\"#000000\">value = 3820.857</text>\n</g>\n<!-- 21&#45;&gt;30 -->\n<g id=\"edge32\" class=\"edge\">\n<title>21&#45;&gt;30</title>\n<path fill=\"none\" stroke=\"#000000\" d=\"M1624.3451,-504.9465C1624.188,-496.776 1624.0179,-487.9318 1623.8533,-479.3697\"/>\n<polygon fill=\"#000000\" stroke=\"#000000\" points=\"1627.3481,-479.0608 1623.6563,-469.13 1620.3494,-479.1955 1627.3481,-479.0608\"/>\n</g>\n<!-- 41 -->\n<g id=\"node31\" class=\"node\">\n<title>41</title>\n<polygon fill=\"none\" stroke=\"#000000\" points=\"1283,-357.5 1139,-357.5 1139,-304.5 1283,-304.5 1283,-357.5\"/>\n<text text-anchor=\"middle\" x=\"1211\" y=\"-342.3\" font-family=\"Helvetica,sans-Serif\" font-size=\"14.00\" fill=\"#000000\">squared_error = 0.0</text>\n<text text-anchor=\"middle\" x=\"1211\" y=\"-327.3\" font-family=\"Helvetica,sans-Serif\" font-size=\"14.00\" fill=\"#000000\">samples = 1</text>\n<text text-anchor=\"middle\" x=\"1211\" y=\"-312.3\" font-family=\"Helvetica,sans-Serif\" font-size=\"14.00\" fill=\"#000000\">value = 2424.0</text>\n</g>\n<!-- 29&#45;&gt;41 -->\n<g id=\"edge30\" class=\"edge\">\n<title>29&#45;&gt;41</title>\n<path fill=\"none\" stroke=\"#000000\" d=\"M1337.4418,-400.9465C1315.0413,-388.5547 1289.8392,-374.6132 1267.8637,-362.4565\"/>\n<polygon fill=\"#000000\" stroke=\"#000000\" points=\"1269.4247,-359.3202 1258.9801,-357.5422 1266.0362,-365.4455 1269.4247,-359.3202\"/>\n</g>\n<!-- 42 -->\n<g id=\"node32\" class=\"node\">\n<title>42</title>\n<polygon fill=\"none\" stroke=\"#000000\" points=\"1503,-357.5 1301,-357.5 1301,-304.5 1503,-304.5 1503,-357.5\"/>\n<text text-anchor=\"middle\" x=\"1402\" y=\"-342.3\" font-family=\"Helvetica,sans-Serif\" font-size=\"14.00\" fill=\"#000000\">squared_error = 224999.504</text>\n<text text-anchor=\"middle\" x=\"1402\" y=\"-327.3\" font-family=\"Helvetica,sans-Serif\" font-size=\"14.00\" fill=\"#000000\">samples = 28</text>\n<text text-anchor=\"middle\" x=\"1402\" y=\"-312.3\" font-family=\"Helvetica,sans-Serif\" font-size=\"14.00\" fill=\"#000000\">value = 5289.679</text>\n</g>\n<!-- 29&#45;&gt;42 -->\n<g id=\"edge31\" class=\"edge\">\n<title>29&#45;&gt;42</title>\n<path fill=\"none\" stroke=\"#000000\" d=\"M1399.9823,-400.9465C1400.2905,-390.2621 1400.632,-378.4254 1400.945,-367.5742\"/>\n<polygon fill=\"#000000\" stroke=\"#000000\" points=\"1404.4445,-367.639 1401.2344,-357.5422 1397.4474,-367.4371 1404.4445,-367.639\"/>\n</g>\n<!-- 37 -->\n<g id=\"node34\" class=\"node\">\n<title>37</title>\n<polygon fill=\"none\" stroke=\"#000000\" points=\"1712.5,-357.5 1527.5,-357.5 1527.5,-304.5 1712.5,-304.5 1712.5,-357.5\"/>\n<text text-anchor=\"middle\" x=\"1620\" y=\"-342.3\" font-family=\"Helvetica,sans-Serif\" font-size=\"14.00\" fill=\"#000000\">squared_error = 453846.5</text>\n<text text-anchor=\"middle\" x=\"1620\" y=\"-327.3\" font-family=\"Helvetica,sans-Serif\" font-size=\"14.00\" fill=\"#000000\">samples = 4</text>\n<text text-anchor=\"middle\" x=\"1620\" y=\"-312.3\" font-family=\"Helvetica,sans-Serif\" font-size=\"14.00\" fill=\"#000000\">value = 4802.0</text>\n</g>\n<!-- 30&#45;&gt;37 -->\n<g id=\"edge33\" class=\"edge\">\n<title>30&#45;&gt;37</title>\n<path fill=\"none\" stroke=\"#000000\" d=\"M1622.0177,-400.9465C1621.7095,-390.2621 1621.368,-378.4254 1621.055,-367.5742\"/>\n<polygon fill=\"#000000\" stroke=\"#000000\" points=\"1624.5526,-367.4371 1620.7656,-357.5422 1617.5555,-367.639 1624.5526,-367.4371\"/>\n</g>\n<!-- 38 -->\n<g id=\"node35\" class=\"node\">\n<title>38</title>\n<polygon fill=\"none\" stroke=\"#000000\" points=\"1941,-365 1731,-365 1731,-297 1941,-297 1941,-365\"/>\n<text text-anchor=\"middle\" x=\"1836\" y=\"-349.8\" font-family=\"Helvetica,sans-Serif\" font-size=\"14.00\" fill=\"#000000\">X[17] &lt;= 0.5</text>\n<text text-anchor=\"middle\" x=\"1836\" y=\"-334.8\" font-family=\"Helvetica,sans-Serif\" font-size=\"14.00\" fill=\"#000000\">squared_error = 1003504.889</text>\n<text text-anchor=\"middle\" x=\"1836\" y=\"-319.8\" font-family=\"Helvetica,sans-Serif\" font-size=\"14.00\" fill=\"#000000\">samples = 3</text>\n<text text-anchor=\"middle\" x=\"1836\" y=\"-304.8\" font-family=\"Helvetica,sans-Serif\" font-size=\"14.00\" fill=\"#000000\">value = 2512.667</text>\n</g>\n<!-- 30&#45;&gt;38 -->\n<g id=\"edge34\" class=\"edge\">\n<title>30&#45;&gt;38</title>\n<path fill=\"none\" stroke=\"#000000\" d=\"M1692.7442,-400.9465C1713.2476,-390.9354 1735.8227,-379.9129 1756.8682,-369.6371\"/>\n<polygon fill=\"#000000\" stroke=\"#000000\" points=\"1758.6487,-372.6627 1766.0991,-365.13 1755.5774,-366.3725 1758.6487,-372.6627\"/>\n</g>\n<!-- 73 -->\n<g id=\"node36\" class=\"node\">\n<title>73</title>\n<polygon fill=\"none\" stroke=\"#000000\" points=\"1875,-253.5 1723,-253.5 1723,-200.5 1875,-200.5 1875,-253.5\"/>\n<text text-anchor=\"middle\" x=\"1799\" y=\"-238.3\" font-family=\"Helvetica,sans-Serif\" font-size=\"14.00\" fill=\"#000000\">squared_error = 49.0</text>\n<text text-anchor=\"middle\" x=\"1799\" y=\"-223.3\" font-family=\"Helvetica,sans-Serif\" font-size=\"14.00\" fill=\"#000000\">samples = 2</text>\n<text text-anchor=\"middle\" x=\"1799\" y=\"-208.3\" font-family=\"Helvetica,sans-Serif\" font-size=\"14.00\" fill=\"#000000\">value = 3221.0</text>\n</g>\n<!-- 38&#45;&gt;73 -->\n<g id=\"edge35\" class=\"edge\">\n<title>38&#45;&gt;73</title>\n<path fill=\"none\" stroke=\"#000000\" d=\"M1823.8848,-296.9465C1820.0444,-286.1519 1815.7856,-274.1813 1811.8927,-263.2389\"/>\n<polygon fill=\"#000000\" stroke=\"#000000\" points=\"1815.0924,-261.7905 1808.4429,-253.5422 1808.4973,-264.1369 1815.0924,-261.7905\"/>\n</g>\n<!-- 74 -->\n<g id=\"node37\" class=\"node\">\n<title>74</title>\n<polygon fill=\"none\" stroke=\"#000000\" points=\"2037,-253.5 1893,-253.5 1893,-200.5 2037,-200.5 2037,-253.5\"/>\n<text text-anchor=\"middle\" x=\"1965\" y=\"-238.3\" font-family=\"Helvetica,sans-Serif\" font-size=\"14.00\" fill=\"#000000\">squared_error = 0.0</text>\n<text text-anchor=\"middle\" x=\"1965\" y=\"-223.3\" font-family=\"Helvetica,sans-Serif\" font-size=\"14.00\" fill=\"#000000\">samples = 1</text>\n<text text-anchor=\"middle\" x=\"1965\" y=\"-208.3\" font-family=\"Helvetica,sans-Serif\" font-size=\"14.00\" fill=\"#000000\">value = 1096.0</text>\n</g>\n<!-- 38&#45;&gt;74 -->\n<g id=\"edge36\" class=\"edge\">\n<title>38&#45;&gt;74</title>\n<path fill=\"none\" stroke=\"#000000\" d=\"M1878.2394,-296.9465C1892.9952,-285.0504 1909.5225,-271.726 1924.162,-259.9237\"/>\n<polygon fill=\"#000000\" stroke=\"#000000\" points=\"1926.4891,-262.5433 1932.0775,-253.5422 1922.0957,-257.0938 1926.4891,-262.5433\"/>\n</g>\n<!-- 65 -->\n<g id=\"node39\" class=\"node\">\n<title>65</title>\n<polygon fill=\"none\" stroke=\"#000000\" points=\"1940,-461.5 1746,-461.5 1746,-408.5 1940,-408.5 1940,-461.5\"/>\n<text text-anchor=\"middle\" x=\"1843\" y=\"-446.3\" font-family=\"Helvetica,sans-Serif\" font-size=\"14.00\" fill=\"#000000\">squared_error = 438755.21</text>\n<text text-anchor=\"middle\" x=\"1843\" y=\"-431.3\" font-family=\"Helvetica,sans-Serif\" font-size=\"14.00\" fill=\"#000000\">samples = 9</text>\n<text text-anchor=\"middle\" x=\"1843\" y=\"-416.3\" font-family=\"Helvetica,sans-Serif\" font-size=\"14.00\" fill=\"#000000\">value = 6603.111</text>\n</g>\n<!-- 22&#45;&gt;65 -->\n<g id=\"edge38\" class=\"edge\">\n<title>22&#45;&gt;65</title>\n<path fill=\"none\" stroke=\"#000000\" d=\"M1899.4953,-504.9465C1890.3317,-493.6012 1880.1189,-480.9567 1870.9239,-469.5724\"/>\n<polygon fill=\"#000000\" stroke=\"#000000\" points=\"1873.4441,-467.1224 1864.4379,-461.5422 1867.9985,-471.5208 1873.4441,-467.1224\"/>\n</g>\n<!-- 66 -->\n<g id=\"node40\" class=\"node\">\n<title>66</title>\n<polygon fill=\"none\" stroke=\"#000000\" points=\"2152,-461.5 1958,-461.5 1958,-408.5 2152,-408.5 2152,-461.5\"/>\n<text text-anchor=\"middle\" x=\"2055\" y=\"-446.3\" font-family=\"Helvetica,sans-Serif\" font-size=\"14.00\" fill=\"#000000\">squared_error = 229854.16</text>\n<text text-anchor=\"middle\" x=\"2055\" y=\"-431.3\" font-family=\"Helvetica,sans-Serif\" font-size=\"14.00\" fill=\"#000000\">samples = 5</text>\n<text text-anchor=\"middle\" x=\"2055\" y=\"-416.3\" font-family=\"Helvetica,sans-Serif\" font-size=\"14.00\" fill=\"#000000\">value = 5599.8</text>\n</g>\n<!-- 22&#45;&gt;66 -->\n<g id=\"edge39\" class=\"edge\">\n<title>22&#45;&gt;66</title>\n<path fill=\"none\" stroke=\"#000000\" d=\"M1968.912,-504.9465C1983.5533,-493.0504 1999.9526,-479.726 2014.4785,-467.9237\"/>\n<polygon fill=\"#000000\" stroke=\"#000000\" points=\"2016.7786,-470.5645 2022.3327,-461.5422 2012.3645,-465.1317 2016.7786,-470.5645\"/>\n</g>\n<!-- 17 -->\n<g id=\"node43\" class=\"node\">\n<title>17</title>\n<polygon fill=\"none\" stroke=\"#000000\" points=\"2576,-677 2374,-677 2374,-609 2576,-609 2576,-677\"/>\n<text text-anchor=\"middle\" x=\"2475\" y=\"-661.8\" font-family=\"Helvetica,sans-Serif\" font-size=\"14.00\" fill=\"#000000\">X[0] &lt;= 8.5</text>\n<text text-anchor=\"middle\" x=\"2475\" y=\"-646.8\" font-family=\"Helvetica,sans-Serif\" font-size=\"14.00\" fill=\"#000000\">squared_error = 692876.969</text>\n<text text-anchor=\"middle\" x=\"2475\" y=\"-631.8\" font-family=\"Helvetica,sans-Serif\" font-size=\"14.00\" fill=\"#000000\">samples = 126</text>\n<text text-anchor=\"middle\" x=\"2475\" y=\"-616.8\" font-family=\"Helvetica,sans-Serif\" font-size=\"14.00\" fill=\"#000000\">value = 6935.198</text>\n</g>\n<!-- 6&#45;&gt;17 -->\n<g id=\"edge42\" class=\"edge\">\n<title>6&#45;&gt;17</title>\n<path fill=\"none\" stroke=\"#000000\" d=\"M2475,-712.9465C2475,-704.776 2475,-695.9318 2475,-687.3697\"/>\n<polygon fill=\"#000000\" stroke=\"#000000\" points=\"2478.5001,-687.13 2475,-677.13 2471.5001,-687.13 2478.5001,-687.13\"/>\n</g>\n<!-- 18 -->\n<g id=\"node60\" class=\"node\">\n<title>18</title>\n<polygon fill=\"none\" stroke=\"#000000\" points=\"3018,-677 2808,-677 2808,-609 3018,-609 3018,-677\"/>\n<text text-anchor=\"middle\" x=\"2913\" y=\"-661.8\" font-family=\"Helvetica,sans-Serif\" font-size=\"14.00\" fill=\"#000000\">X[5] &lt;= 12.833</text>\n<text text-anchor=\"middle\" x=\"2913\" y=\"-646.8\" font-family=\"Helvetica,sans-Serif\" font-size=\"14.00\" fill=\"#000000\">squared_error = 1317620.438</text>\n<text text-anchor=\"middle\" x=\"2913\" y=\"-631.8\" font-family=\"Helvetica,sans-Serif\" font-size=\"14.00\" fill=\"#000000\">samples = 26</text>\n<text text-anchor=\"middle\" x=\"2913\" y=\"-616.8\" font-family=\"Helvetica,sans-Serif\" font-size=\"14.00\" fill=\"#000000\">value = 5691.154</text>\n</g>\n<!-- 6&#45;&gt;18 -->\n<g id=\"edge59\" class=\"edge\">\n<title>6&#45;&gt;18</title>\n<path fill=\"none\" stroke=\"#000000\" d=\"M2580.0948,-716.3422C2584.4482,-715.1914 2588.7631,-714.0726 2593,-713 2660.498,-695.9124 2736.6269,-679.1583 2797.6923,-666.327\"/>\n<polygon fill=\"#000000\" stroke=\"#000000\" points=\"2798.6766,-669.6969 2807.7467,-664.2212 2797.2416,-662.8455 2798.6766,-669.6969\"/>\n</g>\n<!-- 23 -->\n<g id=\"node44\" class=\"node\">\n<title>23</title>\n<polygon fill=\"none\" stroke=\"#000000\" points=\"2574,-573 2372,-573 2372,-505 2574,-505 2574,-573\"/>\n<text text-anchor=\"middle\" x=\"2473\" y=\"-557.8\" font-family=\"Helvetica,sans-Serif\" font-size=\"14.00\" fill=\"#000000\">X[3] &lt;= 28.378</text>\n<text text-anchor=\"middle\" x=\"2473\" y=\"-542.8\" font-family=\"Helvetica,sans-Serif\" font-size=\"14.00\" fill=\"#000000\">squared_error = 650411.926</text>\n<text text-anchor=\"middle\" x=\"2473\" y=\"-527.8\" font-family=\"Helvetica,sans-Serif\" font-size=\"14.00\" fill=\"#000000\">samples = 93</text>\n<text text-anchor=\"middle\" x=\"2473\" y=\"-512.8\" font-family=\"Helvetica,sans-Serif\" font-size=\"14.00\" fill=\"#000000\">value = 6720.538</text>\n</g>\n<!-- 17&#45;&gt;23 -->\n<g id=\"edge43\" class=\"edge\">\n<title>17&#45;&gt;23</title>\n<path fill=\"none\" stroke=\"#000000\" d=\"M2474.3451,-608.9465C2474.188,-600.776 2474.0179,-591.9318 2473.8533,-583.3697\"/>\n<polygon fill=\"#000000\" stroke=\"#000000\" points=\"2477.3481,-583.0608 2473.6563,-573.13 2470.3494,-583.1955 2477.3481,-583.0608\"/>\n</g>\n<!-- 24 -->\n<g id=\"node57\" class=\"node\">\n<title>24</title>\n<polygon fill=\"none\" stroke=\"#000000\" points=\"2794,-573 2592,-573 2592,-505 2794,-505 2794,-573\"/>\n<text text-anchor=\"middle\" x=\"2693\" y=\"-557.8\" font-family=\"Helvetica,sans-Serif\" font-size=\"14.00\" fill=\"#000000\">X[5] &lt;= 19.417</text>\n<text text-anchor=\"middle\" x=\"2693\" y=\"-542.8\" font-family=\"Helvetica,sans-Serif\" font-size=\"14.00\" fill=\"#000000\">squared_error = 316723.219</text>\n<text text-anchor=\"middle\" x=\"2693\" y=\"-527.8\" font-family=\"Helvetica,sans-Serif\" font-size=\"14.00\" fill=\"#000000\">samples = 33</text>\n<text text-anchor=\"middle\" x=\"2693\" y=\"-512.8\" font-family=\"Helvetica,sans-Serif\" font-size=\"14.00\" fill=\"#000000\">value = 7540.152</text>\n</g>\n<!-- 17&#45;&gt;24 -->\n<g id=\"edge56\" class=\"edge\">\n<title>17&#45;&gt;24</title>\n<path fill=\"none\" stroke=\"#000000\" d=\"M2546.3814,-608.9465C2567.4602,-598.8906 2590.6784,-587.814 2612.3003,-577.4989\"/>\n<polygon fill=\"#000000\" stroke=\"#000000\" points=\"2613.9398,-580.5948 2621.4583,-573.13 2610.9257,-574.2769 2613.9398,-580.5948\"/>\n</g>\n<!-- 35 -->\n<g id=\"node45\" class=\"node\">\n<title>35</title>\n<polygon fill=\"none\" stroke=\"#000000\" points=\"2372,-469 2170,-469 2170,-401 2372,-401 2372,-469\"/>\n<text text-anchor=\"middle\" x=\"2271\" y=\"-453.8\" font-family=\"Helvetica,sans-Serif\" font-size=\"14.00\" fill=\"#000000\">X[2] &lt;= 15.128</text>\n<text text-anchor=\"middle\" x=\"2271\" y=\"-438.8\" font-family=\"Helvetica,sans-Serif\" font-size=\"14.00\" fill=\"#000000\">squared_error = 565278.672</text>\n<text text-anchor=\"middle\" x=\"2271\" y=\"-423.8\" font-family=\"Helvetica,sans-Serif\" font-size=\"14.00\" fill=\"#000000\">samples = 90</text>\n<text text-anchor=\"middle\" x=\"2271\" y=\"-408.8\" font-family=\"Helvetica,sans-Serif\" font-size=\"14.00\" fill=\"#000000\">value = 6778.167</text>\n</g>\n<!-- 23&#45;&gt;35 -->\n<g id=\"edge44\" class=\"edge\">\n<title>23&#45;&gt;35</title>\n<path fill=\"none\" stroke=\"#000000\" d=\"M2406.8576,-504.9465C2387.5003,-494.9803 2366.1958,-484.0117 2346.3138,-473.7754\"/>\n<polygon fill=\"#000000\" stroke=\"#000000\" points=\"2347.7839,-470.5957 2337.291,-469.13 2344.5797,-476.8193 2347.7839,-470.5957\"/>\n</g>\n<!-- 36 -->\n<g id=\"node56\" class=\"node\">\n<title>36</title>\n<polygon fill=\"none\" stroke=\"#000000\" points=\"2592,-461.5 2390,-461.5 2390,-408.5 2592,-408.5 2592,-461.5\"/>\n<text text-anchor=\"middle\" x=\"2491\" y=\"-446.3\" font-family=\"Helvetica,sans-Serif\" font-size=\"14.00\" fill=\"#000000\">squared_error = 115781.556</text>\n<text text-anchor=\"middle\" x=\"2491\" y=\"-431.3\" font-family=\"Helvetica,sans-Serif\" font-size=\"14.00\" fill=\"#000000\">samples = 3</text>\n<text text-anchor=\"middle\" x=\"2491\" y=\"-416.3\" font-family=\"Helvetica,sans-Serif\" font-size=\"14.00\" fill=\"#000000\">value = 4991.667</text>\n</g>\n<!-- 23&#45;&gt;36 -->\n<g id=\"edge55\" class=\"edge\">\n<title>23&#45;&gt;36</title>\n<path fill=\"none\" stroke=\"#000000\" d=\"M2478.8939,-504.9465C2480.7431,-494.2621 2482.7918,-482.4254 2484.6698,-471.5742\"/>\n<polygon fill=\"#000000\" stroke=\"#000000\" points=\"2488.1494,-471.9926 2486.4062,-461.5422 2481.2519,-470.7987 2488.1494,-471.9926\"/>\n</g>\n<!-- 39 -->\n<g id=\"node46\" class=\"node\">\n<title>39</title>\n<polygon fill=\"none\" stroke=\"#000000\" points=\"2234,-357.5 2032,-357.5 2032,-304.5 2234,-304.5 2234,-357.5\"/>\n<text text-anchor=\"middle\" x=\"2133\" y=\"-342.3\" font-family=\"Helvetica,sans-Serif\" font-size=\"14.00\" fill=\"#000000\">squared_error = 454228.188</text>\n<text text-anchor=\"middle\" x=\"2133\" y=\"-327.3\" font-family=\"Helvetica,sans-Serif\" font-size=\"14.00\" fill=\"#000000\">samples = 8</text>\n<text text-anchor=\"middle\" x=\"2133\" y=\"-312.3\" font-family=\"Helvetica,sans-Serif\" font-size=\"14.00\" fill=\"#000000\">value = 5813.25</text>\n</g>\n<!-- 35&#45;&gt;39 -->\n<g id=\"edge45\" class=\"edge\">\n<title>35&#45;&gt;39</title>\n<path fill=\"none\" stroke=\"#000000\" d=\"M2225.8136,-400.9465C2209.8823,-388.9403 2192.0204,-375.4791 2176.2527,-363.5962\"/>\n<polygon fill=\"#000000\" stroke=\"#000000\" points=\"2178.312,-360.7656 2168.2194,-357.5422 2174.099,-366.3558 2178.312,-360.7656\"/>\n</g>\n<!-- 40 -->\n<g id=\"node47\" class=\"node\">\n<title>40</title>\n<polygon fill=\"none\" stroke=\"#000000\" points=\"2454,-365 2252,-365 2252,-297 2454,-297 2454,-365\"/>\n<text text-anchor=\"middle\" x=\"2353\" y=\"-349.8\" font-family=\"Helvetica,sans-Serif\" font-size=\"14.00\" fill=\"#000000\">X[4] &lt;= 0.708</text>\n<text text-anchor=\"middle\" x=\"2353\" y=\"-334.8\" font-family=\"Helvetica,sans-Serif\" font-size=\"14.00\" fill=\"#000000\">squared_error = 476415.334</text>\n<text text-anchor=\"middle\" x=\"2353\" y=\"-319.8\" font-family=\"Helvetica,sans-Serif\" font-size=\"14.00\" fill=\"#000000\">samples = 82</text>\n<text text-anchor=\"middle\" x=\"2353\" y=\"-304.8\" font-family=\"Helvetica,sans-Serif\" font-size=\"14.00\" fill=\"#000000\">value = 6872.305</text>\n</g>\n<!-- 35&#45;&gt;40 -->\n<g id=\"edge46\" class=\"edge\">\n<title>35&#45;&gt;40</title>\n<path fill=\"none\" stroke=\"#000000\" d=\"M2297.8499,-400.9465C2304.8583,-392.0578 2312.4955,-382.3716 2319.791,-373.1188\"/>\n<polygon fill=\"#000000\" stroke=\"#000000\" points=\"2322.6467,-375.1498 2326.0898,-365.13 2317.1498,-370.8157 2322.6467,-375.1498\"/>\n</g>\n<!-- 51 -->\n<g id=\"node48\" class=\"node\">\n<title>51</title>\n<polygon fill=\"none\" stroke=\"#000000\" points=\"2275,-261 2073,-261 2073,-193 2275,-193 2275,-261\"/>\n<text text-anchor=\"middle\" x=\"2174\" y=\"-245.8\" font-family=\"Helvetica,sans-Serif\" font-size=\"14.00\" fill=\"#000000\">X[2] &lt;= 27.935</text>\n<text text-anchor=\"middle\" x=\"2174\" y=\"-230.8\" font-family=\"Helvetica,sans-Serif\" font-size=\"14.00\" fill=\"#000000\">squared_error = 416655.889</text>\n<text text-anchor=\"middle\" x=\"2174\" y=\"-215.8\" font-family=\"Helvetica,sans-Serif\" font-size=\"14.00\" fill=\"#000000\">samples = 72</text>\n<text text-anchor=\"middle\" x=\"2174\" y=\"-200.8\" font-family=\"Helvetica,sans-Serif\" font-size=\"14.00\" fill=\"#000000\">value = 6964.667</text>\n</g>\n<!-- 40&#45;&gt;51 -->\n<g id=\"edge47\" class=\"edge\">\n<title>40&#45;&gt;51</title>\n<path fill=\"none\" stroke=\"#000000\" d=\"M2294.3887,-296.9465C2277.5445,-287.1599 2259.0364,-276.4066 2241.692,-266.3294\"/>\n<polygon fill=\"#000000\" stroke=\"#000000\" points=\"2243.1478,-263.1274 2232.743,-261.13 2239.6312,-269.18 2243.1478,-263.1274\"/>\n</g>\n<!-- 52 -->\n<g id=\"node53\" class=\"node\">\n<title>52</title>\n<polygon fill=\"none\" stroke=\"#000000\" points=\"2487,-261 2293,-261 2293,-193 2487,-193 2487,-261\"/>\n<text text-anchor=\"middle\" x=\"2390\" y=\"-245.8\" font-family=\"Helvetica,sans-Serif\" font-size=\"14.00\" fill=\"#000000\">X[5] &lt;= 7.209</text>\n<text text-anchor=\"middle\" x=\"2390\" y=\"-230.8\" font-family=\"Helvetica,sans-Serif\" font-size=\"14.00\" fill=\"#000000\">squared_error = 403030.81</text>\n<text text-anchor=\"middle\" x=\"2390\" y=\"-215.8\" font-family=\"Helvetica,sans-Serif\" font-size=\"14.00\" fill=\"#000000\">samples = 10</text>\n<text text-anchor=\"middle\" x=\"2390\" y=\"-200.8\" font-family=\"Helvetica,sans-Serif\" font-size=\"14.00\" fill=\"#000000\">value = 6207.3</text>\n</g>\n<!-- 40&#45;&gt;52 -->\n<g id=\"edge52\" class=\"edge\">\n<title>40&#45;&gt;52</title>\n<path fill=\"none\" stroke=\"#000000\" d=\"M2365.1152,-296.9465C2368.0859,-288.5965 2371.3069,-279.5427 2374.4153,-270.8056\"/>\n<polygon fill=\"#000000\" stroke=\"#000000\" points=\"2377.8032,-271.7247 2377.8576,-261.13 2371.2081,-269.3783 2377.8032,-271.7247\"/>\n</g>\n<!-- 53 -->\n<g id=\"node49\" class=\"node\">\n<title>53</title>\n<polygon fill=\"none\" stroke=\"#000000\" points=\"2062,-157 1860,-157 1860,-89 2062,-89 2062,-157\"/>\n<text text-anchor=\"middle\" x=\"1961\" y=\"-141.8\" font-family=\"Helvetica,sans-Serif\" font-size=\"14.00\" fill=\"#000000\">X[4] &lt;= 0.318</text>\n<text text-anchor=\"middle\" x=\"1961\" y=\"-126.8\" font-family=\"Helvetica,sans-Serif\" font-size=\"14.00\" fill=\"#000000\">squared_error = 335297.029</text>\n<text text-anchor=\"middle\" x=\"1961\" y=\"-111.8\" font-family=\"Helvetica,sans-Serif\" font-size=\"14.00\" fill=\"#000000\">samples = 58</text>\n<text text-anchor=\"middle\" x=\"1961\" y=\"-96.8\" font-family=\"Helvetica,sans-Serif\" font-size=\"14.00\" fill=\"#000000\">value = 7114.621</text>\n</g>\n<!-- 51&#45;&gt;53 -->\n<g id=\"edge48\" class=\"edge\">\n<title>51&#45;&gt;53</title>\n<path fill=\"none\" stroke=\"#000000\" d=\"M2104.2558,-192.9465C2083.7524,-182.9354 2061.1773,-171.9129 2040.1318,-161.6371\"/>\n<polygon fill=\"#000000\" stroke=\"#000000\" points=\"2041.4226,-158.3725 2030.9009,-157.13 2038.3513,-164.6627 2041.4226,-158.3725\"/>\n</g>\n<!-- 54 -->\n<g id=\"node52\" class=\"node\">\n<title>54</title>\n<polygon fill=\"none\" stroke=\"#000000\" points=\"2282,-149.5 2080,-149.5 2080,-96.5 2282,-96.5 2282,-149.5\"/>\n<text text-anchor=\"middle\" x=\"2181\" y=\"-134.3\" font-family=\"Helvetica,sans-Serif\" font-size=\"14.00\" fill=\"#000000\">squared_error = 274620.102</text>\n<text text-anchor=\"middle\" x=\"2181\" y=\"-119.3\" font-family=\"Helvetica,sans-Serif\" font-size=\"14.00\" fill=\"#000000\">samples = 14</text>\n<text text-anchor=\"middle\" x=\"2181\" y=\"-104.3\" font-family=\"Helvetica,sans-Serif\" font-size=\"14.00\" fill=\"#000000\">value = 6343.429</text>\n</g>\n<!-- 51&#45;&gt;54 -->\n<g id=\"edge51\" class=\"edge\">\n<title>51&#45;&gt;54</title>\n<path fill=\"none\" stroke=\"#000000\" d=\"M2176.2921,-192.9465C2177.0112,-182.2621 2177.8079,-170.4254 2178.5383,-159.5742\"/>\n<polygon fill=\"#000000\" stroke=\"#000000\" points=\"2182.034,-159.7547 2179.2135,-149.5422 2175.0498,-159.2845 2182.034,-159.7547\"/>\n</g>\n<!-- 55 -->\n<g id=\"node50\" class=\"node\">\n<title>55</title>\n<polygon fill=\"none\" stroke=\"#000000\" points=\"1938,-53 1794,-53 1794,0 1938,0 1938,-53\"/>\n<text text-anchor=\"middle\" x=\"1866\" y=\"-37.8\" font-family=\"Helvetica,sans-Serif\" font-size=\"14.00\" fill=\"#000000\">squared_error = 0.0</text>\n<text text-anchor=\"middle\" x=\"1866\" y=\"-22.8\" font-family=\"Helvetica,sans-Serif\" font-size=\"14.00\" fill=\"#000000\">samples = 1</text>\n<text text-anchor=\"middle\" x=\"1866\" y=\"-7.8\" font-family=\"Helvetica,sans-Serif\" font-size=\"14.00\" fill=\"#000000\">value = 5169.0</text>\n</g>\n<!-- 53&#45;&gt;55 -->\n<g id=\"edge49\" class=\"edge\">\n<title>53&#45;&gt;55</title>\n<path fill=\"none\" stroke=\"#000000\" d=\"M1927.5066,-88.9777C1918.4018,-79.7292 1908.543,-69.7147 1899.4411,-60.4691\"/>\n<polygon fill=\"#000000\" stroke=\"#000000\" points=\"1901.8424,-57.9193 1892.3327,-53.2485 1896.854,-62.8302 1901.8424,-57.9193\"/>\n</g>\n<!-- 56 -->\n<g id=\"node51\" class=\"node\">\n<title>56</title>\n<polygon fill=\"none\" stroke=\"#000000\" points=\"2158,-53 1956,-53 1956,0 2158,0 2158,-53\"/>\n<text text-anchor=\"middle\" x=\"2057\" y=\"-37.8\" font-family=\"Helvetica,sans-Serif\" font-size=\"14.00\" fill=\"#000000\">squared_error = 273603.098</text>\n<text text-anchor=\"middle\" x=\"2057\" y=\"-22.8\" font-family=\"Helvetica,sans-Serif\" font-size=\"14.00\" fill=\"#000000\">samples = 57</text>\n<text text-anchor=\"middle\" x=\"2057\" y=\"-7.8\" font-family=\"Helvetica,sans-Serif\" font-size=\"14.00\" fill=\"#000000\">value = 7148.754</text>\n</g>\n<!-- 53&#45;&gt;56 -->\n<g id=\"edge50\" class=\"edge\">\n<title>53&#45;&gt;56</title>\n<path fill=\"none\" stroke=\"#000000\" d=\"M1994.846,-88.9777C2004.0466,-79.7292 2014.0092,-69.7147 2023.2069,-60.4691\"/>\n<polygon fill=\"#000000\" stroke=\"#000000\" points=\"2025.8187,-62.8064 2030.3901,-53.2485 2020.8561,-57.8695 2025.8187,-62.8064\"/>\n</g>\n<!-- 71 -->\n<g id=\"node54\" class=\"node\">\n<title>71</title>\n<polygon fill=\"none\" stroke=\"#000000\" points=\"2456,-149.5 2312,-149.5 2312,-96.5 2456,-96.5 2456,-149.5\"/>\n<text text-anchor=\"middle\" x=\"2384\" y=\"-134.3\" font-family=\"Helvetica,sans-Serif\" font-size=\"14.00\" fill=\"#000000\">squared_error = 0.0</text>\n<text text-anchor=\"middle\" x=\"2384\" y=\"-119.3\" font-family=\"Helvetica,sans-Serif\" font-size=\"14.00\" fill=\"#000000\">samples = 1</text>\n<text text-anchor=\"middle\" x=\"2384\" y=\"-104.3\" font-family=\"Helvetica,sans-Serif\" font-size=\"14.00\" fill=\"#000000\">value = 4549.0</text>\n</g>\n<!-- 52&#45;&gt;71 -->\n<g id=\"edge53\" class=\"edge\">\n<title>52&#45;&gt;71</title>\n<path fill=\"none\" stroke=\"#000000\" d=\"M2388.0354,-192.9465C2387.419,-182.2621 2386.7361,-170.4254 2386.1101,-159.5742\"/>\n<polygon fill=\"#000000\" stroke=\"#000000\" points=\"2389.6015,-159.3239 2385.5313,-149.5422 2382.6131,-159.7272 2389.6015,-159.3239\"/>\n</g>\n<!-- 72 -->\n<g id=\"node55\" class=\"node\">\n<title>72</title>\n<polygon fill=\"none\" stroke=\"#000000\" points=\"2676,-149.5 2474,-149.5 2474,-96.5 2676,-96.5 2676,-149.5\"/>\n<text text-anchor=\"middle\" x=\"2575\" y=\"-134.3\" font-family=\"Helvetica,sans-Serif\" font-size=\"14.00\" fill=\"#000000\">squared_error = 108310.914</text>\n<text text-anchor=\"middle\" x=\"2575\" y=\"-119.3\" font-family=\"Helvetica,sans-Serif\" font-size=\"14.00\" fill=\"#000000\">samples = 9</text>\n<text text-anchor=\"middle\" x=\"2575\" y=\"-104.3\" font-family=\"Helvetica,sans-Serif\" font-size=\"14.00\" fill=\"#000000\">value = 6391.556</text>\n</g>\n<!-- 52&#45;&gt;72 -->\n<g id=\"edge54\" class=\"edge\">\n<title>52&#45;&gt;72</title>\n<path fill=\"none\" stroke=\"#000000\" d=\"M2450.5759,-192.9465C2472.619,-180.5547 2497.4189,-166.6132 2519.0437,-154.4565\"/>\n<polygon fill=\"#000000\" stroke=\"#000000\" points=\"2520.7837,-157.4935 2527.7856,-149.5422 2517.3534,-151.3916 2520.7837,-157.4935\"/>\n</g>\n<!-- 77 -->\n<g id=\"node58\" class=\"node\">\n<title>77</title>\n<polygon fill=\"none\" stroke=\"#000000\" points=\"2812,-461.5 2610,-461.5 2610,-408.5 2812,-408.5 2812,-461.5\"/>\n<text text-anchor=\"middle\" x=\"2711\" y=\"-446.3\" font-family=\"Helvetica,sans-Serif\" font-size=\"14.00\" fill=\"#000000\">squared_error = 237265.277</text>\n<text text-anchor=\"middle\" x=\"2711\" y=\"-431.3\" font-family=\"Helvetica,sans-Serif\" font-size=\"14.00\" fill=\"#000000\">samples = 32</text>\n<text text-anchor=\"middle\" x=\"2711\" y=\"-416.3\" font-family=\"Helvetica,sans-Serif\" font-size=\"14.00\" fill=\"#000000\">value = 7592.188</text>\n</g>\n<!-- 24&#45;&gt;77 -->\n<g id=\"edge57\" class=\"edge\">\n<title>24&#45;&gt;77</title>\n<path fill=\"none\" stroke=\"#000000\" d=\"M2698.8939,-504.9465C2700.7431,-494.2621 2702.7918,-482.4254 2704.6698,-471.5742\"/>\n<polygon fill=\"#000000\" stroke=\"#000000\" points=\"2708.1494,-471.9926 2706.4062,-461.5422 2701.2519,-470.7987 2708.1494,-471.9926\"/>\n</g>\n<!-- 78 -->\n<g id=\"node59\" class=\"node\">\n<title>78</title>\n<polygon fill=\"none\" stroke=\"#000000\" points=\"2974,-461.5 2830,-461.5 2830,-408.5 2974,-408.5 2974,-461.5\"/>\n<text text-anchor=\"middle\" x=\"2902\" y=\"-446.3\" font-family=\"Helvetica,sans-Serif\" font-size=\"14.00\" fill=\"#000000\">squared_error = 0.0</text>\n<text text-anchor=\"middle\" x=\"2902\" y=\"-431.3\" font-family=\"Helvetica,sans-Serif\" font-size=\"14.00\" fill=\"#000000\">samples = 1</text>\n<text text-anchor=\"middle\" x=\"2902\" y=\"-416.3\" font-family=\"Helvetica,sans-Serif\" font-size=\"14.00\" fill=\"#000000\">value = 5875.0</text>\n</g>\n<!-- 24&#45;&gt;78 -->\n<g id=\"edge58\" class=\"edge\">\n<title>24&#45;&gt;78</title>\n<path fill=\"none\" stroke=\"#000000\" d=\"M2761.4344,-504.9465C2786.5585,-492.4446 2814.8526,-478.3652 2839.4351,-466.1328\"/>\n<polygon fill=\"#000000\" stroke=\"#000000\" points=\"2841.2669,-469.1307 2848.6605,-461.5422 2838.1484,-462.8637 2841.2669,-469.1307\"/>\n</g>\n<!-- 25 -->\n<g id=\"node61\" class=\"node\">\n<title>25</title>\n<polygon fill=\"none\" stroke=\"#000000\" points=\"3014,-565.5 2812,-565.5 2812,-512.5 3014,-512.5 3014,-565.5\"/>\n<text text-anchor=\"middle\" x=\"2913\" y=\"-550.3\" font-family=\"Helvetica,sans-Serif\" font-size=\"14.00\" fill=\"#000000\">squared_error = 618882.694</text>\n<text text-anchor=\"middle\" x=\"2913\" y=\"-535.3\" font-family=\"Helvetica,sans-Serif\" font-size=\"14.00\" fill=\"#000000\">samples = 18</text>\n<text text-anchor=\"middle\" x=\"2913\" y=\"-520.3\" font-family=\"Helvetica,sans-Serif\" font-size=\"14.00\" fill=\"#000000\">value = 6186.167</text>\n</g>\n<!-- 18&#45;&gt;25 -->\n<g id=\"edge60\" class=\"edge\">\n<title>18&#45;&gt;25</title>\n<path fill=\"none\" stroke=\"#000000\" d=\"M2913,-608.9465C2913,-598.2621 2913,-586.4254 2913,-575.5742\"/>\n<polygon fill=\"#000000\" stroke=\"#000000\" points=\"2916.5001,-575.5421 2913,-565.5422 2909.5001,-575.5422 2916.5001,-575.5421\"/>\n</g>\n<!-- 26 -->\n<g id=\"node62\" class=\"node\">\n<title>26</title>\n<polygon fill=\"none\" stroke=\"#000000\" points=\"3242,-573 3032,-573 3032,-505 3242,-505 3242,-573\"/>\n<text text-anchor=\"middle\" x=\"3137\" y=\"-557.8\" font-family=\"Helvetica,sans-Serif\" font-size=\"14.00\" fill=\"#000000\">X[3] &lt;= 17.846</text>\n<text text-anchor=\"middle\" x=\"3137\" y=\"-542.8\" font-family=\"Helvetica,sans-Serif\" font-size=\"14.00\" fill=\"#000000\">squared_error = 1097942.234</text>\n<text text-anchor=\"middle\" x=\"3137\" y=\"-527.8\" font-family=\"Helvetica,sans-Serif\" font-size=\"14.00\" fill=\"#000000\">samples = 8</text>\n<text text-anchor=\"middle\" x=\"3137\" y=\"-512.8\" font-family=\"Helvetica,sans-Serif\" font-size=\"14.00\" fill=\"#000000\">value = 4577.375</text>\n</g>\n<!-- 18&#45;&gt;26 -->\n<g id=\"edge61\" class=\"edge\">\n<title>18&#45;&gt;26</title>\n<path fill=\"none\" stroke=\"#000000\" d=\"M2986.346,-608.9465C3008.1017,-598.8457 3032.0752,-587.7151 3054.3767,-577.3608\"/>\n<polygon fill=\"#000000\" stroke=\"#000000\" points=\"3055.893,-580.5157 3063.4892,-573.13 3052.9452,-574.1666 3055.893,-580.5157\"/>\n</g>\n<!-- 49 -->\n<g id=\"node63\" class=\"node\">\n<title>49</title>\n<polygon fill=\"none\" stroke=\"#000000\" points=\"3212.5,-461.5 3027.5,-461.5 3027.5,-408.5 3212.5,-408.5 3212.5,-461.5\"/>\n<text text-anchor=\"middle\" x=\"3120\" y=\"-446.3\" font-family=\"Helvetica,sans-Serif\" font-size=\"14.00\" fill=\"#000000\">squared_error = 69960.25</text>\n<text text-anchor=\"middle\" x=\"3120\" y=\"-431.3\" font-family=\"Helvetica,sans-Serif\" font-size=\"14.00\" fill=\"#000000\">samples = 2</text>\n<text text-anchor=\"middle\" x=\"3120\" y=\"-416.3\" font-family=\"Helvetica,sans-Serif\" font-size=\"14.00\" fill=\"#000000\">value = 3107.5</text>\n</g>\n<!-- 26&#45;&gt;49 -->\n<g id=\"edge62\" class=\"edge\">\n<title>26&#45;&gt;49</title>\n<path fill=\"none\" stroke=\"#000000\" d=\"M3131.4336,-504.9465C3129.6871,-494.2621 3127.7522,-482.4254 3125.9785,-471.5742\"/>\n<polygon fill=\"#000000\" stroke=\"#000000\" points=\"3129.4061,-470.8465 3124.3386,-461.5422 3122.4978,-471.9758 3129.4061,-470.8465\"/>\n</g>\n<!-- 50 -->\n<g id=\"node64\" class=\"node\">\n<title>50</title>\n<polygon fill=\"none\" stroke=\"#000000\" points=\"3433,-461.5 3231,-461.5 3231,-408.5 3433,-408.5 3433,-461.5\"/>\n<text text-anchor=\"middle\" x=\"3332\" y=\"-446.3\" font-family=\"Helvetica,sans-Serif\" font-size=\"14.00\" fill=\"#000000\">squared_error = 480366.222</text>\n<text text-anchor=\"middle\" x=\"3332\" y=\"-431.3\" font-family=\"Helvetica,sans-Serif\" font-size=\"14.00\" fill=\"#000000\">samples = 6</text>\n<text text-anchor=\"middle\" x=\"3332\" y=\"-416.3\" font-family=\"Helvetica,sans-Serif\" font-size=\"14.00\" fill=\"#000000\">value = 5067.333</text>\n</g>\n<!-- 26&#45;&gt;50 -->\n<g id=\"edge63\" class=\"edge\">\n<title>26&#45;&gt;50</title>\n<path fill=\"none\" stroke=\"#000000\" d=\"M3200.8503,-504.9465C3224.1881,-492.4997 3250.4577,-478.4892 3273.3227,-466.2946\"/>\n<polygon fill=\"#000000\" stroke=\"#000000\" points=\"3275.057,-469.3363 3282.2334,-461.5422 3271.7628,-463.1599 3275.057,-469.3363\"/>\n</g>\n<!-- 7 -->\n<g id=\"node66\" class=\"node\">\n<title>7</title>\n<polygon fill=\"none\" stroke=\"#000000\" points=\"2909,-885 2707,-885 2707,-817 2909,-817 2909,-885\"/>\n<text text-anchor=\"middle\" x=\"2808\" y=\"-869.8\" font-family=\"Helvetica,sans-Serif\" font-size=\"14.00\" fill=\"#000000\">X[0] &lt;= 1.5</text>\n<text text-anchor=\"middle\" x=\"2808\" y=\"-854.8\" font-family=\"Helvetica,sans-Serif\" font-size=\"14.00\" fill=\"#000000\">squared_error = 388600.441</text>\n<text text-anchor=\"middle\" x=\"2808\" y=\"-839.8\" font-family=\"Helvetica,sans-Serif\" font-size=\"14.00\" fill=\"#000000\">samples = 58</text>\n<text text-anchor=\"middle\" x=\"2808\" y=\"-824.8\" font-family=\"Helvetica,sans-Serif\" font-size=\"14.00\" fill=\"#000000\">value = 1577.845</text>\n</g>\n<!-- 2&#45;&gt;7 -->\n<g id=\"edge65\" class=\"edge\">\n<title>2&#45;&gt;7</title>\n<path fill=\"none\" stroke=\"#000000\" d=\"M2808,-920.9465C2808,-912.776 2808,-903.9318 2808,-895.3697\"/>\n<polygon fill=\"#000000\" stroke=\"#000000\" points=\"2811.5001,-895.13 2808,-885.13 2804.5001,-895.13 2811.5001,-895.13\"/>\n</g>\n<!-- 8 -->\n<g id=\"node69\" class=\"node\">\n<title>8</title>\n<polygon fill=\"none\" stroke=\"#000000\" points=\"3346,-885 3136,-885 3136,-817 3346,-817 3346,-885\"/>\n<text text-anchor=\"middle\" x=\"3241\" y=\"-869.8\" font-family=\"Helvetica,sans-Serif\" font-size=\"14.00\" fill=\"#000000\">X[3] &lt;= 5.848</text>\n<text text-anchor=\"middle\" x=\"3241\" y=\"-854.8\" font-family=\"Helvetica,sans-Serif\" font-size=\"14.00\" fill=\"#000000\">squared_error = 1968099.831</text>\n<text text-anchor=\"middle\" x=\"3241\" y=\"-839.8\" font-family=\"Helvetica,sans-Serif\" font-size=\"14.00\" fill=\"#000000\">samples = 59</text>\n<text text-anchor=\"middle\" x=\"3241\" y=\"-824.8\" font-family=\"Helvetica,sans-Serif\" font-size=\"14.00\" fill=\"#000000\">value = 3419.39</text>\n</g>\n<!-- 2&#45;&gt;8 -->\n<g id=\"edge68\" class=\"edge\">\n<title>2&#45;&gt;8</title>\n<path fill=\"none\" stroke=\"#000000\" d=\"M2913.0935,-929.7581C2977.3772,-914.3182 3059.6725,-894.5521 3125.7368,-878.6845\"/>\n<polygon fill=\"#000000\" stroke=\"#000000\" points=\"3126.8719,-882.0114 3135.778,-876.2727 3125.2371,-875.205 3126.8719,-882.0114\"/>\n</g>\n<!-- 45 -->\n<g id=\"node67\" class=\"node\">\n<title>45</title>\n<polygon fill=\"none\" stroke=\"#000000\" points=\"2804,-773.5 2602,-773.5 2602,-720.5 2804,-720.5 2804,-773.5\"/>\n<text text-anchor=\"middle\" x=\"2703\" y=\"-758.3\" font-family=\"Helvetica,sans-Serif\" font-size=\"14.00\" fill=\"#000000\">squared_error = 132305.444</text>\n<text text-anchor=\"middle\" x=\"2703\" y=\"-743.3\" font-family=\"Helvetica,sans-Serif\" font-size=\"14.00\" fill=\"#000000\">samples = 23</text>\n<text text-anchor=\"middle\" x=\"2703\" y=\"-728.3\" font-family=\"Helvetica,sans-Serif\" font-size=\"14.00\" fill=\"#000000\">value = 1148.652</text>\n</g>\n<!-- 7&#45;&gt;45 -->\n<g id=\"edge66\" class=\"edge\">\n<title>7&#45;&gt;45</title>\n<path fill=\"none\" stroke=\"#000000\" d=\"M2773.6191,-816.9465C2761.831,-805.2707 2748.6538,-792.219 2736.9038,-780.5809\"/>\n<polygon fill=\"#000000\" stroke=\"#000000\" points=\"2739.3652,-778.0927 2729.7974,-773.5422 2734.4392,-783.066 2739.3652,-778.0927\"/>\n</g>\n<!-- 46 -->\n<g id=\"node68\" class=\"node\">\n<title>46</title>\n<polygon fill=\"none\" stroke=\"#000000\" points=\"3016,-773.5 2822,-773.5 2822,-720.5 3016,-720.5 3016,-773.5\"/>\n<text text-anchor=\"middle\" x=\"2919\" y=\"-758.3\" font-family=\"Helvetica,sans-Serif\" font-size=\"14.00\" fill=\"#000000\">squared_error = 356425.93</text>\n<text text-anchor=\"middle\" x=\"2919\" y=\"-743.3\" font-family=\"Helvetica,sans-Serif\" font-size=\"14.00\" fill=\"#000000\">samples = 35</text>\n<text text-anchor=\"middle\" x=\"2919\" y=\"-728.3\" font-family=\"Helvetica,sans-Serif\" font-size=\"14.00\" fill=\"#000000\">value = 1859.886</text>\n</g>\n<!-- 7&#45;&gt;46 -->\n<g id=\"edge67\" class=\"edge\">\n<title>7&#45;&gt;46</title>\n<path fill=\"none\" stroke=\"#000000\" d=\"M2844.3456,-816.9465C2856.8072,-805.2707 2870.7374,-792.219 2883.1588,-780.5809\"/>\n<polygon fill=\"#000000\" stroke=\"#000000\" points=\"2885.7669,-782.9335 2890.6713,-773.5422 2880.9809,-777.8253 2885.7669,-782.9335\"/>\n</g>\n<!-- 9 -->\n<g id=\"node70\" class=\"node\">\n<title>9</title>\n<polygon fill=\"none\" stroke=\"#000000\" points=\"3342,-781 3140,-781 3140,-713 3342,-713 3342,-781\"/>\n<text text-anchor=\"middle\" x=\"3241\" y=\"-765.8\" font-family=\"Helvetica,sans-Serif\" font-size=\"14.00\" fill=\"#000000\">X[4] &lt;= 0.727</text>\n<text text-anchor=\"middle\" x=\"3241\" y=\"-750.8\" font-family=\"Helvetica,sans-Serif\" font-size=\"14.00\" fill=\"#000000\">squared_error = 768396.757</text>\n<text text-anchor=\"middle\" x=\"3241\" y=\"-735.8\" font-family=\"Helvetica,sans-Serif\" font-size=\"14.00\" fill=\"#000000\">samples = 32</text>\n<text text-anchor=\"middle\" x=\"3241\" y=\"-720.8\" font-family=\"Helvetica,sans-Serif\" font-size=\"14.00\" fill=\"#000000\">value = 2491.844</text>\n</g>\n<!-- 8&#45;&gt;9 -->\n<g id=\"edge69\" class=\"edge\">\n<title>8&#45;&gt;9</title>\n<path fill=\"none\" stroke=\"#000000\" d=\"M3241,-816.9465C3241,-808.776 3241,-799.9318 3241,-791.3697\"/>\n<polygon fill=\"#000000\" stroke=\"#000000\" points=\"3244.5001,-791.13 3241,-781.13 3237.5001,-791.13 3244.5001,-791.13\"/>\n</g>\n<!-- 10 -->\n<g id=\"node75\" class=\"node\">\n<title>10</title>\n<polygon fill=\"none\" stroke=\"#000000\" points=\"3674,-781 3464,-781 3464,-713 3674,-713 3674,-781\"/>\n<text text-anchor=\"middle\" x=\"3569\" y=\"-765.8\" font-family=\"Helvetica,sans-Serif\" font-size=\"14.00\" fill=\"#000000\">X[0] &lt;= 2.5</text>\n<text text-anchor=\"middle\" x=\"3569\" y=\"-750.8\" font-family=\"Helvetica,sans-Serif\" font-size=\"14.00\" fill=\"#000000\">squared_error = 1161814.875</text>\n<text text-anchor=\"middle\" x=\"3569\" y=\"-735.8\" font-family=\"Helvetica,sans-Serif\" font-size=\"14.00\" fill=\"#000000\">samples = 27</text>\n<text text-anchor=\"middle\" x=\"3569\" y=\"-720.8\" font-family=\"Helvetica,sans-Serif\" font-size=\"14.00\" fill=\"#000000\">value = 4518.704</text>\n</g>\n<!-- 8&#45;&gt;10 -->\n<g id=\"edge74\" class=\"edge\">\n<title>8&#45;&gt;10</title>\n<path fill=\"none\" stroke=\"#000000\" d=\"M3346.1347,-817.6646C3380.5614,-806.7488 3418.9783,-794.5678 3454.0888,-783.4353\"/>\n<polygon fill=\"#000000\" stroke=\"#000000\" points=\"3455.4236,-786.6838 3463.898,-780.325 3453.3078,-780.0112 3455.4236,-786.6838\"/>\n</g>\n<!-- 31 -->\n<g id=\"node71\" class=\"node\">\n<title>31</title>\n<polygon fill=\"none\" stroke=\"#000000\" points=\"3238,-669.5 3036,-669.5 3036,-616.5 3238,-616.5 3238,-669.5\"/>\n<text text-anchor=\"middle\" x=\"3137\" y=\"-654.3\" font-family=\"Helvetica,sans-Serif\" font-size=\"14.00\" fill=\"#000000\">squared_error = 420535.694</text>\n<text text-anchor=\"middle\" x=\"3137\" y=\"-639.3\" font-family=\"Helvetica,sans-Serif\" font-size=\"14.00\" fill=\"#000000\">samples = 22</text>\n<text text-anchor=\"middle\" x=\"3137\" y=\"-624.3\" font-family=\"Helvetica,sans-Serif\" font-size=\"14.00\" fill=\"#000000\">value = 2869.818</text>\n</g>\n<!-- 9&#45;&gt;31 -->\n<g id=\"edge70\" class=\"edge\">\n<title>9&#45;&gt;31</title>\n<path fill=\"none\" stroke=\"#000000\" d=\"M3206.9465,-712.9465C3195.3809,-701.3809 3182.4652,-688.4652 3170.9107,-676.9107\"/>\n<polygon fill=\"#000000\" stroke=\"#000000\" points=\"3173.0881,-674.1384 3163.5422,-669.5422 3168.1384,-679.0881 3173.0881,-674.1384\"/>\n</g>\n<!-- 32 -->\n<g id=\"node72\" class=\"node\">\n<title>32</title>\n<polygon fill=\"none\" stroke=\"#000000\" points=\"3450,-677 3256,-677 3256,-609 3450,-609 3450,-677\"/>\n<text text-anchor=\"middle\" x=\"3353\" y=\"-661.8\" font-family=\"Helvetica,sans-Serif\" font-size=\"14.00\" fill=\"#000000\">X[0] &lt;= 7.0</text>\n<text text-anchor=\"middle\" x=\"3353\" y=\"-646.8\" font-family=\"Helvetica,sans-Serif\" font-size=\"14.00\" fill=\"#000000\">squared_error = 527923.81</text>\n<text text-anchor=\"middle\" x=\"3353\" y=\"-631.8\" font-family=\"Helvetica,sans-Serif\" font-size=\"14.00\" fill=\"#000000\">samples = 10</text>\n<text text-anchor=\"middle\" x=\"3353\" y=\"-616.8\" font-family=\"Helvetica,sans-Serif\" font-size=\"14.00\" fill=\"#000000\">value = 1660.3</text>\n</g>\n<!-- 9&#45;&gt;32 -->\n<g id=\"edge71\" class=\"edge\">\n<title>9&#45;&gt;32</title>\n<path fill=\"none\" stroke=\"#000000\" d=\"M3277.673,-712.9465C3287.6323,-703.6986 3298.5211,-693.5876 3308.8468,-683.9994\"/>\n<polygon fill=\"#000000\" stroke=\"#000000\" points=\"3311.2982,-686.4993 3316.2446,-677.13 3306.5351,-681.3698 3311.2982,-686.4993\"/>\n</g>\n<!-- 63 -->\n<g id=\"node73\" class=\"node\">\n<title>63</title>\n<polygon fill=\"none\" stroke=\"#000000\" points=\"3445.5,-565.5 3260.5,-565.5 3260.5,-512.5 3445.5,-512.5 3445.5,-565.5\"/>\n<text text-anchor=\"middle\" x=\"3353\" y=\"-550.3\" font-family=\"Helvetica,sans-Serif\" font-size=\"14.00\" fill=\"#000000\">squared_error = 216074.0</text>\n<text text-anchor=\"middle\" x=\"3353\" y=\"-535.3\" font-family=\"Helvetica,sans-Serif\" font-size=\"14.00\" fill=\"#000000\">samples = 6</text>\n<text text-anchor=\"middle\" x=\"3353\" y=\"-520.3\" font-family=\"Helvetica,sans-Serif\" font-size=\"14.00\" fill=\"#000000\">value = 2148.0</text>\n</g>\n<!-- 32&#45;&gt;63 -->\n<g id=\"edge72\" class=\"edge\">\n<title>32&#45;&gt;63</title>\n<path fill=\"none\" stroke=\"#000000\" d=\"M3353,-608.9465C3353,-598.2621 3353,-586.4254 3353,-575.5742\"/>\n<polygon fill=\"#000000\" stroke=\"#000000\" points=\"3356.5001,-575.5421 3353,-565.5422 3349.5001,-575.5422 3356.5001,-575.5421\"/>\n</g>\n<!-- 64 -->\n<g id=\"node74\" class=\"node\">\n<title>64</title>\n<polygon fill=\"none\" stroke=\"#000000\" points=\"3666,-565.5 3464,-565.5 3464,-512.5 3666,-512.5 3666,-565.5\"/>\n<text text-anchor=\"middle\" x=\"3565\" y=\"-550.3\" font-family=\"Helvetica,sans-Serif\" font-size=\"14.00\" fill=\"#000000\">squared_error = 103756.188</text>\n<text text-anchor=\"middle\" x=\"3565\" y=\"-535.3\" font-family=\"Helvetica,sans-Serif\" font-size=\"14.00\" fill=\"#000000\">samples = 4</text>\n<text text-anchor=\"middle\" x=\"3565\" y=\"-520.3\" font-family=\"Helvetica,sans-Serif\" font-size=\"14.00\" fill=\"#000000\">value = 928.75</text>\n</g>\n<!-- 32&#45;&gt;64 -->\n<g id=\"edge73\" class=\"edge\">\n<title>32&#45;&gt;64</title>\n<path fill=\"none\" stroke=\"#000000\" d=\"M3422.4167,-608.9465C3448.0137,-596.3895 3476.8546,-582.2411 3501.8663,-569.9712\"/>\n<polygon fill=\"#000000\" stroke=\"#000000\" points=\"3503.4584,-573.0887 3510.8948,-565.5422 3500.3754,-566.8042 3503.4584,-573.0887\"/>\n</g>\n<!-- 19 -->\n<g id=\"node76\" class=\"node\">\n<title>19</title>\n<polygon fill=\"none\" stroke=\"#000000\" points=\"3670,-669.5 3468,-669.5 3468,-616.5 3670,-616.5 3670,-669.5\"/>\n<text text-anchor=\"middle\" x=\"3569\" y=\"-654.3\" font-family=\"Helvetica,sans-Serif\" font-size=\"14.00\" fill=\"#000000\">squared_error = 226656.128</text>\n<text text-anchor=\"middle\" x=\"3569\" y=\"-639.3\" font-family=\"Helvetica,sans-Serif\" font-size=\"14.00\" fill=\"#000000\">samples = 20</text>\n<text text-anchor=\"middle\" x=\"3569\" y=\"-624.3\" font-family=\"Helvetica,sans-Serif\" font-size=\"14.00\" fill=\"#000000\">value = 3986.85</text>\n</g>\n<!-- 10&#45;&gt;19 -->\n<g id=\"edge75\" class=\"edge\">\n<title>10&#45;&gt;19</title>\n<path fill=\"none\" stroke=\"#000000\" d=\"M3569,-712.9465C3569,-702.2621 3569,-690.4254 3569,-679.5742\"/>\n<polygon fill=\"#000000\" stroke=\"#000000\" points=\"3572.5001,-679.5421 3569,-669.5422 3565.5001,-679.5422 3572.5001,-679.5421\"/>\n</g>\n<!-- 20 -->\n<g id=\"node77\" class=\"node\">\n<title>20</title>\n<polygon fill=\"none\" stroke=\"#000000\" points=\"3890,-677 3688,-677 3688,-609 3890,-609 3890,-677\"/>\n<text text-anchor=\"middle\" x=\"3789\" y=\"-661.8\" font-family=\"Helvetica,sans-Serif\" font-size=\"14.00\" fill=\"#000000\">X[5] &lt;= 7.563</text>\n<text text-anchor=\"middle\" x=\"3789\" y=\"-646.8\" font-family=\"Helvetica,sans-Serif\" font-size=\"14.00\" fill=\"#000000\">squared_error = 716372.204</text>\n<text text-anchor=\"middle\" x=\"3789\" y=\"-631.8\" font-family=\"Helvetica,sans-Serif\" font-size=\"14.00\" fill=\"#000000\">samples = 7</text>\n<text text-anchor=\"middle\" x=\"3789\" y=\"-616.8\" font-family=\"Helvetica,sans-Serif\" font-size=\"14.00\" fill=\"#000000\">value = 6038.286</text>\n</g>\n<!-- 10&#45;&gt;20 -->\n<g id=\"edge76\" class=\"edge\">\n<title>10&#45;&gt;20</title>\n<path fill=\"none\" stroke=\"#000000\" d=\"M3641.0362,-712.9465C3662.3084,-702.8906 3685.7396,-691.814 3707.56,-681.4989\"/>\n<polygon fill=\"#000000\" stroke=\"#000000\" points=\"3709.257,-684.5681 3716.8019,-677.13 3706.2654,-678.2396 3709.257,-684.5681\"/>\n</g>\n<!-- 57 -->\n<g id=\"node78\" class=\"node\">\n<title>57</title>\n<polygon fill=\"none\" stroke=\"#000000\" points=\"3845,-565.5 3701,-565.5 3701,-512.5 3845,-512.5 3845,-565.5\"/>\n<text text-anchor=\"middle\" x=\"3773\" y=\"-550.3\" font-family=\"Helvetica,sans-Serif\" font-size=\"14.00\" fill=\"#000000\">squared_error = 0.0</text>\n<text text-anchor=\"middle\" x=\"3773\" y=\"-535.3\" font-family=\"Helvetica,sans-Serif\" font-size=\"14.00\" fill=\"#000000\">samples = 1</text>\n<text text-anchor=\"middle\" x=\"3773\" y=\"-520.3\" font-family=\"Helvetica,sans-Serif\" font-size=\"14.00\" fill=\"#000000\">value = 7836.0</text>\n</g>\n<!-- 20&#45;&gt;57 -->\n<g id=\"edge77\" class=\"edge\">\n<title>20&#45;&gt;57</title>\n<path fill=\"none\" stroke=\"#000000\" d=\"M3783.761,-608.9465C3782.1172,-598.2621 3780.2962,-586.4254 3778.6268,-575.5742\"/>\n<polygon fill=\"#000000\" stroke=\"#000000\" points=\"3782.0634,-574.8937 3777.0834,-565.5422 3775.1448,-575.9581 3782.0634,-574.8937\"/>\n</g>\n<!-- 58 -->\n<g id=\"node79\" class=\"node\">\n<title>58</title>\n<polygon fill=\"none\" stroke=\"#000000\" points=\"4065,-565.5 3863,-565.5 3863,-512.5 4065,-512.5 4065,-565.5\"/>\n<text text-anchor=\"middle\" x=\"3964\" y=\"-550.3\" font-family=\"Helvetica,sans-Serif\" font-size=\"14.00\" fill=\"#000000\">squared_error = 207366.556</text>\n<text text-anchor=\"middle\" x=\"3964\" y=\"-535.3\" font-family=\"Helvetica,sans-Serif\" font-size=\"14.00\" fill=\"#000000\">samples = 6</text>\n<text text-anchor=\"middle\" x=\"3964\" y=\"-520.3\" font-family=\"Helvetica,sans-Serif\" font-size=\"14.00\" fill=\"#000000\">value = 5738.667</text>\n</g>\n<!-- 20&#45;&gt;58 -->\n<g id=\"edge78\" class=\"edge\">\n<title>20&#45;&gt;58</title>\n<path fill=\"none\" stroke=\"#000000\" d=\"M3846.3015,-608.9465C3866.9677,-596.6649 3890.1956,-582.8609 3910.5221,-570.7811\"/>\n<polygon fill=\"#000000\" stroke=\"#000000\" points=\"3912.5293,-573.6598 3919.3377,-565.5422 3908.9531,-567.6422 3912.5293,-573.6598\"/>\n</g>\n</g>\n</svg>\n"
          },
          "metadata": {},
          "execution_count": 32
        }
      ],
      "source": [
        "from sklearn import tree\n",
        "import pydot\n",
        "import graphviz\n",
        "\n",
        "dot_data = tree.export_graphviz(dtr, out_file=None) \n",
        "graph = graphviz.Source(dot_data) \n",
        "graph"
      ]
    },
    {
      "cell_type": "markdown",
      "metadata": {
        "_uuid": "461c888c8cc9764b480223859cbef7352e88b57f",
        "id": "Cdn8h57Q_R4r"
      },
      "source": [
        "Randomized search cv with cross validation"
      ]
    },
    {
      "cell_type": "code",
      "execution_count": 33,
      "metadata": {
        "_uuid": "d28a4eb062c08e503db4ed1cce46c2a26c2f7788",
        "id": "AQDNBFhb_R4r"
      },
      "outputs": [],
      "source": [
        "from scipy.stats import randint as sp_randint\n",
        "param_random = {\"criterion\": [\"mse\", \"mae\"],\n",
        "              \"min_samples_split\": sp_randint(1, 5, 10),\n",
        "              \"max_depth\": [2, 6, 8],\n",
        "              \"min_samples_leaf\": sp_randint(5, 10,20),\n",
        "              \"max_leaf_nodes\": sp_randint( 10, 20, 40),\n",
        "              }"
      ]
    },
    {
      "cell_type": "markdown",
      "metadata": {
        "_uuid": "91c5945b67aa62d656c660afe0be3c359fabdc74",
        "id": "sHWVd4V1_R4r"
      },
      "source": [
        "Trained the Random Search CV model"
      ]
    },
    {
      "cell_type": "code",
      "execution_count": 34,
      "metadata": {
        "_uuid": "348eef21cd3947abd75b93aae90d853570802333",
        "id": "Ok0F_YC5_R4r"
      },
      "outputs": [],
      "source": [
        "X_train=training_attributes\n",
        "\n",
        "randomized_cv_dtr = RandomizedSearchCV(dtr, param_random, cv=3,random_state=32)"
      ]
    },
    {
      "cell_type": "markdown",
      "metadata": {
        "_uuid": "64cf8c32881e1a22a911fee47b4e91baef8769b7",
        "id": "zUw4lvFV_R4r"
      },
      "source": [
        "fit the model"
      ]
    },
    {
      "cell_type": "code",
      "execution_count": 35,
      "metadata": {
        "_uuid": "18b9a845fb726e22080f4d5b60915aa92f670eba",
        "colab": {
          "base_uri": "https://localhost:8080/"
        },
        "id": "K0WHY2J0_R4r",
        "outputId": "bf0b2849-fe1b-43c2-d851-05b24c249a80"
      },
      "outputs": [
        {
          "output_type": "execute_result",
          "data": {
            "text/plain": [
              "RandomizedSearchCV(cv=3, estimator=DecisionTreeRegressor(max_leaf_nodes=40),\n",
              "                   param_distributions={'criterion': ['mse', 'mae'],\n",
              "                                        'max_depth': [2, 6, 8],\n",
              "                                        'max_leaf_nodes': <scipy.stats._distn_infrastructure.rv_frozen object at 0x7f96833b4bd0>,\n",
              "                                        'min_samples_leaf': <scipy.stats._distn_infrastructure.rv_frozen object at 0x7f968334cb90>,\n",
              "                                        'min_samples_split': <scipy.stats._distn_infrastructure.rv_frozen object at 0x7f968334c950>},\n",
              "                   random_state=32)"
            ]
          },
          "metadata": {},
          "execution_count": 35
        }
      ],
      "source": [
        "randomized_cv_dtr.fit(X_train,y_train)"
      ]
    },
    {
      "cell_type": "markdown",
      "metadata": {
        "_uuid": "06149528e8e7eaebfbfee93ab6349cf7df192304",
        "id": "Oqs0jS6D_R4r"
      },
      "source": [
        "model best score and best parameters"
      ]
    },
    {
      "cell_type": "code",
      "execution_count": 36,
      "metadata": {
        "_uuid": "9abadca4d8cba05b91a8c6d840b179f6c588a4f5",
        "colab": {
          "base_uri": "https://localhost:8080/"
        },
        "id": "FaRA7fJ9_R4s",
        "outputId": "7117ab68-46e4-4ecd-c625-3e41f40da25d"
      },
      "outputs": [
        {
          "output_type": "stream",
          "name": "stdout",
          "text": [
            "0.7280870251681694\n",
            "{'criterion': 'mse', 'max_depth': 6, 'max_leaf_nodes': 55, 'min_samples_leaf': 26, 'min_samples_split': 13}\n"
          ]
        }
      ],
      "source": [
        "print(randomized_cv_dtr.best_score_)\n",
        "print(randomized_cv_dtr.best_params_)"
      ]
    },
    {
      "cell_type": "markdown",
      "metadata": {
        "_uuid": "efffda03686a0aa2f9d2606cc17b673d053a11b6",
        "id": "7W0X7QTY_R4s"
      },
      "source": [
        "Parameter hypertuning  results"
      ]
    },
    {
      "cell_type": "code",
      "execution_count": 37,
      "metadata": {
        "_uuid": "2a2c566a40c5ce4a74d2db0a524c43dc20e6945c",
        "colab": {
          "base_uri": "https://localhost:8080/",
          "height": 617
        },
        "id": "CX7_XYnY_R4s",
        "outputId": "299616db-f88b-499c-e498-2d27f4c0d8f9"
      },
      "outputs": [
        {
          "output_type": "execute_result",
          "data": {
            "text/plain": [
              "   mean_fit_time  std_fit_time  mean_score_time  std_score_time  \\\n",
              "0       0.009107      0.000914         0.001899        0.000102   \n",
              "1       0.002490      0.000079         0.001731        0.000047   \n",
              "2       0.008651      0.000103         0.001912        0.000064   \n",
              "3       0.008334      0.000105         0.001760        0.000018   \n",
              "4       0.002751      0.000057         0.001738        0.000053   \n",
              "\n",
              "  param_criterion param_max_depth param_max_leaf_nodes param_min_samples_leaf  \\\n",
              "0             mae               6                   56                     29   \n",
              "1             mse               2                   57                     26   \n",
              "2             mae               8                   59                     29   \n",
              "3             mae               6                   52                     28   \n",
              "4             mse               8                   54                     27   \n",
              "\n",
              "  param_min_samples_split                                             params  \\\n",
              "0                      13  {'criterion': 'mae', 'max_depth': 6, 'max_leaf...   \n",
              "1                      14  {'criterion': 'mse', 'max_depth': 2, 'max_leaf...   \n",
              "2                      14  {'criterion': 'mae', 'max_depth': 8, 'max_leaf...   \n",
              "3                      11  {'criterion': 'mae', 'max_depth': 6, 'max_leaf...   \n",
              "4                      11  {'criterion': 'mse', 'max_depth': 8, 'max_leaf...   \n",
              "\n",
              "   split0_test_score  split1_test_score  split2_test_score  mean_test_score  \\\n",
              "0           0.683623           0.611755           0.635674         0.643684   \n",
              "1           0.660275           0.612985           0.390165         0.554475   \n",
              "2           0.683623           0.611755           0.635674         0.643684   \n",
              "3           0.691424           0.611755           0.635674         0.646284   \n",
              "4           0.717820           0.710849           0.741306         0.723325   \n",
              "\n",
              "   std_test_score  rank_test_score  \n",
              "0        0.029882                8  \n",
              "1        0.117778               10  \n",
              "2        0.029882                8  \n",
              "3        0.033379                7  \n",
              "4        0.013029                3  "
            ],
            "text/html": [
              "\n",
              "  <div id=\"df-c0597065-f0c2-4def-a215-8ca753326bdb\">\n",
              "    <div class=\"colab-df-container\">\n",
              "      <div>\n",
              "<style scoped>\n",
              "    .dataframe tbody tr th:only-of-type {\n",
              "        vertical-align: middle;\n",
              "    }\n",
              "\n",
              "    .dataframe tbody tr th {\n",
              "        vertical-align: top;\n",
              "    }\n",
              "\n",
              "    .dataframe thead th {\n",
              "        text-align: right;\n",
              "    }\n",
              "</style>\n",
              "<table border=\"1\" class=\"dataframe\">\n",
              "  <thead>\n",
              "    <tr style=\"text-align: right;\">\n",
              "      <th></th>\n",
              "      <th>mean_fit_time</th>\n",
              "      <th>std_fit_time</th>\n",
              "      <th>mean_score_time</th>\n",
              "      <th>std_score_time</th>\n",
              "      <th>param_criterion</th>\n",
              "      <th>param_max_depth</th>\n",
              "      <th>param_max_leaf_nodes</th>\n",
              "      <th>param_min_samples_leaf</th>\n",
              "      <th>param_min_samples_split</th>\n",
              "      <th>params</th>\n",
              "      <th>split0_test_score</th>\n",
              "      <th>split1_test_score</th>\n",
              "      <th>split2_test_score</th>\n",
              "      <th>mean_test_score</th>\n",
              "      <th>std_test_score</th>\n",
              "      <th>rank_test_score</th>\n",
              "    </tr>\n",
              "  </thead>\n",
              "  <tbody>\n",
              "    <tr>\n",
              "      <th>0</th>\n",
              "      <td>0.009107</td>\n",
              "      <td>0.000914</td>\n",
              "      <td>0.001899</td>\n",
              "      <td>0.000102</td>\n",
              "      <td>mae</td>\n",
              "      <td>6</td>\n",
              "      <td>56</td>\n",
              "      <td>29</td>\n",
              "      <td>13</td>\n",
              "      <td>{'criterion': 'mae', 'max_depth': 6, 'max_leaf...</td>\n",
              "      <td>0.683623</td>\n",
              "      <td>0.611755</td>\n",
              "      <td>0.635674</td>\n",
              "      <td>0.643684</td>\n",
              "      <td>0.029882</td>\n",
              "      <td>8</td>\n",
              "    </tr>\n",
              "    <tr>\n",
              "      <th>1</th>\n",
              "      <td>0.002490</td>\n",
              "      <td>0.000079</td>\n",
              "      <td>0.001731</td>\n",
              "      <td>0.000047</td>\n",
              "      <td>mse</td>\n",
              "      <td>2</td>\n",
              "      <td>57</td>\n",
              "      <td>26</td>\n",
              "      <td>14</td>\n",
              "      <td>{'criterion': 'mse', 'max_depth': 2, 'max_leaf...</td>\n",
              "      <td>0.660275</td>\n",
              "      <td>0.612985</td>\n",
              "      <td>0.390165</td>\n",
              "      <td>0.554475</td>\n",
              "      <td>0.117778</td>\n",
              "      <td>10</td>\n",
              "    </tr>\n",
              "    <tr>\n",
              "      <th>2</th>\n",
              "      <td>0.008651</td>\n",
              "      <td>0.000103</td>\n",
              "      <td>0.001912</td>\n",
              "      <td>0.000064</td>\n",
              "      <td>mae</td>\n",
              "      <td>8</td>\n",
              "      <td>59</td>\n",
              "      <td>29</td>\n",
              "      <td>14</td>\n",
              "      <td>{'criterion': 'mae', 'max_depth': 8, 'max_leaf...</td>\n",
              "      <td>0.683623</td>\n",
              "      <td>0.611755</td>\n",
              "      <td>0.635674</td>\n",
              "      <td>0.643684</td>\n",
              "      <td>0.029882</td>\n",
              "      <td>8</td>\n",
              "    </tr>\n",
              "    <tr>\n",
              "      <th>3</th>\n",
              "      <td>0.008334</td>\n",
              "      <td>0.000105</td>\n",
              "      <td>0.001760</td>\n",
              "      <td>0.000018</td>\n",
              "      <td>mae</td>\n",
              "      <td>6</td>\n",
              "      <td>52</td>\n",
              "      <td>28</td>\n",
              "      <td>11</td>\n",
              "      <td>{'criterion': 'mae', 'max_depth': 6, 'max_leaf...</td>\n",
              "      <td>0.691424</td>\n",
              "      <td>0.611755</td>\n",
              "      <td>0.635674</td>\n",
              "      <td>0.646284</td>\n",
              "      <td>0.033379</td>\n",
              "      <td>7</td>\n",
              "    </tr>\n",
              "    <tr>\n",
              "      <th>4</th>\n",
              "      <td>0.002751</td>\n",
              "      <td>0.000057</td>\n",
              "      <td>0.001738</td>\n",
              "      <td>0.000053</td>\n",
              "      <td>mse</td>\n",
              "      <td>8</td>\n",
              "      <td>54</td>\n",
              "      <td>27</td>\n",
              "      <td>11</td>\n",
              "      <td>{'criterion': 'mse', 'max_depth': 8, 'max_leaf...</td>\n",
              "      <td>0.717820</td>\n",
              "      <td>0.710849</td>\n",
              "      <td>0.741306</td>\n",
              "      <td>0.723325</td>\n",
              "      <td>0.013029</td>\n",
              "      <td>3</td>\n",
              "    </tr>\n",
              "  </tbody>\n",
              "</table>\n",
              "</div>\n",
              "      <button class=\"colab-df-convert\" onclick=\"convertToInteractive('df-c0597065-f0c2-4def-a215-8ca753326bdb')\"\n",
              "              title=\"Convert this dataframe to an interactive table.\"\n",
              "              style=\"display:none;\">\n",
              "        \n",
              "  <svg xmlns=\"http://www.w3.org/2000/svg\" height=\"24px\"viewBox=\"0 0 24 24\"\n",
              "       width=\"24px\">\n",
              "    <path d=\"M0 0h24v24H0V0z\" fill=\"none\"/>\n",
              "    <path d=\"M18.56 5.44l.94 2.06.94-2.06 2.06-.94-2.06-.94-.94-2.06-.94 2.06-2.06.94zm-11 1L8.5 8.5l.94-2.06 2.06-.94-2.06-.94L8.5 2.5l-.94 2.06-2.06.94zm10 10l.94 2.06.94-2.06 2.06-.94-2.06-.94-.94-2.06-.94 2.06-2.06.94z\"/><path d=\"M17.41 7.96l-1.37-1.37c-.4-.4-.92-.59-1.43-.59-.52 0-1.04.2-1.43.59L10.3 9.45l-7.72 7.72c-.78.78-.78 2.05 0 2.83L4 21.41c.39.39.9.59 1.41.59.51 0 1.02-.2 1.41-.59l7.78-7.78 2.81-2.81c.8-.78.8-2.07 0-2.86zM5.41 20L4 18.59l7.72-7.72 1.47 1.35L5.41 20z\"/>\n",
              "  </svg>\n",
              "      </button>\n",
              "      \n",
              "  <style>\n",
              "    .colab-df-container {\n",
              "      display:flex;\n",
              "      flex-wrap:wrap;\n",
              "      gap: 12px;\n",
              "    }\n",
              "\n",
              "    .colab-df-convert {\n",
              "      background-color: #E8F0FE;\n",
              "      border: none;\n",
              "      border-radius: 50%;\n",
              "      cursor: pointer;\n",
              "      display: none;\n",
              "      fill: #1967D2;\n",
              "      height: 32px;\n",
              "      padding: 0 0 0 0;\n",
              "      width: 32px;\n",
              "    }\n",
              "\n",
              "    .colab-df-convert:hover {\n",
              "      background-color: #E2EBFA;\n",
              "      box-shadow: 0px 1px 2px rgba(60, 64, 67, 0.3), 0px 1px 3px 1px rgba(60, 64, 67, 0.15);\n",
              "      fill: #174EA6;\n",
              "    }\n",
              "\n",
              "    [theme=dark] .colab-df-convert {\n",
              "      background-color: #3B4455;\n",
              "      fill: #D2E3FC;\n",
              "    }\n",
              "\n",
              "    [theme=dark] .colab-df-convert:hover {\n",
              "      background-color: #434B5C;\n",
              "      box-shadow: 0px 1px 3px 1px rgba(0, 0, 0, 0.15);\n",
              "      filter: drop-shadow(0px 1px 2px rgba(0, 0, 0, 0.3));\n",
              "      fill: #FFFFFF;\n",
              "    }\n",
              "  </style>\n",
              "\n",
              "      <script>\n",
              "        const buttonEl =\n",
              "          document.querySelector('#df-c0597065-f0c2-4def-a215-8ca753326bdb button.colab-df-convert');\n",
              "        buttonEl.style.display =\n",
              "          google.colab.kernel.accessAllowed ? 'block' : 'none';\n",
              "\n",
              "        async function convertToInteractive(key) {\n",
              "          const element = document.querySelector('#df-c0597065-f0c2-4def-a215-8ca753326bdb');\n",
              "          const dataTable =\n",
              "            await google.colab.kernel.invokeFunction('convertToInteractive',\n",
              "                                                     [key], {});\n",
              "          if (!dataTable) return;\n",
              "\n",
              "          const docLinkHtml = 'Like what you see? Visit the ' +\n",
              "            '<a target=\"_blank\" href=https://colab.research.google.com/notebooks/data_table.ipynb>data table notebook</a>'\n",
              "            + ' to learn more about interactive tables.';\n",
              "          element.innerHTML = '';\n",
              "          dataTable['output_type'] = 'display_data';\n",
              "          await google.colab.output.renderOutput(dataTable, element);\n",
              "          const docLink = document.createElement('div');\n",
              "          docLink.innerHTML = docLinkHtml;\n",
              "          element.appendChild(docLink);\n",
              "        }\n",
              "      </script>\n",
              "    </div>\n",
              "  </div>\n",
              "  "
            ]
          },
          "metadata": {},
          "execution_count": 37
        }
      ],
      "source": [
        "df=pd.DataFrame(data=randomized_cv_dtr.cv_results_)\n",
        "df.head()"
      ]
    },
    {
      "cell_type": "markdown",
      "metadata": {
        "_uuid": "3079eedcb07d804a833b99ff5a8df67483f8ac4c",
        "id": "Q01IWtxs_R4s"
      },
      "source": [
        "Effect of depth and leaf nodes on model performance"
      ]
    },
    {
      "cell_type": "code",
      "execution_count": 38,
      "metadata": {
        "_uuid": "2f531fab43aed3c46dbd78586bdc0a60956b9da6",
        "colab": {
          "base_uri": "https://localhost:8080/",
          "height": 296
        },
        "id": "LWc6gGBw_R4s",
        "outputId": "520df862-5866-4a17-d226-b7060755aecd"
      },
      "outputs": [
        {
          "output_type": "display_data",
          "data": {
            "text/plain": [
              "<Figure size 432x288 with 1 Axes>"
            ],
            "image/png": "[encoded data removed]"
          },
          "metadata": {}
        }
      ],
      "source": [
        "fig,ax = plt.subplots()\n",
        "sns.pointplot(data=df[['mean_test_score',\n",
        "                           'param_max_leaf_nodes',\n",
        "                           'param_max_depth']],\n",
        "             y='mean_test_score',x='param_max_depth',\n",
        "             hue='param_max_leaf_nodes',ax=ax)\n",
        "ax.set(title=\"Effect of Depth and Leaf Nodes on Model Performance\")\n",
        "plt.show()"
      ]
    },
    {
      "cell_type": "markdown",
      "metadata": {
        "_uuid": "a50efeb93037d4870aca4f1a600c97a990afbe60",
        "id": "YeB3pixR_R4s"
      },
      "source": [
        "Residual plot"
      ]
    },
    {
      "cell_type": "code",
      "execution_count": 39,
      "metadata": {
        "_uuid": "6180a9e1e142e7e9dd6e3c5b9f530ca96fbf731d",
        "colab": {
          "base_uri": "https://localhost:8080/",
          "height": 279
        },
        "id": "0gohUHSY_R4t",
        "outputId": "6ff40bef-3c99-4544-a036-3c4a89162d7e"
      },
      "outputs": [
        {
          "output_type": "display_data",
          "data": {
            "text/plain": [
              "<Figure size 432x288 with 1 Axes>"
            ],
            "image/png": "[encoded data removed]"
          },
          "metadata": {}
        }
      ],
      "source": [
        "predicted = randomized_cv_dtr.best_estimator_.predict(X_train)\n",
        "residuals = y_train.flatten()-predicted\n",
        "fig, ax = plt.subplots()\n",
        "ax.scatter(y_train.flatten(), residuals)\n",
        "ax.axhline(lw=2,color='black')\n",
        "ax.set_xlabel('Observed')\n",
        "ax.set_ylabel('Residual')\n",
        "plt.show()"
      ]
    },
    {
      "cell_type": "markdown",
      "metadata": {
        "_uuid": "195fe4cf0c8e5ac6930276827ac63809428959a6",
        "id": "B7q_o8S2_R4t"
      },
      "source": [
        "R-squared and mean squared error scores"
      ]
    },
    {
      "cell_type": "code",
      "execution_count": 40,
      "metadata": {
        "_uuid": "10c767e7df66dbd4daf43f5650f18ea88b39660c",
        "colab": {
          "base_uri": "https://localhost:8080/"
        },
        "id": "VZK7dP2C_R4t",
        "outputId": "7f36f450-2b32-4bf7-f4fa-df88197627c7"
      },
      "outputs": [
        {
          "output_type": "stream",
          "name": "stdout",
          "text": [
            "[0.731676   0.71103742 0.74154765]\n",
            "[ -978452.76087361 -1064372.19511215 -1044460.91481632]\n"
          ]
        }
      ],
      "source": [
        "r2_scores = cross_val_score(randomized_cv_dtr.best_estimator_, X_train, y_train, cv=3)\n",
        "print(r2_scores)\n",
        "mse_scores = cross_val_score(randomized_cv_dtr.best_estimator_, X_train, y_train, cv=3,scoring='neg_mean_squared_error')\n",
        "print(mse_scores)"
      ]
    }
  ],
  "metadata": {
    "kernelspec": {
      "display_name": "Python 3",
      "language": "python",
      "name": "python3"
    },
    "language_info": {
      "codemirror_mode": {
        "name": "ipython",
        "version": 3
      },
      "file_extension": ".py",
      "mimetype": "text/x-python",
      "name": "python",
      "nbconvert_exporter": "python",
      "pygments_lexer": "ipython3",
      "version": "3.6.6"
    },
    "colab": {
      "provenance": []
    }
  },
  "nbformat": 4,
  "nbformat_minor": 0
}