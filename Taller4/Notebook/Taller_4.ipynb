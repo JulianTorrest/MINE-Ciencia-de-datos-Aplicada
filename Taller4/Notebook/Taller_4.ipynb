{
  "nbformat": 4,
  "nbformat_minor": 0,
  "metadata": {
    "colab": {
      "provenance": [],
      "collapsed_sections": [
        "yyVFki8eszAw",
        "OB61Y9sZs3JM",
        "JACXGJ7fs7nZ",
        "wshwLCN7s-D_",
        "TV4U0l0NtHok",
        "qd-u2pWN5AkZ",
        "wKP-wcOyA7Ag",
        "N0OXg72ACOAH",
        "etJgiFZM_dKa"
      ],
      "toc_visible": true
    },
    "kernelspec": {
      "name": "python3",
      "display_name": "Python 3"
    },
    "language_info": {
      "name": "python"
    }
  },
  "cells": [
    {
      "cell_type": "markdown",
      "metadata": {
        "id": "view-in-github"
      },
      "source": [
        "<a href=\"https://colab.research.google.com/github/DavidPachis/dataScience/blob/main/taller4/notebook/Taller4CDA.ipynb\" target=\"_parent\"><img src=\"https://colab.research.google.com/assets/colab-badge.svg\" alt=\"Open In Colab\"/></a>"
      ]
    },
    {
      "cell_type": "markdown",
      "source": [
        "# **Taller 4**\n",
        ">Julian Yamid Torres Torres jy.torres@uniandes.edu.co <br>\n",
        "\n",
        "\n",
        ">MINE-4101: Ciencia de Dato Aplicada\n",
        "\n",
        ">Univerisdad de los Andes\n",
        "\n",
        ">Semestre: 2022-2"
      ],
      "metadata": {
        "id": "UtsTaH2EZo4r"
      }
    },
    {
      "cell_type": "markdown",
      "source": [
        "## IMPORTACIÓN DE LIBRERÍAS"
      ],
      "metadata": {
        "id": "yyVFki8eszAw"
      }
    },
    {
      "cell_type": "code",
      "execution_count": null,
      "metadata": {
        "id": "R6INSNvsOmD4"
      },
      "outputs": [],
      "source": [
        "import numpy as np\n",
        "import pandas as pd\n",
        "import seaborn as sns\n",
        "import tensorflow as tf\n",
        "#import keras_tuner as kt\n",
        "import joblib as jbl\n",
        "import warnings\n",
        "\n",
        "warnings.filterwarnings(\"ignore\")\n",
        "\n",
        "from sklearn import tree\n",
        "\n",
        "from sklearn.preprocessing import StandardScaler, PolynomialFeatures\n",
        "\n",
        "from sklearn.model_selection import train_test_split, GridSearchCV, cross_val_score\n",
        "\n",
        "from sklearn.pipeline import Pipeline\n",
        "\n",
        "from sklearn.linear_model import LogisticRegression, Ridge, Lasso\n",
        "\n",
        "from sklearn.ensemble import RandomForestClassifier\n",
        "\n",
        "from sklearn.metrics import roc_auc_score , classification_report , ConfusionMatrixDisplay"
      ]
    },
    {
      "cell_type": "code",
      "source": [
        "# Dataset de Entrenamiento\n",
        "url = \"https://raw.githubusercontent.com/JulianTorrest/MINE-Ciencia-de-datos-Aplicada/main/Taller4/data/DataSet_Entrenamiento_v1.json\"\n",
        "df = pd.read_json(url)"
      ],
      "metadata": {
        "id": "hloTw1UwPEGa"
      },
      "execution_count": null,
      "outputs": []
    },
    {
      "cell_type": "markdown",
      "source": [
        "##Actividades"
      ],
      "metadata": {
        "id": "ZKzqNO3jBqZL"
      }
    },
    {
      "cell_type": "markdown",
      "source": [
        "### Proceso de Limpieza"
      ],
      "metadata": {
        "id": "OB61Y9sZs3JM"
      }
    },
    {
      "cell_type": "code",
      "source": [
        "def cleaning(dataset):\n",
        "  # Limpiar TotalCharges con valor 0 \n",
        "  dataset.loc[dataset[\"tenure\"] == 0, \"TotalCharges\"] = \"0\"\n",
        "  dataset['TotalCharges'].astype(float)\n",
        "  # Asociar las columnas\n",
        "  objetivo  = dataset[\"Churn\"]\n",
        "  numericas = dataset[[\"MonthlyCharges\",\"tenure\",\"SeniorCitizen\",\"TotalCharges\"]]\n",
        "  gender = dataset[\"gender\"]\n",
        "  categoricas_1 = dataset[['Partner','PhoneService','PaperlessBilling','Dependents']]\n",
        "  categoricas_2 = dataset[[\n",
        "      \"InternetService\",\"OnlineSecurity\",\"OnlineBackup\",\"DeviceProtection\",\"TechSupport\",\n",
        "      \"StreamingTV\",\"StreamingMovies\",\"Contract\",\"PaymentMethod\"\n",
        "      ]]\n",
        "  excluidas = dataset[[\"customerID\",\"MultipleLines\"]]\n",
        "\n",
        "  #Realizar la transformación\n",
        "  objetivo = objetivo.replace(['No', 'Yes'],[0, 1])\n",
        "  gender = gender.replace(['Female', 'Male'],[0, 1])\n",
        "  categoricas_1 = categoricas_1.replace(['No', 'Yes'],[0, 1])\n",
        "  categoricas_2 = pd.get_dummies(categoricas_2)\n",
        "  numericas = numericas.astype(float)\n",
        "\n",
        "  #Limpieza del dataset\n",
        "  clean_dataset = pd.DataFrame().join([objetivo,gender,categoricas_1,categoricas_2,numericas], how=\"outer\")\n",
        "  return clean_dataset"
      ],
      "metadata": {
        "id": "C3cKFEll56ii"
      },
      "execution_count": null,
      "outputs": []
    },
    {
      "cell_type": "code",
      "source": [
        "def cleaning_1(dataset):\n",
        "  # Limpiar TotalCharges con valor 0\n",
        "  dataset.loc[dataset[\"tenure\"] == 0, \"TotalCharges\"] = \"0\"\n",
        "  dataset['TotalCharges'].astype(float)\n",
        "  # Asociar las columnas\n",
        "  numericas = dataset[[\"MonthlyCharges\",\"tenure\",\"SeniorCitizen\",\"TotalCharges\"]]\n",
        "  gender = dataset[\"gender\"]\n",
        "  categoricas_1 = dataset[['Partner','PhoneService','PaperlessBilling','Dependents']]\n",
        "  categoricas_2 = dataset[[\n",
        "      \"InternetService\",\"OnlineSecurity\",\"OnlineBackup\",\"DeviceProtection\",\"TechSupport\",\n",
        "      \"StreamingTV\",\"StreamingMovies\",\"Contract\",\"PaymentMethod\"\n",
        "      ]]\n",
        "  excluidas = dataset[[\"customerID\",\"MultipleLines\"]]\n",
        "\n",
        "  #Transformación\n",
        "  gender = gender.replace(['Female', 'Male'],[0, 1])\n",
        "  categoricas_1 = categoricas_1.replace(['No', 'Yes'],[0, 1])\n",
        "  categoricas_2 = pd.get_dummies(categoricas_2)\n",
        "  numericas = numericas.astype(float)\n",
        "\n",
        "  #Limpieza del dataset\n",
        "  clean_dataset = pd.DataFrame().join([gender,categoricas_1,categoricas_2,numericas], how=\"outer\")\n",
        "  return clean_dataset"
      ],
      "metadata": {
        "id": "ZvJH9OmLSrsi"
      },
      "execution_count": null,
      "outputs": []
    },
    {
      "cell_type": "markdown",
      "source": [
        "### Regresión Logistica"
      ],
      "metadata": {
        "id": "JACXGJ7fs7nZ"
      }
    },
    {
      "cell_type": "code",
      "source": [
        "def logistic_model(dataset):\n",
        "\n",
        "    #dividir el X y Y \n",
        "    X = dataset.drop(\"Churn\", axis=1)\n",
        "    Y = dataset[\"Churn\"]\n",
        "    X_train, X_test, Y_train, Y_test = train_test_split(X, Y, test_size = 0.3, stratify = Y, random_state = 33)\n",
        "\n",
        "    scaler = StandardScaler()\n",
        "\n",
        "    #Realizar el pipeline\n",
        "    logistic = LogisticRegression(max_iter=1000, tol=0.1, class_weight = 'balanced', multi_class='multinomial', random_state = 33)\n",
        "    pipe = Pipeline(steps=[(\"scaler\", scaler), (\"polynomial\", PolynomialFeatures()) ,(\"logistic\", logistic)])\n",
        "    param_grid = {\n",
        "        \"polynomial__degree\": [1, 2],\n",
        "        \"polynomial__interaction_only\":[True, False],\n",
        "        \"polynomial__include_bias\":[True, False],\n",
        "        \"logistic__penalty\":['l2', 'elasticnet'],\n",
        "        \"logistic__solver\":['liblinear', 'saga'],    \n",
        "    }\n",
        "\n",
        "    #sBuscar el mejor modelo\n",
        "    logistic_model = GridSearchCV(pipe, param_grid, n_jobs=2, scoring = 'roc_auc', cv=5).fit(X, Y)\n",
        "\n",
        "\n",
        "    v_score_logistic = cross_val_score(logistic_model, X_train, Y_train, cv=5, scoring='roc_auc').mean()\n",
        "    \n",
        "    return v_score_logistic, logistic_model"
      ],
      "metadata": {
        "id": "5sHOfPnVMrv4"
      },
      "execution_count": null,
      "outputs": []
    },
    {
      "cell_type": "markdown",
      "source": [
        "### Decision Tree"
      ],
      "metadata": {
        "id": "wshwLCN7s-D_"
      }
    },
    {
      "cell_type": "code",
      "source": [
        "def dtree_model(dataset):\n",
        "\n",
        "    #dividir el X y Y \n",
        "    X = dataset.drop(\"Churn\", axis=1)\n",
        "    Y = dataset[\"Churn\"]\n",
        "    X_train, X_test, Y_train, Y_test = train_test_split(X, Y, test_size = 0.3, stratify = Y, random_state = 33)\n",
        "\n",
        "    #Pipeline\n",
        "    dtc = tree.DecisionTreeClassifier(class_weight = 'balanced',  random_state = 33)\n",
        "    pipe = Pipeline([(\"polynomial\", PolynomialFeatures()) ,(\"dtc\", dtc)])\n",
        "\n",
        "    param_grid = {\n",
        "        \"polynomial__degree\": [1, 2],\n",
        "        \"polynomial__interaction_only\":[True, False],\n",
        "        \"polynomial__include_bias\":[True, False],\n",
        "        \"dtc__splitter\": ['best','random'],\n",
        "        \"dtc__criterion\": ['gini','entropy','log_loss'],\n",
        "    }\n",
        "\n",
        "    search = GridSearchCV(pipe, param_grid, n_jobs=30, scoring = 'roc_auc', cv=5)\n",
        "    a = search.fit(X, Y)\n",
        "    best_hyper = search.best_params_\n",
        "\n",
        "    degree = best_hyper['polynomial__degree']\n",
        "    interaction_only = best_hyper['polynomial__interaction_only']\n",
        "    include_bias = best_hyper['polynomial__include_bias']\n",
        "    splitter = best_hyper['dtc__splitter']\n",
        "    criterion = best_hyper['dtc__criterion']\n",
        "    \n",
        "    poly = PolynomialFeatures(degree=degree,  interaction_only=interaction_only, include_bias=include_bias)\n",
        "    X_test_scaled = poly.fit_transform(X_test)\n",
        "    X_train_scaled = poly.fit_transform( X_train)\n",
        "    X_scaled = poly.fit_transform(X)\n",
        "\n",
        "    decision_tree = tree.DecisionTreeClassifier(class_weight = 'balanced', criterion = criterion, splitter = splitter, random_state=33).fit(X_train, Y_train)\n",
        "    #score_decisionTree = roc_auc_score(Y_test, decision_tree.predict_proba(X_test)[:, 1])\n",
        "    v_score_dtree = cross_val_score(decision_tree, X_train, Y_train, cv=5, scoring='roc_auc').mean()\n",
        "                                      \n",
        "    return v_score_dtree, decision_tree"
      ],
      "metadata": {
        "id": "rCmVk3JmdmFM"
      },
      "execution_count": null,
      "outputs": []
    },
    {
      "cell_type": "markdown",
      "source": [
        "### Random Forest"
      ],
      "metadata": {
        "id": "TV4U0l0NtHok"
      }
    },
    {
      "cell_type": "code",
      "source": [
        "def rforest_model(dataset):\n",
        "\n",
        "    #dividir el X y Y \n",
        "    X = dataset.drop(\"Churn\", axis=1)\n",
        "    Y = dataset[\"Churn\"]\n",
        "    X_train, X_test, Y_train, Y_test = train_test_split(X, Y, test_size = 0.3, stratify = Y, random_state = 33)\n",
        "\n",
        "    #Pipeline \n",
        "    rfc = RandomForestClassifier(class_weight = 'balanced',  random_state = 33)\n",
        "    pipe = Pipeline([(\"polynomial\", PolynomialFeatures()) ,(\"rfc\", rfc)])\n",
        "\n",
        "    param_grid = {\n",
        "        \"polynomial__degree\": [1, 2],\n",
        "        \"polynomial__interaction_only\":[True, False],\n",
        "        \"polynomial__include_bias\":[True, False],\n",
        "        \"rfc__criterion\": ['gini','entropy','log_loss'],\n",
        "        \"rfc__max_features\": ['sqrt','log2','auto'],\n",
        "    }\n",
        "\n",
        "    search = GridSearchCV(pipe, param_grid, n_jobs=30, scoring = 'roc_auc', cv=5)\n",
        "    a = search.fit(X, Y)\n",
        "\n",
        "    best_hyper3 = search.best_params_\n",
        "\n",
        "    degree = best_hyper3['polynomial__degree']\n",
        "    interaction_only = best_hyper3['polynomial__interaction_only']\n",
        "    include_bias = best_hyper3['polynomial__include_bias']\n",
        "    criterion = best_hyper3['rfc__criterion']\n",
        "    max_features = best_hyper3['rfc__max_features']\n",
        "\n",
        "    poly = PolynomialFeatures(degree=degree,  interaction_only=interaction_only, include_bias=include_bias)\n",
        "    X_test_scaled = poly.fit_transform(X_test)\n",
        "    X_train_scaled = poly.fit_transform( X_train)\n",
        "    X_scaled = poly.fit_transform(X)\n",
        "\n",
        "    r_forest = RandomForestClassifier(criterion= criterion, class_weight = 'balanced',random_state= 33, max_features = max_features).fit(X_train, Y_train)\n",
        "\n",
        "    #score_r_forest = roc_auc_score(Y_test, r_forest.predict_proba(X_test)[:, 1])\n",
        "    v_score_r_forest = cross_val_score(r_forest, X_train, Y_train, cv=5, scoring='roc_auc').mean()\n",
        "    return v_score_r_forest, r_forest"
      ],
      "metadata": {
        "id": "kaCvMC86TXYc"
      },
      "execution_count": null,
      "outputs": []
    },
    {
      "cell_type": "markdown",
      "source": [
        "### Seleccionar mejor modelo"
      ],
      "metadata": {
        "id": "qd-u2pWN5AkZ"
      }
    },
    {
      "cell_type": "code",
      "source": [
        "def the_best_model(model1,model2,model3):\n",
        "    \n",
        "    #Diccionario con los modelos \n",
        "    v_score1, mod1 = model1\n",
        "    v_score2, mod2 = model2\n",
        "    v_score3, mod3 = model3\n",
        "\n",
        "    max_score = max(v_score1,v_score2,v_score3)\n",
        "  \n",
        "    if max_score==v_score1:\n",
        "      jbl.dump(mod1, 'my_model.pkl')\n",
        "\n",
        "    elif max_score==v_score2:\n",
        "      jbl.dump(mod2, 'my_model.pkl')\n",
        "        \n",
        "    else:\n",
        "      jbl.dump(mod3, 'my_model.pkl')\n",
        "\n",
        "\n",
        "    return print(\n",
        "        \"El mejor modelo ha sido guardado\"\n",
        "        \"\\nCross Validation score for AUC ROC for logistic model is: \",v_score1, \n",
        "        \"\\nCross Validation score for AUC ROC for decition tree model is: \",v_score2, \n",
        "        \"\\nCross Validation score for AUC ROC for random forest model is: \",v_score3\n",
        "        )"
      ],
      "metadata": {
        "id": "GOWn-XHB5Ik6"
      },
      "execution_count": null,
      "outputs": []
    },
    {
      "cell_type": "markdown",
      "source": [
        "## Procesamiento final"
      ],
      "metadata": {
        "id": "wKP-wcOyA7Ag"
      }
    },
    {
      "cell_type": "code",
      "source": [
        "clean_df1 = cleaning(df)\n",
        "lmodel = logistic_model(clean_df1)\n",
        "dtmodel = dtree_model(clean_df1)\n",
        "rfmodel =rforest_model(clean_df1)\n",
        "the_best_model(lmodel,dtmodel,rfmodel)"
      ],
      "metadata": {
        "colab": {
          "base_uri": "https://localhost:8080/"
        },
        "id": "V2RZdE1AASW7",
        "outputId": "dbcef16d-4ead-4ab6-ddfe-d253423ac9e5"
      },
      "execution_count": null,
      "outputs": [
        {
          "output_type": "stream",
          "name": "stdout",
          "text": [
            "El mejor modelo ha sido guardado\n",
            "Cross Validation score for AUC ROC for logistic model is:  0.8427396529314374 \n",
            "Cross Validation score for AUC ROC for decition tree model is:  0.660099358680649 \n",
            "Cross Validation score for AUC ROC for random forest model is:  0.8210868046194065\n"
          ]
        }
      ]
    },
    {
      "cell_type": "markdown",
      "source": [
        "## Preguntas del Taller 04"
      ],
      "metadata": {
        "id": "N0OXg72ACOAH"
      }
    },
    {
      "cell_type": "markdown",
      "source": [
        "### ROC AUC\n",
        "\n",
        "### El ROC es una curva que señala los True Positives y los False Positives de acuerdo a la matriz de conclusión y podemos sacar conclusiones del modelo\n",
        "\n",
        "### El área bajo la curva ROC, se clasifica mejor cuando es mas alto.\n",
        "\n",
        "\n",
        "### La Curva ROC permite indicarnos el comportamiento del modelo con el área bajo la curva de la gráfica, entre mucho más alto menor seran  las predicciones que se cruzan las curvas\n"
      ],
      "metadata": {
        "id": "vvHfuAPgx_ZN"
      }
    },
    {
      "cell_type": "markdown",
      "source": [
        "### ¿Se evidencian problemas de overfitting o underfitting?"
      ],
      "metadata": {
        "id": "etJgiFZM_dKa"
      }
    },
    {
      "cell_type": "code",
      "source": [
        "# sacan los datasets de prueba y test para contestar la pregunta de over o underfitting\n",
        "X_ovun = clean_df1.drop(\"Churn\", axis=1)\n",
        "Y_ovun = clean_df1[\"Churn\"]\n",
        "X_train1, X_test1, Y_train1, Y_test1 = train_test_split(X_ovun, Y_ovun, test_size = 0.3, stratify = Y_ovun, random_state = 33)"
      ],
      "metadata": {
        "id": "MOgBx2WJKBk1"
      },
      "execution_count": null,
      "outputs": []
    },
    {
      "cell_type": "code",
      "source": [
        "v_score1, mod1 = lmodel\n",
        "\n",
        "train_prediction = mod1.predict(X_train1)\n",
        "test_prediction = mod1.predict(X_test1)\n",
        "\n",
        "print(\"Predicción con el conjunto de entrenamiento: \\n\", classification_report(Y_train1, train_prediction))\n",
        "print(\"Predicción con el conjunto de evaluación: \\n\",classification_report(Y_test1, test_prediction))"
      ],
      "metadata": {
        "colab": {
          "base_uri": "https://localhost:8080/"
        },
        "id": "12EFnyf4BZ97",
        "outputId": "f6e89bb4-dd59-4f49-da72-72302b62dc02"
      },
      "execution_count": null,
      "outputs": [
        {
          "output_type": "stream",
          "name": "stdout",
          "text": [
            "Predicción con el conjunto de entrenamiento: \n",
            "               precision    recall  f1-score   support\n",
            "\n",
            "           0       0.91      0.72      0.80      3086\n",
            "           1       0.50      0.79      0.62      1114\n",
            "\n",
            "    accuracy                           0.74      4200\n",
            "   macro avg       0.70      0.75      0.71      4200\n",
            "weighted avg       0.80      0.74      0.75      4200\n",
            "\n",
            "Predicción con el conjunto de evaluación: \n",
            "               precision    recall  f1-score   support\n",
            "\n",
            "           0       0.92      0.69      0.79      1322\n",
            "           1       0.50      0.84      0.62       478\n",
            "\n",
            "    accuracy                           0.73      1800\n",
            "   macro avg       0.71      0.77      0.71      1800\n",
            "weighted avg       0.81      0.73      0.75      1800\n",
            "\n"
          ]
        }
      ]
    },
    {
      "cell_type": "markdown",
      "source": [
        "#### Overfitting: De acuerdo a los resultados , se logra evidenciar la no existencia de sobreajuste , utilizando la precisión y recall como elementos de evaluación. \n",
        "\n",
        "### Underfitting: Para el dataset de evaluación, se evalua que tiene falta de ajuste. "
      ],
      "metadata": {
        "id": "1UQkEoQte4rj"
      }
    },
    {
      "cell_type": "code",
      "source": [
        "print(train_prediction)"
      ],
      "metadata": {
        "colab": {
          "base_uri": "https://localhost:8080/"
        },
        "id": "GZtd9irMReEs",
        "outputId": "23f92310-3936-4030-981b-f1fa7590d986"
      },
      "execution_count": null,
      "outputs": [
        {
          "output_type": "stream",
          "name": "stdout",
          "text": [
            "[0 1 1 ... 0 0 1]\n"
          ]
        }
      ]
    },
    {
      "cell_type": "markdown",
      "source": [
        "## Reentrenamiento"
      ],
      "metadata": {
        "id": "rh9hdL24Ba4G"
      }
    },
    {
      "cell_type": "code",
      "source": [
        "def reentrenamiento(df1,df2):\n",
        "    clean_df1 = cleaning(df1)\n",
        "    clean_df2 = cleaning(df2)\n",
        "    rtrain_df = pd.concat([clean_df1, clean_df2], axis=0)\n",
        "\n",
        "    #dividir el X y Y \n",
        "    X = rtrain_df.drop(\"Churn\", axis=1)\n",
        "    Y = rtrain_df[\"Churn\"]\n",
        "    X_train, X_test, Y_train, Y_test = train_test_split(X, Y, test_size = 0.3, stratify = Y, random_state = 33)\n",
        "\n",
        "    scaler = StandardScaler()\n",
        "\n",
        "    #Pipeline\n",
        "    logistic = LogisticRegression(max_iter=1000, tol=0.1, class_weight = 'balanced', multi_class='multinomial', random_state = 33)\n",
        "    pipe = Pipeline(steps=[(\"scaler\", scaler), (\"polynomial\", PolynomialFeatures()) ,(\"logistic\", logistic)])\n",
        "    param_grid = {\n",
        "        \"polynomial__degree\": [1, 2],\n",
        "        \"polynomial__interaction_only\":[True, False],\n",
        "        \"polynomial__include_bias\":[True, False],\n",
        "        \"logistic__penalty\":['l2', 'elasticnet'],\n",
        "        \"logistic__solver\":['liblinear', 'saga'],    \n",
        "    }\n",
        "\n",
        "    #se busca el mejor modelo y regresa el score\n",
        "    logistic_rtmodel = GridSearchCV(pipe, param_grid, n_jobs=2, scoring = 'roc_auc', cv=5).fit(X, Y)\n",
        "    #score_logistic = roc_auc_score(Y_test, logistic_model.predict_proba(X_test)[:, 1])\n",
        "\n",
        "    #v_score_logistic = cross_val_score(logistic_model, X_train, Y_train, cv=5, scoring='roc_auc').mean()\n",
        "    \n",
        "    return logistic_rtmodel"
      ],
      "metadata": {
        "id": "CDNPwtBZDSZ6"
      },
      "execution_count": null,
      "outputs": []
    },
    {
      "cell_type": "code",
      "source": [
        "# Segundo dataset de entrenamiento\n",
        "url2 = \"https://raw.githubusercontent.com/JulianTorrest/MINE-Ciencia-de-datos-Aplicada/main/Taller4/data/DataSet_Entrenamiento_v2.json\"\n",
        "df2 = pd.read_json(url2)"
      ],
      "metadata": {
        "id": "mvaryHlY-fQf"
      },
      "execution_count": null,
      "outputs": []
    },
    {
      "cell_type": "markdown",
      "source": [
        "### Procesamiento"
      ],
      "metadata": {
        "id": "j8iEFkH0HPHQ"
      }
    },
    {
      "cell_type": "code",
      "source": [
        "#Cargamos el modelo  \n",
        "first_model = jbl.load('Modelo.pkl')\n",
        "\n",
        "# Modelo reentrenado en una variable\n",
        "retrain_model = reentrenamiento(df,df2)"
      ],
      "metadata": {
        "id": "r3PGqkovFmqI"
      },
      "execution_count": null,
      "outputs": []
    },
    {
      "cell_type": "markdown",
      "source": [
        "### Comparar los dos modelos"
      ],
      "metadata": {
        "id": "yrQNJVyaHcbF"
      }
    },
    {
      "cell_type": "code",
      "source": [
        "clean_df2 = cleaning(df2)\n",
        "rtrain_df = pd.concat([clean_df1, clean_df2], axis=0)\n",
        "\n",
        "X_last = rtrain_df.drop(\"Churn\", axis=1)\n",
        "Y_last = rtrain_df[\"Churn\"]\n",
        "X_train, X_test, Y_train, Y_test = train_test_split(X_last, Y_last, test_size = 0.3, stratify = Y_last, random_state = 33)"
      ],
      "metadata": {
        "id": "irS185-FHVkO"
      },
      "execution_count": null,
      "outputs": []
    },
    {
      "cell_type": "code",
      "source": [
        "predictions_v1 = first_model.predict(X_test)\n",
        "ConfusionMatrixDisplay.from_predictions(Y_test, predictions_v1)\n",
        "print(classification_report(Y_test, predictions_v1))\n",
        "print(roc_auc_score(Y_test, first_model.predict_proba(X_test)[:, 1]))"
      ],
      "metadata": {
        "colab": {
          "base_uri": "https://localhost:8080/",
          "height": 453
        },
        "id": "9nL-V1O1F6mV",
        "outputId": "600c7da1-5c2b-497c-9041-f0eba9f43b46"
      },
      "execution_count": null,
      "outputs": [
        {
          "output_type": "stream",
          "name": "stdout",
          "text": [
            "              precision    recall  f1-score   support\n",
            "\n",
            "           0       0.91      0.70      0.79      1543\n",
            "           1       0.49      0.81      0.61       557\n",
            "\n",
            "    accuracy                           0.73      2100\n",
            "   macro avg       0.70      0.75      0.70      2100\n",
            "weighted avg       0.80      0.73      0.74      2100\n",
            "\n",
            "0.8297750540752178\n"
          ]
        },
        {
          "output_type": "display_data",
          "data": {
            "text/plain": [
              "<Figure size 432x288 with 2 Axes>"
            ],
            "image/png": "[encoded data removed]"
          },
          "metadata": {
            "needs_background": "light"
          }
        }
      ]
    },
    {
      "cell_type": "code",
      "source": [
        "predictions_v2 = retrain_model.predict(X_test)\n",
        "ConfusionMatrixDisplay.from_predictions(Y_test, predictions_v2)\n",
        "print(classification_report(Y_test, predictions_v2))\n",
        "print(roc_auc_score(Y_test, retrain_model.predict_proba(X_test)[:, 1]))"
      ],
      "metadata": {
        "colab": {
          "base_uri": "https://localhost:8080/",
          "height": 453
        },
        "id": "accIf7rPPgMC",
        "outputId": "67f8c47b-fbb5-4e2c-8642-64005016942b"
      },
      "execution_count": null,
      "outputs": [
        {
          "output_type": "stream",
          "name": "stdout",
          "text": [
            "              precision    recall  f1-score   support\n",
            "\n",
            "           0       0.91      0.73      0.81      1543\n",
            "           1       0.51      0.79      0.62       557\n",
            "\n",
            "    accuracy                           0.74      2100\n",
            "   macro avg       0.71      0.76      0.71      2100\n",
            "weighted avg       0.80      0.74      0.76      2100\n",
            "\n",
            "0.8345816108189996\n"
          ]
        },
        {
          "output_type": "display_data",
          "data": {
            "text/plain": [
              "<Figure size 432x288 with 2 Axes>"
            ],
            "image/png": "[encoded data removed]"
          },
          "metadata": {
            "needs_background": "light"
          }
        }
      ]
    },
    {
      "cell_type": "code",
      "source": [
        "# Dataset para pronostico\n",
        "url3 = \"https://raw.githubusercontent.com/JulianTorrest/MINE-Ciencia-de-datos-Aplicada/main/Taller4/data/DataSet_Prediccion.json\"\n",
        "df3 = pd.read_json(url3)"
      ],
      "metadata": {
        "id": "0CepNFykNcJp"
      },
      "execution_count": null,
      "outputs": []
    },
    {
      "cell_type": "code",
      "source": [
        "def get_final_pred_mv1(dataset):\n",
        "\n",
        "    # Limpieza para ingerir el modelo\n",
        "    clean_df3 = cleaning_1(dataset)\n",
        "\n",
        "    # Realizar pronostico con el ultimo modelo\n",
        "    df_predicted = pd.DataFrame(retrain_model.predict(clean_df3)).replace([0, 1],['No', 'Yes'])\n",
        "    df_precited_proba = pd.DataFrame(retrain_model.predict_proba(clean_df3)[:, 1])\n",
        "    df_predicted[\"proba\"] = df_precited_proba\n",
        "    df_predicted.columns =['Churn', 'Proba']\n",
        "\n",
        "    return df_predicted"
      ],
      "metadata": {
        "id": "Sspo7RzIS3cf"
      },
      "execution_count": null,
      "outputs": []
    },
    {
      "cell_type": "markdown",
      "source": [
        "## Bono!!!"
      ],
      "metadata": {
        "id": "GUUgYd8CZqNM"
      }
    },
    {
      "cell_type": "code",
      "source": [
        "def get_final_pred_mv0(dataset):\n",
        "\n",
        "    # Limpieza para cargar el modelo\n",
        "    clean_df3 = cleaning_1(dataset)\n",
        "\n",
        "    # Pronostico con el primer modelo\n",
        "    df_predicted = pd.DataFrame(first_model.predict(clean_df3)).replace([0, 1],['No', 'Yes'])\n",
        "    df_precited_proba = pd.DataFrame(first_model.predict_proba(clean_df3)[:, 1])\n",
        "    df_predicted[\"proba\"] = df_precited_proba\n",
        "    df_predicted.columns =['Churn', 'Proba']\n",
        "\n",
        "    return df_predicted"
      ],
      "metadata": {
        "id": "CNmAV7NKZssg"
      },
      "execution_count": null,
      "outputs": []
    },
    {
      "cell_type": "code",
      "source": [
        "print(get_final_pred_mv1(df3).head(10))\n",
        "print(get_final_pred_mv0(df3).head(10))"
      ],
      "metadata": {
        "colab": {
          "base_uri": "https://localhost:8080/"
        },
        "id": "E4NHYIaIXnk7",
        "outputId": "9bf36e6d-ffb2-474a-a744-3ea1b9802603"
      },
      "execution_count": null,
      "outputs": [
        {
          "output_type": "stream",
          "name": "stdout",
          "text": [
            "  Churn     Proba\n",
            "0   Yes  0.773903\n",
            "1   Yes  0.908847\n",
            "2    No  0.412959\n",
            "3    No  0.063696\n",
            "4   Yes  0.545185\n",
            "5   Yes  0.632094\n",
            "6   Yes  0.709613\n",
            "7   Yes  0.603133\n",
            "8    No  0.020007\n",
            "9   Yes  0.770729\n",
            "  Churn     Proba\n",
            "0   Yes  0.786923\n",
            "1   Yes  0.881516\n",
            "2   Yes  0.702191\n",
            "3    No  0.118040\n",
            "4   Yes  0.677070\n",
            "5   Yes  0.779126\n",
            "6   Yes  0.609935\n",
            "7   Yes  0.734856\n",
            "8    No  0.009930\n",
            "9   Yes  0.813835\n"
          ]
        }
      ]
    }
  ]
}