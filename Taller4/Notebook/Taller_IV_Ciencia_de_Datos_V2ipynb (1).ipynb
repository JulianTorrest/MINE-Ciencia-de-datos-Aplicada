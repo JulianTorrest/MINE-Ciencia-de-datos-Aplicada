{
  "metadata": {
    "kernelspec": {
      "language": "python",
      "display_name": "Python 3",
      "name": "python3"
    },
    "language_info": {
      "name": "python",
      "version": "3.7.12",
      "mimetype": "text/x-python",
      "codemirror_mode": {
        "name": "ipython",
        "version": 3
      },
      "pygments_lexer": "ipython3",
      "nbconvert_exporter": "python",
      "file_extension": ".py"
    },
    "colab": {
      "provenance": []
    }
  },
  "nbformat_minor": 0,
  "nbformat": 4,
  "cells": [
    {
      "cell_type": "code",
      "source": [
        "\n",
        "\n",
        "import numpy as np # linear algebra\n",
        "import pandas as pd # data processing, CSV file I/O (e.g. pd.read_csv)\n",
        "\n",
        "# Input data files are available in the read-only \"../input/\" directory\n",
        "# For example, running this (by clicking run or pressing Shift+Enter) will list all files under the input directory\n"
      ],
      "metadata": {
        "execution": {
          "iopub.status.busy": "2022-11-11T23:36:16.308324Z",
          "iopub.execute_input": "2022-11-11T23:36:16.308732Z",
          "iopub.status.idle": "2022-11-11T23:36:16.328017Z",
          "shell.execute_reply.started": "2022-11-11T23:36:16.308698Z",
          "shell.execute_reply": "2022-11-11T23:36:16.326744Z"
        },
        "trusted": true,
        "id": "Rdan3-gWuhZj"
      },
      "execution_count": null,
      "outputs": []
    },
    {
      "cell_type": "markdown",
      "source": [
        "#### Importing Libraries."
      ],
      "metadata": {
        "id": "7_LIGdnruhZl"
      }
    },
    {
      "cell_type": "code",
      "source": [
        "import pandas as pd\n",
        "import numpy as np\n",
        "import matplotlib.pyplot as plt\n",
        "import seaborn as sns\n",
        "import plotly.express as px\n",
        "from sklearn.metrics import accuracy_score, confusion_matrix, classification_report\n",
        "from yellowbrick.classifier import ConfusionMatrix\n",
        "from sklearn.tree import DecisionTreeClassifier\n",
        "from sklearn.metrics import r2_score\n",
        "from sklearn.metrics import mean_absolute_error, mean_squared_error\n",
        "from sklearn.model_selection import GridSearchCV"
      ],
      "metadata": {
        "execution": {
          "iopub.status.busy": "2022-11-11T23:36:17.076611Z",
          "iopub.execute_input": "2022-11-11T23:36:17.077783Z",
          "iopub.status.idle": "2022-11-11T23:36:17.083405Z",
          "shell.execute_reply.started": "2022-11-11T23:36:17.077741Z",
          "shell.execute_reply": "2022-11-11T23:36:17.082551Z"
        },
        "trusted": true,
        "id": "KTesAfQxuhZl"
      },
      "execution_count": null,
      "outputs": []
    },
    {
      "cell_type": "markdown",
      "source": [
        "## <font color='blue'> 1. Importing Dataset. </font>"
      ],
      "metadata": {
        "id": "0Aq-v5_luhZl"
      }
    },
    {
      "cell_type": "markdown",
      "source": [
        "#### Here we are reading the database using the name \"df\" in the variable."
      ],
      "metadata": {
        "id": "0QAcCMRguhZl"
      }
    },
    {
      "cell_type": "code",
      "source": [
        "from google.colab import drive\n",
        "\n",
        "drive.mount(\"/content/gdrive\")"
      ],
      "metadata": {
        "colab": {
          "base_uri": "https://localhost:8080/"
        },
        "id": "r3hI4hYeur5b",
        "outputId": "d4129f5d-e1d0-41f7-8f10-8c198e67c1ef"
      },
      "execution_count": null,
      "outputs": [
        {
          "output_type": "stream",
          "name": "stdout",
          "text": [
            "Drive already mounted at /content/gdrive; to attempt to forcibly remount, call drive.mount(\"/content/gdrive\", force_remount=True).\n"
          ]
        }
      ]
    },
    {
      "cell_type": "code",
      "source": [
        "df = pd.read_json('/content/gdrive/MyDrive/Taller IV Ciencia de Datos/DataSet_Entrenamiento_v1.json')"
      ],
      "metadata": {
        "execution": {
          "iopub.status.busy": "2022-11-11T23:36:18.017328Z",
          "iopub.execute_input": "2022-11-11T23:36:18.017765Z",
          "iopub.status.idle": "2022-11-11T23:36:18.051354Z",
          "shell.execute_reply.started": "2022-11-11T23:36:18.017729Z",
          "shell.execute_reply": "2022-11-11T23:36:18.050110Z"
        },
        "trusted": true,
        "id": "L_djlsMVuhZm"
      },
      "execution_count": null,
      "outputs": []
    },
    {
      "cell_type": "code",
      "source": [
        "pd.set_option('display.max_columns', None)"
      ],
      "metadata": {
        "execution": {
          "iopub.status.busy": "2022-11-11T23:36:18.321271Z",
          "iopub.execute_input": "2022-11-11T23:36:18.321708Z",
          "iopub.status.idle": "2022-11-11T23:36:18.326723Z",
          "shell.execute_reply.started": "2022-11-11T23:36:18.321672Z",
          "shell.execute_reply": "2022-11-11T23:36:18.325697Z"
        },
        "trusted": true,
        "id": "ll_ihK-fuhZm"
      },
      "execution_count": null,
      "outputs": []
    },
    {
      "cell_type": "code",
      "source": [
        "df.head()"
      ],
      "metadata": {
        "execution": {
          "iopub.status.busy": "2022-11-11T23:36:18.646260Z",
          "iopub.execute_input": "2022-11-11T23:36:18.646983Z",
          "iopub.status.idle": "2022-11-11T23:36:18.669325Z",
          "shell.execute_reply.started": "2022-11-11T23:36:18.646946Z",
          "shell.execute_reply": "2022-11-11T23:36:18.668125Z"
        },
        "trusted": true,
        "colab": {
          "base_uri": "https://localhost:8080/",
          "height": 357
        },
        "id": "AdaoIQYHuhZm",
        "outputId": "1dd669d9-6d7e-4fb1-8eb2-7cc53a4b6d5d"
      },
      "execution_count": null,
      "outputs": [
        {
          "output_type": "execute_result",
          "data": {
            "text/plain": [
              "   customerID  gender  SeniorCitizen Partner Dependents  tenure PhoneService  \\\n",
              "0  7590-VHVEG  Female              0     Yes         No       1           No   \n",
              "1  5575-GNVDE    Male              0      No         No      34          Yes   \n",
              "2  3668-QPYBK    Male              0      No         No       2          Yes   \n",
              "3  5386-THSLQ  Female              1     Yes         No      66           No   \n",
              "4  3192-NQECA    Male              0     Yes         No      68          Yes   \n",
              "\n",
              "      MultipleLines InternetService OnlineSecurity OnlineBackup  \\\n",
              "0  No phone service             DSL             No          Yes   \n",
              "1                No             DSL            Yes           No   \n",
              "2                No             DSL            Yes          Yes   \n",
              "3  No phone service             DSL             No          Yes   \n",
              "4               Yes     Fiber optic             No          Yes   \n",
              "\n",
              "  DeviceProtection TechSupport StreamingTV StreamingMovies        Contract  \\\n",
              "0               No          No          No              No  Month-to-month   \n",
              "1              Yes          No          No              No        One year   \n",
              "2               No          No          No              No  Month-to-month   \n",
              "3              Yes          No         Yes              No        One year   \n",
              "4              Yes         Yes         Yes             Yes        Two year   \n",
              "\n",
              "  PaperlessBilling              PaymentMethod  MonthlyCharges TotalCharges  \\\n",
              "0              Yes           Electronic check           29.85        29.85   \n",
              "1               No               Mailed check           56.95       1889.5   \n",
              "2              Yes               Mailed check           53.85       108.15   \n",
              "3               No  Bank transfer (automatic)           45.55      3027.25   \n",
              "4              Yes  Bank transfer (automatic)          110.00      7611.85   \n",
              "\n",
              "  Churn  \n",
              "0    No  \n",
              "1    No  \n",
              "2   Yes  \n",
              "3    No  \n",
              "4   Yes  "
            ],
            "text/html": [
              "\n",
              "  <div id=\"df-531002b3-7d65-47db-987c-5f4f26671132\">\n",
              "    <div class=\"colab-df-container\">\n",
              "      <div>\n",
              "<style scoped>\n",
              "    .dataframe tbody tr th:only-of-type {\n",
              "        vertical-align: middle;\n",
              "    }\n",
              "\n",
              "    .dataframe tbody tr th {\n",
              "        vertical-align: top;\n",
              "    }\n",
              "\n",
              "    .dataframe thead th {\n",
              "        text-align: right;\n",
              "    }\n",
              "</style>\n",
              "<table border=\"1\" class=\"dataframe\">\n",
              "  <thead>\n",
              "    <tr style=\"text-align: right;\">\n",
              "      <th></th>\n",
              "      <th>customerID</th>\n",
              "      <th>gender</th>\n",
              "      <th>SeniorCitizen</th>\n",
              "      <th>Partner</th>\n",
              "      <th>Dependents</th>\n",
              "      <th>tenure</th>\n",
              "      <th>PhoneService</th>\n",
              "      <th>MultipleLines</th>\n",
              "      <th>InternetService</th>\n",
              "      <th>OnlineSecurity</th>\n",
              "      <th>OnlineBackup</th>\n",
              "      <th>DeviceProtection</th>\n",
              "      <th>TechSupport</th>\n",
              "      <th>StreamingTV</th>\n",
              "      <th>StreamingMovies</th>\n",
              "      <th>Contract</th>\n",
              "      <th>PaperlessBilling</th>\n",
              "      <th>PaymentMethod</th>\n",
              "      <th>MonthlyCharges</th>\n",
              "      <th>TotalCharges</th>\n",
              "      <th>Churn</th>\n",
              "    </tr>\n",
              "  </thead>\n",
              "  <tbody>\n",
              "    <tr>\n",
              "      <th>0</th>\n",
              "      <td>7590-VHVEG</td>\n",
              "      <td>Female</td>\n",
              "      <td>0</td>\n",
              "      <td>Yes</td>\n",
              "      <td>No</td>\n",
              "      <td>1</td>\n",
              "      <td>No</td>\n",
              "      <td>No phone service</td>\n",
              "      <td>DSL</td>\n",
              "      <td>No</td>\n",
              "      <td>Yes</td>\n",
              "      <td>No</td>\n",
              "      <td>No</td>\n",
              "      <td>No</td>\n",
              "      <td>No</td>\n",
              "      <td>Month-to-month</td>\n",
              "      <td>Yes</td>\n",
              "      <td>Electronic check</td>\n",
              "      <td>29.85</td>\n",
              "      <td>29.85</td>\n",
              "      <td>No</td>\n",
              "    </tr>\n",
              "    <tr>\n",
              "      <th>1</th>\n",
              "      <td>5575-GNVDE</td>\n",
              "      <td>Male</td>\n",
              "      <td>0</td>\n",
              "      <td>No</td>\n",
              "      <td>No</td>\n",
              "      <td>34</td>\n",
              "      <td>Yes</td>\n",
              "      <td>No</td>\n",
              "      <td>DSL</td>\n",
              "      <td>Yes</td>\n",
              "      <td>No</td>\n",
              "      <td>Yes</td>\n",
              "      <td>No</td>\n",
              "      <td>No</td>\n",
              "      <td>No</td>\n",
              "      <td>One year</td>\n",
              "      <td>No</td>\n",
              "      <td>Mailed check</td>\n",
              "      <td>56.95</td>\n",
              "      <td>1889.5</td>\n",
              "      <td>No</td>\n",
              "    </tr>\n",
              "    <tr>\n",
              "      <th>2</th>\n",
              "      <td>3668-QPYBK</td>\n",
              "      <td>Male</td>\n",
              "      <td>0</td>\n",
              "      <td>No</td>\n",
              "      <td>No</td>\n",
              "      <td>2</td>\n",
              "      <td>Yes</td>\n",
              "      <td>No</td>\n",
              "      <td>DSL</td>\n",
              "      <td>Yes</td>\n",
              "      <td>Yes</td>\n",
              "      <td>No</td>\n",
              "      <td>No</td>\n",
              "      <td>No</td>\n",
              "      <td>No</td>\n",
              "      <td>Month-to-month</td>\n",
              "      <td>Yes</td>\n",
              "      <td>Mailed check</td>\n",
              "      <td>53.85</td>\n",
              "      <td>108.15</td>\n",
              "      <td>Yes</td>\n",
              "    </tr>\n",
              "    <tr>\n",
              "      <th>3</th>\n",
              "      <td>5386-THSLQ</td>\n",
              "      <td>Female</td>\n",
              "      <td>1</td>\n",
              "      <td>Yes</td>\n",
              "      <td>No</td>\n",
              "      <td>66</td>\n",
              "      <td>No</td>\n",
              "      <td>No phone service</td>\n",
              "      <td>DSL</td>\n",
              "      <td>No</td>\n",
              "      <td>Yes</td>\n",
              "      <td>Yes</td>\n",
              "      <td>No</td>\n",
              "      <td>Yes</td>\n",
              "      <td>No</td>\n",
              "      <td>One year</td>\n",
              "      <td>No</td>\n",
              "      <td>Bank transfer (automatic)</td>\n",
              "      <td>45.55</td>\n",
              "      <td>3027.25</td>\n",
              "      <td>No</td>\n",
              "    </tr>\n",
              "    <tr>\n",
              "      <th>4</th>\n",
              "      <td>3192-NQECA</td>\n",
              "      <td>Male</td>\n",
              "      <td>0</td>\n",
              "      <td>Yes</td>\n",
              "      <td>No</td>\n",
              "      <td>68</td>\n",
              "      <td>Yes</td>\n",
              "      <td>Yes</td>\n",
              "      <td>Fiber optic</td>\n",
              "      <td>No</td>\n",
              "      <td>Yes</td>\n",
              "      <td>Yes</td>\n",
              "      <td>Yes</td>\n",
              "      <td>Yes</td>\n",
              "      <td>Yes</td>\n",
              "      <td>Two year</td>\n",
              "      <td>Yes</td>\n",
              "      <td>Bank transfer (automatic)</td>\n",
              "      <td>110.00</td>\n",
              "      <td>7611.85</td>\n",
              "      <td>Yes</td>\n",
              "    </tr>\n",
              "  </tbody>\n",
              "</table>\n",
              "</div>\n",
              "      <button class=\"colab-df-convert\" onclick=\"convertToInteractive('df-531002b3-7d65-47db-987c-5f4f26671132')\"\n",
              "              title=\"Convert this dataframe to an interactive table.\"\n",
              "              style=\"display:none;\">\n",
              "        \n",
              "  <svg xmlns=\"http://www.w3.org/2000/svg\" height=\"24px\"viewBox=\"0 0 24 24\"\n",
              "       width=\"24px\">\n",
              "    <path d=\"M0 0h24v24H0V0z\" fill=\"none\"/>\n",
              "    <path d=\"M18.56 5.44l.94 2.06.94-2.06 2.06-.94-2.06-.94-.94-2.06-.94 2.06-2.06.94zm-11 1L8.5 8.5l.94-2.06 2.06-.94-2.06-.94L8.5 2.5l-.94 2.06-2.06.94zm10 10l.94 2.06.94-2.06 2.06-.94-2.06-.94-.94-2.06-.94 2.06-2.06.94z\"/><path d=\"M17.41 7.96l-1.37-1.37c-.4-.4-.92-.59-1.43-.59-.52 0-1.04.2-1.43.59L10.3 9.45l-7.72 7.72c-.78.78-.78 2.05 0 2.83L4 21.41c.39.39.9.59 1.41.59.51 0 1.02-.2 1.41-.59l7.78-7.78 2.81-2.81c.8-.78.8-2.07 0-2.86zM5.41 20L4 18.59l7.72-7.72 1.47 1.35L5.41 20z\"/>\n",
              "  </svg>\n",
              "      </button>\n",
              "      \n",
              "  <style>\n",
              "    .colab-df-container {\n",
              "      display:flex;\n",
              "      flex-wrap:wrap;\n",
              "      gap: 12px;\n",
              "    }\n",
              "\n",
              "    .colab-df-convert {\n",
              "      background-color: #E8F0FE;\n",
              "      border: none;\n",
              "      border-radius: 50%;\n",
              "      cursor: pointer;\n",
              "      display: none;\n",
              "      fill: #1967D2;\n",
              "      height: 32px;\n",
              "      padding: 0 0 0 0;\n",
              "      width: 32px;\n",
              "    }\n",
              "\n",
              "    .colab-df-convert:hover {\n",
              "      background-color: #E2EBFA;\n",
              "      box-shadow: 0px 1px 2px rgba(60, 64, 67, 0.3), 0px 1px 3px 1px rgba(60, 64, 67, 0.15);\n",
              "      fill: #174EA6;\n",
              "    }\n",
              "\n",
              "    [theme=dark] .colab-df-convert {\n",
              "      background-color: #3B4455;\n",
              "      fill: #D2E3FC;\n",
              "    }\n",
              "\n",
              "    [theme=dark] .colab-df-convert:hover {\n",
              "      background-color: #434B5C;\n",
              "      box-shadow: 0px 1px 3px 1px rgba(0, 0, 0, 0.15);\n",
              "      filter: drop-shadow(0px 1px 2px rgba(0, 0, 0, 0.3));\n",
              "      fill: #FFFFFF;\n",
              "    }\n",
              "  </style>\n",
              "\n",
              "      <script>\n",
              "        const buttonEl =\n",
              "          document.querySelector('#df-531002b3-7d65-47db-987c-5f4f26671132 button.colab-df-convert');\n",
              "        buttonEl.style.display =\n",
              "          google.colab.kernel.accessAllowed ? 'block' : 'none';\n",
              "\n",
              "        async function convertToInteractive(key) {\n",
              "          const element = document.querySelector('#df-531002b3-7d65-47db-987c-5f4f26671132');\n",
              "          const dataTable =\n",
              "            await google.colab.kernel.invokeFunction('convertToInteractive',\n",
              "                                                     [key], {});\n",
              "          if (!dataTable) return;\n",
              "\n",
              "          const docLinkHtml = 'Like what you see? Visit the ' +\n",
              "            '<a target=\"_blank\" href=https://colab.research.google.com/notebooks/data_table.ipynb>data table notebook</a>'\n",
              "            + ' to learn more about interactive tables.';\n",
              "          element.innerHTML = '';\n",
              "          dataTable['output_type'] = 'display_data';\n",
              "          await google.colab.output.renderOutput(dataTable, element);\n",
              "          const docLink = document.createElement('div');\n",
              "          docLink.innerHTML = docLinkHtml;\n",
              "          element.appendChild(docLink);\n",
              "        }\n",
              "      </script>\n",
              "    </div>\n",
              "  </div>\n",
              "  "
            ]
          },
          "metadata": {},
          "execution_count": 6
        }
      ]
    },
    {
      "cell_type": "markdown",
      "source": [
        "#### After using the head function, we can see that this database has some null values (using the info function we can confirm this), our target variable is \"Churn\", we can also see that we have Numerical and Categoricals, here we can see too that we only have few variables."
      ],
      "metadata": {
        "id": "ULYaanWiuhZm"
      }
    },
    {
      "cell_type": "code",
      "source": [
        "df.info()"
      ],
      "metadata": {
        "execution": {
          "iopub.status.busy": "2022-11-11T23:36:19.018396Z",
          "iopub.execute_input": "2022-11-11T23:36:19.018778Z",
          "iopub.status.idle": "2022-11-11T23:36:19.040149Z",
          "shell.execute_reply.started": "2022-11-11T23:36:19.018747Z",
          "shell.execute_reply": "2022-11-11T23:36:19.038649Z"
        },
        "trusted": true,
        "colab": {
          "base_uri": "https://localhost:8080/"
        },
        "id": "wQNPuFXVuhZn",
        "outputId": "8be2ceb0-5c25-426e-8490-aafd435689db"
      },
      "execution_count": null,
      "outputs": [
        {
          "output_type": "stream",
          "name": "stdout",
          "text": [
            "<class 'pandas.core.frame.DataFrame'>\n",
            "RangeIndex: 6000 entries, 0 to 5999\n",
            "Data columns (total 21 columns):\n",
            " #   Column            Non-Null Count  Dtype  \n",
            "---  ------            --------------  -----  \n",
            " 0   customerID        6000 non-null   object \n",
            " 1   gender            6000 non-null   object \n",
            " 2   SeniorCitizen     6000 non-null   int64  \n",
            " 3   Partner           6000 non-null   object \n",
            " 4   Dependents        6000 non-null   object \n",
            " 5   tenure            6000 non-null   int64  \n",
            " 6   PhoneService      6000 non-null   object \n",
            " 7   MultipleLines     6000 non-null   object \n",
            " 8   InternetService   6000 non-null   object \n",
            " 9   OnlineSecurity    6000 non-null   object \n",
            " 10  OnlineBackup      6000 non-null   object \n",
            " 11  DeviceProtection  6000 non-null   object \n",
            " 12  TechSupport       6000 non-null   object \n",
            " 13  StreamingTV       6000 non-null   object \n",
            " 14  StreamingMovies   6000 non-null   object \n",
            " 15  Contract          6000 non-null   object \n",
            " 16  PaperlessBilling  6000 non-null   object \n",
            " 17  PaymentMethod     6000 non-null   object \n",
            " 18  MonthlyCharges    6000 non-null   float64\n",
            " 19  TotalCharges      6000 non-null   object \n",
            " 20  Churn             6000 non-null   object \n",
            "dtypes: float64(1), int64(2), object(18)\n",
            "memory usage: 984.5+ KB\n"
          ]
        }
      ]
    },
    {
      "cell_type": "code",
      "source": [
        "df.describe()"
      ],
      "metadata": {
        "execution": {
          "iopub.status.busy": "2022-11-11T23:36:19.399657Z",
          "iopub.execute_input": "2022-11-11T23:36:19.400408Z",
          "iopub.status.idle": "2022-11-11T23:36:19.424335Z",
          "shell.execute_reply.started": "2022-11-11T23:36:19.400371Z",
          "shell.execute_reply": "2022-11-11T23:36:19.423187Z"
        },
        "trusted": true,
        "colab": {
          "base_uri": "https://localhost:8080/",
          "height": 300
        },
        "id": "TuvK5aWkuhZn",
        "outputId": "25e21145-d9f1-49b4-c61b-7e6bbe970eae"
      },
      "execution_count": null,
      "outputs": [
        {
          "output_type": "execute_result",
          "data": {
            "text/plain": [
              "       SeniorCitizen       tenure  MonthlyCharges\n",
              "count    6000.000000  6000.000000     6000.000000\n",
              "mean        0.160167    32.320667       64.607233\n",
              "std         0.366791    24.637296       30.195382\n",
              "min         0.000000     0.000000       18.250000\n",
              "25%         0.000000     9.000000       35.000000\n",
              "50%         0.000000    29.000000       70.300000\n",
              "75%         0.000000    56.000000       89.850000\n",
              "max         1.000000    72.000000      118.750000"
            ],
            "text/html": [
              "\n",
              "  <div id=\"df-0fd5cd2d-798b-4d87-b56b-9c06848f22fb\">\n",
              "    <div class=\"colab-df-container\">\n",
              "      <div>\n",
              "<style scoped>\n",
              "    .dataframe tbody tr th:only-of-type {\n",
              "        vertical-align: middle;\n",
              "    }\n",
              "\n",
              "    .dataframe tbody tr th {\n",
              "        vertical-align: top;\n",
              "    }\n",
              "\n",
              "    .dataframe thead th {\n",
              "        text-align: right;\n",
              "    }\n",
              "</style>\n",
              "<table border=\"1\" class=\"dataframe\">\n",
              "  <thead>\n",
              "    <tr style=\"text-align: right;\">\n",
              "      <th></th>\n",
              "      <th>SeniorCitizen</th>\n",
              "      <th>tenure</th>\n",
              "      <th>MonthlyCharges</th>\n",
              "    </tr>\n",
              "  </thead>\n",
              "  <tbody>\n",
              "    <tr>\n",
              "      <th>count</th>\n",
              "      <td>6000.000000</td>\n",
              "      <td>6000.000000</td>\n",
              "      <td>6000.000000</td>\n",
              "    </tr>\n",
              "    <tr>\n",
              "      <th>mean</th>\n",
              "      <td>0.160167</td>\n",
              "      <td>32.320667</td>\n",
              "      <td>64.607233</td>\n",
              "    </tr>\n",
              "    <tr>\n",
              "      <th>std</th>\n",
              "      <td>0.366791</td>\n",
              "      <td>24.637296</td>\n",
              "      <td>30.195382</td>\n",
              "    </tr>\n",
              "    <tr>\n",
              "      <th>min</th>\n",
              "      <td>0.000000</td>\n",
              "      <td>0.000000</td>\n",
              "      <td>18.250000</td>\n",
              "    </tr>\n",
              "    <tr>\n",
              "      <th>25%</th>\n",
              "      <td>0.000000</td>\n",
              "      <td>9.000000</td>\n",
              "      <td>35.000000</td>\n",
              "    </tr>\n",
              "    <tr>\n",
              "      <th>50%</th>\n",
              "      <td>0.000000</td>\n",
              "      <td>29.000000</td>\n",
              "      <td>70.300000</td>\n",
              "    </tr>\n",
              "    <tr>\n",
              "      <th>75%</th>\n",
              "      <td>0.000000</td>\n",
              "      <td>56.000000</td>\n",
              "      <td>89.850000</td>\n",
              "    </tr>\n",
              "    <tr>\n",
              "      <th>max</th>\n",
              "      <td>1.000000</td>\n",
              "      <td>72.000000</td>\n",
              "      <td>118.750000</td>\n",
              "    </tr>\n",
              "  </tbody>\n",
              "</table>\n",
              "</div>\n",
              "      <button class=\"colab-df-convert\" onclick=\"convertToInteractive('df-0fd5cd2d-798b-4d87-b56b-9c06848f22fb')\"\n",
              "              title=\"Convert this dataframe to an interactive table.\"\n",
              "              style=\"display:none;\">\n",
              "        \n",
              "  <svg xmlns=\"http://www.w3.org/2000/svg\" height=\"24px\"viewBox=\"0 0 24 24\"\n",
              "       width=\"24px\">\n",
              "    <path d=\"M0 0h24v24H0V0z\" fill=\"none\"/>\n",
              "    <path d=\"M18.56 5.44l.94 2.06.94-2.06 2.06-.94-2.06-.94-.94-2.06-.94 2.06-2.06.94zm-11 1L8.5 8.5l.94-2.06 2.06-.94-2.06-.94L8.5 2.5l-.94 2.06-2.06.94zm10 10l.94 2.06.94-2.06 2.06-.94-2.06-.94-.94-2.06-.94 2.06-2.06.94z\"/><path d=\"M17.41 7.96l-1.37-1.37c-.4-.4-.92-.59-1.43-.59-.52 0-1.04.2-1.43.59L10.3 9.45l-7.72 7.72c-.78.78-.78 2.05 0 2.83L4 21.41c.39.39.9.59 1.41.59.51 0 1.02-.2 1.41-.59l7.78-7.78 2.81-2.81c.8-.78.8-2.07 0-2.86zM5.41 20L4 18.59l7.72-7.72 1.47 1.35L5.41 20z\"/>\n",
              "  </svg>\n",
              "      </button>\n",
              "      \n",
              "  <style>\n",
              "    .colab-df-container {\n",
              "      display:flex;\n",
              "      flex-wrap:wrap;\n",
              "      gap: 12px;\n",
              "    }\n",
              "\n",
              "    .colab-df-convert {\n",
              "      background-color: #E8F0FE;\n",
              "      border: none;\n",
              "      border-radius: 50%;\n",
              "      cursor: pointer;\n",
              "      display: none;\n",
              "      fill: #1967D2;\n",
              "      height: 32px;\n",
              "      padding: 0 0 0 0;\n",
              "      width: 32px;\n",
              "    }\n",
              "\n",
              "    .colab-df-convert:hover {\n",
              "      background-color: #E2EBFA;\n",
              "      box-shadow: 0px 1px 2px rgba(60, 64, 67, 0.3), 0px 1px 3px 1px rgba(60, 64, 67, 0.15);\n",
              "      fill: #174EA6;\n",
              "    }\n",
              "\n",
              "    [theme=dark] .colab-df-convert {\n",
              "      background-color: #3B4455;\n",
              "      fill: #D2E3FC;\n",
              "    }\n",
              "\n",
              "    [theme=dark] .colab-df-convert:hover {\n",
              "      background-color: #434B5C;\n",
              "      box-shadow: 0px 1px 3px 1px rgba(0, 0, 0, 0.15);\n",
              "      filter: drop-shadow(0px 1px 2px rgba(0, 0, 0, 0.3));\n",
              "      fill: #FFFFFF;\n",
              "    }\n",
              "  </style>\n",
              "\n",
              "      <script>\n",
              "        const buttonEl =\n",
              "          document.querySelector('#df-0fd5cd2d-798b-4d87-b56b-9c06848f22fb button.colab-df-convert');\n",
              "        buttonEl.style.display =\n",
              "          google.colab.kernel.accessAllowed ? 'block' : 'none';\n",
              "\n",
              "        async function convertToInteractive(key) {\n",
              "          const element = document.querySelector('#df-0fd5cd2d-798b-4d87-b56b-9c06848f22fb');\n",
              "          const dataTable =\n",
              "            await google.colab.kernel.invokeFunction('convertToInteractive',\n",
              "                                                     [key], {});\n",
              "          if (!dataTable) return;\n",
              "\n",
              "          const docLinkHtml = 'Like what you see? Visit the ' +\n",
              "            '<a target=\"_blank\" href=https://colab.research.google.com/notebooks/data_table.ipynb>data table notebook</a>'\n",
              "            + ' to learn more about interactive tables.';\n",
              "          element.innerHTML = '';\n",
              "          dataTable['output_type'] = 'display_data';\n",
              "          await google.colab.output.renderOutput(dataTable, element);\n",
              "          const docLink = document.createElement('div');\n",
              "          docLink.innerHTML = docLinkHtml;\n",
              "          element.appendChild(docLink);\n",
              "        }\n",
              "      </script>\n",
              "    </div>\n",
              "  </div>\n",
              "  "
            ]
          },
          "metadata": {},
          "execution_count": 8
        }
      ]
    },
    {
      "cell_type": "code",
      "source": [
        "df.dtypes"
      ],
      "metadata": {
        "execution": {
          "iopub.status.busy": "2022-11-11T23:36:19.732097Z",
          "iopub.execute_input": "2022-11-11T23:36:19.734916Z",
          "iopub.status.idle": "2022-11-11T23:36:19.745809Z",
          "shell.execute_reply.started": "2022-11-11T23:36:19.734869Z",
          "shell.execute_reply": "2022-11-11T23:36:19.744555Z"
        },
        "trusted": true,
        "colab": {
          "base_uri": "https://localhost:8080/"
        },
        "id": "7PgtJDtVuhZo",
        "outputId": "6f07ceae-e52b-4b46-8e28-6a2198f4b0f3"
      },
      "execution_count": null,
      "outputs": [
        {
          "output_type": "execute_result",
          "data": {
            "text/plain": [
              "customerID           object\n",
              "gender               object\n",
              "SeniorCitizen         int64\n",
              "Partner              object\n",
              "Dependents           object\n",
              "tenure                int64\n",
              "PhoneService         object\n",
              "MultipleLines        object\n",
              "InternetService      object\n",
              "OnlineSecurity       object\n",
              "OnlineBackup         object\n",
              "DeviceProtection     object\n",
              "TechSupport          object\n",
              "StreamingTV          object\n",
              "StreamingMovies      object\n",
              "Contract             object\n",
              "PaperlessBilling     object\n",
              "PaymentMethod        object\n",
              "MonthlyCharges      float64\n",
              "TotalCharges         object\n",
              "Churn                object\n",
              "dtype: object"
            ]
          },
          "metadata": {},
          "execution_count": 9
        }
      ]
    },
    {
      "cell_type": "code",
      "source": [
        "df.TotalCharges = pd.to_numeric(df.TotalCharges, errors='coerce')"
      ],
      "metadata": {
        "execution": {
          "iopub.status.busy": "2022-11-11T23:36:19.968360Z",
          "iopub.execute_input": "2022-11-11T23:36:19.969691Z",
          "iopub.status.idle": "2022-11-11T23:36:19.978494Z",
          "shell.execute_reply.started": "2022-11-11T23:36:19.969648Z",
          "shell.execute_reply": "2022-11-11T23:36:19.977573Z"
        },
        "trusted": true,
        "id": "UDiLJ_w3uhZo"
      },
      "execution_count": null,
      "outputs": []
    },
    {
      "cell_type": "code",
      "source": [
        "(df.isnull().sum() / len(df)) * 100"
      ],
      "metadata": {
        "execution": {
          "iopub.status.busy": "2022-11-11T23:36:20.398221Z",
          "iopub.execute_input": "2022-11-11T23:36:20.398649Z",
          "iopub.status.idle": "2022-11-11T23:36:20.416074Z",
          "shell.execute_reply.started": "2022-11-11T23:36:20.398615Z",
          "shell.execute_reply": "2022-11-11T23:36:20.414955Z"
        },
        "trusted": true,
        "colab": {
          "base_uri": "https://localhost:8080/"
        },
        "id": "aaiKFQ4buhZo",
        "outputId": "ff66b100-dc56-4316-93fc-15628b73a287"
      },
      "execution_count": null,
      "outputs": [
        {
          "output_type": "execute_result",
          "data": {
            "text/plain": [
              "customerID          0.000000\n",
              "gender              0.000000\n",
              "SeniorCitizen       0.000000\n",
              "Partner             0.000000\n",
              "Dependents          0.000000\n",
              "tenure              0.000000\n",
              "PhoneService        0.000000\n",
              "MultipleLines       0.000000\n",
              "InternetService     0.000000\n",
              "OnlineSecurity      0.000000\n",
              "OnlineBackup        0.000000\n",
              "DeviceProtection    0.000000\n",
              "TechSupport         0.000000\n",
              "StreamingTV         0.000000\n",
              "StreamingMovies     0.000000\n",
              "Contract            0.000000\n",
              "PaperlessBilling    0.000000\n",
              "PaymentMethod       0.000000\n",
              "MonthlyCharges      0.000000\n",
              "TotalCharges        0.166667\n",
              "Churn               0.000000\n",
              "dtype: float64"
            ]
          },
          "metadata": {},
          "execution_count": 11
        }
      ]
    },
    {
      "cell_type": "markdown",
      "source": [
        "## <font color='blue'> 2. Data Analysis. </font>"
      ],
      "metadata": {
        "id": "sRfb7pAxuhZo"
      }
    },
    {
      "cell_type": "markdown",
      "source": [
        "#### Verifying the correlation between our variables."
      ],
      "metadata": {
        "id": "brwiGNk9uhZp"
      }
    },
    {
      "cell_type": "code",
      "source": [
        "correlation = df.corr().round(2)\n",
        "plt.figure(figsize = (14,7))\n",
        "sns.heatmap(correlation, annot = True, cmap = 'YlOrBr')"
      ],
      "metadata": {
        "execution": {
          "iopub.status.busy": "2022-11-11T23:36:21.422202Z",
          "iopub.execute_input": "2022-11-11T23:36:21.422625Z",
          "iopub.status.idle": "2022-11-11T23:36:21.769976Z",
          "shell.execute_reply.started": "2022-11-11T23:36:21.422592Z",
          "shell.execute_reply": "2022-11-11T23:36:21.769059Z"
        },
        "trusted": true,
        "colab": {
          "base_uri": "https://localhost:8080/"
        },
        "id": "kJMOMiayuhZp",
        "outputId": "7a4e3b3d-c17e-476a-be4e-5284adf95553"
      },
      "execution_count": null,
      "outputs": [
        {
          "output_type": "execute_result",
          "data": {
            "text/plain": [
              "<matplotlib.axes._subplots.AxesSubplot at 0x7f633eaac130>"
            ]
          },
          "metadata": {},
          "execution_count": 12
        },
        {
          "output_type": "display_data",
          "data": {
            "text/plain": [
              "<Figure size 1008x504 with 2 Axes>"
            ],
            "image/png": "[encoded data removed]"
          },
          "metadata": {}
        }
      ]
    },
    {
      "cell_type": "markdown",
      "source": [
        "#### Here we can see that the Total_Charges variable has a strong correlation with the Tenure and MonthlyCharges variables, so let's take it out of our base."
      ],
      "metadata": {
        "id": "tWsPeDO2uhZp"
      }
    },
    {
      "cell_type": "code",
      "source": [
        "df = df.drop('TotalCharges', axis = 1)"
      ],
      "metadata": {
        "execution": {
          "iopub.status.busy": "2022-11-11T23:36:21.771642Z",
          "iopub.execute_input": "2022-11-11T23:36:21.771959Z",
          "iopub.status.idle": "2022-11-11T23:36:21.781226Z",
          "shell.execute_reply.started": "2022-11-11T23:36:21.771930Z",
          "shell.execute_reply": "2022-11-11T23:36:21.780084Z"
        },
        "trusted": true,
        "id": "TT_SNvUSuhZq"
      },
      "execution_count": null,
      "outputs": []
    },
    {
      "cell_type": "code",
      "source": [
        "correlation = df.corr().round(2)\n",
        "plt.figure(figsize = (14,7))\n",
        "sns.heatmap(correlation, annot = True, cmap = 'YlOrBr')"
      ],
      "metadata": {
        "execution": {
          "iopub.status.busy": "2022-11-11T23:36:22.211326Z",
          "iopub.execute_input": "2022-11-11T23:36:22.211754Z",
          "iopub.status.idle": "2022-11-11T23:36:22.527848Z",
          "shell.execute_reply.started": "2022-11-11T23:36:22.211718Z",
          "shell.execute_reply": "2022-11-11T23:36:22.526673Z"
        },
        "trusted": true,
        "colab": {
          "base_uri": "https://localhost:8080/"
        },
        "id": "iBfvg1qbuhZq",
        "outputId": "0c089582-fe5b-427c-d94f-60e4a45fd951"
      },
      "execution_count": null,
      "outputs": [
        {
          "output_type": "execute_result",
          "data": {
            "text/plain": [
              "<matplotlib.axes._subplots.AxesSubplot at 0x7f633c1e3b50>"
            ]
          },
          "metadata": {},
          "execution_count": 14
        },
        {
          "output_type": "display_data",
          "data": {
            "text/plain": [
              "<Figure size 1008x504 with 2 Axes>"
            ],
            "image/png": "[encoded data removed]"
          },
          "metadata": {}
        }
      ]
    },
    {
      "cell_type": "markdown",
      "source": [
        "#### Categorical Variables"
      ],
      "metadata": {
        "id": "X-kpsy-_uhZq"
      }
    },
    {
      "cell_type": "markdown",
      "source": [
        "#### Looking at our categorical variables we can see that we have practically the same number of men and women, most of our data are from non-SeniorCitizen, the Partner variable is well distributed, most of our data are from non-dependents, most of the data have telephone service, and it is well divided between multiple lines and only one, when we look at the internet most use fiber optics, and do not have Online Security, Backup and Protection Device, when we look at support we see that most customers do not have this service, looking at the Steaming part, the customers who have and who don't have it are well distributed, when we look at the contract variable most contracts are monthly contracts, looking at the payment variable we can see that most payments are made from online, when we look at our target variable, we can see that we have more negative results than positive ones."
      ],
      "metadata": {
        "id": "dRO4UQr8uhZq"
      }
    },
    {
      "cell_type": "code",
      "source": [
        "plt.figure(figsize = (15,15))\n",
        "\n",
        "plt.subplot(3,2,1)\n",
        "sns.countplot(x = 'gender', palette = 'Set2', data = df)\n",
        "\n",
        "plt.subplot(3,2,2)\n",
        "sns.countplot(x = 'SeniorCitizen', palette = 'Set2', data = df)\n",
        "\n",
        "plt.subplot(3,2,3)\n",
        "sns.countplot(x = 'Partner', palette = 'Set2', data = df)\n",
        "\n",
        "plt.subplot(3,2,4)\n",
        "sns.countplot(x = 'Dependents', palette = 'Set2', data = df)\n",
        "\n",
        "plt.subplot(3,2,5)\n",
        "sns.countplot(x = 'PhoneService', palette = 'Set2', data = df)\n",
        "\n",
        "plt.subplot(3,2,6)\n",
        "sns.countplot(x = 'MultipleLines', palette = 'Set2', data = df)"
      ],
      "metadata": {
        "execution": {
          "iopub.status.busy": "2022-11-11T23:36:23.431916Z",
          "iopub.execute_input": "2022-11-11T23:36:23.432603Z",
          "iopub.status.idle": "2022-11-11T23:36:24.281355Z",
          "shell.execute_reply.started": "2022-11-11T23:36:23.432565Z",
          "shell.execute_reply": "2022-11-11T23:36:24.280071Z"
        },
        "trusted": true,
        "colab": {
          "base_uri": "https://localhost:8080/"
        },
        "id": "oU-rDRCAuhZr",
        "outputId": "4e8aa3e2-e5bb-426a-c5f3-5f36f14d77a2"
      },
      "execution_count": null,
      "outputs": [
        {
          "output_type": "execute_result",
          "data": {
            "text/plain": [
              "<matplotlib.axes._subplots.AxesSubplot at 0x7f633ea88550>"
            ]
          },
          "metadata": {},
          "execution_count": 15
        },
        {
          "output_type": "display_data",
          "data": {
            "text/plain": [
              "<Figure size 1080x1080 with 6 Axes>"
            ],
            "image/png": "[encoded data removed]"
          },
          "metadata": {}
        }
      ]
    },
    {
      "cell_type": "code",
      "source": [
        "plt.figure(figsize = (15,15))\n",
        "\n",
        "plt.subplot(3,2,1)\n",
        "sns.countplot(x = 'InternetService', palette = 'Set2', data = df)\n",
        "\n",
        "plt.subplot(3,2,2)\n",
        "sns.countplot(x = 'OnlineSecurity', palette = 'Set2', data = df)\n",
        "\n",
        "plt.subplot(3,2,3)\n",
        "sns.countplot(x = 'OnlineBackup', palette = 'Set2', data = df)\n",
        "\n",
        "plt.subplot(3,2,4)\n",
        "sns.countplot(x = 'DeviceProtection', palette = 'Set2', data = df)\n",
        "\n",
        "plt.subplot(3,2,5)\n",
        "sns.countplot(x = 'TechSupport', palette = 'Set2', data = df)\n",
        "\n",
        "plt.subplot(3,2,6)\n",
        "sns.countplot(x = 'StreamingTV', palette = 'Set2', data = df)"
      ],
      "metadata": {
        "execution": {
          "iopub.status.busy": "2022-11-11T23:36:24.283586Z",
          "iopub.execute_input": "2022-11-11T23:36:24.283921Z",
          "iopub.status.idle": "2022-11-11T23:36:25.186962Z",
          "shell.execute_reply.started": "2022-11-11T23:36:24.283891Z",
          "shell.execute_reply": "2022-11-11T23:36:25.185472Z"
        },
        "trusted": true,
        "colab": {
          "base_uri": "https://localhost:8080/"
        },
        "id": "8CO69sCjuhZr",
        "outputId": "f743387d-5cd0-41d5-cb56-fd8ca774d1f8"
      },
      "execution_count": null,
      "outputs": [
        {
          "output_type": "execute_result",
          "data": {
            "text/plain": [
              "<matplotlib.axes._subplots.AxesSubplot at 0x7f633bbfa730>"
            ]
          },
          "metadata": {},
          "execution_count": 16
        },
        {
          "output_type": "display_data",
          "data": {
            "text/plain": [
              "<Figure size 1080x1080 with 6 Axes>"
            ],
            "image/png": "[encoded data removed]"
          },
          "metadata": {}
        }
      ]
    },
    {
      "cell_type": "code",
      "source": [
        "plt.figure(figsize = (15,15))\n",
        "\n",
        "plt.subplot(3,2,1)\n",
        "sns.countplot(x = 'StreamingMovies', palette = 'Set2', data = df)\n",
        "\n",
        "plt.subplot(3,2,2)\n",
        "sns.countplot(x = 'Contract', palette = 'Set2', data = df)\n",
        "\n",
        "plt.subplot(3,2,3)\n",
        "sns.countplot(x = 'PaperlessBilling', palette = 'Set2', data = df)\n",
        "\n",
        "plt.subplot(3,2,4)\n",
        "sns.countplot(x = 'Churn', palette = 'Set2', data = df)"
      ],
      "metadata": {
        "execution": {
          "iopub.status.busy": "2022-11-11T23:36:25.188897Z",
          "iopub.execute_input": "2022-11-11T23:36:25.189372Z",
          "iopub.status.idle": "2022-11-11T23:36:25.808120Z",
          "shell.execute_reply.started": "2022-11-11T23:36:25.189327Z",
          "shell.execute_reply": "2022-11-11T23:36:25.806924Z"
        },
        "trusted": true,
        "colab": {
          "base_uri": "https://localhost:8080/"
        },
        "id": "7xjduzJVuhZr",
        "outputId": "6b95574f-5ebd-4579-e2c3-022404944458"
      },
      "execution_count": null,
      "outputs": [
        {
          "output_type": "execute_result",
          "data": {
            "text/plain": [
              "<matplotlib.axes._subplots.AxesSubplot at 0x7f633bb37970>"
            ]
          },
          "metadata": {},
          "execution_count": 17
        },
        {
          "output_type": "display_data",
          "data": {
            "text/plain": [
              "<Figure size 1080x1080 with 4 Axes>"
            ],
            "image/png": "[encoded data removed]"
          },
          "metadata": {}
        }
      ]
    },
    {
      "cell_type": "code",
      "source": [
        "plt.figure(figsize = (10,5))\n",
        "sns.countplot(x = 'PaymentMethod', palette = 'Set2', data = df)"
      ],
      "metadata": {
        "execution": {
          "iopub.status.busy": "2022-11-11T23:36:25.810583Z",
          "iopub.execute_input": "2022-11-11T23:36:25.810955Z",
          "iopub.status.idle": "2022-11-11T23:36:26.051929Z",
          "shell.execute_reply.started": "2022-11-11T23:36:25.810921Z",
          "shell.execute_reply": "2022-11-11T23:36:26.049879Z"
        },
        "trusted": true,
        "colab": {
          "base_uri": "https://localhost:8080/"
        },
        "id": "O8t1p1FIuhZs",
        "outputId": "5d5c7f7d-4e14-4f53-d632-3740f0374a62"
      },
      "execution_count": null,
      "outputs": [
        {
          "output_type": "execute_result",
          "data": {
            "text/plain": [
              "<matplotlib.axes._subplots.AxesSubplot at 0x7f633bcbed60>"
            ]
          },
          "metadata": {},
          "execution_count": 18
        },
        {
          "output_type": "display_data",
          "data": {
            "text/plain": [
              "<Figure size 720x360 with 1 Axes>"
            ],
            "image/png": "[encoded data removed]"
          },
          "metadata": {}
        }
      ]
    },
    {
      "cell_type": "markdown",
      "source": [
        "#### Continuous Variable"
      ],
      "metadata": {
        "id": "7B2RmuZ8uhZs"
      }
    },
    {
      "cell_type": "markdown",
      "source": [
        "#### Looking at our continuous variables we can see a funny pattern in the Tenure variable, where the largest amounts of value are at the minimum and maximum of the variable, when we look at the MonthlyCharge variable we can see that the vast majority of customers pay very little, but it doesn't happen the phenomenon of the more expensive the smaller the number of samples, when we look at the boxplots we can see that we do not have outliers."
      ],
      "metadata": {
        "id": "eczasbxLuhZs"
      }
    },
    {
      "cell_type": "code",
      "source": [
        "plt.figure(figsize = (10,5))\n",
        "sns.set(color_codes = True)\n",
        "\n",
        "plt.subplot(1,2,1)\n",
        "sns.distplot(df['tenure'], kde = False)\n",
        "\n",
        "plt.subplot(1,2,2)\n",
        "sns.distplot(df['MonthlyCharges'], kde = False)"
      ],
      "metadata": {
        "execution": {
          "iopub.status.busy": "2022-11-11T23:36:26.077789Z",
          "iopub.execute_input": "2022-11-11T23:36:26.078179Z",
          "iopub.status.idle": "2022-11-11T23:36:26.600728Z",
          "shell.execute_reply.started": "2022-11-11T23:36:26.078144Z",
          "shell.execute_reply": "2022-11-11T23:36:26.599594Z"
        },
        "trusted": true,
        "colab": {
          "base_uri": "https://localhost:8080/"
        },
        "id": "b2kGW_eIuhZs",
        "outputId": "b05c2595-60db-48b8-f292-825f39f80295"
      },
      "execution_count": null,
      "outputs": [
        {
          "output_type": "stream",
          "name": "stderr",
          "text": [
            "/usr/local/lib/python3.8/dist-packages/seaborn/distributions.py:2619: FutureWarning: `distplot` is a deprecated function and will be removed in a future version. Please adapt your code to use either `displot` (a figure-level function with similar flexibility) or `histplot` (an axes-level function for histograms).\n",
            "  warnings.warn(msg, FutureWarning)\n"
          ]
        },
        {
          "output_type": "execute_result",
          "data": {
            "text/plain": [
              "<matplotlib.axes._subplots.AxesSubplot at 0x7f633bac6310>"
            ]
          },
          "metadata": {},
          "execution_count": 19
        },
        {
          "output_type": "display_data",
          "data": {
            "text/plain": [
              "<Figure size 720x360 with 2 Axes>"
            ],
            "image/png": "[encoded data removed]"
          },
          "metadata": {}
        }
      ]
    },
    {
      "cell_type": "code",
      "source": [
        "sns.boxplot(x=df[\"tenure\"])"
      ],
      "metadata": {
        "execution": {
          "iopub.status.busy": "2022-11-11T23:36:26.603536Z",
          "iopub.execute_input": "2022-11-11T23:36:26.604016Z",
          "iopub.status.idle": "2022-11-11T23:36:26.797292Z",
          "shell.execute_reply.started": "2022-11-11T23:36:26.603970Z",
          "shell.execute_reply": "2022-11-11T23:36:26.795960Z"
        },
        "trusted": true,
        "colab": {
          "base_uri": "https://localhost:8080/"
        },
        "id": "K4YQG-M0uhZt",
        "outputId": "50c49975-ccb0-47af-96b6-06a2af5ca5e6"
      },
      "execution_count": null,
      "outputs": [
        {
          "output_type": "execute_result",
          "data": {
            "text/plain": [
              "<matplotlib.axes._subplots.AxesSubplot at 0x7f633baea910>"
            ]
          },
          "metadata": {},
          "execution_count": 20
        },
        {
          "output_type": "display_data",
          "data": {
            "text/plain": [
              "<Figure size 576x396 with 1 Axes>"
            ],
            "image/png": "[encoded data removed]"
          },
          "metadata": {}
        }
      ]
    },
    {
      "cell_type": "code",
      "source": [
        "sns.boxplot(x=df[\"MonthlyCharges\"])"
      ],
      "metadata": {
        "execution": {
          "iopub.status.busy": "2022-11-11T23:36:26.799214Z",
          "iopub.execute_input": "2022-11-11T23:36:26.799691Z",
          "iopub.status.idle": "2022-11-11T23:36:26.979043Z",
          "shell.execute_reply.started": "2022-11-11T23:36:26.799639Z",
          "shell.execute_reply": "2022-11-11T23:36:26.977781Z"
        },
        "trusted": true,
        "colab": {
          "base_uri": "https://localhost:8080/"
        },
        "id": "ThwelZ_tuhZt",
        "outputId": "313e6dd4-4172-4a62-e094-a3d34afd77d7"
      },
      "execution_count": null,
      "outputs": [
        {
          "output_type": "execute_result",
          "data": {
            "text/plain": [
              "<matplotlib.axes._subplots.AxesSubplot at 0x7f633b9b3d60>"
            ]
          },
          "metadata": {},
          "execution_count": 21
        },
        {
          "output_type": "display_data",
          "data": {
            "text/plain": [
              "<Figure size 576x396 with 1 Axes>"
            ],
            "image/png": "[encoded data removed]"
          },
          "metadata": {}
        }
      ]
    },
    {
      "cell_type": "markdown",
      "source": [
        "#### Bivariate Analysis"
      ],
      "metadata": {
        "id": "y6xWiwlBuhZt"
      }
    },
    {
      "cell_type": "markdown",
      "source": [
        "#### Comparing our Target variable with our categorical variables we were able to get some interesting insights, we could see some patterns in the SenorCitizen variables when the value is positive, in the InternetService variable when the value is Optical Fiber, in the Online Security variable when the value is no, in the Device variable Protection when the value is No, in the Online Backup variable when the value is no, in the Tech Support variable when the value is no and in the Contract variable when it is a monthly contract, when you meet these requirements it is usually a potential customer."
      ],
      "metadata": {
        "id": "6x6YeFH7uhZt"
      }
    },
    {
      "cell_type": "code",
      "source": [
        "plt.figure(figsize = (15,15))\n",
        "\n",
        "plt.subplot(3,2,1)\n",
        "sns.countplot(x = 'gender', hue = 'Churn', palette = 'Set2', data = df)\n",
        "\n",
        "plt.subplot(3,2,2)\n",
        "sns.countplot(x = 'SeniorCitizen', hue = 'Churn', palette = 'Set2', data = df)\n",
        "\n",
        "plt.subplot(3,2,3)\n",
        "sns.countplot(x = 'Partner', hue = 'Churn', palette = 'Set2', data = df)\n",
        "\n",
        "plt.subplot(3,2,4)\n",
        "sns.countplot(x = 'Dependents', hue = 'Churn', palette = 'Set2', data = df)\n",
        "\n",
        "plt.subplot(3,2,5)\n",
        "sns.countplot(x = 'PhoneService', hue = 'Churn', palette = 'Set2', data = df)\n",
        "\n",
        "plt.subplot(3,2,6)\n",
        "sns.countplot(x = 'MultipleLines', hue = 'Churn', palette = 'Set2', data = df)"
      ],
      "metadata": {
        "execution": {
          "iopub.status.busy": "2022-11-11T23:36:27.791538Z",
          "iopub.execute_input": "2022-11-11T23:36:27.791946Z",
          "iopub.status.idle": "2022-11-11T23:36:29.192962Z",
          "shell.execute_reply.started": "2022-11-11T23:36:27.791909Z",
          "shell.execute_reply": "2022-11-11T23:36:29.191780Z"
        },
        "trusted": true,
        "colab": {
          "base_uri": "https://localhost:8080/"
        },
        "id": "04afSoZzuhZt",
        "outputId": "92beb847-accf-44da-9828-eabd7e760b77"
      },
      "execution_count": null,
      "outputs": [
        {
          "output_type": "execute_result",
          "data": {
            "text/plain": [
              "<matplotlib.axes._subplots.AxesSubplot at 0x7f633b8b2850>"
            ]
          },
          "metadata": {},
          "execution_count": 22
        },
        {
          "output_type": "display_data",
          "data": {
            "text/plain": [
              "<Figure size 1080x1080 with 6 Axes>"
            ],
            "image/png": "[encoded data removed]"
          },
          "metadata": {}
        }
      ]
    },
    {
      "cell_type": "code",
      "source": [
        "plt.figure(figsize = (15,15))\n",
        "\n",
        "plt.subplot(3,2,1)\n",
        "sns.countplot(x = 'InternetService', hue = 'Churn', palette = 'Set2', data = df)\n",
        "\n",
        "plt.subplot(3,2,2)\n",
        "sns.countplot(x = 'OnlineSecurity', hue = 'Churn', palette = 'Set2', data = df)\n",
        "\n",
        "plt.subplot(3,2,3)\n",
        "sns.countplot(x = 'OnlineBackup', hue = 'Churn', palette = 'Set2', data = df)\n",
        "\n",
        "plt.subplot(3,2,4)\n",
        "sns.countplot(x = 'DeviceProtection', hue = 'Churn', palette = 'Set2', data = df)\n",
        "\n",
        "plt.subplot(3,2,5)\n",
        "sns.countplot(x = 'TechSupport', hue = 'Churn', palette = 'Set2', data = df)\n",
        "\n",
        "plt.subplot(3,2,6)\n",
        "sns.countplot(x = 'StreamingTV', hue = 'Churn', palette = 'Set2', data = df)"
      ],
      "metadata": {
        "execution": {
          "iopub.status.busy": "2022-11-11T23:36:29.195843Z",
          "iopub.execute_input": "2022-11-11T23:36:29.196202Z",
          "iopub.status.idle": "2022-11-11T23:36:30.287477Z",
          "shell.execute_reply.started": "2022-11-11T23:36:29.196169Z",
          "shell.execute_reply": "2022-11-11T23:36:30.286291Z"
        },
        "trusted": true,
        "colab": {
          "base_uri": "https://localhost:8080/"
        },
        "id": "FjrS_6gTuhZu",
        "outputId": "1fa6d3a7-b5b1-4551-8780-245d5bb2f031"
      },
      "execution_count": null,
      "outputs": [
        {
          "output_type": "execute_result",
          "data": {
            "text/plain": [
              "<matplotlib.axes._subplots.AxesSubplot at 0x7f633b775250>"
            ]
          },
          "metadata": {},
          "execution_count": 23
        },
        {
          "output_type": "display_data",
          "data": {
            "text/plain": [
              "<Figure size 1080x1080 with 6 Axes>"
            ],
            "image/png": "[encoded data removed]"
          },
          "metadata": {}
        }
      ]
    },
    {
      "cell_type": "code",
      "source": [
        "plt.figure(figsize = (15,15))\n",
        "\n",
        "plt.subplot(3,2,1)\n",
        "sns.countplot(x = 'StreamingMovies', hue = 'Churn', palette = 'Set2', data = df)\n",
        "\n",
        "plt.subplot(3,2,2)\n",
        "sns.countplot(x = 'Contract', hue = 'Churn', palette = 'Set2', data = df)\n",
        "\n",
        "plt.subplot(3,2,3)\n",
        "sns.countplot(x = 'PaperlessBilling', hue = 'Churn', palette = 'Set2', data = df)"
      ],
      "metadata": {
        "execution": {
          "iopub.status.busy": "2022-11-11T23:36:30.289134Z",
          "iopub.execute_input": "2022-11-11T23:36:30.289903Z",
          "iopub.status.idle": "2022-11-11T23:36:30.844228Z",
          "shell.execute_reply.started": "2022-11-11T23:36:30.289867Z",
          "shell.execute_reply": "2022-11-11T23:36:30.843356Z"
        },
        "trusted": true,
        "colab": {
          "base_uri": "https://localhost:8080/"
        },
        "id": "8THwFg9puhZu",
        "outputId": "3646ccef-fffa-4cda-b242-190b1766a7d9"
      },
      "execution_count": null,
      "outputs": [
        {
          "output_type": "execute_result",
          "data": {
            "text/plain": [
              "<matplotlib.axes._subplots.AxesSubplot at 0x7f633b66c430>"
            ]
          },
          "metadata": {},
          "execution_count": 24
        },
        {
          "output_type": "display_data",
          "data": {
            "text/plain": [
              "<Figure size 1080x1080 with 3 Axes>"
            ],
            "image/png": "[encoded data removed]"
          },
          "metadata": {}
        }
      ]
    },
    {
      "cell_type": "code",
      "source": [
        "plt.figure(figsize = (10,5))\n",
        "sns.countplot(x = 'PaymentMethod', hue = 'Churn', palette = 'Set2', data = df)"
      ],
      "metadata": {
        "execution": {
          "iopub.status.busy": "2022-11-11T23:36:30.845993Z",
          "iopub.execute_input": "2022-11-11T23:36:30.846951Z",
          "iopub.status.idle": "2022-11-11T23:36:31.118545Z",
          "shell.execute_reply.started": "2022-11-11T23:36:30.846910Z",
          "shell.execute_reply": "2022-11-11T23:36:31.117333Z"
        },
        "trusted": true,
        "colab": {
          "base_uri": "https://localhost:8080/"
        },
        "id": "rA9ANdWpuhZu",
        "outputId": "bb1c7e2a-bd2b-41e7-a01a-a986465cbb0c"
      },
      "execution_count": null,
      "outputs": [
        {
          "output_type": "execute_result",
          "data": {
            "text/plain": [
              "<matplotlib.axes._subplots.AxesSubplot at 0x7f633bb51580>"
            ]
          },
          "metadata": {},
          "execution_count": 25
        },
        {
          "output_type": "display_data",
          "data": {
            "text/plain": [
              "<Figure size 720x360 with 1 Axes>"
            ],
            "image/png": "[encoded data removed]"
          },
          "metadata": {}
        }
      ]
    },
    {
      "cell_type": "markdown",
      "source": [
        "#### When we analyze the Tenure variable, we can conclude that the lower values ​​are more likely to be a potential customer, it is a variable with a lot of distortion."
      ],
      "metadata": {
        "id": "ghrXUdRRuhZv"
      }
    },
    {
      "cell_type": "code",
      "source": [
        "sns.catplot(x = 'Churn', y=\"tenure\", kind=\"box\", data = df)"
      ],
      "metadata": {
        "execution": {
          "iopub.status.busy": "2022-11-11T23:36:31.120628Z",
          "iopub.execute_input": "2022-11-11T23:36:31.121014Z",
          "iopub.status.idle": "2022-11-11T23:36:31.386763Z",
          "shell.execute_reply.started": "2022-11-11T23:36:31.120980Z",
          "shell.execute_reply": "2022-11-11T23:36:31.385567Z"
        },
        "trusted": true,
        "colab": {
          "base_uri": "https://localhost:8080/"
        },
        "id": "j8oJkUsSuhZv",
        "outputId": "63646db6-1aea-47db-98fe-5c4c7c267185"
      },
      "execution_count": null,
      "outputs": [
        {
          "output_type": "execute_result",
          "data": {
            "text/plain": [
              "<seaborn.axisgrid.FacetGrid at 0x7f633b79e6d0>"
            ]
          },
          "metadata": {},
          "execution_count": 26
        },
        {
          "output_type": "display_data",
          "data": {
            "text/plain": [
              "<Figure size 360x360 with 1 Axes>"
            ],
            "image/png": "[encoded data removed]"
          },
          "metadata": {}
        }
      ]
    },
    {
      "cell_type": "markdown",
      "source": [
        "#### This MonthlyCharge variable is an interesting variable too, higher values ​​are more likely to have a positive result."
      ],
      "metadata": {
        "id": "GsxFBBDuuhZv"
      }
    },
    {
      "cell_type": "code",
      "source": [
        "sns.catplot(x = 'Churn', y=\"MonthlyCharges\", kind=\"box\", data = df)"
      ],
      "metadata": {
        "execution": {
          "iopub.status.busy": "2022-11-11T23:36:31.388846Z",
          "iopub.execute_input": "2022-11-11T23:36:31.389699Z",
          "iopub.status.idle": "2022-11-11T23:36:31.640456Z",
          "shell.execute_reply.started": "2022-11-11T23:36:31.389653Z",
          "shell.execute_reply": "2022-11-11T23:36:31.639608Z"
        },
        "trusted": true,
        "colab": {
          "base_uri": "https://localhost:8080/"
        },
        "id": "03MpXTeFuhZw",
        "outputId": "507b02bc-24e9-443f-9569-1f6b5882e308"
      },
      "execution_count": null,
      "outputs": [
        {
          "output_type": "execute_result",
          "data": {
            "text/plain": [
              "<seaborn.axisgrid.FacetGrid at 0x7f633b608eb0>"
            ]
          },
          "metadata": {},
          "execution_count": 27
        },
        {
          "output_type": "display_data",
          "data": {
            "text/plain": [
              "<Figure size 360x360 with 1 Axes>"
            ],
            "image/png": "[encoded data removed]"
          },
          "metadata": {}
        }
      ]
    },
    {
      "cell_type": "markdown",
      "source": [
        "#### When we compare the variable Tenure with the variable Monthly Charge we do not have any relationship."
      ],
      "metadata": {
        "id": "rP9hfKXFuhZw"
      }
    },
    {
      "cell_type": "code",
      "source": [
        "sns.relplot(x='tenure', y = 'MonthlyCharges' , data = df)"
      ],
      "metadata": {
        "execution": {
          "iopub.status.busy": "2022-11-11T23:36:31.643333Z",
          "iopub.execute_input": "2022-11-11T23:36:31.644205Z",
          "iopub.status.idle": "2022-11-11T23:36:32.043064Z",
          "shell.execute_reply.started": "2022-11-11T23:36:31.644159Z",
          "shell.execute_reply": "2022-11-11T23:36:32.041842Z"
        },
        "trusted": true,
        "colab": {
          "base_uri": "https://localhost:8080/"
        },
        "id": "kewNXPjauhZw",
        "outputId": "4fac87f3-ca19-4b53-f3b8-e318dbc7a423"
      },
      "execution_count": null,
      "outputs": [
        {
          "output_type": "execute_result",
          "data": {
            "text/plain": [
              "<seaborn.axisgrid.FacetGrid at 0x7f633b5b46d0>"
            ]
          },
          "metadata": {},
          "execution_count": 28
        },
        {
          "output_type": "display_data",
          "data": {
            "text/plain": [
              "<Figure size 360x360 with 1 Axes>"
            ],
            "image/png": "[encoded data removed]"
          },
          "metadata": {}
        }
      ]
    },
    {
      "cell_type": "markdown",
      "source": [
        "## <font color='blue'> 3. Model Building. </font>"
      ],
      "metadata": {
        "id": "MbGJNvwZuhZx"
      }
    },
    {
      "cell_type": "markdown",
      "source": [
        "#### Here we will remove the customerID variable that will not be used"
      ],
      "metadata": {
        "id": "1VK0rA20uhZx"
      }
    },
    {
      "cell_type": "code",
      "source": [
        "df = df.drop('customerID', axis = 1)"
      ],
      "metadata": {
        "execution": {
          "iopub.status.busy": "2022-11-11T23:36:32.416040Z",
          "iopub.execute_input": "2022-11-11T23:36:32.416455Z",
          "iopub.status.idle": "2022-11-11T23:36:32.423823Z",
          "shell.execute_reply.started": "2022-11-11T23:36:32.416418Z",
          "shell.execute_reply": "2022-11-11T23:36:32.422603Z"
        },
        "trusted": true,
        "id": "ncIrArtquhZx"
      },
      "execution_count": null,
      "outputs": []
    },
    {
      "cell_type": "markdown",
      "source": [
        "#### Separating into features variables and target variable."
      ],
      "metadata": {
        "id": "8yFe8oQzuhZx"
      }
    },
    {
      "cell_type": "code",
      "source": [
        "X = df.drop('Churn', axis = 1)"
      ],
      "metadata": {
        "execution": {
          "iopub.status.busy": "2022-11-11T23:36:33.441141Z",
          "iopub.execute_input": "2022-11-11T23:36:33.441580Z",
          "iopub.status.idle": "2022-11-11T23:36:33.449240Z",
          "shell.execute_reply.started": "2022-11-11T23:36:33.441543Z",
          "shell.execute_reply": "2022-11-11T23:36:33.447844Z"
        },
        "trusted": true,
        "id": "2CrhrnfCuhZx"
      },
      "execution_count": null,
      "outputs": []
    },
    {
      "cell_type": "code",
      "source": [
        "X = X.values"
      ],
      "metadata": {
        "execution": {
          "iopub.status.busy": "2022-11-11T23:36:34.344468Z",
          "iopub.execute_input": "2022-11-11T23:36:34.344895Z",
          "iopub.status.idle": "2022-11-11T23:36:34.353412Z",
          "shell.execute_reply.started": "2022-11-11T23:36:34.344861Z",
          "shell.execute_reply": "2022-11-11T23:36:34.352566Z"
        },
        "trusted": true,
        "id": "mKQQ4oYmuhZx"
      },
      "execution_count": null,
      "outputs": []
    },
    {
      "cell_type": "code",
      "source": [
        "y = df['Churn']"
      ],
      "metadata": {
        "execution": {
          "iopub.status.busy": "2022-11-11T23:36:35.884753Z",
          "iopub.execute_input": "2022-11-11T23:36:35.885360Z",
          "iopub.status.idle": "2022-11-11T23:36:35.891283Z",
          "shell.execute_reply.started": "2022-11-11T23:36:35.885321Z",
          "shell.execute_reply": "2022-11-11T23:36:35.889951Z"
        },
        "trusted": true,
        "id": "G5R-BuABuhZx"
      },
      "execution_count": null,
      "outputs": []
    },
    {
      "cell_type": "markdown",
      "source": [
        "#### Balancing"
      ],
      "metadata": {
        "id": "7qnILVfkuhZy"
      }
    },
    {
      "cell_type": "code",
      "source": [
        "from imblearn.over_sampling import RandomOverSampler"
      ],
      "metadata": {
        "execution": {
          "iopub.status.busy": "2022-11-11T23:36:36.471643Z",
          "iopub.execute_input": "2022-11-11T23:36:36.472392Z",
          "iopub.status.idle": "2022-11-11T23:36:36.476543Z",
          "shell.execute_reply.started": "2022-11-11T23:36:36.472347Z",
          "shell.execute_reply": "2022-11-11T23:36:36.475580Z"
        },
        "trusted": true,
        "id": "pxy_ljtSuhZy"
      },
      "execution_count": null,
      "outputs": []
    },
    {
      "cell_type": "code",
      "source": [
        "ros = RandomOverSampler(random_state=0)"
      ],
      "metadata": {
        "execution": {
          "iopub.status.busy": "2022-11-11T23:36:36.779160Z",
          "iopub.execute_input": "2022-11-11T23:36:36.780173Z",
          "iopub.status.idle": "2022-11-11T23:36:36.785891Z",
          "shell.execute_reply.started": "2022-11-11T23:36:36.780123Z",
          "shell.execute_reply": "2022-11-11T23:36:36.784450Z"
        },
        "trusted": true,
        "id": "ugvB-Um-uhZy"
      },
      "execution_count": null,
      "outputs": []
    },
    {
      "cell_type": "code",
      "source": [
        "X, y = ros.fit_resample(X, y)"
      ],
      "metadata": {
        "execution": {
          "iopub.status.busy": "2022-11-11T23:36:37.035134Z",
          "iopub.execute_input": "2022-11-11T23:36:37.035811Z",
          "iopub.status.idle": "2022-11-11T23:36:37.061418Z",
          "shell.execute_reply.started": "2022-11-11T23:36:37.035775Z",
          "shell.execute_reply": "2022-11-11T23:36:37.060085Z"
        },
        "trusted": true,
        "id": "SPRKpFIcuhZz"
      },
      "execution_count": null,
      "outputs": []
    },
    {
      "cell_type": "code",
      "source": [
        "ax = sns.countplot(x=y)"
      ],
      "metadata": {
        "execution": {
          "iopub.status.busy": "2022-11-11T23:36:37.385237Z",
          "iopub.execute_input": "2022-11-11T23:36:37.385670Z",
          "iopub.status.idle": "2022-11-11T23:36:37.588940Z",
          "shell.execute_reply.started": "2022-11-11T23:36:37.385635Z",
          "shell.execute_reply": "2022-11-11T23:36:37.587927Z"
        },
        "trusted": true,
        "colab": {
          "base_uri": "https://localhost:8080/"
        },
        "id": "EkdSlycTuhZz",
        "outputId": "ba6a7451-7fc4-4837-8a69-62cc341101a2"
      },
      "execution_count": null,
      "outputs": [
        {
          "output_type": "display_data",
          "data": {
            "text/plain": [
              "<Figure size 576x396 with 1 Axes>"
            ],
            "image/png": "[encoded data removed]"
          },
          "metadata": {}
        }
      ]
    },
    {
      "cell_type": "markdown",
      "source": [
        "#### Label Encoder"
      ],
      "metadata": {
        "id": "PTbgzzMMuhZz"
      }
    },
    {
      "cell_type": "code",
      "source": [
        "from sklearn.preprocessing import LabelEncoder"
      ],
      "metadata": {
        "execution": {
          "iopub.status.busy": "2022-11-11T23:36:38.314103Z",
          "iopub.execute_input": "2022-11-11T23:36:38.315098Z",
          "iopub.status.idle": "2022-11-11T23:36:38.319419Z",
          "shell.execute_reply.started": "2022-11-11T23:36:38.315060Z",
          "shell.execute_reply": "2022-11-11T23:36:38.318188Z"
        },
        "trusted": true,
        "id": "L-1GIsIMuhZz"
      },
      "execution_count": null,
      "outputs": []
    },
    {
      "cell_type": "code",
      "source": [
        "label_encoder_gender = LabelEncoder()\n",
        "label_encoder_Partner = LabelEncoder()\n",
        "label_encoder_Dependentes = LabelEncoder()\n",
        "label_encoder_PhoneService = LabelEncoder()\n",
        "label_encoder_MultipleLines = LabelEncoder()\n",
        "label_encoder_InternetService = LabelEncoder()\n",
        "label_encoder_OnlineSecurity = LabelEncoder()\n",
        "label_encoder_OnlineBackup = LabelEncoder()\n",
        "label_encoder_DeviceProtection = LabelEncoder()\n",
        "label_encoder_TechSupport = LabelEncoder()\n",
        "label_encoder_StreamingTV = LabelEncoder()\n",
        "label_encoder_StreamingMovies = LabelEncoder()\n",
        "label_encoder_Contract = LabelEncoder()\n",
        "label_encoder_PaperlessBilling = LabelEncoder()\n",
        "label_encoder_PaymentMethod = LabelEncoder()"
      ],
      "metadata": {
        "execution": {
          "iopub.status.busy": "2022-11-11T23:36:38.941134Z",
          "iopub.execute_input": "2022-11-11T23:36:38.941559Z",
          "iopub.status.idle": "2022-11-11T23:36:38.949188Z",
          "shell.execute_reply.started": "2022-11-11T23:36:38.941501Z",
          "shell.execute_reply": "2022-11-11T23:36:38.947584Z"
        },
        "trusted": true,
        "id": "VE8XeN3TuhZz"
      },
      "execution_count": null,
      "outputs": []
    },
    {
      "cell_type": "code",
      "source": [
        "X[:,0] = label_encoder_gender.fit_transform(X[:,0])\n",
        "X[:,2] = label_encoder_Partner.fit_transform(X[:,2])\n",
        "X[:,3] = label_encoder_Dependentes.fit_transform(X[:,3])\n",
        "X[:,5] = label_encoder_PhoneService.fit_transform(X[:,5])\n",
        "X[:,6] = label_encoder_MultipleLines.fit_transform(X[:,6])\n",
        "X[:,7] = label_encoder_InternetService.fit_transform(X[:,7])\n",
        "X[:,8] = label_encoder_OnlineSecurity.fit_transform(X[:,8])\n",
        "X[:,9] = label_encoder_OnlineBackup.fit_transform(X[:,9])\n",
        "X[:,10] = label_encoder_DeviceProtection.fit_transform(X[:,10])\n",
        "X[:,11] = label_encoder_TechSupport.fit_transform(X[:,11])\n",
        "X[:,12] = label_encoder_StreamingTV.fit_transform(X[:,12])\n",
        "X[:,13] = label_encoder_StreamingMovies.fit_transform(X[:,13])\n",
        "X[:,14] = label_encoder_Contract.fit_transform(X[:,14])\n",
        "X[:,15] = label_encoder_PaperlessBilling.fit_transform(X[:,15])\n",
        "X[:,16] = label_encoder_PaymentMethod.fit_transform(X[:,16])"
      ],
      "metadata": {
        "execution": {
          "iopub.status.busy": "2022-11-11T23:36:39.486232Z",
          "iopub.execute_input": "2022-11-11T23:36:39.487267Z",
          "iopub.status.idle": "2022-11-11T23:36:39.541397Z",
          "shell.execute_reply.started": "2022-11-11T23:36:39.487199Z",
          "shell.execute_reply": "2022-11-11T23:36:39.540234Z"
        },
        "trusted": true,
        "id": "_qEslmQxuhZ0"
      },
      "execution_count": null,
      "outputs": []
    },
    {
      "cell_type": "markdown",
      "source": [
        "#### We will run the models before scaling the data, after we will back here to run the StandardScaler and verify if we have best results using the scaling."
      ],
      "metadata": {
        "id": "L6e4pb5HuhZ0"
      }
    },
    {
      "cell_type": "markdown",
      "source": [
        "#### StandardScaler"
      ],
      "metadata": {
        "id": "XuzrWbrwuhZ0"
      }
    },
    {
      "cell_type": "code",
      "source": [
        "from sklearn.preprocessing import StandardScaler\n",
        "scaler = StandardScaler()\n",
        "X_standard = scaler.fit_transform(X)"
      ],
      "metadata": {
        "execution": {
          "iopub.status.busy": "2022-11-11T23:59:40.591241Z",
          "iopub.execute_input": "2022-11-11T23:59:40.591664Z",
          "iopub.status.idle": "2022-11-11T23:59:40.621736Z",
          "shell.execute_reply.started": "2022-11-11T23:59:40.591628Z",
          "shell.execute_reply": "2022-11-11T23:59:40.620865Z"
        },
        "trusted": true,
        "id": "PoUfZF2RuhZ0"
      },
      "execution_count": null,
      "outputs": []
    },
    {
      "cell_type": "markdown",
      "source": [
        "#### Transforming Data into Train e Test, here we will use 30% of our data to test the machine learning models."
      ],
      "metadata": {
        "id": "y3XwDDsHuhZ0"
      }
    },
    {
      "cell_type": "code",
      "source": [
        "from sklearn.model_selection import train_test_split"
      ],
      "metadata": {
        "execution": {
          "iopub.status.busy": "2022-11-12T00:52:05.120327Z",
          "iopub.execute_input": "2022-11-12T00:52:05.120738Z",
          "iopub.status.idle": "2022-11-12T00:52:05.126527Z",
          "shell.execute_reply.started": "2022-11-12T00:52:05.120704Z",
          "shell.execute_reply": "2022-11-12T00:52:05.125078Z"
        },
        "trusted": true,
        "id": "FE-JGDZIuhZ0"
      },
      "execution_count": null,
      "outputs": []
    },
    {
      "cell_type": "code",
      "source": [
        "X_train, X_test, y_train, y_test = train_test_split(X, y, test_size = 0.3, random_state = 0)"
      ],
      "metadata": {
        "execution": {
          "iopub.status.busy": "2022-11-12T00:52:05.420106Z",
          "iopub.execute_input": "2022-11-12T00:52:05.420497Z",
          "iopub.status.idle": "2022-11-12T00:52:05.432111Z",
          "shell.execute_reply.started": "2022-11-12T00:52:05.420466Z",
          "shell.execute_reply": "2022-11-12T00:52:05.430956Z"
        },
        "trusted": true,
        "id": "u_yxErrIuhZ1"
      },
      "execution_count": null,
      "outputs": []
    },
    {
      "cell_type": "code",
      "source": [
        "X_train.shape, y_train.shape"
      ],
      "metadata": {
        "execution": {
          "iopub.status.busy": "2022-11-12T00:52:05.613064Z",
          "iopub.execute_input": "2022-11-12T00:52:05.614064Z",
          "iopub.status.idle": "2022-11-12T00:52:05.621392Z",
          "shell.execute_reply.started": "2022-11-12T00:52:05.614017Z",
          "shell.execute_reply": "2022-11-12T00:52:05.620322Z"
        },
        "trusted": true,
        "colab": {
          "base_uri": "https://localhost:8080/"
        },
        "id": "y2r4RmePuhZ1",
        "outputId": "1f10c0d3-22eb-4bb3-f933-4f09ccf5728f"
      },
      "execution_count": null,
      "outputs": [
        {
          "output_type": "execute_result",
          "data": {
            "text/plain": [
              "((6171, 18), (6171,))"
            ]
          },
          "metadata": {},
          "execution_count": 43
        }
      ]
    },
    {
      "cell_type": "code",
      "source": [
        "X_test.shape, y_test.shape"
      ],
      "metadata": {
        "execution": {
          "iopub.status.busy": "2022-11-12T00:52:06.430647Z",
          "iopub.execute_input": "2022-11-12T00:52:06.431112Z",
          "iopub.status.idle": "2022-11-12T00:52:06.440542Z",
          "shell.execute_reply.started": "2022-11-12T00:52:06.431073Z",
          "shell.execute_reply": "2022-11-12T00:52:06.439565Z"
        },
        "trusted": true,
        "colab": {
          "base_uri": "https://localhost:8080/"
        },
        "id": "bZtJCQQsuhZ1",
        "outputId": "a2e5db0b-4560-400b-9253-aafcbf73f888"
      },
      "execution_count": null,
      "outputs": [
        {
          "output_type": "execute_result",
          "data": {
            "text/plain": [
              "((2645, 18), (2645,))"
            ]
          },
          "metadata": {},
          "execution_count": 44
        }
      ]
    },
    {
      "cell_type": "markdown",
      "source": [
        "#### Naive Bayes"
      ],
      "metadata": {
        "id": "4QJhwri1uhZ1"
      }
    },
    {
      "cell_type": "markdown",
      "source": [
        "#### Running Gaussian Model."
      ],
      "metadata": {
        "id": "G4nJZH8nuhZ1"
      }
    },
    {
      "cell_type": "markdown",
      "source": [
        "#### Here we will use the Naive Bayes Model, we will test Gaussian model, using our Normal Data."
      ],
      "metadata": {
        "id": "I5P5BgyiuhZ1"
      }
    },
    {
      "cell_type": "code",
      "source": [
        "from sklearn.naive_bayes import GaussianNB"
      ],
      "metadata": {
        "execution": {
          "iopub.status.busy": "2022-11-11T23:59:47.464191Z",
          "iopub.execute_input": "2022-11-11T23:59:47.464609Z",
          "iopub.status.idle": "2022-11-11T23:59:47.468684Z",
          "shell.execute_reply.started": "2022-11-11T23:59:47.464574Z",
          "shell.execute_reply": "2022-11-11T23:59:47.467924Z"
        },
        "trusted": true,
        "id": "OOmqDO9PuhZ1"
      },
      "execution_count": null,
      "outputs": []
    },
    {
      "cell_type": "code",
      "source": [
        "naive_bayes = GaussianNB()\n",
        "naive_bayes.fit(X_train, y_train)"
      ],
      "metadata": {
        "execution": {
          "iopub.status.busy": "2022-11-11T23:59:47.701171Z",
          "iopub.execute_input": "2022-11-11T23:59:47.701591Z",
          "iopub.status.idle": "2022-11-11T23:59:47.718917Z",
          "shell.execute_reply.started": "2022-11-11T23:59:47.701555Z",
          "shell.execute_reply": "2022-11-11T23:59:47.718083Z"
        },
        "trusted": true,
        "colab": {
          "base_uri": "https://localhost:8080/"
        },
        "id": "U-OynTL4uhZ2",
        "outputId": "dcc45615-ec26-4d94-a01e-4597b7e666df"
      },
      "execution_count": null,
      "outputs": [
        {
          "output_type": "execute_result",
          "data": {
            "text/plain": [
              "GaussianNB()"
            ]
          },
          "metadata": {},
          "execution_count": 46
        }
      ]
    },
    {
      "cell_type": "code",
      "source": [
        "previsoes = naive_bayes.predict(X_test)"
      ],
      "metadata": {
        "execution": {
          "iopub.status.busy": "2022-11-11T23:59:48.749007Z",
          "iopub.execute_input": "2022-11-11T23:59:48.749412Z",
          "iopub.status.idle": "2022-11-11T23:59:48.757022Z",
          "shell.execute_reply.started": "2022-11-11T23:59:48.749379Z",
          "shell.execute_reply": "2022-11-11T23:59:48.755804Z"
        },
        "trusted": true,
        "id": "wFEXuBMVuhZ2"
      },
      "execution_count": null,
      "outputs": []
    },
    {
      "cell_type": "markdown",
      "source": [
        "#### Normal Data"
      ],
      "metadata": {
        "id": "ixDi3aWouhZ2"
      }
    },
    {
      "cell_type": "code",
      "source": [
        "cm = ConfusionMatrix(naive_bayes)\n",
        "cm.fit(X_train, y_train)\n",
        "cm.score(X_test, y_test)"
      ],
      "metadata": {
        "execution": {
          "iopub.status.busy": "2022-11-11T23:40:42.251275Z",
          "iopub.execute_input": "2022-11-11T23:40:42.251875Z",
          "iopub.status.idle": "2022-11-11T23:40:42.408340Z",
          "shell.execute_reply.started": "2022-11-11T23:40:42.251839Z",
          "shell.execute_reply": "2022-11-11T23:40:42.406869Z"
        },
        "trusted": true,
        "colab": {
          "base_uri": "https://localhost:8080/"
        },
        "id": "kynb2nF4uhZ2",
        "outputId": "85f2319d-0224-4e8e-ea77-41f77b7ce64b"
      },
      "execution_count": null,
      "outputs": [
        {
          "output_type": "execute_result",
          "data": {
            "text/plain": [
              "0.7440453686200378"
            ]
          },
          "metadata": {},
          "execution_count": 48
        },
        {
          "output_type": "display_data",
          "data": {
            "text/plain": [
              "<Figure size 576x396 with 1 Axes>"
            ],
            "image/png": "[encoded data removed]"
          },
          "metadata": {}
        }
      ]
    },
    {
      "cell_type": "code",
      "source": [
        "classification_naive_gaussian = (classification_report(y_test, previsoes))"
      ],
      "metadata": {
        "execution": {
          "iopub.status.busy": "2022-11-11T23:40:43.581243Z",
          "iopub.execute_input": "2022-11-11T23:40:43.582323Z",
          "iopub.status.idle": "2022-11-11T23:40:43.670558Z",
          "shell.execute_reply.started": "2022-11-11T23:40:43.582275Z",
          "shell.execute_reply": "2022-11-11T23:40:43.669572Z"
        },
        "trusted": true,
        "id": "Gzo2fk9XuhZ2"
      },
      "execution_count": null,
      "outputs": []
    },
    {
      "cell_type": "code",
      "source": [
        "print(classification_naive_gaussian)"
      ],
      "metadata": {
        "execution": {
          "iopub.status.busy": "2022-11-11T23:40:44.337293Z",
          "iopub.execute_input": "2022-11-11T23:40:44.337902Z",
          "iopub.status.idle": "2022-11-11T23:40:44.342617Z",
          "shell.execute_reply.started": "2022-11-11T23:40:44.337868Z",
          "shell.execute_reply": "2022-11-11T23:40:44.341757Z"
        },
        "trusted": true,
        "colab": {
          "base_uri": "https://localhost:8080/"
        },
        "id": "Q5yL3vTzuhZ2",
        "outputId": "957f2077-0d0d-4189-82f7-c0158a65df09"
      },
      "execution_count": null,
      "outputs": [
        {
          "output_type": "stream",
          "name": "stdout",
          "text": [
            "              precision    recall  f1-score   support\n",
            "\n",
            "          No       0.77      0.70      0.73      1326\n",
            "         Yes       0.72      0.79      0.75      1319\n",
            "\n",
            "    accuracy                           0.74      2645\n",
            "   macro avg       0.75      0.74      0.74      2645\n",
            "weighted avg       0.75      0.74      0.74      2645\n",
            "\n"
          ]
        }
      ]
    },
    {
      "cell_type": "markdown",
      "source": [
        "#### For the first model we had an interesting result, the model was able to learn when it is a lead but it did not have an optimal performance predicting when it is not, we had an accuracy of 75%"
      ],
      "metadata": {
        "id": "KOKYYqU7uhZ2"
      }
    },
    {
      "cell_type": "code",
      "source": [
        "score_naive_gaussian = 0.75426731078905"
      ],
      "metadata": {
        "execution": {
          "iopub.status.busy": "2022-11-11T23:41:18.181761Z",
          "iopub.execute_input": "2022-11-11T23:41:18.182157Z",
          "iopub.status.idle": "2022-11-11T23:41:18.187429Z",
          "shell.execute_reply.started": "2022-11-11T23:41:18.182120Z",
          "shell.execute_reply": "2022-11-11T23:41:18.186375Z"
        },
        "trusted": true,
        "id": "rrNE8mQAuhZ2"
      },
      "execution_count": null,
      "outputs": []
    },
    {
      "cell_type": "markdown",
      "source": [
        "#### Decision Tree"
      ],
      "metadata": {
        "id": "res6E2xwuhZ2"
      }
    },
    {
      "cell_type": "markdown",
      "source": [
        "#### Here we will use the Decision Tree Model, we will test Entropy and Gini calculations, using our Normal Data."
      ],
      "metadata": {
        "id": "sIY5WuC9uhZ3"
      }
    },
    {
      "cell_type": "markdown",
      "source": [
        "#### Applying GridSearch"
      ],
      "metadata": {
        "id": "mxrTZwbmuhZ3"
      }
    },
    {
      "cell_type": "markdown",
      "source": [
        "#### Here we are applying GridSearch to check which are the best metrics to use."
      ],
      "metadata": {
        "id": "0b2wOoEQuhZ3"
      }
    },
    {
      "cell_type": "code",
      "source": [
        "min_split = np.array([2, 3, 4, 5, 6, 7])\n",
        "max_nvl = np.array([3, 4, 5, 6, 7, 9, 11])\n",
        "alg = ['entropy', 'gini']\n",
        "values_grid = {'min_samples_split': min_split, 'max_depth': max_nvl, 'criterion': alg}"
      ],
      "metadata": {
        "execution": {
          "iopub.status.busy": "2022-11-11T23:41:21.931524Z",
          "iopub.execute_input": "2022-11-11T23:41:21.931924Z",
          "iopub.status.idle": "2022-11-11T23:41:21.938778Z",
          "shell.execute_reply.started": "2022-11-11T23:41:21.931891Z",
          "shell.execute_reply": "2022-11-11T23:41:21.937328Z"
        },
        "trusted": true,
        "id": "m_pZbCCPuhZ3"
      },
      "execution_count": null,
      "outputs": []
    },
    {
      "cell_type": "code",
      "source": [
        "model = DecisionTreeClassifier()"
      ],
      "metadata": {
        "execution": {
          "iopub.status.busy": "2022-11-11T23:41:22.401390Z",
          "iopub.execute_input": "2022-11-11T23:41:22.402050Z",
          "iopub.status.idle": "2022-11-11T23:41:22.406924Z",
          "shell.execute_reply.started": "2022-11-11T23:41:22.402010Z",
          "shell.execute_reply": "2022-11-11T23:41:22.405823Z"
        },
        "trusted": true,
        "id": "h5hBAtrQuhZ3"
      },
      "execution_count": null,
      "outputs": []
    },
    {
      "cell_type": "code",
      "source": [
        "gridDecisionTree = GridSearchCV(estimator = model, param_grid = values_grid, cv = 5)"
      ],
      "metadata": {
        "execution": {
          "iopub.status.busy": "2022-11-11T23:41:22.965222Z",
          "iopub.execute_input": "2022-11-11T23:41:22.965808Z",
          "iopub.status.idle": "2022-11-11T23:41:22.970486Z",
          "shell.execute_reply.started": "2022-11-11T23:41:22.965770Z",
          "shell.execute_reply": "2022-11-11T23:41:22.969592Z"
        },
        "trusted": true,
        "id": "wnhJ60YnuhZ3"
      },
      "execution_count": null,
      "outputs": []
    },
    {
      "cell_type": "code",
      "source": [
        "gridDecisionTree.fit(X_train, y_train)"
      ],
      "metadata": {
        "execution": {
          "iopub.status.busy": "2022-11-11T23:41:23.644062Z",
          "iopub.execute_input": "2022-11-11T23:41:23.644453Z",
          "iopub.status.idle": "2022-11-11T23:41:35.857188Z",
          "shell.execute_reply.started": "2022-11-11T23:41:23.644421Z",
          "shell.execute_reply": "2022-11-11T23:41:35.856156Z"
        },
        "trusted": true,
        "colab": {
          "base_uri": "https://localhost:8080/"
        },
        "id": "LoTPY8XsuhZ3",
        "outputId": "34a0d7c0-2641-4deb-de34-996ffe2f5222"
      },
      "execution_count": null,
      "outputs": [
        {
          "output_type": "execute_result",
          "data": {
            "text/plain": [
              "GridSearchCV(cv=5, estimator=DecisionTreeClassifier(),\n",
              "             param_grid={'criterion': ['entropy', 'gini'],\n",
              "                         'max_depth': array([ 3,  4,  5,  6,  7,  9, 11]),\n",
              "                         'min_samples_split': array([2, 3, 4, 5, 6, 7])})"
            ]
          },
          "metadata": {},
          "execution_count": 55
        }
      ]
    },
    {
      "cell_type": "markdown",
      "source": [
        "#### Decision Tree - Normal Data"
      ],
      "metadata": {
        "id": "X1bVsrLruhZ4"
      }
    },
    {
      "cell_type": "code",
      "source": [
        "print('Mín Split: ', gridDecisionTree.best_estimator_.min_samples_split)\n",
        "print('Max Nvl: ', gridDecisionTree.best_estimator_.max_depth)\n",
        "print('Algorithm: ', gridDecisionTree.best_estimator_.criterion)\n",
        "print('Score: ', gridDecisionTree.best_score_)"
      ],
      "metadata": {
        "execution": {
          "iopub.status.busy": "2022-11-11T23:41:35.859002Z",
          "iopub.execute_input": "2022-11-11T23:41:35.859322Z",
          "iopub.status.idle": "2022-11-11T23:41:35.865767Z",
          "shell.execute_reply.started": "2022-11-11T23:41:35.859292Z",
          "shell.execute_reply": "2022-11-11T23:41:35.864597Z"
        },
        "trusted": true,
        "colab": {
          "base_uri": "https://localhost:8080/"
        },
        "id": "SdWrtnhNuhZ4",
        "outputId": "7f441a5f-2faf-44ad-f08d-16176bb932a2"
      },
      "execution_count": null,
      "outputs": [
        {
          "output_type": "stream",
          "name": "stdout",
          "text": [
            "Mín Split:  2\n",
            "Max Nvl:  11\n",
            "Algorithm:  gini\n",
            "Score:  0.7916051942598049\n"
          ]
        }
      ]
    },
    {
      "cell_type": "markdown",
      "source": [
        "#### Running Decision Tree."
      ],
      "metadata": {
        "id": "fiUZt4feuhZ4"
      }
    },
    {
      "cell_type": "code",
      "source": [
        "decision_tree = DecisionTreeClassifier(criterion = 'gini', min_samples_split = 2, max_depth= 11, random_state=0)"
      ],
      "metadata": {
        "execution": {
          "iopub.status.busy": "2022-11-11T23:42:32.928739Z",
          "iopub.execute_input": "2022-11-11T23:42:32.929167Z",
          "iopub.status.idle": "2022-11-11T23:42:32.934999Z",
          "shell.execute_reply.started": "2022-11-11T23:42:32.929129Z",
          "shell.execute_reply": "2022-11-11T23:42:32.933750Z"
        },
        "trusted": true,
        "id": "G9vr7DBbuhZ4"
      },
      "execution_count": null,
      "outputs": []
    },
    {
      "cell_type": "code",
      "source": [
        "decision_tree.fit(X_train, y_train)"
      ],
      "metadata": {
        "execution": {
          "iopub.status.busy": "2022-11-11T23:42:43.212771Z",
          "iopub.execute_input": "2022-11-11T23:42:43.213172Z",
          "iopub.status.idle": "2022-11-11T23:42:43.259231Z",
          "shell.execute_reply.started": "2022-11-11T23:42:43.213139Z",
          "shell.execute_reply": "2022-11-11T23:42:43.258255Z"
        },
        "trusted": true,
        "colab": {
          "base_uri": "https://localhost:8080/"
        },
        "id": "NOuP95wGuhZ4",
        "outputId": "0a83fd20-4038-433d-a192-2f6685f3c2ac"
      },
      "execution_count": null,
      "outputs": [
        {
          "output_type": "execute_result",
          "data": {
            "text/plain": [
              "DecisionTreeClassifier(max_depth=11, random_state=0)"
            ]
          },
          "metadata": {},
          "execution_count": 58
        }
      ]
    },
    {
      "cell_type": "code",
      "source": [
        "previsoes = decision_tree.predict(X_test)"
      ],
      "metadata": {
        "execution": {
          "iopub.status.busy": "2022-11-11T23:42:51.795501Z",
          "iopub.execute_input": "2022-11-11T23:42:51.796655Z",
          "iopub.status.idle": "2022-11-11T23:42:51.804202Z",
          "shell.execute_reply.started": "2022-11-11T23:42:51.796612Z",
          "shell.execute_reply": "2022-11-11T23:42:51.803116Z"
        },
        "trusted": true,
        "id": "auoyTD7HuhZ4"
      },
      "execution_count": null,
      "outputs": []
    },
    {
      "cell_type": "markdown",
      "source": [
        "#### Normal Data"
      ],
      "metadata": {
        "id": "o_G63Xb0uhZ5"
      }
    },
    {
      "cell_type": "code",
      "source": [
        "cm = ConfusionMatrix(decision_tree)\n",
        "cm.fit(X_train, y_train)\n",
        "cm.score(X_test, y_test)"
      ],
      "metadata": {
        "execution": {
          "iopub.status.busy": "2022-11-11T23:43:05.060862Z",
          "iopub.execute_input": "2022-11-11T23:43:05.061250Z",
          "iopub.status.idle": "2022-11-11T23:43:05.222718Z",
          "shell.execute_reply.started": "2022-11-11T23:43:05.061218Z",
          "shell.execute_reply": "2022-11-11T23:43:05.221040Z"
        },
        "trusted": true,
        "colab": {
          "base_uri": "https://localhost:8080/"
        },
        "id": "n6tOaiBTuhZ5",
        "outputId": "2dfcf56d-65ef-4fe1-dd2b-ae002261a84f"
      },
      "execution_count": null,
      "outputs": [
        {
          "output_type": "execute_result",
          "data": {
            "text/plain": [
              "0.8079395085066162"
            ]
          },
          "metadata": {},
          "execution_count": 60
        },
        {
          "output_type": "display_data",
          "data": {
            "text/plain": [
              "<Figure size 576x396 with 1 Axes>"
            ],
            "image/png": "[encoded data removed]"
          },
          "metadata": {}
        }
      ]
    },
    {
      "cell_type": "code",
      "source": [
        "classification_decision = (classification_report(y_test, previsoes))"
      ],
      "metadata": {
        "execution": {
          "iopub.status.busy": "2022-11-11T23:43:19.634254Z",
          "iopub.execute_input": "2022-11-11T23:43:19.634796Z",
          "iopub.status.idle": "2022-11-11T23:43:19.793486Z",
          "shell.execute_reply.started": "2022-11-11T23:43:19.634749Z",
          "shell.execute_reply": "2022-11-11T23:43:19.792468Z"
        },
        "trusted": true,
        "id": "8g2pm-d_uhZ5"
      },
      "execution_count": null,
      "outputs": []
    },
    {
      "cell_type": "code",
      "source": [
        "print(classification_decision)"
      ],
      "metadata": {
        "execution": {
          "iopub.status.busy": "2022-11-11T23:43:26.803389Z",
          "iopub.execute_input": "2022-11-11T23:43:26.803813Z",
          "iopub.status.idle": "2022-11-11T23:43:26.810109Z",
          "shell.execute_reply.started": "2022-11-11T23:43:26.803778Z",
          "shell.execute_reply": "2022-11-11T23:43:26.808974Z"
        },
        "trusted": true,
        "colab": {
          "base_uri": "https://localhost:8080/"
        },
        "id": "iKIZ-1kFuhZ5",
        "outputId": "c3160510-b25c-46b8-ba1b-c7ba9c6f7a70"
      },
      "execution_count": null,
      "outputs": [
        {
          "output_type": "stream",
          "name": "stdout",
          "text": [
            "              precision    recall  f1-score   support\n",
            "\n",
            "          No       0.85      0.75      0.80      1326\n",
            "         Yes       0.77      0.87      0.82      1319\n",
            "\n",
            "    accuracy                           0.81      2645\n",
            "   macro avg       0.81      0.81      0.81      2645\n",
            "weighted avg       0.81      0.81      0.81      2645\n",
            "\n"
          ]
        }
      ]
    },
    {
      "cell_type": "markdown",
      "source": [
        "#### We had a good improvement compared to the Naive Bayes model, the model learned a lot when it is a lead and had a good result when it is not, an interesting model."
      ],
      "metadata": {
        "id": "GWI90K8luhZ5"
      }
    },
    {
      "cell_type": "code",
      "source": [
        "score_tree = 0.7971014492753623"
      ],
      "metadata": {
        "execution": {
          "iopub.status.busy": "2022-11-11T23:44:51.927733Z",
          "iopub.execute_input": "2022-11-11T23:44:51.928297Z",
          "iopub.status.idle": "2022-11-11T23:44:51.934879Z",
          "shell.execute_reply.started": "2022-11-11T23:44:51.928240Z",
          "shell.execute_reply": "2022-11-11T23:44:51.933652Z"
        },
        "trusted": true,
        "id": "oytFfY3kuhZ5"
      },
      "execution_count": null,
      "outputs": []
    },
    {
      "cell_type": "markdown",
      "source": [
        "#### Checking the most important variables of the model"
      ],
      "metadata": {
        "id": "XOJ2X7whuhZ5"
      }
    },
    {
      "cell_type": "code",
      "source": [
        "columns = [['gender', 'SeniorCitizen', 'Partner', 'Dependents', 'tenure',\n",
        "       'PhoneService', 'MultipleLines', 'InternetService', 'OnlineSecurity',\n",
        "       'OnlineBackup', 'DeviceProtection', 'TechSupport', 'StreamingTV',\n",
        "       'StreamingMovies', 'Contract', 'PaperlessBilling', 'PaymentMethod',\n",
        "       'MonthlyCharges']]"
      ],
      "metadata": {
        "execution": {
          "iopub.status.busy": "2022-11-11T23:37:11.539536Z",
          "iopub.execute_input": "2022-11-11T23:37:11.539991Z",
          "iopub.status.idle": "2022-11-11T23:37:11.546322Z",
          "shell.execute_reply.started": "2022-11-11T23:37:11.539953Z",
          "shell.execute_reply": "2022-11-11T23:37:11.544993Z"
        },
        "trusted": true,
        "id": "tWmah68huhZ5"
      },
      "execution_count": null,
      "outputs": []
    },
    {
      "cell_type": "code",
      "source": [
        "feature_imp = pd.Series(decision_tree.feature_importances_, index = columns).sort_values(ascending = False)"
      ],
      "metadata": {
        "execution": {
          "iopub.status.busy": "2022-11-11T23:46:15.582912Z",
          "iopub.execute_input": "2022-11-11T23:46:15.583320Z",
          "iopub.status.idle": "2022-11-11T23:46:15.592083Z",
          "shell.execute_reply.started": "2022-11-11T23:46:15.583288Z",
          "shell.execute_reply": "2022-11-11T23:46:15.590663Z"
        },
        "trusted": true,
        "id": "fvssza8zuhZ6"
      },
      "execution_count": null,
      "outputs": []
    },
    {
      "cell_type": "code",
      "source": [
        "feature_imp"
      ],
      "metadata": {
        "execution": {
          "iopub.status.busy": "2022-11-11T23:46:38.166321Z",
          "iopub.execute_input": "2022-11-11T23:46:38.166720Z",
          "iopub.status.idle": "2022-11-11T23:46:38.177409Z",
          "shell.execute_reply.started": "2022-11-11T23:46:38.166681Z",
          "shell.execute_reply": "2022-11-11T23:46:38.176084Z"
        },
        "trusted": true,
        "colab": {
          "base_uri": "https://localhost:8080/"
        },
        "id": "usSSn3ivuhZ6",
        "outputId": "37c09865-dd6d-4d92-e0a7-0e5fde4a7da1"
      },
      "execution_count": null,
      "outputs": [
        {
          "output_type": "execute_result",
          "data": {
            "text/plain": [
              "Contract            0.326737\n",
              "MonthlyCharges      0.211264\n",
              "tenure              0.163651\n",
              "OnlineSecurity      0.051692\n",
              "PaymentMethod       0.030459\n",
              "PaperlessBilling    0.024899\n",
              "gender              0.022389\n",
              "InternetService     0.021939\n",
              "OnlineBackup        0.019579\n",
              "Dependents          0.018420\n",
              "SeniorCitizen       0.018020\n",
              "Partner             0.017727\n",
              "StreamingMovies     0.016344\n",
              "MultipleLines       0.015800\n",
              "TechSupport         0.013628\n",
              "StreamingTV         0.013218\n",
              "DeviceProtection    0.008392\n",
              "PhoneService        0.005845\n",
              "dtype: float64"
            ]
          },
          "metadata": {},
          "execution_count": 66
        }
      ]
    },
    {
      "cell_type": "markdown",
      "source": [
        "#### Random Forest"
      ],
      "metadata": {
        "id": "ty4Ga7BAuhZ6"
      }
    },
    {
      "cell_type": "markdown",
      "source": [
        "#### Here we will use the Random Forest Model, we will test Entropy and Gini calculations, using our Normal Data."
      ],
      "metadata": {
        "id": "5X_hrIHPuhZ6"
      }
    },
    {
      "cell_type": "code",
      "source": [
        "from sklearn.ensemble import RandomForestClassifier"
      ],
      "metadata": {
        "execution": {
          "iopub.status.busy": "2022-11-11T23:46:55.347809Z",
          "iopub.execute_input": "2022-11-11T23:46:55.348620Z",
          "iopub.status.idle": "2022-11-11T23:46:55.354020Z",
          "shell.execute_reply.started": "2022-11-11T23:46:55.348582Z",
          "shell.execute_reply": "2022-11-11T23:46:55.352746Z"
        },
        "trusted": true,
        "id": "tCvbXPY2uhZ6"
      },
      "execution_count": null,
      "outputs": []
    },
    {
      "cell_type": "markdown",
      "source": [
        "#### Applying GridSearch"
      ],
      "metadata": {
        "id": "I6Lm5x1LuhZ6"
      }
    },
    {
      "cell_type": "code",
      "source": [
        "n_estimators = np.array([100])\n",
        "alg = ['entropy', 'gini']\n",
        "values_grid = {'n_estimators': n_estimators, 'criterion': alg}"
      ],
      "metadata": {
        "execution": {
          "iopub.status.busy": "2022-11-11T23:46:56.019278Z",
          "iopub.execute_input": "2022-11-11T23:46:56.019945Z",
          "iopub.status.idle": "2022-11-11T23:46:56.027126Z",
          "shell.execute_reply.started": "2022-11-11T23:46:56.019901Z",
          "shell.execute_reply": "2022-11-11T23:46:56.025586Z"
        },
        "trusted": true,
        "id": "6mN63b9ouhZ6"
      },
      "execution_count": null,
      "outputs": []
    },
    {
      "cell_type": "code",
      "source": [
        "model = RandomForestClassifier()"
      ],
      "metadata": {
        "execution": {
          "iopub.status.busy": "2022-11-11T23:46:56.851108Z",
          "iopub.execute_input": "2022-11-11T23:46:56.851574Z",
          "iopub.status.idle": "2022-11-11T23:46:56.856952Z",
          "shell.execute_reply.started": "2022-11-11T23:46:56.851538Z",
          "shell.execute_reply": "2022-11-11T23:46:56.855675Z"
        },
        "trusted": true,
        "id": "H3ap0gaVuhZ6"
      },
      "execution_count": null,
      "outputs": []
    },
    {
      "cell_type": "code",
      "source": [
        "gridRandomForest = GridSearchCV(estimator = model, param_grid = values_grid, cv = 5)"
      ],
      "metadata": {
        "execution": {
          "iopub.status.busy": "2022-11-11T23:46:57.177124Z",
          "iopub.execute_input": "2022-11-11T23:46:57.177537Z",
          "iopub.status.idle": "2022-11-11T23:46:57.183674Z",
          "shell.execute_reply.started": "2022-11-11T23:46:57.177489Z",
          "shell.execute_reply": "2022-11-11T23:46:57.182359Z"
        },
        "trusted": true,
        "id": "g88Wy9WnuhZ7"
      },
      "execution_count": null,
      "outputs": []
    },
    {
      "cell_type": "code",
      "source": [
        "gridRandomForest.fit(X_train, y_train)"
      ],
      "metadata": {
        "execution": {
          "iopub.status.busy": "2022-11-11T23:46:57.850982Z",
          "iopub.execute_input": "2022-11-11T23:46:57.851639Z",
          "iopub.status.idle": "2022-11-11T23:47:06.815292Z",
          "shell.execute_reply.started": "2022-11-11T23:46:57.851604Z",
          "shell.execute_reply": "2022-11-11T23:47:06.814098Z"
        },
        "trusted": true,
        "colab": {
          "base_uri": "https://localhost:8080/"
        },
        "id": "dlcxIamJuhZ7",
        "outputId": "0b8e589f-4159-41b6-e688-024422ddf68c"
      },
      "execution_count": null,
      "outputs": [
        {
          "output_type": "execute_result",
          "data": {
            "text/plain": [
              "GridSearchCV(cv=5, estimator=RandomForestClassifier(),\n",
              "             param_grid={'criterion': ['entropy', 'gini'],\n",
              "                         'n_estimators': array([100])})"
            ]
          },
          "metadata": {},
          "execution_count": 71
        }
      ]
    },
    {
      "cell_type": "code",
      "source": [
        "print('Algorithm: ', gridRandomForest.best_estimator_.criterion)\n",
        "print('Score: ', gridRandomForest.best_score_)"
      ],
      "metadata": {
        "execution": {
          "iopub.status.busy": "2022-11-11T23:47:06.817082Z",
          "iopub.execute_input": "2022-11-11T23:47:06.817529Z",
          "iopub.status.idle": "2022-11-11T23:47:06.824531Z",
          "shell.execute_reply.started": "2022-11-11T23:47:06.817482Z",
          "shell.execute_reply": "2022-11-11T23:47:06.822979Z"
        },
        "trusted": true,
        "colab": {
          "base_uri": "https://localhost:8080/"
        },
        "id": "8ItJUMOEuhZ7",
        "outputId": "a38eeb6d-1f64-4720-ba9e-6b9c40f8ec3d"
      },
      "execution_count": null,
      "outputs": [
        {
          "output_type": "stream",
          "name": "stdout",
          "text": [
            "Algorithm:  gini\n",
            "Score:  0.8590175788555043\n"
          ]
        }
      ]
    },
    {
      "cell_type": "markdown",
      "source": [
        "#### Running Random Forest"
      ],
      "metadata": {
        "id": "2lqZmoC_uhZ7"
      }
    },
    {
      "cell_type": "code",
      "source": [
        "random_forest = RandomForestClassifier(n_estimators = 100, criterion = 'gini', random_state = 0)"
      ],
      "metadata": {
        "execution": {
          "iopub.status.busy": "2022-11-11T23:47:43.292583Z",
          "iopub.execute_input": "2022-11-11T23:47:43.292989Z",
          "iopub.status.idle": "2022-11-11T23:47:43.300110Z",
          "shell.execute_reply.started": "2022-11-11T23:47:43.292959Z",
          "shell.execute_reply": "2022-11-11T23:47:43.298474Z"
        },
        "trusted": true,
        "id": "kk_SALK5uhZ7"
      },
      "execution_count": null,
      "outputs": []
    },
    {
      "cell_type": "code",
      "source": [
        "random_forest.fit(X_train, y_train)"
      ],
      "metadata": {
        "execution": {
          "iopub.status.busy": "2022-11-11T23:47:43.608484Z",
          "iopub.execute_input": "2022-11-11T23:47:43.609133Z",
          "iopub.status.idle": "2022-11-11T23:47:44.549686Z",
          "shell.execute_reply.started": "2022-11-11T23:47:43.609092Z",
          "shell.execute_reply": "2022-11-11T23:47:44.548248Z"
        },
        "trusted": true,
        "colab": {
          "base_uri": "https://localhost:8080/"
        },
        "id": "gRturdD3uhZ7",
        "outputId": "891f9711-d3a7-4e50-90f7-4b2cde2c7a55"
      },
      "execution_count": null,
      "outputs": [
        {
          "output_type": "execute_result",
          "data": {
            "text/plain": [
              "RandomForestClassifier(random_state=0)"
            ]
          },
          "metadata": {},
          "execution_count": 74
        }
      ]
    },
    {
      "cell_type": "code",
      "source": [
        "previsoes = random_forest.predict(X_test)"
      ],
      "metadata": {
        "execution": {
          "iopub.status.busy": "2022-11-11T23:47:44.552572Z",
          "iopub.execute_input": "2022-11-11T23:47:44.553075Z",
          "iopub.status.idle": "2022-11-11T23:47:44.650405Z",
          "shell.execute_reply.started": "2022-11-11T23:47:44.553033Z",
          "shell.execute_reply": "2022-11-11T23:47:44.649140Z"
        },
        "trusted": true,
        "id": "79suzBLHuhZ7"
      },
      "execution_count": null,
      "outputs": []
    },
    {
      "cell_type": "markdown",
      "source": [
        "#### Normal Data"
      ],
      "metadata": {
        "id": "X1KWMW2quhZ7"
      }
    },
    {
      "cell_type": "code",
      "source": [
        "cm = ConfusionMatrix(random_forest)\n",
        "cm.fit(X_train, y_train)\n",
        "cm.score(X_test, y_test)"
      ],
      "metadata": {
        "execution": {
          "iopub.status.busy": "2022-11-11T23:47:45.221925Z",
          "iopub.execute_input": "2022-11-11T23:47:45.222367Z",
          "iopub.status.idle": "2022-11-11T23:47:45.557244Z",
          "shell.execute_reply.started": "2022-11-11T23:47:45.222330Z",
          "shell.execute_reply": "2022-11-11T23:47:45.555747Z"
        },
        "trusted": true,
        "colab": {
          "base_uri": "https://localhost:8080/"
        },
        "id": "nCF9WG_FuhZ7",
        "outputId": "68fc4dc1-91a8-49ff-fe49-8b9360c91c09"
      },
      "execution_count": null,
      "outputs": [
        {
          "output_type": "execute_result",
          "data": {
            "text/plain": [
              "0.8744801512287335"
            ]
          },
          "metadata": {},
          "execution_count": 76
        },
        {
          "output_type": "display_data",
          "data": {
            "text/plain": [
              "<Figure size 576x396 with 1 Axes>"
            ],
            "image/png": "[encoded data removed]"
          },
          "metadata": {}
        }
      ]
    },
    {
      "cell_type": "code",
      "source": [
        "classification_random = (classification_report(y_test, previsoes))"
      ],
      "metadata": {
        "execution": {
          "iopub.status.busy": "2022-11-11T23:47:47.041079Z",
          "iopub.execute_input": "2022-11-11T23:47:47.042329Z",
          "iopub.status.idle": "2022-11-11T23:47:47.142930Z",
          "shell.execute_reply.started": "2022-11-11T23:47:47.042283Z",
          "shell.execute_reply": "2022-11-11T23:47:47.141923Z"
        },
        "trusted": true,
        "id": "jNJ7swgcuhZ8"
      },
      "execution_count": null,
      "outputs": []
    },
    {
      "cell_type": "code",
      "source": [
        "print(classification_random)"
      ],
      "metadata": {
        "execution": {
          "iopub.status.busy": "2022-11-11T23:47:49.560850Z",
          "iopub.execute_input": "2022-11-11T23:47:49.561869Z",
          "iopub.status.idle": "2022-11-11T23:47:49.567526Z",
          "shell.execute_reply.started": "2022-11-11T23:47:49.561830Z",
          "shell.execute_reply": "2022-11-11T23:47:49.566462Z"
        },
        "trusted": true,
        "colab": {
          "base_uri": "https://localhost:8080/"
        },
        "id": "UOiIyiUXuhZ8",
        "outputId": "98b2efa2-a6d4-4a25-bbf1-4028225f1890"
      },
      "execution_count": null,
      "outputs": [
        {
          "output_type": "stream",
          "name": "stdout",
          "text": [
            "              precision    recall  f1-score   support\n",
            "\n",
            "          No       0.92      0.82      0.87      1326\n",
            "         Yes       0.84      0.93      0.88      1319\n",
            "\n",
            "    accuracy                           0.87      2645\n",
            "   macro avg       0.88      0.87      0.87      2645\n",
            "weighted avg       0.88      0.87      0.87      2645\n",
            "\n"
          ]
        }
      ]
    },
    {
      "cell_type": "markdown",
      "source": [
        "#### Here we had a great model with almost 88% accuracy, it was able to predict both results."
      ],
      "metadata": {
        "id": "nUSgsIfJuhZ8"
      }
    },
    {
      "cell_type": "code",
      "source": [
        "score_random = 0.8760064412238325"
      ],
      "metadata": {
        "execution": {
          "iopub.status.busy": "2022-11-11T23:48:00.929107Z",
          "iopub.execute_input": "2022-11-11T23:48:00.929492Z",
          "iopub.status.idle": "2022-11-11T23:48:00.934925Z",
          "shell.execute_reply.started": "2022-11-11T23:48:00.929461Z",
          "shell.execute_reply": "2022-11-11T23:48:00.934119Z"
        },
        "trusted": true,
        "id": "x5pki0BMuhZ8"
      },
      "execution_count": null,
      "outputs": []
    },
    {
      "cell_type": "markdown",
      "source": [
        "#### Checking the most important variables of the model"
      ],
      "metadata": {
        "id": "487CorfluhZ8"
      }
    },
    {
      "cell_type": "code",
      "source": [
        "feature_imp_random = pd.Series(random_forest.feature_importances_, index = columns).sort_values(ascending = False)"
      ],
      "metadata": {
        "execution": {
          "iopub.status.busy": "2022-11-11T23:48:58.258750Z",
          "iopub.execute_input": "2022-11-11T23:48:58.259145Z",
          "iopub.status.idle": "2022-11-11T23:48:58.279334Z",
          "shell.execute_reply.started": "2022-11-11T23:48:58.259112Z",
          "shell.execute_reply": "2022-11-11T23:48:58.278545Z"
        },
        "trusted": true,
        "id": "ft8DVJpOuhZ8"
      },
      "execution_count": null,
      "outputs": []
    },
    {
      "cell_type": "code",
      "source": [
        "feature_imp_random"
      ],
      "metadata": {
        "execution": {
          "iopub.status.busy": "2022-11-11T23:48:58.635219Z",
          "iopub.execute_input": "2022-11-11T23:48:58.635627Z",
          "iopub.status.idle": "2022-11-11T23:48:58.643943Z",
          "shell.execute_reply.started": "2022-11-11T23:48:58.635593Z",
          "shell.execute_reply": "2022-11-11T23:48:58.642882Z"
        },
        "trusted": true,
        "colab": {
          "base_uri": "https://localhost:8080/"
        },
        "id": "hx7iamX7uhZ8",
        "outputId": "52434199-955b-4517-c42e-80e418186e26"
      },
      "execution_count": null,
      "outputs": [
        {
          "output_type": "execute_result",
          "data": {
            "text/plain": [
              "MonthlyCharges      0.220631\n",
              "tenure              0.220454\n",
              "Contract            0.111299\n",
              "PaymentMethod       0.060633\n",
              "TechSupport         0.050338\n",
              "OnlineSecurity      0.048272\n",
              "InternetService     0.033816\n",
              "gender              0.031674\n",
              "OnlineBackup        0.029298\n",
              "PaperlessBilling    0.026949\n",
              "Partner             0.026518\n",
              "DeviceProtection    0.026382\n",
              "MultipleLines       0.024702\n",
              "Dependents          0.023425\n",
              "SeniorCitizen       0.019859\n",
              "StreamingMovies     0.019835\n",
              "StreamingTV         0.019330\n",
              "PhoneService        0.006585\n",
              "dtype: float64"
            ]
          },
          "metadata": {},
          "execution_count": 81
        }
      ]
    },
    {
      "cell_type": "markdown",
      "source": [
        "#### Extra Trees"
      ],
      "metadata": {
        "id": "z25O7dDKuhZ8"
      }
    },
    {
      "cell_type": "markdown",
      "source": [
        "#### Here we will use the Extra Trees Model, we will test Entropy and Gini calculations, using our Normal Data."
      ],
      "metadata": {
        "id": "vUvIKgEguhZ8"
      }
    },
    {
      "cell_type": "code",
      "source": [
        "from sklearn.ensemble import ExtraTreesClassifier"
      ],
      "metadata": {
        "execution": {
          "iopub.status.busy": "2022-11-11T23:49:55.660669Z",
          "iopub.execute_input": "2022-11-11T23:49:55.661051Z",
          "iopub.status.idle": "2022-11-11T23:49:55.666132Z",
          "shell.execute_reply.started": "2022-11-11T23:49:55.661020Z",
          "shell.execute_reply": "2022-11-11T23:49:55.665184Z"
        },
        "trusted": true,
        "id": "FqdooqDDuhZ9"
      },
      "execution_count": null,
      "outputs": []
    },
    {
      "cell_type": "markdown",
      "source": [
        "#### Applying GridSearch"
      ],
      "metadata": {
        "id": "k9Mc9BBEuhZ9"
      }
    },
    {
      "cell_type": "code",
      "source": [
        "n_estimators = np.array([100])\n",
        "alg = ['entropy', 'gini']\n",
        "values_grid = {'n_estimators': n_estimators, 'criterion': alg}"
      ],
      "metadata": {
        "execution": {
          "iopub.status.busy": "2022-11-11T23:49:56.234058Z",
          "iopub.execute_input": "2022-11-11T23:49:56.234737Z",
          "iopub.status.idle": "2022-11-11T23:49:56.239945Z",
          "shell.execute_reply.started": "2022-11-11T23:49:56.234700Z",
          "shell.execute_reply": "2022-11-11T23:49:56.238590Z"
        },
        "trusted": true,
        "id": "dj0FBAjQuhZ9"
      },
      "execution_count": null,
      "outputs": []
    },
    {
      "cell_type": "code",
      "source": [
        "model = ExtraTreesClassifier()"
      ],
      "metadata": {
        "execution": {
          "iopub.status.busy": "2022-11-11T23:49:56.701187Z",
          "iopub.execute_input": "2022-11-11T23:49:56.701592Z",
          "iopub.status.idle": "2022-11-11T23:49:56.706449Z",
          "shell.execute_reply.started": "2022-11-11T23:49:56.701557Z",
          "shell.execute_reply": "2022-11-11T23:49:56.704988Z"
        },
        "trusted": true,
        "id": "YP6nZODXuhZ9"
      },
      "execution_count": null,
      "outputs": []
    },
    {
      "cell_type": "code",
      "source": [
        "gridExtraTrees = GridSearchCV(estimator = model, param_grid = values_grid, cv = 5)"
      ],
      "metadata": {
        "execution": {
          "iopub.status.busy": "2022-11-11T23:49:57.549002Z",
          "iopub.execute_input": "2022-11-11T23:49:57.549399Z",
          "iopub.status.idle": "2022-11-11T23:49:57.554593Z",
          "shell.execute_reply.started": "2022-11-11T23:49:57.549368Z",
          "shell.execute_reply": "2022-11-11T23:49:57.553793Z"
        },
        "trusted": true,
        "id": "xSX6SAH0uhZ9"
      },
      "execution_count": null,
      "outputs": []
    },
    {
      "cell_type": "code",
      "source": [
        "gridExtraTrees.fit(X_train, y_train)"
      ],
      "metadata": {
        "execution": {
          "iopub.status.busy": "2022-11-11T23:49:57.968775Z",
          "iopub.execute_input": "2022-11-11T23:49:57.969151Z",
          "iopub.status.idle": "2022-11-11T23:50:06.710856Z",
          "shell.execute_reply.started": "2022-11-11T23:49:57.969120Z",
          "shell.execute_reply": "2022-11-11T23:50:06.709804Z"
        },
        "trusted": true,
        "colab": {
          "base_uri": "https://localhost:8080/"
        },
        "id": "86MEOXT-uhZ9",
        "outputId": "e1acf8de-17c1-4c7c-e50a-ee4df380e410"
      },
      "execution_count": null,
      "outputs": [
        {
          "output_type": "execute_result",
          "data": {
            "text/plain": [
              "GridSearchCV(cv=5, estimator=ExtraTreesClassifier(),\n",
              "             param_grid={'criterion': ['entropy', 'gini'],\n",
              "                         'n_estimators': array([100])})"
            ]
          },
          "metadata": {},
          "execution_count": 86
        }
      ]
    },
    {
      "cell_type": "code",
      "source": [
        "print('Algorithm: ', gridExtraTrees.best_estimator_.criterion)\n",
        "print('Score: ', gridExtraTrees.best_score_)"
      ],
      "metadata": {
        "execution": {
          "iopub.status.busy": "2022-11-11T23:50:06.712786Z",
          "iopub.execute_input": "2022-11-11T23:50:06.713117Z",
          "iopub.status.idle": "2022-11-11T23:50:06.718575Z",
          "shell.execute_reply.started": "2022-11-11T23:50:06.713086Z",
          "shell.execute_reply": "2022-11-11T23:50:06.717613Z"
        },
        "trusted": true,
        "colab": {
          "base_uri": "https://localhost:8080/"
        },
        "id": "mRnvzIaCuhZ9",
        "outputId": "639401f2-6df7-4a72-a0c1-cc206956f115"
      },
      "execution_count": null,
      "outputs": [
        {
          "output_type": "stream",
          "name": "stdout",
          "text": [
            "Algorithm:  entropy\n",
            "Score:  0.8586927735746297\n"
          ]
        }
      ]
    },
    {
      "cell_type": "markdown",
      "source": [
        "#### Running Extra Trees"
      ],
      "metadata": {
        "id": "2TxS9dwvuhZ9"
      }
    },
    {
      "cell_type": "code",
      "source": [
        "extra_trees = ExtraTreesClassifier(n_estimators = 100, criterion = 'entropy', random_state = 0)"
      ],
      "metadata": {
        "execution": {
          "iopub.status.busy": "2022-11-11T23:50:35.197593Z",
          "iopub.execute_input": "2022-11-11T23:50:35.198007Z",
          "iopub.status.idle": "2022-11-11T23:50:35.205556Z",
          "shell.execute_reply.started": "2022-11-11T23:50:35.197952Z",
          "shell.execute_reply": "2022-11-11T23:50:35.204600Z"
        },
        "trusted": true,
        "id": "6UkkbmMeuhZ9"
      },
      "execution_count": null,
      "outputs": []
    },
    {
      "cell_type": "code",
      "source": [
        "extra_trees.fit(X_train, y_train)"
      ],
      "metadata": {
        "execution": {
          "iopub.status.busy": "2022-11-11T23:51:02.972076Z",
          "iopub.execute_input": "2022-11-11T23:51:02.972531Z",
          "iopub.status.idle": "2022-11-11T23:51:03.929851Z",
          "shell.execute_reply.started": "2022-11-11T23:51:02.972480Z",
          "shell.execute_reply": "2022-11-11T23:51:03.928565Z"
        },
        "trusted": true,
        "colab": {
          "base_uri": "https://localhost:8080/"
        },
        "id": "K-mrG4QjuhZ-",
        "outputId": "f8ec9c0b-9502-4274-faeb-1b443b4ec573"
      },
      "execution_count": null,
      "outputs": [
        {
          "output_type": "execute_result",
          "data": {
            "text/plain": [
              "ExtraTreesClassifier(criterion='entropy', random_state=0)"
            ]
          },
          "metadata": {},
          "execution_count": 89
        }
      ]
    },
    {
      "cell_type": "code",
      "source": [
        "previsoes = extra_trees.predict(X_test)"
      ],
      "metadata": {
        "execution": {
          "iopub.status.busy": "2022-11-11T23:51:12.063202Z",
          "iopub.execute_input": "2022-11-11T23:51:12.063615Z",
          "iopub.status.idle": "2022-11-11T23:51:12.167629Z",
          "shell.execute_reply.started": "2022-11-11T23:51:12.063581Z",
          "shell.execute_reply": "2022-11-11T23:51:12.166584Z"
        },
        "trusted": true,
        "id": "nHSMcrsBuhZ-"
      },
      "execution_count": null,
      "outputs": []
    },
    {
      "cell_type": "markdown",
      "source": [
        "#### Normal Data"
      ],
      "metadata": {
        "id": "AlWOpZzLuhZ-"
      }
    },
    {
      "cell_type": "code",
      "source": [
        "cm = ConfusionMatrix(extra_trees)\n",
        "cm.fit(X_train, y_train)\n",
        "cm.score(X_test, y_test)"
      ],
      "metadata": {
        "execution": {
          "iopub.status.busy": "2022-11-11T23:51:30.991631Z",
          "iopub.execute_input": "2022-11-11T23:51:30.992011Z",
          "iopub.status.idle": "2022-11-11T23:51:31.358768Z",
          "shell.execute_reply.started": "2022-11-11T23:51:30.991981Z",
          "shell.execute_reply": "2022-11-11T23:51:31.357072Z"
        },
        "trusted": true,
        "colab": {
          "base_uri": "https://localhost:8080/"
        },
        "id": "EJBMQvXnuhZ-",
        "outputId": "68aec65e-b690-4030-cf9f-fee6003a8758"
      },
      "execution_count": null,
      "outputs": [
        {
          "output_type": "execute_result",
          "data": {
            "text/plain": [
              "0.8771266540642723"
            ]
          },
          "metadata": {},
          "execution_count": 91
        },
        {
          "output_type": "display_data",
          "data": {
            "text/plain": [
              "<Figure size 576x396 with 1 Axes>"
            ],
            "image/png": "[encoded data removed]"
          },
          "metadata": {}
        }
      ]
    },
    {
      "cell_type": "code",
      "source": [
        "classification_extra = (classification_report(y_test, previsoes))"
      ],
      "metadata": {
        "execution": {
          "iopub.status.busy": "2022-11-11T23:51:54.594500Z",
          "iopub.execute_input": "2022-11-11T23:51:54.595082Z",
          "iopub.status.idle": "2022-11-11T23:51:54.702560Z",
          "shell.execute_reply.started": "2022-11-11T23:51:54.595029Z",
          "shell.execute_reply": "2022-11-11T23:51:54.701709Z"
        },
        "trusted": true,
        "id": "GzLwSP3RuhZ-"
      },
      "execution_count": null,
      "outputs": []
    },
    {
      "cell_type": "code",
      "source": [
        "print(classification_extra)"
      ],
      "metadata": {
        "execution": {
          "iopub.status.busy": "2022-11-11T23:52:07.201864Z",
          "iopub.execute_input": "2022-11-11T23:52:07.202262Z",
          "iopub.status.idle": "2022-11-11T23:52:07.209694Z",
          "shell.execute_reply.started": "2022-11-11T23:52:07.202230Z",
          "shell.execute_reply": "2022-11-11T23:52:07.207808Z"
        },
        "trusted": true,
        "colab": {
          "base_uri": "https://localhost:8080/"
        },
        "id": "kCSIZKkfuhZ-",
        "outputId": "280fcd35-f150-4b46-cec8-a4ac4e7dc1be"
      },
      "execution_count": null,
      "outputs": [
        {
          "output_type": "stream",
          "name": "stdout",
          "text": [
            "              precision    recall  f1-score   support\n",
            "\n",
            "          No       0.91      0.84      0.87      1326\n",
            "         Yes       0.85      0.92      0.88      1319\n",
            "\n",
            "    accuracy                           0.88      2645\n",
            "   macro avg       0.88      0.88      0.88      2645\n",
            "weighted avg       0.88      0.88      0.88      2645\n",
            "\n"
          ]
        }
      ]
    },
    {
      "cell_type": "markdown",
      "source": [
        "#### Great model, we had a slight worsening in predicting when it is a lead when compared to the random forest model but we gained in predicting when it is not, it is a more balanced model, here we had 88% accuracy."
      ],
      "metadata": {
        "id": "rX5Ts6PeuhZ-"
      }
    },
    {
      "cell_type": "code",
      "source": [
        "score_extra = 0.8827697262479871"
      ],
      "metadata": {
        "execution": {
          "iopub.status.busy": "2022-11-11T23:52:29.641905Z",
          "iopub.execute_input": "2022-11-11T23:52:29.642476Z",
          "iopub.status.idle": "2022-11-11T23:52:29.648418Z",
          "shell.execute_reply.started": "2022-11-11T23:52:29.642433Z",
          "shell.execute_reply": "2022-11-11T23:52:29.647212Z"
        },
        "trusted": true,
        "id": "IP0sHXv-uhZ-"
      },
      "execution_count": null,
      "outputs": []
    },
    {
      "cell_type": "markdown",
      "source": [
        "#### Checking the most important variables of the model"
      ],
      "metadata": {
        "id": "-rROXciWuhZ-"
      }
    },
    {
      "cell_type": "code",
      "source": [
        "feature_extra = pd.Series(extra_trees.feature_importances_, index = columns).sort_values(ascending = False)"
      ],
      "metadata": {
        "execution": {
          "iopub.status.busy": "2022-11-11T23:53:54.857176Z",
          "iopub.execute_input": "2022-11-11T23:53:54.857578Z",
          "iopub.status.idle": "2022-11-11T23:53:54.884546Z",
          "shell.execute_reply.started": "2022-11-11T23:53:54.857547Z",
          "shell.execute_reply": "2022-11-11T23:53:54.883428Z"
        },
        "trusted": true,
        "id": "9SBuHnl8uhZ_"
      },
      "execution_count": null,
      "outputs": []
    },
    {
      "cell_type": "code",
      "source": [
        "feature_extra"
      ],
      "metadata": {
        "execution": {
          "iopub.status.busy": "2022-11-11T23:54:02.493175Z",
          "iopub.execute_input": "2022-11-11T23:54:02.493568Z",
          "iopub.status.idle": "2022-11-11T23:54:02.502548Z",
          "shell.execute_reply.started": "2022-11-11T23:54:02.493536Z",
          "shell.execute_reply": "2022-11-11T23:54:02.501231Z"
        },
        "trusted": true,
        "colab": {
          "base_uri": "https://localhost:8080/"
        },
        "id": "PhLDHdAIuhZ_",
        "outputId": "47827b51-5265-4607-a739-f135ba6cba7e"
      },
      "execution_count": null,
      "outputs": [
        {
          "output_type": "execute_result",
          "data": {
            "text/plain": [
              "tenure              0.191010\n",
              "MonthlyCharges      0.174979\n",
              "Contract            0.103337\n",
              "PaymentMethod       0.076262\n",
              "OnlineSecurity      0.045201\n",
              "gender              0.043993\n",
              "TechSupport         0.042140\n",
              "InternetService     0.037083\n",
              "PaperlessBilling    0.034635\n",
              "Partner             0.033980\n",
              "OnlineBackup        0.033963\n",
              "MultipleLines       0.031938\n",
              "DeviceProtection    0.031908\n",
              "Dependents          0.029201\n",
              "StreamingTV         0.028584\n",
              "StreamingMovies     0.027694\n",
              "SeniorCitizen       0.025504\n",
              "PhoneService        0.008589\n",
              "dtype: float64"
            ]
          },
          "metadata": {},
          "execution_count": 96
        }
      ]
    },
    {
      "cell_type": "markdown",
      "source": [
        "#### K Neighbors"
      ],
      "metadata": {
        "id": "T5n09tjvuhZ_"
      }
    },
    {
      "cell_type": "markdown",
      "source": [
        "#### Here we will use the K-Neighbors Model, using our Normal Data and StandardScaler Data, here we use the GridSearch Model to figure out the best metrics to use in this model."
      ],
      "metadata": {
        "id": "U1IrPraGuhZ_"
      }
    },
    {
      "cell_type": "code",
      "source": [
        "from sklearn.neighbors import KNeighborsClassifier"
      ],
      "metadata": {
        "execution": {
          "iopub.status.busy": "2022-11-12T00:04:13.115433Z",
          "iopub.execute_input": "2022-11-12T00:04:13.115848Z",
          "iopub.status.idle": "2022-11-12T00:04:13.121824Z",
          "shell.execute_reply.started": "2022-11-12T00:04:13.115815Z",
          "shell.execute_reply": "2022-11-12T00:04:13.120554Z"
        },
        "trusted": true,
        "id": "fh4h8q0AuhZ_"
      },
      "execution_count": null,
      "outputs": []
    },
    {
      "cell_type": "code",
      "source": [
        "knn = KNeighborsClassifier()"
      ],
      "metadata": {
        "execution": {
          "iopub.status.busy": "2022-11-12T00:04:13.311112Z",
          "iopub.execute_input": "2022-11-12T00:04:13.312093Z",
          "iopub.status.idle": "2022-11-12T00:04:13.317147Z",
          "shell.execute_reply.started": "2022-11-12T00:04:13.312049Z",
          "shell.execute_reply": "2022-11-12T00:04:13.316297Z"
        },
        "trusted": true,
        "id": "o3vrff-xuhZ_"
      },
      "execution_count": null,
      "outputs": []
    },
    {
      "cell_type": "markdown",
      "source": [
        "#### Here we use the GridSearch to figure out the best metrics to use in this model."
      ],
      "metadata": {
        "id": "CiDWHug9uhZ_"
      }
    },
    {
      "cell_type": "code",
      "source": [
        "k_list = list(range(1,10))"
      ],
      "metadata": {
        "execution": {
          "iopub.status.busy": "2022-11-12T00:04:14.430374Z",
          "iopub.execute_input": "2022-11-12T00:04:14.431017Z",
          "iopub.status.idle": "2022-11-12T00:04:14.436760Z",
          "shell.execute_reply.started": "2022-11-12T00:04:14.430980Z",
          "shell.execute_reply": "2022-11-12T00:04:14.434753Z"
        },
        "trusted": true,
        "id": "DpLO23iDuhaA"
      },
      "execution_count": null,
      "outputs": []
    },
    {
      "cell_type": "code",
      "source": [
        "k_values = dict(n_neighbors = k_list)"
      ],
      "metadata": {
        "execution": {
          "iopub.status.busy": "2022-11-12T00:04:14.691133Z",
          "iopub.execute_input": "2022-11-12T00:04:14.691857Z",
          "iopub.status.idle": "2022-11-12T00:04:14.697675Z",
          "shell.execute_reply.started": "2022-11-12T00:04:14.691809Z",
          "shell.execute_reply": "2022-11-12T00:04:14.696098Z"
        },
        "trusted": true,
        "id": "bJjsx7RmuhaA"
      },
      "execution_count": null,
      "outputs": []
    },
    {
      "cell_type": "code",
      "source": [
        "grid = GridSearchCV(knn, k_values, cv = 5, scoring = 'accuracy')"
      ],
      "metadata": {
        "execution": {
          "iopub.status.busy": "2022-11-12T00:04:15.830842Z",
          "iopub.execute_input": "2022-11-12T00:04:15.831237Z",
          "iopub.status.idle": "2022-11-12T00:04:15.836428Z",
          "shell.execute_reply.started": "2022-11-12T00:04:15.831202Z",
          "shell.execute_reply": "2022-11-12T00:04:15.835405Z"
        },
        "trusted": true,
        "id": "laAJYhIRuhaA"
      },
      "execution_count": null,
      "outputs": []
    },
    {
      "cell_type": "code",
      "source": [
        "grid.fit(X_train, y_train)"
      ],
      "metadata": {
        "execution": {
          "iopub.status.busy": "2022-11-12T00:04:16.082136Z",
          "iopub.execute_input": "2022-11-12T00:04:16.083154Z",
          "iopub.status.idle": "2022-11-12T00:04:27.609654Z",
          "shell.execute_reply.started": "2022-11-12T00:04:16.083115Z",
          "shell.execute_reply": "2022-11-12T00:04:27.608408Z"
        },
        "trusted": true,
        "colab": {
          "base_uri": "https://localhost:8080/"
        },
        "id": "jMcpQAYJuhaA",
        "outputId": "4e5fe861-fff4-4bbb-d3dc-77f468124904"
      },
      "execution_count": null,
      "outputs": [
        {
          "output_type": "execute_result",
          "data": {
            "text/plain": [
              "GridSearchCV(cv=5, estimator=KNeighborsClassifier(),\n",
              "             param_grid={'n_neighbors': [1, 2, 3, 4, 5, 6, 7, 8, 9]},\n",
              "             scoring='accuracy')"
            ]
          },
          "metadata": {},
          "execution_count": 102
        }
      ]
    },
    {
      "cell_type": "markdown",
      "source": [
        "#### Normal Data - Grid"
      ],
      "metadata": {
        "id": "Un3Xlv_PuhaA"
      }
    },
    {
      "cell_type": "code",
      "source": [
        "grid.best_params_, grid.best_score_"
      ],
      "metadata": {
        "execution": {
          "iopub.status.busy": "2022-11-11T23:54:44.063417Z",
          "iopub.execute_input": "2022-11-11T23:54:44.064639Z",
          "iopub.status.idle": "2022-11-11T23:54:44.071685Z",
          "shell.execute_reply.started": "2022-11-11T23:54:44.064594Z",
          "shell.execute_reply": "2022-11-11T23:54:44.070562Z"
        },
        "trusted": true,
        "colab": {
          "base_uri": "https://localhost:8080/"
        },
        "id": "wIR-PetquhaA",
        "outputId": "9e9ff64c-4930-43df-f671-43d752ed94a4"
      },
      "execution_count": null,
      "outputs": [
        {
          "output_type": "execute_result",
          "data": {
            "text/plain": [
              "({'n_neighbors': 1}, 0.8316299975721625)"
            ]
          },
          "metadata": {},
          "execution_count": 103
        }
      ]
    },
    {
      "cell_type": "markdown",
      "source": [
        "#### StandardScaler Data - Grid"
      ],
      "metadata": {
        "id": "zmKl4LaIuhaA"
      }
    },
    {
      "cell_type": "code",
      "source": [
        "grid.best_params_, grid.best_score_"
      ],
      "metadata": {
        "execution": {
          "iopub.status.busy": "2022-11-12T00:04:36.631116Z",
          "iopub.execute_input": "2022-11-12T00:04:36.632317Z",
          "iopub.status.idle": "2022-11-12T00:04:36.640438Z",
          "shell.execute_reply.started": "2022-11-12T00:04:36.632267Z",
          "shell.execute_reply": "2022-11-12T00:04:36.639108Z"
        },
        "trusted": true,
        "colab": {
          "base_uri": "https://localhost:8080/"
        },
        "id": "K_7_8hZ1uhaA",
        "outputId": "2f4fed40-431b-4843-9dfe-07434cf5f962"
      },
      "execution_count": null,
      "outputs": [
        {
          "output_type": "execute_result",
          "data": {
            "text/plain": [
              "({'n_neighbors': 1}, 0.8316299975721625)"
            ]
          },
          "metadata": {},
          "execution_count": 104
        }
      ]
    },
    {
      "cell_type": "markdown",
      "source": [
        "#### Running K Neighbors"
      ],
      "metadata": {
        "id": "9TDP1VJduhaB"
      }
    },
    {
      "cell_type": "code",
      "source": [
        "knn = KNeighborsClassifier(n_neighbors = 1, metric = 'minkowski', p = 2)"
      ],
      "metadata": {
        "execution": {
          "iopub.status.busy": "2022-11-12T00:04:42.867645Z",
          "iopub.execute_input": "2022-11-12T00:04:42.868054Z",
          "iopub.status.idle": "2022-11-12T00:04:42.873019Z",
          "shell.execute_reply.started": "2022-11-12T00:04:42.868023Z",
          "shell.execute_reply": "2022-11-12T00:04:42.872173Z"
        },
        "trusted": true,
        "id": "r-4gKGYduhaB"
      },
      "execution_count": null,
      "outputs": []
    },
    {
      "cell_type": "code",
      "source": [
        "knn.fit(X_train, y_train)"
      ],
      "metadata": {
        "execution": {
          "iopub.status.busy": "2022-11-12T00:04:43.049275Z",
          "iopub.execute_input": "2022-11-12T00:04:43.049738Z",
          "iopub.status.idle": "2022-11-12T00:04:43.064840Z",
          "shell.execute_reply.started": "2022-11-12T00:04:43.049701Z",
          "shell.execute_reply": "2022-11-12T00:04:43.063164Z"
        },
        "trusted": true,
        "colab": {
          "base_uri": "https://localhost:8080/"
        },
        "id": "kCHXMdqUuhaB",
        "outputId": "44b5598c-3d86-46b6-b2de-7691b965b562"
      },
      "execution_count": null,
      "outputs": [
        {
          "output_type": "execute_result",
          "data": {
            "text/plain": [
              "KNeighborsClassifier(n_neighbors=1)"
            ]
          },
          "metadata": {},
          "execution_count": 106
        }
      ]
    },
    {
      "cell_type": "code",
      "source": [
        "previsoes = knn.predict(X_test)"
      ],
      "metadata": {
        "execution": {
          "iopub.status.busy": "2022-11-12T00:04:43.430999Z",
          "iopub.execute_input": "2022-11-12T00:04:43.431377Z",
          "iopub.status.idle": "2022-11-12T00:04:43.816195Z",
          "shell.execute_reply.started": "2022-11-12T00:04:43.431338Z",
          "shell.execute_reply": "2022-11-12T00:04:43.814955Z"
        },
        "trusted": true,
        "id": "qzBKJPe4uhaB"
      },
      "execution_count": null,
      "outputs": []
    },
    {
      "cell_type": "markdown",
      "source": [
        "#### Normal Data"
      ],
      "metadata": {
        "id": "IGC4RLc_uhaB"
      }
    },
    {
      "cell_type": "code",
      "source": [
        "cm = ConfusionMatrix(knn)\n",
        "cm.fit(X_train, y_train)\n",
        "cm.score(X_test, y_test)"
      ],
      "metadata": {
        "execution": {
          "iopub.status.busy": "2022-11-11T23:56:48.272683Z",
          "iopub.execute_input": "2022-11-11T23:56:48.273047Z",
          "iopub.status.idle": "2022-11-11T23:56:49.161796Z",
          "shell.execute_reply.started": "2022-11-11T23:56:48.273016Z",
          "shell.execute_reply": "2022-11-11T23:56:49.160273Z"
        },
        "trusted": true,
        "colab": {
          "base_uri": "https://localhost:8080/"
        },
        "id": "RFstcF9kuhaB",
        "outputId": "d44f9555-8617-4bfe-c818-d69d219d42e8"
      },
      "execution_count": null,
      "outputs": [
        {
          "output_type": "execute_result",
          "data": {
            "text/plain": [
              "0.8446124763705104"
            ]
          },
          "metadata": {},
          "execution_count": 108
        },
        {
          "output_type": "display_data",
          "data": {
            "text/plain": [
              "<Figure size 576x396 with 1 Axes>"
            ],
            "image/png": "[encoded data removed]"
          },
          "metadata": {}
        }
      ]
    },
    {
      "cell_type": "code",
      "source": [
        "classification_knn = (classification_report(y_test, previsoes))"
      ],
      "metadata": {
        "execution": {
          "iopub.status.busy": "2022-11-11T23:57:18.091644Z",
          "iopub.execute_input": "2022-11-11T23:57:18.092015Z",
          "iopub.status.idle": "2022-11-11T23:57:18.193503Z",
          "shell.execute_reply.started": "2022-11-11T23:57:18.091985Z",
          "shell.execute_reply": "2022-11-11T23:57:18.192444Z"
        },
        "trusted": true,
        "id": "Csp61OQauhaB"
      },
      "execution_count": null,
      "outputs": []
    },
    {
      "cell_type": "code",
      "source": [
        "print(classification_knn)"
      ],
      "metadata": {
        "execution": {
          "iopub.status.busy": "2022-11-11T23:57:25.684373Z",
          "iopub.execute_input": "2022-11-11T23:57:25.684789Z",
          "iopub.status.idle": "2022-11-11T23:57:25.690547Z",
          "shell.execute_reply.started": "2022-11-11T23:57:25.684755Z",
          "shell.execute_reply": "2022-11-11T23:57:25.689391Z"
        },
        "trusted": true,
        "colab": {
          "base_uri": "https://localhost:8080/"
        },
        "id": "9uoIBQU_uhaB",
        "outputId": "c94a9c74-5b4d-4066-b2c5-da77293b1892"
      },
      "execution_count": null,
      "outputs": [
        {
          "output_type": "stream",
          "name": "stdout",
          "text": [
            "              precision    recall  f1-score   support\n",
            "\n",
            "          No       0.91      0.77      0.83      1326\n",
            "         Yes       0.80      0.92      0.86      1319\n",
            "\n",
            "    accuracy                           0.84      2645\n",
            "   macro avg       0.85      0.84      0.84      2645\n",
            "weighted avg       0.85      0.84      0.84      2645\n",
            "\n"
          ]
        }
      ]
    },
    {
      "cell_type": "markdown",
      "source": [
        "#### Great model too, here we had approximately 85% accuracy."
      ],
      "metadata": {
        "id": "ccrXM8vuuhaB"
      }
    },
    {
      "cell_type": "code",
      "source": [
        "score_knn = 0.8476650563607085"
      ],
      "metadata": {
        "execution": {
          "iopub.status.busy": "2022-11-11T23:57:49.088028Z",
          "iopub.execute_input": "2022-11-11T23:57:49.088415Z",
          "iopub.status.idle": "2022-11-11T23:57:49.094090Z",
          "shell.execute_reply.started": "2022-11-11T23:57:49.088383Z",
          "shell.execute_reply": "2022-11-11T23:57:49.092902Z"
        },
        "trusted": true,
        "id": "wkj1ZhlHuhaC"
      },
      "execution_count": null,
      "outputs": []
    },
    {
      "cell_type": "markdown",
      "source": [
        "#### StandardScaler"
      ],
      "metadata": {
        "id": "6bqRP9i3uhaC"
      }
    },
    {
      "cell_type": "code",
      "source": [
        "cm = ConfusionMatrix(knn)\n",
        "cm.fit(X_train, y_train)\n",
        "cm.score(X_test, y_test)"
      ],
      "metadata": {
        "execution": {
          "iopub.status.busy": "2022-11-12T00:05:34.989128Z",
          "iopub.execute_input": "2022-11-12T00:05:34.989567Z",
          "iopub.status.idle": "2022-11-12T00:05:35.934636Z",
          "shell.execute_reply.started": "2022-11-12T00:05:34.989535Z",
          "shell.execute_reply": "2022-11-12T00:05:35.932433Z"
        },
        "trusted": true,
        "colab": {
          "base_uri": "https://localhost:8080/"
        },
        "id": "WSyP2bX_uhaC",
        "outputId": "8e4eef9e-f874-4ef3-9eae-903fae39d1ee"
      },
      "execution_count": null,
      "outputs": [
        {
          "output_type": "execute_result",
          "data": {
            "text/plain": [
              "0.8446124763705104"
            ]
          },
          "metadata": {},
          "execution_count": 112
        },
        {
          "output_type": "display_data",
          "data": {
            "text/plain": [
              "<Figure size 576x396 with 1 Axes>"
            ],
            "image/png": "[encoded data removed]"
          },
          "metadata": {}
        }
      ]
    },
    {
      "cell_type": "code",
      "source": [
        "classification_knn_scaler = (classification_report(y_test, previsoes))"
      ],
      "metadata": {
        "execution": {
          "iopub.status.busy": "2022-11-12T00:05:51.952104Z",
          "iopub.execute_input": "2022-11-12T00:05:51.952476Z",
          "iopub.status.idle": "2022-11-12T00:05:52.053544Z",
          "shell.execute_reply.started": "2022-11-12T00:05:51.952447Z",
          "shell.execute_reply": "2022-11-12T00:05:52.052557Z"
        },
        "trusted": true,
        "id": "0jyzsbpTuhaC"
      },
      "execution_count": null,
      "outputs": []
    },
    {
      "cell_type": "code",
      "source": [
        "print(classification_knn_scaler)"
      ],
      "metadata": {
        "execution": {
          "iopub.status.busy": "2022-11-12T00:05:56.601152Z",
          "iopub.execute_input": "2022-11-12T00:05:56.601563Z",
          "iopub.status.idle": "2022-11-12T00:05:56.608412Z",
          "shell.execute_reply.started": "2022-11-12T00:05:56.601531Z",
          "shell.execute_reply": "2022-11-12T00:05:56.606939Z"
        },
        "trusted": true,
        "colab": {
          "base_uri": "https://localhost:8080/"
        },
        "id": "Q7H6Hy76uhaC",
        "outputId": "63f6e293-9f96-430b-9457-9436bc8b9bf5"
      },
      "execution_count": null,
      "outputs": [
        {
          "output_type": "stream",
          "name": "stdout",
          "text": [
            "              precision    recall  f1-score   support\n",
            "\n",
            "          No       0.91      0.77      0.83      1326\n",
            "         Yes       0.80      0.92      0.86      1319\n",
            "\n",
            "    accuracy                           0.84      2645\n",
            "   macro avg       0.85      0.84      0.84      2645\n",
            "weighted avg       0.85      0.84      0.84      2645\n",
            "\n"
          ]
        }
      ]
    },
    {
      "cell_type": "markdown",
      "source": [
        "#### When compared to the model using our normal data we had a slight worsening."
      ],
      "metadata": {
        "id": "RXN7xBaouhaC"
      }
    },
    {
      "cell_type": "code",
      "source": [
        "score_knn_scaler = 0.8357487922705314"
      ],
      "metadata": {
        "execution": {
          "iopub.status.busy": "2022-11-12T00:06:54.592598Z",
          "iopub.execute_input": "2022-11-12T00:06:54.592995Z",
          "iopub.status.idle": "2022-11-12T00:06:54.597793Z",
          "shell.execute_reply.started": "2022-11-12T00:06:54.592963Z",
          "shell.execute_reply": "2022-11-12T00:06:54.596746Z"
        },
        "trusted": true,
        "id": "9DH6BLk-uhaC"
      },
      "execution_count": null,
      "outputs": []
    },
    {
      "cell_type": "markdown",
      "source": [
        "#### Logistic Regression"
      ],
      "metadata": {
        "id": "HBhweQeuuhaD"
      }
    },
    {
      "cell_type": "code",
      "source": [
        "from sklearn.linear_model import LogisticRegression"
      ],
      "metadata": {
        "execution": {
          "iopub.status.busy": "2022-11-12T00:07:45.502744Z",
          "iopub.execute_input": "2022-11-12T00:07:45.503562Z",
          "iopub.status.idle": "2022-11-12T00:07:45.508410Z",
          "shell.execute_reply.started": "2022-11-12T00:07:45.503504Z",
          "shell.execute_reply": "2022-11-12T00:07:45.507379Z"
        },
        "trusted": true,
        "id": "BzFcMaRuuhaD"
      },
      "execution_count": null,
      "outputs": []
    },
    {
      "cell_type": "code",
      "source": [
        "logistic = LogisticRegression(random_state = 1, max_iter=1000)"
      ],
      "metadata": {
        "execution": {
          "iopub.status.busy": "2022-11-12T00:07:45.739236Z",
          "iopub.execute_input": "2022-11-12T00:07:45.739679Z",
          "iopub.status.idle": "2022-11-12T00:07:45.745174Z",
          "shell.execute_reply.started": "2022-11-12T00:07:45.739644Z",
          "shell.execute_reply": "2022-11-12T00:07:45.744074Z"
        },
        "trusted": true,
        "id": "bJBHwM3IuhaD"
      },
      "execution_count": null,
      "outputs": []
    },
    {
      "cell_type": "code",
      "source": [
        "logistic.fit(X_train, y_train)"
      ],
      "metadata": {
        "execution": {
          "iopub.status.busy": "2022-11-12T00:07:46.304986Z",
          "iopub.execute_input": "2022-11-12T00:07:46.305806Z",
          "iopub.status.idle": "2022-11-12T00:07:46.355122Z",
          "shell.execute_reply.started": "2022-11-12T00:07:46.305761Z",
          "shell.execute_reply": "2022-11-12T00:07:46.353588Z"
        },
        "trusted": true,
        "colab": {
          "base_uri": "https://localhost:8080/"
        },
        "id": "Za7qkXy9uhaD",
        "outputId": "41e11d39-2264-4b48-cc93-df6fcdeabdcf"
      },
      "execution_count": null,
      "outputs": [
        {
          "output_type": "execute_result",
          "data": {
            "text/plain": [
              "LogisticRegression(max_iter=1000, random_state=1)"
            ]
          },
          "metadata": {},
          "execution_count": 118
        }
      ]
    },
    {
      "cell_type": "code",
      "source": [
        "previsoes = logistic.predict(X_test)"
      ],
      "metadata": {
        "execution": {
          "iopub.status.busy": "2022-11-12T00:07:46.618633Z",
          "iopub.execute_input": "2022-11-12T00:07:46.619766Z",
          "iopub.status.idle": "2022-11-12T00:07:46.629248Z",
          "shell.execute_reply.started": "2022-11-12T00:07:46.619716Z",
          "shell.execute_reply": "2022-11-12T00:07:46.627752Z"
        },
        "trusted": true,
        "id": "o7igSufNuhaD"
      },
      "execution_count": null,
      "outputs": []
    },
    {
      "cell_type": "markdown",
      "source": [
        "#### Normal Data"
      ],
      "metadata": {
        "id": "Ijwod6UJuhaD"
      }
    },
    {
      "cell_type": "code",
      "source": [
        "cm = ConfusionMatrix(logistic)\n",
        "cm.fit(X_train, y_train)\n",
        "cm.score(X_test, y_test)"
      ],
      "metadata": {
        "execution": {
          "iopub.status.busy": "2022-11-11T23:58:25.081019Z",
          "iopub.execute_input": "2022-11-11T23:58:25.081467Z",
          "iopub.status.idle": "2022-11-11T23:58:25.329673Z",
          "shell.execute_reply.started": "2022-11-11T23:58:25.081432Z",
          "shell.execute_reply": "2022-11-11T23:58:25.328074Z"
        },
        "trusted": true,
        "colab": {
          "base_uri": "https://localhost:8080/"
        },
        "id": "fv8opmqYuhaD",
        "outputId": "6d432eca-c716-44d8-b79e-93733d40ccfb"
      },
      "execution_count": null,
      "outputs": [
        {
          "output_type": "execute_result",
          "data": {
            "text/plain": [
              "0.7580340264650284"
            ]
          },
          "metadata": {},
          "execution_count": 120
        },
        {
          "output_type": "display_data",
          "data": {
            "text/plain": [
              "<Figure size 576x396 with 1 Axes>"
            ],
            "image/png": "[encoded data removed]"
          },
          "metadata": {}
        }
      ]
    },
    {
      "cell_type": "code",
      "source": [
        "logistic_normal = (classification_report(y_test, previsoes))"
      ],
      "metadata": {
        "execution": {
          "iopub.status.busy": "2022-11-11T23:58:26.014780Z",
          "iopub.execute_input": "2022-11-11T23:58:26.015496Z",
          "iopub.status.idle": "2022-11-11T23:58:26.117282Z",
          "shell.execute_reply.started": "2022-11-11T23:58:26.015456Z",
          "shell.execute_reply": "2022-11-11T23:58:26.116013Z"
        },
        "trusted": true,
        "id": "wPBzUs5uuhaE"
      },
      "execution_count": null,
      "outputs": []
    },
    {
      "cell_type": "code",
      "source": [
        "print(logistic_normal)"
      ],
      "metadata": {
        "execution": {
          "iopub.status.busy": "2022-11-11T23:58:28.391729Z",
          "iopub.execute_input": "2022-11-11T23:58:28.392141Z",
          "iopub.status.idle": "2022-11-11T23:58:28.397918Z",
          "shell.execute_reply.started": "2022-11-11T23:58:28.392107Z",
          "shell.execute_reply": "2022-11-11T23:58:28.396597Z"
        },
        "trusted": true,
        "colab": {
          "base_uri": "https://localhost:8080/"
        },
        "id": "n1tDPnRHuhaE",
        "outputId": "a6d639b3-b434-4c8d-e4f2-fa28d3125508"
      },
      "execution_count": null,
      "outputs": [
        {
          "output_type": "stream",
          "name": "stdout",
          "text": [
            "              precision    recall  f1-score   support\n",
            "\n",
            "          No       0.78      0.71      0.75      1326\n",
            "         Yes       0.74      0.80      0.77      1319\n",
            "\n",
            "    accuracy                           0.76      2645\n",
            "   macro avg       0.76      0.76      0.76      2645\n",
            "weighted avg       0.76      0.76      0.76      2645\n",
            "\n"
          ]
        }
      ]
    },
    {
      "cell_type": "markdown",
      "source": [
        "#### It's not a bad model but when compared to the others, we have better models."
      ],
      "metadata": {
        "id": "iAyIpfXJuhaE"
      }
    },
    {
      "cell_type": "code",
      "source": [
        "logistic_normal = 0.7616747181964574"
      ],
      "metadata": {
        "execution": {
          "iopub.status.busy": "2022-11-11T23:58:46.201118Z",
          "iopub.execute_input": "2022-11-11T23:58:46.201536Z",
          "iopub.status.idle": "2022-11-11T23:58:46.206850Z",
          "shell.execute_reply.started": "2022-11-11T23:58:46.201489Z",
          "shell.execute_reply": "2022-11-11T23:58:46.205669Z"
        },
        "trusted": true,
        "id": "KG4WSDt4uhaE"
      },
      "execution_count": null,
      "outputs": []
    },
    {
      "cell_type": "markdown",
      "source": [
        "#### StandardScaler"
      ],
      "metadata": {
        "id": "7-xIPU0ouhaE"
      }
    },
    {
      "cell_type": "code",
      "source": [
        "cm = ConfusionMatrix(logistic)\n",
        "cm.fit(X_train, y_train)\n",
        "cm.score(X_test, y_test)"
      ],
      "metadata": {
        "execution": {
          "iopub.status.busy": "2022-11-12T00:08:33.838860Z",
          "iopub.execute_input": "2022-11-12T00:08:33.839275Z",
          "iopub.status.idle": "2022-11-12T00:08:34.071663Z",
          "shell.execute_reply.started": "2022-11-12T00:08:33.839239Z",
          "shell.execute_reply": "2022-11-12T00:08:34.069811Z"
        },
        "trusted": true,
        "colab": {
          "base_uri": "https://localhost:8080/"
        },
        "id": "jkORHlvQuhaE",
        "outputId": "9c672e1f-6df2-481b-dc7c-38025eece836"
      },
      "execution_count": null,
      "outputs": [
        {
          "output_type": "execute_result",
          "data": {
            "text/plain": [
              "0.7580340264650284"
            ]
          },
          "metadata": {},
          "execution_count": 124
        },
        {
          "output_type": "display_data",
          "data": {
            "text/plain": [
              "<Figure size 576x396 with 1 Axes>"
            ],
            "image/png": "[encoded data removed]"
          },
          "metadata": {}
        }
      ]
    },
    {
      "cell_type": "code",
      "source": [
        "logistic_scaler = classification_report(y_test, previsoes)"
      ],
      "metadata": {
        "execution": {
          "iopub.status.busy": "2022-11-12T00:09:37.252114Z",
          "iopub.execute_input": "2022-11-12T00:09:37.252954Z",
          "iopub.status.idle": "2022-11-12T00:09:37.372931Z",
          "shell.execute_reply.started": "2022-11-12T00:09:37.252875Z",
          "shell.execute_reply": "2022-11-12T00:09:37.370740Z"
        },
        "trusted": true,
        "id": "UvJxBhafuhaE"
      },
      "execution_count": null,
      "outputs": []
    },
    {
      "cell_type": "code",
      "source": [
        "print(logistic_scaler)"
      ],
      "metadata": {
        "execution": {
          "iopub.status.busy": "2022-11-12T00:09:43.349477Z",
          "iopub.execute_input": "2022-11-12T00:09:43.350007Z",
          "iopub.status.idle": "2022-11-12T00:09:43.357492Z",
          "shell.execute_reply.started": "2022-11-12T00:09:43.349968Z",
          "shell.execute_reply": "2022-11-12T00:09:43.356349Z"
        },
        "trusted": true,
        "colab": {
          "base_uri": "https://localhost:8080/"
        },
        "id": "hzcEUbKUuhaE",
        "outputId": "afdb5f38-9ee7-4335-b2c7-bba23e922e95"
      },
      "execution_count": null,
      "outputs": [
        {
          "output_type": "stream",
          "name": "stdout",
          "text": [
            "              precision    recall  f1-score   support\n",
            "\n",
            "          No       0.78      0.71      0.75      1326\n",
            "         Yes       0.74      0.80      0.77      1319\n",
            "\n",
            "    accuracy                           0.76      2645\n",
            "   macro avg       0.76      0.76      0.76      2645\n",
            "weighted avg       0.76      0.76      0.76      2645\n",
            "\n"
          ]
        }
      ]
    },
    {
      "cell_type": "markdown",
      "source": [
        "#### When compared to the model using our normal data we had practically the same result."
      ],
      "metadata": {
        "id": "03MaQngnuhaF"
      }
    },
    {
      "cell_type": "code",
      "source": [
        "logistic_standard = 0.5500465716128108"
      ],
      "metadata": {
        "execution": {
          "iopub.status.busy": "2022-11-12T00:10:09.968890Z",
          "iopub.execute_input": "2022-11-12T00:10:09.969559Z",
          "iopub.status.idle": "2022-11-12T00:10:09.977837Z",
          "shell.execute_reply.started": "2022-11-12T00:10:09.969499Z",
          "shell.execute_reply": "2022-11-12T00:10:09.975706Z"
        },
        "trusted": true,
        "id": "Qai0fe4ouhaF"
      },
      "execution_count": null,
      "outputs": []
    },
    {
      "cell_type": "markdown",
      "source": [
        "#### SVM"
      ],
      "metadata": {
        "id": "06pZpA6ouhaF"
      }
    },
    {
      "cell_type": "markdown",
      "source": [
        "#### Here we will use the SVM Model, using our Normal Data, StandardScaler Data and MinMax Data, we will test Three Kernels (Linear, RBF and Poly)."
      ],
      "metadata": {
        "id": "2Ep94_B8uhaF"
      }
    },
    {
      "cell_type": "code",
      "source": [
        "from sklearn.svm import SVC"
      ],
      "metadata": {
        "execution": {
          "iopub.status.busy": "2022-11-12T00:10:11.172357Z",
          "iopub.execute_input": "2022-11-12T00:10:11.172957Z",
          "iopub.status.idle": "2022-11-12T00:10:11.178609Z",
          "shell.execute_reply.started": "2022-11-12T00:10:11.172910Z",
          "shell.execute_reply": "2022-11-12T00:10:11.177177Z"
        },
        "trusted": true,
        "id": "QDwY8WA1uhaF"
      },
      "execution_count": null,
      "outputs": []
    },
    {
      "cell_type": "code",
      "source": [
        "model = SVC()"
      ],
      "metadata": {
        "execution": {
          "iopub.status.busy": "2022-11-12T00:10:11.457167Z",
          "iopub.execute_input": "2022-11-12T00:10:11.457607Z",
          "iopub.status.idle": "2022-11-12T00:10:11.463659Z",
          "shell.execute_reply.started": "2022-11-12T00:10:11.457572Z",
          "shell.execute_reply": "2022-11-12T00:10:11.461834Z"
        },
        "trusted": true,
        "id": "Zplds-MMuhaF"
      },
      "execution_count": null,
      "outputs": []
    },
    {
      "cell_type": "markdown",
      "source": [
        "#### Applying GridSearch"
      ],
      "metadata": {
        "id": "ik1bZu1ouhaF"
      }
    },
    {
      "cell_type": "code",
      "source": [
        "kernel = ['linear', 'rbf', 'poly', 'sigmoid']\n",
        "c = np.array([3, 4, 5])\n",
        "polinomio = np.array([2, 3, 4, 5])\n",
        "gamma = ['auto', 'scale']\n",
        "values_grid = {'C': c, 'kernel': kernel, 'degree': polinomio, 'gamma': gamma}"
      ],
      "metadata": {
        "execution": {
          "iopub.status.busy": "2022-11-12T00:10:12.963626Z",
          "iopub.execute_input": "2022-11-12T00:10:12.964055Z",
          "iopub.status.idle": "2022-11-12T00:10:12.971925Z",
          "shell.execute_reply.started": "2022-11-12T00:10:12.964022Z",
          "shell.execute_reply": "2022-11-12T00:10:12.970392Z"
        },
        "trusted": true,
        "id": "gwae_ftVuhaF"
      },
      "execution_count": null,
      "outputs": []
    },
    {
      "cell_type": "code",
      "source": [
        "gridSVM = GridSearchCV(estimator = model, param_grid = values_grid, cv = 2, n_jobs = -1)"
      ],
      "metadata": {
        "execution": {
          "iopub.status.busy": "2022-11-12T00:10:14.283384Z",
          "iopub.execute_input": "2022-11-12T00:10:14.283763Z",
          "iopub.status.idle": "2022-11-12T00:10:14.290432Z",
          "shell.execute_reply.started": "2022-11-12T00:10:14.283734Z",
          "shell.execute_reply": "2022-11-12T00:10:14.288712Z"
        },
        "trusted": true,
        "id": "A-0QEe_SuhaF"
      },
      "execution_count": null,
      "outputs": []
    },
    {
      "cell_type": "code",
      "source": [
        "gridSVM.fit(X_train, y_train)"
      ],
      "metadata": {
        "execution": {
          "iopub.status.busy": "2022-11-12T00:10:15.007423Z",
          "iopub.execute_input": "2022-11-12T00:10:15.007873Z",
          "iopub.status.idle": "2022-11-12T00:12:03.938503Z",
          "shell.execute_reply.started": "2022-11-12T00:10:15.007839Z",
          "shell.execute_reply": "2022-11-12T00:12:03.937195Z"
        },
        "trusted": true,
        "id": "Ip1LbhasuhaF"
      },
      "execution_count": null,
      "outputs": []
    },
    {
      "cell_type": "markdown",
      "source": [
        "#### StandardScaler - Grid"
      ],
      "metadata": {
        "id": "7w9qwG43uhaG"
      }
    },
    {
      "cell_type": "code",
      "source": [
        "print('Kernel: ', gridSVM.best_estimator_.kernel)\n",
        "print('C', gridSVM.best_estimator_.C)\n",
        "print('Polinomio', gridSVM.best_estimator_.degree)\n",
        "print('Gamma', gridSVM.best_estimator_.gamma)\n",
        "print('Score: ', gridSVM.best_score_)"
      ],
      "metadata": {
        "execution": {
          "iopub.status.busy": "2022-11-11T23:11:09.045920Z",
          "iopub.execute_input": "2022-11-11T23:11:09.046839Z",
          "iopub.status.idle": "2022-11-11T23:11:09.053548Z",
          "shell.execute_reply.started": "2022-11-11T23:11:09.046792Z",
          "shell.execute_reply": "2022-11-11T23:11:09.052208Z"
        },
        "trusted": true,
        "id": "ap_AHXcvuhaG"
      },
      "execution_count": null,
      "outputs": []
    },
    {
      "cell_type": "markdown",
      "source": [
        "#### Running SVM"
      ],
      "metadata": {
        "id": "rtnfptFzuhaG"
      }
    },
    {
      "cell_type": "code",
      "source": [
        "svm = SVC(kernel = 'rbf', gamma = 'auto', random_state = 1, C = 5.0)"
      ],
      "metadata": {
        "execution": {
          "iopub.status.busy": "2022-11-12T00:12:22.630399Z",
          "iopub.execute_input": "2022-11-12T00:12:22.630841Z",
          "iopub.status.idle": "2022-11-12T00:12:22.636367Z",
          "shell.execute_reply.started": "2022-11-12T00:12:22.630807Z",
          "shell.execute_reply": "2022-11-12T00:12:22.635209Z"
        },
        "trusted": true,
        "id": "wjA73MDZuhaG"
      },
      "execution_count": null,
      "outputs": []
    },
    {
      "cell_type": "code",
      "source": [
        "svm.fit(X_train, y_train)"
      ],
      "metadata": {
        "execution": {
          "iopub.status.busy": "2022-11-12T00:12:29.349710Z",
          "iopub.execute_input": "2022-11-12T00:12:29.350103Z",
          "iopub.status.idle": "2022-11-12T00:12:32.084134Z",
          "shell.execute_reply.started": "2022-11-12T00:12:29.350073Z",
          "shell.execute_reply": "2022-11-12T00:12:32.082929Z"
        },
        "trusted": true,
        "id": "aZ8HsMXpuhaG"
      },
      "execution_count": null,
      "outputs": []
    },
    {
      "cell_type": "code",
      "source": [
        "previsoes = svm.predict(X_test)"
      ],
      "metadata": {
        "execution": {
          "iopub.status.busy": "2022-11-12T00:12:38.269639Z",
          "iopub.execute_input": "2022-11-12T00:12:38.270011Z",
          "iopub.status.idle": "2022-11-12T00:12:39.014614Z",
          "shell.execute_reply.started": "2022-11-12T00:12:38.269981Z",
          "shell.execute_reply": "2022-11-12T00:12:39.013549Z"
        },
        "trusted": true,
        "id": "7dpodi_0uhaG"
      },
      "execution_count": null,
      "outputs": []
    },
    {
      "cell_type": "markdown",
      "source": [
        "#### StandardScaler"
      ],
      "metadata": {
        "id": "3A2MpZG_uhaG"
      }
    },
    {
      "cell_type": "code",
      "source": [
        "cm = ConfusionMatrix(svm)\n",
        "cm.fit(X_train, y_train)\n",
        "cm.score(X_test, y_test)"
      ],
      "metadata": {
        "execution": {
          "iopub.status.busy": "2022-11-12T00:12:48.203494Z",
          "iopub.execute_input": "2022-11-12T00:12:48.204183Z",
          "iopub.status.idle": "2022-11-12T00:12:49.940042Z",
          "shell.execute_reply.started": "2022-11-12T00:12:48.204119Z",
          "shell.execute_reply": "2022-11-12T00:12:49.938532Z"
        },
        "trusted": true,
        "id": "dwBjIXstuhaG"
      },
      "execution_count": null,
      "outputs": []
    },
    {
      "cell_type": "code",
      "source": [
        "svm = classification_report(y_test, previsoes)"
      ],
      "metadata": {
        "execution": {
          "iopub.status.busy": "2022-11-12T00:13:16.541650Z",
          "iopub.execute_input": "2022-11-12T00:13:16.542047Z",
          "iopub.status.idle": "2022-11-12T00:13:16.644804Z",
          "shell.execute_reply.started": "2022-11-12T00:13:16.542015Z",
          "shell.execute_reply": "2022-11-12T00:13:16.643736Z"
        },
        "trusted": true,
        "id": "u_M-iy6xuhaH"
      },
      "execution_count": null,
      "outputs": []
    },
    {
      "cell_type": "code",
      "source": [
        "print(svm)"
      ],
      "metadata": {
        "execution": {
          "iopub.status.busy": "2022-11-12T00:13:21.628231Z",
          "iopub.execute_input": "2022-11-12T00:13:21.628655Z",
          "iopub.status.idle": "2022-11-12T00:13:21.634371Z",
          "shell.execute_reply.started": "2022-11-12T00:13:21.628620Z",
          "shell.execute_reply": "2022-11-12T00:13:21.633209Z"
        },
        "trusted": true,
        "id": "OvtzErdCuhaH"
      },
      "execution_count": null,
      "outputs": []
    },
    {
      "cell_type": "markdown",
      "source": [
        "#### We had a good result here"
      ],
      "metadata": {
        "id": "1u-732FouhaH"
      }
    },
    {
      "cell_type": "code",
      "source": [
        "score_svm = 0.7935587761674718"
      ],
      "metadata": {
        "execution": {
          "iopub.status.busy": "2022-11-12T00:13:56.190705Z",
          "iopub.execute_input": "2022-11-12T00:13:56.191115Z",
          "iopub.status.idle": "2022-11-12T00:13:56.196622Z",
          "shell.execute_reply.started": "2022-11-12T00:13:56.191081Z",
          "shell.execute_reply": "2022-11-12T00:13:56.195453Z"
        },
        "trusted": true,
        "id": "GnGk5AysuhaH"
      },
      "execution_count": null,
      "outputs": []
    },
    {
      "cell_type": "markdown",
      "source": [
        "#### AdaBoost"
      ],
      "metadata": {
        "id": "ZN4UXBIluhaH"
      }
    },
    {
      "cell_type": "code",
      "source": [
        "from sklearn.ensemble import AdaBoostClassifier"
      ],
      "metadata": {
        "execution": {
          "iopub.status.busy": "2022-11-12T00:27:09.290072Z",
          "iopub.execute_input": "2022-11-12T00:27:09.290543Z",
          "iopub.status.idle": "2022-11-12T00:27:09.296951Z",
          "shell.execute_reply.started": "2022-11-12T00:27:09.290491Z",
          "shell.execute_reply": "2022-11-12T00:27:09.295341Z"
        },
        "trusted": true,
        "id": "hYuv5hwGuhaH"
      },
      "execution_count": null,
      "outputs": []
    },
    {
      "cell_type": "markdown",
      "source": [
        "#### Here we will use the AdaBoost Model, using our StandardScaler Data, here we use the GridSearch Model to figure out the best metrics to use in this model."
      ],
      "metadata": {
        "id": "LAeWYOicuhaH"
      }
    },
    {
      "cell_type": "markdown",
      "source": [
        "#### Applying GridSearch"
      ],
      "metadata": {
        "id": "Z3IMa3yYuhaH"
      }
    },
    {
      "cell_type": "code",
      "source": [
        "n_estimators = np.array([500])\n",
        "learning_rate = np.array([0.9, 0.8, 0.7, 0.6, 0.5, 0.4])\n",
        "values_grid = {'n_estimators': n_estimators, 'learning_rate': learning_rate}"
      ],
      "metadata": {
        "execution": {
          "iopub.status.busy": "2022-11-12T00:27:10.060527Z",
          "iopub.execute_input": "2022-11-12T00:27:10.061106Z",
          "iopub.status.idle": "2022-11-12T00:27:10.069983Z",
          "shell.execute_reply.started": "2022-11-12T00:27:10.060894Z",
          "shell.execute_reply": "2022-11-12T00:27:10.067494Z"
        },
        "trusted": true,
        "id": "Tf_f1Sz4uhaH"
      },
      "execution_count": null,
      "outputs": []
    },
    {
      "cell_type": "code",
      "source": [
        "model = AdaBoostClassifier()"
      ],
      "metadata": {
        "execution": {
          "iopub.status.busy": "2022-11-12T00:27:10.900443Z",
          "iopub.execute_input": "2022-11-12T00:27:10.900893Z",
          "iopub.status.idle": "2022-11-12T00:27:10.907684Z",
          "shell.execute_reply.started": "2022-11-12T00:27:10.900857Z",
          "shell.execute_reply": "2022-11-12T00:27:10.906037Z"
        },
        "trusted": true,
        "id": "_NWWPkgRuhaI"
      },
      "execution_count": null,
      "outputs": []
    },
    {
      "cell_type": "code",
      "source": [
        "gridAdaBoost = GridSearchCV(estimator = model, param_grid = values_grid, cv = 3, n_jobs = -1)"
      ],
      "metadata": {
        "execution": {
          "iopub.status.busy": "2022-11-12T00:27:11.084187Z",
          "iopub.execute_input": "2022-11-12T00:27:11.084614Z",
          "iopub.status.idle": "2022-11-12T00:27:11.090791Z",
          "shell.execute_reply.started": "2022-11-12T00:27:11.084568Z",
          "shell.execute_reply": "2022-11-12T00:27:11.089894Z"
        },
        "trusted": true,
        "id": "_z5Z-JiTuhaI"
      },
      "execution_count": null,
      "outputs": []
    },
    {
      "cell_type": "code",
      "source": [
        "gridAdaBoost.fit(X_train, y_train)"
      ],
      "metadata": {
        "execution": {
          "iopub.status.busy": "2022-11-12T00:27:11.620016Z",
          "iopub.execute_input": "2022-11-12T00:27:11.620398Z",
          "iopub.status.idle": "2022-11-12T00:28:39.576679Z",
          "shell.execute_reply.started": "2022-11-12T00:27:11.620366Z",
          "shell.execute_reply": "2022-11-12T00:28:39.575498Z"
        },
        "trusted": true,
        "id": "Al0WiEO4uhaI"
      },
      "execution_count": null,
      "outputs": []
    },
    {
      "cell_type": "markdown",
      "source": [
        "#### StandardScaler - Grid"
      ],
      "metadata": {
        "id": "N4dlXTywuhaI"
      }
    },
    {
      "cell_type": "code",
      "source": [
        "print('Learning Rate: ', gridAdaBoost.best_estimator_.learning_rate)\n",
        "print('Score: ', gridAdaBoost.best_score_)"
      ],
      "metadata": {
        "execution": {
          "iopub.status.busy": "2022-11-12T00:15:30.621266Z",
          "iopub.execute_input": "2022-11-12T00:15:30.621586Z",
          "iopub.status.idle": "2022-11-12T00:15:30.627038Z",
          "shell.execute_reply.started": "2022-11-12T00:15:30.621549Z",
          "shell.execute_reply": "2022-11-12T00:15:30.625997Z"
        },
        "trusted": true,
        "id": "gNDUfIjIuhaI"
      },
      "execution_count": null,
      "outputs": []
    },
    {
      "cell_type": "markdown",
      "source": [
        "#### Running AdaBoost"
      ],
      "metadata": {
        "id": "4bP6rHGzuhaI"
      }
    },
    {
      "cell_type": "code",
      "source": [
        "ada_boost = AdaBoostClassifier(n_estimators = 500, learning_rate = 0.9, random_state = 0)"
      ],
      "metadata": {
        "execution": {
          "iopub.status.busy": "2022-11-12T00:17:20.292943Z",
          "iopub.execute_input": "2022-11-12T00:17:20.293546Z",
          "iopub.status.idle": "2022-11-12T00:17:20.300747Z",
          "shell.execute_reply.started": "2022-11-12T00:17:20.293474Z",
          "shell.execute_reply": "2022-11-12T00:17:20.299360Z"
        },
        "trusted": true,
        "id": "z4LRtDaVuhaI"
      },
      "execution_count": null,
      "outputs": []
    },
    {
      "cell_type": "code",
      "source": [
        "ada_boost.fit(X_train, y_train)"
      ],
      "metadata": {
        "execution": {
          "iopub.status.busy": "2022-11-12T00:17:27.561575Z",
          "iopub.execute_input": "2022-11-12T00:17:27.561985Z",
          "iopub.status.idle": "2022-11-12T00:17:34.194334Z",
          "shell.execute_reply.started": "2022-11-12T00:17:27.561950Z",
          "shell.execute_reply": "2022-11-12T00:17:34.192968Z"
        },
        "trusted": true,
        "id": "ObAuiCcBuhaI"
      },
      "execution_count": null,
      "outputs": []
    },
    {
      "cell_type": "code",
      "source": [
        "previsoes = ada_boost.predict(X_test)"
      ],
      "metadata": {
        "execution": {
          "iopub.status.busy": "2022-11-12T00:17:50.214443Z",
          "iopub.execute_input": "2022-11-12T00:17:50.214836Z",
          "iopub.status.idle": "2022-11-12T00:17:50.556576Z",
          "shell.execute_reply.started": "2022-11-12T00:17:50.214805Z",
          "shell.execute_reply": "2022-11-12T00:17:50.555402Z"
        },
        "trusted": true,
        "id": "eXSbDm44uhaI"
      },
      "execution_count": null,
      "outputs": []
    },
    {
      "cell_type": "markdown",
      "source": [
        "#### StandardScaler"
      ],
      "metadata": {
        "id": "wSuZctv6uhaI"
      }
    },
    {
      "cell_type": "code",
      "source": [
        "cm = ConfusionMatrix(ada_boost)\n",
        "cm.fit(X_train, y_train)\n",
        "cm.score(X_test, y_test)"
      ],
      "metadata": {
        "execution": {
          "iopub.status.busy": "2022-11-12T00:18:14.764437Z",
          "iopub.execute_input": "2022-11-12T00:18:14.764847Z",
          "iopub.status.idle": "2022-11-12T00:18:15.557621Z",
          "shell.execute_reply.started": "2022-11-12T00:18:14.764816Z",
          "shell.execute_reply": "2022-11-12T00:18:15.556548Z"
        },
        "trusted": true,
        "id": "zqqzo4S0uhaJ"
      },
      "execution_count": null,
      "outputs": []
    },
    {
      "cell_type": "code",
      "source": [
        "classification_ada_scaler = (classification_report(y_test, previsoes))"
      ],
      "metadata": {
        "execution": {
          "iopub.status.busy": "2022-11-12T00:18:30.321942Z",
          "iopub.execute_input": "2022-11-12T00:18:30.322350Z",
          "iopub.status.idle": "2022-11-12T00:18:30.430818Z",
          "shell.execute_reply.started": "2022-11-12T00:18:30.322318Z",
          "shell.execute_reply": "2022-11-12T00:18:30.428877Z"
        },
        "trusted": true,
        "id": "o8MHMIYAuhaJ"
      },
      "execution_count": null,
      "outputs": []
    },
    {
      "cell_type": "code",
      "source": [
        "print(classification_ada_scaler)"
      ],
      "metadata": {
        "execution": {
          "iopub.status.busy": "2022-11-12T00:18:36.463186Z",
          "iopub.execute_input": "2022-11-12T00:18:36.463619Z",
          "iopub.status.idle": "2022-11-12T00:18:36.469662Z",
          "shell.execute_reply.started": "2022-11-12T00:18:36.463583Z",
          "shell.execute_reply": "2022-11-12T00:18:36.468032Z"
        },
        "trusted": true,
        "id": "3Vbxit-tuhaJ"
      },
      "execution_count": null,
      "outputs": []
    },
    {
      "cell_type": "markdown",
      "source": [
        "#### It's a good model but when compared to others it didn't have a good result."
      ],
      "metadata": {
        "id": "YOZ_qMfzuhaJ"
      }
    },
    {
      "cell_type": "code",
      "source": [
        "score_ada_scaler = 0.7648953301127214"
      ],
      "metadata": {
        "execution": {
          "iopub.status.busy": "2022-11-12T00:19:00.401469Z",
          "iopub.execute_input": "2022-11-12T00:19:00.402701Z",
          "iopub.status.idle": "2022-11-12T00:19:00.407920Z",
          "shell.execute_reply.started": "2022-11-12T00:19:00.402654Z",
          "shell.execute_reply": "2022-11-12T00:19:00.406766Z"
        },
        "trusted": true,
        "id": "tRZpwyisuhaJ"
      },
      "execution_count": null,
      "outputs": []
    },
    {
      "cell_type": "markdown",
      "source": [
        "#### Gradient Boosting"
      ],
      "metadata": {
        "id": "ZSk4jS5QuhaJ"
      }
    },
    {
      "cell_type": "code",
      "source": [
        "from sklearn.ensemble import GradientBoostingClassifier"
      ],
      "metadata": {
        "execution": {
          "iopub.status.busy": "2022-11-11T00:21:50.220830Z",
          "iopub.execute_input": "2022-11-11T00:21:50.221227Z",
          "iopub.status.idle": "2022-11-11T00:21:50.227150Z",
          "shell.execute_reply.started": "2022-11-11T00:21:50.221196Z",
          "shell.execute_reply": "2022-11-11T00:21:50.225102Z"
        },
        "trusted": true,
        "id": "pFsu6YW3uhaJ"
      },
      "execution_count": null,
      "outputs": []
    },
    {
      "cell_type": "markdown",
      "source": [
        "#### Here we will use the Gradient Boosting Model, using our StandardScaler Data, here we use the GridSearch Model to figure out the best metrics to use in this model."
      ],
      "metadata": {
        "id": "6PQX8LCCuhaJ"
      }
    },
    {
      "cell_type": "code",
      "source": [
        "from sklearn.ensemble import GradientBoostingClassifier"
      ],
      "metadata": {
        "execution": {
          "iopub.status.busy": "2022-11-12T00:20:09.515340Z",
          "iopub.execute_input": "2022-11-12T00:20:09.515829Z",
          "iopub.status.idle": "2022-11-12T00:20:09.521676Z",
          "shell.execute_reply.started": "2022-11-12T00:20:09.515792Z",
          "shell.execute_reply": "2022-11-12T00:20:09.520222Z"
        },
        "trusted": true,
        "id": "bSR7tbjGuhaJ"
      },
      "execution_count": null,
      "outputs": []
    },
    {
      "cell_type": "code",
      "source": [
        "n_estimators = np.array([300])\n",
        "learning_rate = np.array([0.01, 0.009, 0.008, 0.007, 0.011, 0.012, 0.013, 0.02, 0.005])\n",
        "values_grid = {'n_estimators': n_estimators, 'learning_rate': learning_rate}"
      ],
      "metadata": {
        "execution": {
          "iopub.status.busy": "2022-11-12T00:20:10.306593Z",
          "iopub.execute_input": "2022-11-12T00:20:10.306969Z",
          "iopub.status.idle": "2022-11-12T00:20:10.313355Z",
          "shell.execute_reply.started": "2022-11-12T00:20:10.306938Z",
          "shell.execute_reply": "2022-11-12T00:20:10.311866Z"
        },
        "trusted": true,
        "id": "xpS7jjDyuhaJ"
      },
      "execution_count": null,
      "outputs": []
    },
    {
      "cell_type": "code",
      "source": [
        "model = GradientBoostingClassifier()"
      ],
      "metadata": {
        "execution": {
          "iopub.status.busy": "2022-11-12T00:20:10.857135Z",
          "iopub.execute_input": "2022-11-12T00:20:10.857543Z",
          "iopub.status.idle": "2022-11-12T00:20:10.862990Z",
          "shell.execute_reply.started": "2022-11-12T00:20:10.857496Z",
          "shell.execute_reply": "2022-11-12T00:20:10.861837Z"
        },
        "trusted": true,
        "id": "QWcvjb5RuhaK"
      },
      "execution_count": null,
      "outputs": []
    },
    {
      "cell_type": "code",
      "source": [
        "gridGradient = GridSearchCV(estimator = model, param_grid = values_grid, cv = 3, n_jobs = -1)"
      ],
      "metadata": {
        "execution": {
          "iopub.status.busy": "2022-11-12T00:20:11.860103Z",
          "iopub.execute_input": "2022-11-12T00:20:11.861118Z",
          "iopub.status.idle": "2022-11-12T00:20:11.866720Z",
          "shell.execute_reply.started": "2022-11-12T00:20:11.861078Z",
          "shell.execute_reply": "2022-11-12T00:20:11.864970Z"
        },
        "trusted": true,
        "id": "M2WR7L9nuhaK"
      },
      "execution_count": null,
      "outputs": []
    },
    {
      "cell_type": "code",
      "source": [
        "gridGradient.fit(X_train, y_train)"
      ],
      "metadata": {
        "execution": {
          "iopub.status.busy": "2022-11-12T00:20:12.090342Z",
          "iopub.execute_input": "2022-11-12T00:20:12.090770Z",
          "iopub.status.idle": "2022-11-12T00:20:32.779364Z",
          "shell.execute_reply.started": "2022-11-12T00:20:12.090735Z",
          "shell.execute_reply": "2022-11-12T00:20:32.778364Z"
        },
        "trusted": true,
        "id": "blcYo0YLuhaK"
      },
      "execution_count": null,
      "outputs": []
    },
    {
      "cell_type": "markdown",
      "source": [
        "#### StandardScaler Data - Grid"
      ],
      "metadata": {
        "id": "wmTVZtSLuhaK"
      }
    },
    {
      "cell_type": "code",
      "source": [
        "print('Learning Rate: ', gridGradient.best_estimator_.learning_rate)\n",
        "print('Score: ', gridGradient.best_score_)"
      ],
      "metadata": {
        "execution": {
          "iopub.status.busy": "2022-11-12T00:20:32.781339Z",
          "iopub.execute_input": "2022-11-12T00:20:32.781745Z",
          "iopub.status.idle": "2022-11-12T00:20:32.787539Z",
          "shell.execute_reply.started": "2022-11-12T00:20:32.781706Z",
          "shell.execute_reply": "2022-11-12T00:20:32.786442Z"
        },
        "trusted": true,
        "id": "Fvv-dYmhuhaK"
      },
      "execution_count": null,
      "outputs": []
    },
    {
      "cell_type": "markdown",
      "source": [
        "#### Running GradientBoosting"
      ],
      "metadata": {
        "id": "toP9nGTKuhaK"
      }
    },
    {
      "cell_type": "code",
      "source": [
        "grad_boost = GradientBoostingClassifier(n_estimators = 300, learning_rate = 0.02, random_state = 0)"
      ],
      "metadata": {
        "execution": {
          "iopub.status.busy": "2022-11-12T00:22:35.423266Z",
          "iopub.execute_input": "2022-11-12T00:22:35.423666Z",
          "iopub.status.idle": "2022-11-12T00:22:35.429527Z",
          "shell.execute_reply.started": "2022-11-12T00:22:35.423631Z",
          "shell.execute_reply": "2022-11-12T00:22:35.428239Z"
        },
        "trusted": true,
        "id": "agC3dVQJuhaK"
      },
      "execution_count": null,
      "outputs": []
    },
    {
      "cell_type": "code",
      "source": [
        "grad_boost.fit(X_train, y_train)"
      ],
      "metadata": {
        "execution": {
          "iopub.status.busy": "2022-11-12T00:22:55.040723Z",
          "iopub.execute_input": "2022-11-12T00:22:55.041102Z",
          "iopub.status.idle": "2022-11-12T00:22:57.511610Z",
          "shell.execute_reply.started": "2022-11-12T00:22:55.041072Z",
          "shell.execute_reply": "2022-11-12T00:22:57.510587Z"
        },
        "trusted": true,
        "id": "nXtbyflouhaK"
      },
      "execution_count": null,
      "outputs": []
    },
    {
      "cell_type": "code",
      "source": [
        "previsoes = grad_boost.predict(X_test)"
      ],
      "metadata": {
        "execution": {
          "iopub.status.busy": "2022-11-12T00:23:04.953242Z",
          "iopub.execute_input": "2022-11-12T00:23:04.953624Z",
          "iopub.status.idle": "2022-11-12T00:23:04.980585Z",
          "shell.execute_reply.started": "2022-11-12T00:23:04.953593Z",
          "shell.execute_reply": "2022-11-12T00:23:04.979584Z"
        },
        "trusted": true,
        "id": "4CiGlbC5uhaL"
      },
      "execution_count": null,
      "outputs": []
    },
    {
      "cell_type": "markdown",
      "source": [
        "#### StandardScaler"
      ],
      "metadata": {
        "id": "HQ2-xaI0uhaL"
      }
    },
    {
      "cell_type": "code",
      "source": [
        "cm = ConfusionMatrix(grad_boost)\n",
        "cm.fit(X_train, y_train)\n",
        "cm.score(X_test, y_test)"
      ],
      "metadata": {
        "execution": {
          "iopub.status.busy": "2022-11-12T00:23:26.638172Z",
          "iopub.execute_input": "2022-11-12T00:23:26.638581Z",
          "iopub.status.idle": "2022-11-12T00:23:26.833244Z",
          "shell.execute_reply.started": "2022-11-12T00:23:26.638549Z",
          "shell.execute_reply": "2022-11-12T00:23:26.832072Z"
        },
        "trusted": true,
        "id": "kg4z3EH0uhaL"
      },
      "execution_count": null,
      "outputs": []
    },
    {
      "cell_type": "code",
      "source": [
        "classification_grad_standard = (classification_report(y_test, previsoes))"
      ],
      "metadata": {
        "execution": {
          "iopub.status.busy": "2022-11-12T00:24:06.193189Z",
          "iopub.execute_input": "2022-11-12T00:24:06.193752Z",
          "iopub.status.idle": "2022-11-12T00:24:06.293888Z",
          "shell.execute_reply.started": "2022-11-12T00:24:06.193711Z",
          "shell.execute_reply": "2022-11-12T00:24:06.292801Z"
        },
        "trusted": true,
        "id": "Gf5cX2qluhaL"
      },
      "execution_count": null,
      "outputs": []
    },
    {
      "cell_type": "code",
      "source": [
        "print(classification_grad_standard)"
      ],
      "metadata": {
        "execution": {
          "iopub.status.busy": "2022-11-12T00:24:18.961855Z",
          "iopub.execute_input": "2022-11-12T00:24:18.962258Z",
          "iopub.status.idle": "2022-11-12T00:24:18.968064Z",
          "shell.execute_reply.started": "2022-11-12T00:24:18.962224Z",
          "shell.execute_reply": "2022-11-12T00:24:18.966954Z"
        },
        "trusted": true,
        "id": "xzVSIOBeuhaL"
      },
      "execution_count": null,
      "outputs": []
    },
    {
      "cell_type": "markdown",
      "source": [
        "#### It's a good model but when compared to others it didn't have a good result."
      ],
      "metadata": {
        "id": "ShkifftIuhaL"
      }
    },
    {
      "cell_type": "code",
      "source": [
        "score_grad_standard = 0.7719806763285024"
      ],
      "metadata": {
        "execution": {
          "iopub.status.busy": "2022-11-12T00:25:18.743391Z",
          "iopub.execute_input": "2022-11-12T00:25:18.743800Z",
          "iopub.status.idle": "2022-11-12T00:25:18.748646Z",
          "shell.execute_reply.started": "2022-11-12T00:25:18.743767Z",
          "shell.execute_reply": "2022-11-12T00:25:18.747782Z"
        },
        "trusted": true,
        "id": "y6mczf04uhaL"
      },
      "execution_count": null,
      "outputs": []
    },
    {
      "cell_type": "markdown",
      "source": [
        "#### Using CHI2 to check the most important variables."
      ],
      "metadata": {
        "id": "RaJAf8YIuhaL"
      }
    },
    {
      "cell_type": "code",
      "source": [
        "from sklearn.feature_selection import SelectKBest\n",
        "from sklearn.feature_selection import chi2\n",
        "\n",
        "features = X\n",
        "target = y\n",
        "\n",
        "best_features = SelectKBest(score_func = chi2,k = 'all')\n",
        "fit = best_features.fit(features,target)\n",
        "\n",
        "featureScores = pd.DataFrame(data = fit.scores_,index = list(columns),columns = ['Chi Squared Score']) "
      ],
      "metadata": {
        "execution": {
          "iopub.status.busy": "2022-11-12T00:29:57.630411Z",
          "iopub.execute_input": "2022-11-12T00:29:57.630899Z",
          "iopub.status.idle": "2022-11-12T00:29:57.684223Z",
          "shell.execute_reply.started": "2022-11-12T00:29:57.630858Z",
          "shell.execute_reply": "2022-11-12T00:29:57.682599Z"
        },
        "trusted": true,
        "id": "muMjRFKIuhaL"
      },
      "execution_count": null,
      "outputs": []
    },
    {
      "cell_type": "code",
      "source": [
        "featureScores.sort_values(by = 'Chi Squared Score', ascending = False)"
      ],
      "metadata": {
        "execution": {
          "iopub.status.busy": "2022-11-12T00:29:57.892226Z",
          "iopub.execute_input": "2022-11-12T00:29:57.893426Z",
          "iopub.status.idle": "2022-11-12T00:29:57.910411Z",
          "shell.execute_reply.started": "2022-11-12T00:29:57.893372Z",
          "shell.execute_reply": "2022-11-12T00:29:57.909561Z"
        },
        "trusted": true,
        "id": "dVh2df8xuhaM"
      },
      "execution_count": null,
      "outputs": []
    },
    {
      "cell_type": "markdown",
      "source": [
        "#### Checking the results"
      ],
      "metadata": {
        "id": "Svz-WW9cuhaM"
      }
    },
    {
      "cell_type": "code",
      "source": [
        "Naive_dict_v1 = {'Model':'Naive Bayes',\n",
        "               'Scaling':'Normal Data',\n",
        "               'Type':'Gaussian',\n",
        "               'Precision':score_naive_gaussian}"
      ],
      "metadata": {
        "execution": {
          "iopub.status.busy": "2022-11-12T00:31:56.781032Z",
          "iopub.execute_input": "2022-11-12T00:31:56.781455Z",
          "iopub.status.idle": "2022-11-12T00:31:56.787097Z",
          "shell.execute_reply.started": "2022-11-12T00:31:56.781419Z",
          "shell.execute_reply": "2022-11-12T00:31:56.785694Z"
        },
        "trusted": true,
        "id": "cuaV71R6uhaM"
      },
      "execution_count": null,
      "outputs": []
    },
    {
      "cell_type": "code",
      "source": [
        "resumo = pd.DataFrame({'Naive_dict_v1':pd.Series(Naive_dict_v1),\n",
        "                      })"
      ],
      "metadata": {
        "execution": {
          "iopub.status.busy": "2022-11-12T00:32:22.515069Z",
          "iopub.execute_input": "2022-11-12T00:32:22.515527Z",
          "iopub.status.idle": "2022-11-12T00:32:22.521884Z",
          "shell.execute_reply.started": "2022-11-12T00:32:22.515478Z",
          "shell.execute_reply": "2022-11-12T00:32:22.520609Z"
        },
        "trusted": true,
        "id": "Fv1i39i0uhaM"
      },
      "execution_count": null,
      "outputs": []
    },
    {
      "cell_type": "code",
      "source": [
        "Decision_dict = {'Model':'Decision Tree',\n",
        "               'Scaling':'Normal Data',\n",
        "               'Type':gridDecisionTree.best_estimator_.criterion,\n",
        "               'Precision':score_tree}\n",
        "\n",
        "Random_dict = {'Model':'Random Forest',\n",
        "               'Scaling':'Normal Data',\n",
        "               'Type':gridRandomForest.best_estimator_.criterion,\n",
        "               'Precision':score_random}\n",
        "\n",
        "Extra_dict = {'Model':'Extra Trees',\n",
        "               'Scaling':'Normal Data',\n",
        "               'Type':gridExtraTrees.best_estimator_.criterion,\n",
        "               'Precision':score_extra}"
      ],
      "metadata": {
        "execution": {
          "iopub.status.busy": "2022-11-12T00:32:40.191458Z",
          "iopub.execute_input": "2022-11-12T00:32:40.191897Z",
          "iopub.status.idle": "2022-11-12T00:32:40.198321Z",
          "shell.execute_reply.started": "2022-11-12T00:32:40.191860Z",
          "shell.execute_reply": "2022-11-12T00:32:40.197246Z"
        },
        "trusted": true,
        "id": "otzrlSl2uhaM"
      },
      "execution_count": null,
      "outputs": []
    },
    {
      "cell_type": "code",
      "source": [
        "resumo_random = pd.DataFrame({'Decision_dict':pd.Series(Decision_dict),\n",
        "                        'Random_dict':pd.Series(Random_dict),\n",
        "                        'Extra Tree':pd.Series(Extra_dict)\n",
        "                      })"
      ],
      "metadata": {
        "execution": {
          "iopub.status.busy": "2022-11-12T00:32:47.467554Z",
          "iopub.execute_input": "2022-11-12T00:32:47.467945Z",
          "iopub.status.idle": "2022-11-12T00:32:47.476716Z",
          "shell.execute_reply.started": "2022-11-12T00:32:47.467913Z",
          "shell.execute_reply": "2022-11-12T00:32:47.475268Z"
        },
        "trusted": true,
        "id": "63-ewD4WuhaM"
      },
      "execution_count": null,
      "outputs": []
    },
    {
      "cell_type": "code",
      "source": [
        "KNN_dict_v1 = {'Model':'KNN',\n",
        "               'Scaling':'Normal Data',\n",
        "               'Type':'-',\n",
        "               'Precision':score_knn}\n",
        "\n",
        "KNN_dict_v2 = {'Model':'KNN',\n",
        "               'Scaling':'Standard',\n",
        "               'Type':'-',\n",
        "               'Precision':score_knn_scaler}"
      ],
      "metadata": {
        "execution": {
          "iopub.status.busy": "2022-11-12T00:33:17.709298Z",
          "iopub.execute_input": "2022-11-12T00:33:17.709721Z",
          "iopub.status.idle": "2022-11-12T00:33:17.715249Z",
          "shell.execute_reply.started": "2022-11-12T00:33:17.709688Z",
          "shell.execute_reply": "2022-11-12T00:33:17.714317Z"
        },
        "trusted": true,
        "id": "gUghemqxuhaM"
      },
      "execution_count": null,
      "outputs": []
    },
    {
      "cell_type": "code",
      "source": [
        "resumo_knn = pd.DataFrame({'KNN_dict_v1':pd.Series(KNN_dict_v1),\n",
        "                       'KNN_dict_v2':pd.Series(KNN_dict_v2)\n",
        "                      })"
      ],
      "metadata": {
        "execution": {
          "iopub.status.busy": "2022-11-12T00:33:27.181226Z",
          "iopub.execute_input": "2022-11-12T00:33:27.181649Z",
          "iopub.status.idle": "2022-11-12T00:33:27.188852Z",
          "shell.execute_reply.started": "2022-11-12T00:33:27.181615Z",
          "shell.execute_reply": "2022-11-12T00:33:27.187487Z"
        },
        "trusted": true,
        "id": "sJToGFWTuhaN"
      },
      "execution_count": null,
      "outputs": []
    },
    {
      "cell_type": "code",
      "source": [
        "Logistic_dict_v1 = {'Model':'Logistic Regression',\n",
        "               'Scaling':'Normal Data',\n",
        "               'Type':'-',\n",
        "               'Precision':logistic_normal}\n",
        "\n",
        "Logistic_dict_v2 = {'Model':'Logistic Regression',\n",
        "               'Scaling':'Standard',\n",
        "               'Type':'-',\n",
        "               'Precision':logistic_standard}"
      ],
      "metadata": {
        "execution": {
          "iopub.status.busy": "2022-11-12T00:33:37.250212Z",
          "iopub.execute_input": "2022-11-12T00:33:37.250622Z",
          "iopub.status.idle": "2022-11-12T00:33:37.257848Z",
          "shell.execute_reply.started": "2022-11-12T00:33:37.250587Z",
          "shell.execute_reply": "2022-11-12T00:33:37.256490Z"
        },
        "trusted": true,
        "id": "abho4M1XuhaN"
      },
      "execution_count": null,
      "outputs": []
    },
    {
      "cell_type": "code",
      "source": [
        "resumo_logistic = pd.DataFrame({'Logistic_dict_v1':pd.Series(Logistic_dict_v1),\n",
        "                       'Logistic_dict_v2':pd.Series(Logistic_dict_v2),\n",
        "                      })"
      ],
      "metadata": {
        "execution": {
          "iopub.status.busy": "2022-11-12T00:33:43.421555Z",
          "iopub.execute_input": "2022-11-12T00:33:43.422594Z",
          "iopub.status.idle": "2022-11-12T00:33:43.429360Z",
          "shell.execute_reply.started": "2022-11-12T00:33:43.422553Z",
          "shell.execute_reply": "2022-11-12T00:33:43.428088Z"
        },
        "trusted": true,
        "id": "XrC4E_jpuhaN"
      },
      "execution_count": null,
      "outputs": []
    },
    {
      "cell_type": "code",
      "source": [
        "svm_dict_v1 = {'Model':'SVM',\n",
        "               'Scaling':'Standard',\n",
        "               'Type':gridSVM.best_estimator_.kernel,\n",
        "               'Precision':score_svm}"
      ],
      "metadata": {
        "execution": {
          "iopub.status.busy": "2022-11-12T00:34:04.097599Z",
          "iopub.execute_input": "2022-11-12T00:34:04.098011Z",
          "iopub.status.idle": "2022-11-12T00:34:04.103331Z",
          "shell.execute_reply.started": "2022-11-12T00:34:04.097978Z",
          "shell.execute_reply": "2022-11-12T00:34:04.102197Z"
        },
        "trusted": true,
        "id": "d2CrBXA8uhaN"
      },
      "execution_count": null,
      "outputs": []
    },
    {
      "cell_type": "code",
      "source": [
        "resumo_svm = pd.DataFrame({'svm_dict_v1':pd.Series(svm_dict_v1)\n",
        "                      })"
      ],
      "metadata": {
        "execution": {
          "iopub.status.busy": "2022-11-12T00:34:25.207545Z",
          "iopub.execute_input": "2022-11-12T00:34:25.207992Z",
          "iopub.status.idle": "2022-11-12T00:34:25.215849Z",
          "shell.execute_reply.started": "2022-11-12T00:34:25.207956Z",
          "shell.execute_reply": "2022-11-12T00:34:25.213919Z"
        },
        "trusted": true,
        "id": "CHTGjBVLuhaN"
      },
      "execution_count": null,
      "outputs": []
    },
    {
      "cell_type": "code",
      "source": [
        "ada_dict_v1 = {'Model':'AdaBoost',\n",
        "               'Scaling':'StandardScaler',\n",
        "               'Type':gridSVM.best_estimator_.kernel,\n",
        "               'Precision':score_ada_scaler}"
      ],
      "metadata": {
        "execution": {
          "iopub.status.busy": "2022-11-12T00:35:08.981258Z",
          "iopub.execute_input": "2022-11-12T00:35:08.981707Z",
          "iopub.status.idle": "2022-11-12T00:35:08.988304Z",
          "shell.execute_reply.started": "2022-11-12T00:35:08.981670Z",
          "shell.execute_reply": "2022-11-12T00:35:08.986572Z"
        },
        "trusted": true,
        "id": "s4baMFEJuhaN"
      },
      "execution_count": null,
      "outputs": []
    },
    {
      "cell_type": "code",
      "source": [
        "resumo_ada = pd.DataFrame({'ada_dict_v1':pd.Series(ada_dict_v1)\n",
        "                      })"
      ],
      "metadata": {
        "execution": {
          "iopub.status.busy": "2022-11-12T00:35:23.570952Z",
          "iopub.execute_input": "2022-11-12T00:35:23.571373Z",
          "iopub.status.idle": "2022-11-12T00:35:23.578030Z",
          "shell.execute_reply.started": "2022-11-12T00:35:23.571338Z",
          "shell.execute_reply": "2022-11-12T00:35:23.576935Z"
        },
        "trusted": true,
        "id": "RZXwkfLkuhaN"
      },
      "execution_count": null,
      "outputs": []
    },
    {
      "cell_type": "code",
      "source": [
        "resumo"
      ],
      "metadata": {
        "execution": {
          "iopub.status.busy": "2022-11-12T00:35:28.773107Z",
          "iopub.execute_input": "2022-11-12T00:35:28.773536Z",
          "iopub.status.idle": "2022-11-12T00:35:28.784779Z",
          "shell.execute_reply.started": "2022-11-12T00:35:28.773488Z",
          "shell.execute_reply": "2022-11-12T00:35:28.783811Z"
        },
        "trusted": true,
        "id": "RI8nfzz2uhaN"
      },
      "execution_count": null,
      "outputs": []
    },
    {
      "cell_type": "code",
      "source": [
        "resumo_random"
      ],
      "metadata": {
        "execution": {
          "iopub.status.busy": "2022-11-12T00:35:34.490739Z",
          "iopub.execute_input": "2022-11-12T00:35:34.491278Z",
          "iopub.status.idle": "2022-11-12T00:35:34.506065Z",
          "shell.execute_reply.started": "2022-11-12T00:35:34.491214Z",
          "shell.execute_reply": "2022-11-12T00:35:34.504989Z"
        },
        "trusted": true,
        "id": "l_N1yB0GuhaO"
      },
      "execution_count": null,
      "outputs": []
    },
    {
      "cell_type": "code",
      "source": [
        "resumo_knn"
      ],
      "metadata": {
        "execution": {
          "iopub.status.busy": "2022-11-12T00:35:41.440064Z",
          "iopub.execute_input": "2022-11-12T00:35:41.440753Z",
          "iopub.status.idle": "2022-11-12T00:35:41.451191Z",
          "shell.execute_reply.started": "2022-11-12T00:35:41.440714Z",
          "shell.execute_reply": "2022-11-12T00:35:41.449910Z"
        },
        "trusted": true,
        "id": "aNMH3nYeuhaO"
      },
      "execution_count": null,
      "outputs": []
    },
    {
      "cell_type": "code",
      "source": [
        "resumo_logistic"
      ],
      "metadata": {
        "execution": {
          "iopub.status.busy": "2022-11-12T00:35:50.748904Z",
          "iopub.execute_input": "2022-11-12T00:35:50.749399Z",
          "iopub.status.idle": "2022-11-12T00:35:50.760534Z",
          "shell.execute_reply.started": "2022-11-12T00:35:50.749362Z",
          "shell.execute_reply": "2022-11-12T00:35:50.759231Z"
        },
        "trusted": true,
        "id": "yX0u-PK9uhaO"
      },
      "execution_count": null,
      "outputs": []
    },
    {
      "cell_type": "code",
      "source": [
        "resumo_svm"
      ],
      "metadata": {
        "execution": {
          "iopub.status.busy": "2022-11-12T00:36:32.280264Z",
          "iopub.execute_input": "2022-11-12T00:36:32.280720Z",
          "iopub.status.idle": "2022-11-12T00:36:32.291238Z",
          "shell.execute_reply.started": "2022-11-12T00:36:32.280686Z",
          "shell.execute_reply": "2022-11-12T00:36:32.290015Z"
        },
        "trusted": true,
        "id": "et5w4UCOuhaO"
      },
      "execution_count": null,
      "outputs": []
    },
    {
      "cell_type": "code",
      "source": [
        "resumo_ada"
      ],
      "metadata": {
        "execution": {
          "iopub.status.busy": "2022-11-12T00:36:40.683986Z",
          "iopub.execute_input": "2022-11-12T00:36:40.684409Z",
          "iopub.status.idle": "2022-11-12T00:36:40.694145Z",
          "shell.execute_reply.started": "2022-11-12T00:36:40.684373Z",
          "shell.execute_reply": "2022-11-12T00:36:40.693111Z"
        },
        "trusted": true,
        "id": "9QkcJ526uhaO"
      },
      "execution_count": null,
      "outputs": []
    },
    {
      "cell_type": "markdown",
      "source": [
        "#### Looking the Principle Variables"
      ],
      "metadata": {
        "id": "otUuwgymuhaP"
      }
    },
    {
      "cell_type": "markdown",
      "source": [
        "#### Chi-2"
      ],
      "metadata": {
        "id": "YZs-EUAfuhaP"
      }
    },
    {
      "cell_type": "code",
      "source": [
        "featureScores.sort_values(by = 'Chi Squared Score', ascending = False)"
      ],
      "metadata": {
        "execution": {
          "iopub.status.busy": "2022-11-12T00:58:18.892342Z",
          "iopub.execute_input": "2022-11-12T00:58:18.892769Z",
          "iopub.status.idle": "2022-11-12T00:58:18.905823Z",
          "shell.execute_reply.started": "2022-11-12T00:58:18.892734Z",
          "shell.execute_reply": "2022-11-12T00:58:18.904556Z"
        },
        "trusted": true,
        "id": "XUXup_oLuhaP"
      },
      "execution_count": null,
      "outputs": []
    },
    {
      "cell_type": "markdown",
      "source": [
        "#### Extra Trees"
      ],
      "metadata": {
        "id": "SdtOMK2huhaP"
      }
    },
    {
      "cell_type": "code",
      "source": [
        "feature_extra"
      ],
      "metadata": {
        "execution": {
          "iopub.status.busy": "2022-11-12T00:58:57.043120Z",
          "iopub.execute_input": "2022-11-12T00:58:57.043519Z",
          "iopub.status.idle": "2022-11-12T00:58:57.052759Z",
          "shell.execute_reply.started": "2022-11-12T00:58:57.043475Z",
          "shell.execute_reply": "2022-11-12T00:58:57.051476Z"
        },
        "trusted": true,
        "id": "dDLK57DUuhaP"
      },
      "execution_count": null,
      "outputs": []
    },
    {
      "cell_type": "markdown",
      "source": [
        "#### Random Forest"
      ],
      "metadata": {
        "id": "tFx8c0b4uhaP"
      }
    },
    {
      "cell_type": "code",
      "source": [
        "feature_imp_random"
      ],
      "metadata": {
        "execution": {
          "iopub.status.busy": "2022-11-12T00:59:19.062257Z",
          "iopub.execute_input": "2022-11-12T00:59:19.062703Z",
          "iopub.status.idle": "2022-11-12T00:59:19.070933Z",
          "shell.execute_reply.started": "2022-11-12T00:59:19.062667Z",
          "shell.execute_reply": "2022-11-12T00:59:19.069995Z"
        },
        "trusted": true,
        "id": "DuHLRZ0SuhaP"
      },
      "execution_count": null,
      "outputs": []
    },
    {
      "cell_type": "markdown",
      "source": [
        "#### Decision Tree"
      ],
      "metadata": {
        "id": "gsaDcvV6uhaQ"
      }
    },
    {
      "cell_type": "code",
      "source": [
        "feature_imp"
      ],
      "metadata": {
        "execution": {
          "iopub.status.busy": "2022-11-12T00:59:25.214322Z",
          "iopub.execute_input": "2022-11-12T00:59:25.215148Z",
          "iopub.status.idle": "2022-11-12T00:59:25.224345Z",
          "shell.execute_reply.started": "2022-11-12T00:59:25.215108Z",
          "shell.execute_reply": "2022-11-12T00:59:25.223097Z"
        },
        "trusted": true,
        "id": "KqVdTxtQuhaQ"
      },
      "execution_count": null,
      "outputs": []
    }
  ]
}